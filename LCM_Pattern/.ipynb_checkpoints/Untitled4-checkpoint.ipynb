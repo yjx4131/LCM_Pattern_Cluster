{
 "cells": [
  {
   "cell_type": "code",
   "execution_count": null,
   "metadata": {},
   "outputs": [],
   "source": [
    "import pandas as pd"
   ]
  },
  {
   "cell_type": "code",
   "execution_count": null,
   "metadata": {},
   "outputs": [],
   "source": [
    "ages=[20,25,22,27,32,23,47,20,37,67,32,33]\n",
    "bins = [18,25,35,50]\n",
    "cats = pd.cut(ages,bins)"
   ]
  },
  {
   "cell_type": "code",
   "execution_count": null,
   "metadata": {},
   "outputs": [],
   "source": [
    "cats.labels"
   ]
  },
  {
   "cell_type": "code",
   "execution_count": null,
   "metadata": {},
   "outputs": [],
   "source": [
    "cats.codes"
   ]
  },
  {
   "cell_type": "code",
   "execution_count": null,
   "metadata": {},
   "outputs": [],
   "source": [
    "cats.levels"
   ]
  },
  {
   "cell_type": "code",
   "execution_count": null,
   "metadata": {},
   "outputs": [],
   "source": [
    "cats\n"
   ]
  },
  {
   "cell_type": "code",
   "execution_count": null,
   "metadata": {},
   "outputs": [],
   "source": [
    "help(pd.cut)"
   ]
  },
  {
   "cell_type": "code",
   "execution_count": null,
   "metadata": {},
   "outputs": [],
   "source": [
    "np.random.seed(1234)"
   ]
  },
  {
   "cell_type": "code",
   "execution_count": null,
   "metadata": {},
   "outputs": [],
   "source": [
    "import numpy as np"
   ]
  },
  {
   "cell_type": "code",
   "execution_count": null,
   "metadata": {},
   "outputs": [],
   "source": [
    "np.random.seed(1234)"
   ]
  },
  {
   "cell_type": "code",
   "execution_count": null,
   "metadata": {},
   "outputs": [],
   "source": [
    "data = pd.DataFrame(np.random.randn(100,4))"
   ]
  },
  {
   "cell_type": "code",
   "execution_count": null,
   "metadata": {},
   "outputs": [],
   "source": [
    "data.describe()"
   ]
  },
  {
   "cell_type": "code",
   "execution_count": null,
   "metadata": {},
   "outputs": [],
   "source": [
    "data"
   ]
  },
  {
   "cell_type": "code",
   "execution_count": null,
   "metadata": {},
   "outputs": [],
   "source": [
    "data[3]"
   ]
  },
  {
   "cell_type": "code",
   "execution_count": null,
   "metadata": {},
   "outputs": [],
   "source": [
    "col = data[3]"
   ]
  },
  {
   "cell_type": "code",
   "execution_count": null,
   "metadata": {},
   "outputs": [],
   "source": [
    "data2 = col[np.abs(col)>1]"
   ]
  },
  {
   "cell_type": "code",
   "execution_count": null,
   "metadata": {},
   "outputs": [],
   "source": [
    "data3 = data[(np.abs(data)>1).any(1)]"
   ]
  },
  {
   "cell_type": "code",
   "execution_count": null,
   "metadata": {},
   "outputs": [],
   "source": [
    "data3"
   ]
  },
  {
   "cell_type": "code",
   "execution_count": null,
   "metadata": {},
   "outputs": [],
   "source": [
    "A = np.random.randint(0, 5, (5, 5))"
   ]
  },
  {
   "cell_type": "code",
   "execution_count": null,
   "metadata": {},
   "outputs": [],
   "source": [
    "B = np.random.randint(0, 10, (10, 10))"
   ]
  },
  {
   "cell_type": "code",
   "execution_count": null,
   "metadata": {},
   "outputs": [],
   "source": [
    "def f_df(A, B):\n",
    "    out = np.zeros((3, 3), int)\n",
    "    np.add.at(out, (A.ravel(), B.ravel()), 1)\n",
    "    return out"
   ]
  },
  {
   "cell_type": "code",
   "execution_count": null,
   "metadata": {},
   "outputs": [],
   "source": [
    "def f_pp(A, B):\n",
    "    return np.bincount(np.ravel_multi_index((A, B), (10, 10)).ravel(), minlength=100).reshape(10, 10)"
   ]
  },
  {
   "cell_type": "code",
   "execution_count": null,
   "metadata": {},
   "outputs": [],
   "source": [
    "np.all(f_df(A, B) == f_pp(A, B))"
   ]
  },
  {
   "cell_type": "code",
   "execution_count": null,
   "metadata": {},
   "outputs": [],
   "source": [
    "f_df(A, B)"
   ]
  },
  {
   "cell_type": "code",
   "execution_count": null,
   "metadata": {},
   "outputs": [],
   "source": [
    "f_pp(A, B)"
   ]
  },
  {
   "cell_type": "code",
   "execution_count": null,
   "metadata": {},
   "outputs": [],
   "source": [
    "np.repeat('f_df(A, B)', 1000)"
   ]
  },
  {
   "cell_type": "code",
   "execution_count": null,
   "metadata": {},
   "outputs": [],
   "source": [
    "a = np.array([[1,2,3],[3,1,2],[2,1,3]])\n",
    "b = np.array([[3,2,1],[1,2,3],[3,2,1]])"
   ]
  },
  {
   "cell_type": "code",
   "execution_count": null,
   "metadata": {},
   "outputs": [],
   "source": [
    "f_df(A, B)"
   ]
  },
  {
   "cell_type": "code",
   "execution_count": null,
   "metadata": {},
   "outputs": [],
   "source": [
    "A"
   ]
  },
  {
   "cell_type": "code",
   "execution_count": null,
   "metadata": {},
   "outputs": [],
   "source": [
    "a"
   ]
  },
  {
   "cell_type": "code",
   "execution_count": null,
   "metadata": {},
   "outputs": [],
   "source": [
    "def f_df(A, B):\n",
    "    out = np.zeros((10, 10), int)\n",
    "    np.add.at(out, (A.ravel(), B.ravel()), 1)\n",
    "    return out"
   ]
  },
  {
   "cell_type": "code",
   "execution_count": null,
   "metadata": {},
   "outputs": [],
   "source": [
    "f_df(a, b)"
   ]
  },
  {
   "cell_type": "code",
   "execution_count": null,
   "metadata": {},
   "outputs": [],
   "source": [
    "def f_pp(A, B):\n",
    "...     return np.bincount(np.ravel_multi_index((A, B), (10, 10)).ravel(), minlength=100).reshape(10, 10)"
   ]
  },
  {
   "cell_type": "code",
   "execution_count": null,
   "metadata": {},
   "outputs": [],
   "source": [
    "f_pp(A,B)"
   ]
  },
  {
   "cell_type": "code",
   "execution_count": null,
   "metadata": {},
   "outputs": [],
   "source": [
    "A = np.random.randint(0, 5, (5, 5))"
   ]
  },
  {
   "cell_type": "code",
   "execution_count": null,
   "metadata": {},
   "outputs": [],
   "source": [
    "B = np.random.randint(0, 5, (5, 5))"
   ]
  },
  {
   "cell_type": "code",
   "execution_count": null,
   "metadata": {},
   "outputs": [],
   "source": [
    "A"
   ]
  },
  {
   "cell_type": "code",
   "execution_count": null,
   "metadata": {},
   "outputs": [],
   "source": [
    "B"
   ]
  },
  {
   "cell_type": "code",
   "execution_count": null,
   "metadata": {},
   "outputs": [],
   "source": [
    "f_pp(A,B)"
   ]
  },
  {
   "cell_type": "code",
   "execution_count": null,
   "metadata": {},
   "outputs": [],
   "source": [
    "def f_pp(A, B):\n",
    "...     return np.bincount(np.ravel_multi_index((A, B), (4, 4)).ravel(), minlength=16).reshape(4, 4)"
   ]
  },
  {
   "cell_type": "code",
   "execution_count": null,
   "metadata": {},
   "outputs": [],
   "source": [
    "f_pp(a,b)"
   ]
  },
  {
   "cell_type": "code",
   "execution_count": null,
   "metadata": {},
   "outputs": [],
   "source": [
    "b1 = b.astype(np.float32)"
   ]
  },
  {
   "cell_type": "code",
   "execution_count": null,
   "metadata": {},
   "outputs": [],
   "source": [
    "b1[0][0] = np.nan"
   ]
  },
  {
   "cell_type": "code",
   "execution_count": null,
   "metadata": {},
   "outputs": [],
   "source": [
    "def f_pp(A, B,):\n",
    "\treturn np.bincount(np.ravel_multi_index((A, B), (3, 3)).ravel(), minlength=np.square(3)).reshape(3, 3)"
   ]
  },
  {
   "cell_type": "code",
   "execution_count": null,
   "metadata": {},
   "outputs": [],
   "source": [
    "f_pp(a,b,NumOfClass = 3)"
   ]
  },
  {
   "cell_type": "code",
   "execution_count": null,
   "metadata": {},
   "outputs": [],
   "source": [
    "f_pp(a,b)"
   ]
  },
  {
   "cell_type": "code",
   "execution_count": null,
   "metadata": {},
   "outputs": [],
   "source": [
    "a1"
   ]
  },
  {
   "cell_type": "code",
   "execution_count": null,
   "metadata": {},
   "outputs": [],
   "source": [
    "a1[np.isnan(a1)] = 0"
   ]
  },
  {
   "cell_type": "code",
   "execution_count": null,
   "metadata": {},
   "outputs": [],
   "source": [
    "np.isnan(a)"
   ]
  },
  {
   "cell_type": "code",
   "execution_count": null,
   "metadata": {},
   "outputs": [],
   "source": [
    "a1"
   ]
  },
  {
   "cell_type": "code",
   "execution_count": null,
   "metadata": {},
   "outputs": [],
   "source": [
    "np.full((3,3,),1)"
   ]
  },
  {
   "cell_type": "code",
   "execution_count": null,
   "metadata": {},
   "outputs": [],
   "source": [
    "b1"
   ]
  },
  {
   "cell_type": "code",
   "execution_count": null,
   "metadata": {},
   "outputs": [],
   "source": [
    "b1[np.isnan(b1)] = 0"
   ]
  },
  {
   "cell_type": "code",
   "execution_count": null,
   "metadata": {},
   "outputs": [],
   "source": [
    "b1"
   ]
  },
  {
   "cell_type": "code",
   "execution_count": null,
   "metadata": {},
   "outputs": [],
   "source": [
    "print(range(4))"
   ]
  },
  {
   "cell_type": "code",
   "execution_count": null,
   "metadata": {},
   "outputs": [],
   "source": [
    "for i in range(4):\n",
    "    print(i)"
   ]
  },
  {
   "cell_type": "code",
   "execution_count": null,
   "metadata": {},
   "outputs": [],
   "source": [
    "str(range(1,3+1)) + 'class'"
   ]
  },
  {
   "cell_type": "code",
   "execution_count": null,
   "metadata": {},
   "outputs": [],
   "source": [
    "def f_pp(A, B, m):\n",
    "\tA[np.isnan(A)] = 0\n",
    "\tB[np.isnan(B)] = 0\n",
    "\tout = np.bincount(np.ravel_multi_index((A, B), (m+1, m+1)).ravel(), minlength=np.square(m+1)).reshape(m+1, m+1)\n",
    "\tout = pd.DataFrame(out[1:,1:],index = range(1,m+1),columns=range(1,m+1)).add_prefix('cls_')\n",
    "\tout = out.set_index(\"cls_\" + out.index.astype(str))\n",
    "\t\n",
    "\n",
    "\treturn out\n",
    "\n",
    "\n",
    "\n",
    "\n",
    "\n",
    "if __name__ == '__main__':\n",
    "\ta = np.array([[3,2,1],[1,2,2],[2,2,1]])\n",
    "\tb = np.array([[3,2,1],[1,2,3],[3,2,1]])\n",
    "\tm = f_pp(a,b,3)\n"
   ]
  },
  {
   "cell_type": "code",
   "execution_count": null,
   "metadata": {},
   "outputs": [],
   "source": [
    "m"
   ]
  },
  {
   "cell_type": "code",
   "execution_count": null,
   "metadata": {},
   "outputs": [],
   "source": [
    "m.apply(np.sum)"
   ]
  },
  {
   "cell_type": "code",
   "execution_count": null,
   "metadata": {},
   "outputs": [],
   "source": [
    "m.apply(np.sum,axis = 1)"
   ]
  },
  {
   "cell_type": "code",
   "execution_count": null,
   "metadata": {},
   "outputs": [],
   "source": [
    "m.append(m.apply(np.sum,axis = 0),ignore_index=True)"
   ]
  },
  {
   "cell_type": "code",
   "execution_count": null,
   "metadata": {},
   "outputs": [],
   "source": [
    "def f_pp(A, B, m):\n",
    "\tA[np.isnan(A)] = 0\n",
    "\tB[np.isnan(B)] = 0\n",
    "\tout = np.bincount(np.ravel_multi_index((A, B), (m+1, m+1)).ravel(), minlength=np.square(m+1)).reshape(m+1, m+1)\n",
    "\t#out = pd.DataFrame(out[1:,1:],index = range(1,m+1),columns=range(1,m+1)).add_prefix('cls_')\n",
    "\t#out = out.set_index(\"cls_\" + out.index.astype(str))\n",
    "\t\n",
    "\n",
    "\treturn out[1:,1:]\n",
    "\n",
    "\n",
    "\n",
    "\n",
    "\n",
    "if __name__ == '__main__':\n",
    "\ta = np.array([[3,2,1],[1,2,2],[2,2,1]])\n",
    "\tb = np.array([[3,2,1],[1,2,3],[3,2,1]])\n",
    "\tresult = f_pp(a,b,3)\n",
    "\tprint(result)"
   ]
  },
  {
   "cell_type": "code",
   "execution_count": null,
   "metadata": {},
   "outputs": [],
   "source": [
    "col_sum = result.sum(0)\n",
    "col_sum"
   ]
  },
  {
   "cell_type": "code",
   "execution_count": null,
   "metadata": {},
   "outputs": [],
   "source": [
    "result[3,:] = 4"
   ]
  },
  {
   "cell_type": "code",
   "execution_count": null,
   "metadata": {},
   "outputs": [],
   "source": [
    "row_sum = result.sum(1)\n",
    "row_sum = row_sum.reshape((1,3))\n",
    "row_sum"
   ]
  },
  {
   "cell_type": "code",
   "execution_count": null,
   "metadata": {},
   "outputs": [],
   "source": [
    "result.concatenate((col_sum,axis = 0)"
   ]
  },
  {
   "cell_type": "code",
   "execution_count": null,
   "metadata": {},
   "outputs": [],
   "source": [
    "np.concatenate((result,row_sum.T),axis = 1)"
   ]
  },
  {
   "cell_type": "code",
   "execution_count": null,
   "metadata": {},
   "outputs": [],
   "source": [
    "result.shape"
   ]
  },
  {
   "cell_type": "code",
   "execution_count": null,
   "metadata": {},
   "outputs": [],
   "source": [
    "row_sum.shape"
   ]
  },
  {
   "cell_type": "code",
   "execution_count": null,
   "metadata": {},
   "outputs": [],
   "source": [
    "type(result)"
   ]
  },
  {
   "cell_type": "code",
   "execution_count": null,
   "metadata": {},
   "outputs": [],
   "source": [
    "a2 = np.array([[5, 6]])"
   ]
  },
  {
   "cell_type": "code",
   "execution_count": null,
   "metadata": {},
   "outputs": [],
   "source": [
    "a2.shape"
   ]
  },
  {
   "cell_type": "code",
   "execution_count": null,
   "metadata": {},
   "outputs": [],
   "source": [
    "a"
   ]
  },
  {
   "cell_type": "code",
   "execution_count": null,
   "metadata": {},
   "outputs": [],
   "source": [
    "b"
   ]
  },
  {
   "cell_type": "code",
   "execution_count": null,
   "metadata": {},
   "outputs": [],
   "source": [
    "from sklearn.metrics import cohen_kappa_score"
   ]
  },
  {
   "cell_type": "code",
   "execution_count": null,
   "metadata": {},
   "outputs": [],
   "source": [
    "cohen_kappa_score(a, b)"
   ]
  },
  {
   "cell_type": "code",
   "execution_count": null,
   "metadata": {},
   "outputs": [],
   "source": [
    "a.reval()"
   ]
  },
  {
   "cell_type": "code",
   "execution_count": null,
   "metadata": {},
   "outputs": [],
   "source": [
    "x = np.array([[1, 5, 3], [4, 5, 6]])"
   ]
  },
  {
   "cell_type": "code",
   "execution_count": null,
   "metadata": {},
   "outputs": [],
   "source": [
    "x.shape((3,2))"
   ]
  },
  {
   "cell_type": "code",
   "execution_count": null,
   "metadata": {},
   "outputs": [],
   "source": [
    "x"
   ]
  },
  {
   "cell_type": "code",
   "execution_count": null,
   "metadata": {},
   "outputs": [],
   "source": [
    "np.ravel(x)"
   ]
  },
  {
   "cell_type": "code",
   "execution_count": null,
   "metadata": {},
   "outputs": [],
   "source": [
    "aV = np.ravel(a)"
   ]
  },
  {
   "cell_type": "code",
   "execution_count": null,
   "metadata": {},
   "outputs": [],
   "source": [
    "aV = np.array([30, 20, 10, 10, 20, 30, 30, 20, 10])"
   ]
  },
  {
   "cell_type": "code",
   "execution_count": null,
   "metadata": {},
   "outputs": [],
   "source": [
    "bV = np.ravel(b)"
   ]
  },
  {
   "cell_type": "code",
   "execution_count": null,
   "metadata": {},
   "outputs": [],
   "source": [
    "bV"
   ]
  },
  {
   "cell_type": "code",
   "execution_count": null,
   "metadata": {},
   "outputs": [],
   "source": [
    "cohen_kappa_score(np.ravel(a), np.ravel(b))"
   ]
  },
  {
   "cell_type": "code",
   "execution_count": null,
   "metadata": {},
   "outputs": [],
   "source": [
    "index = ['cls_'+ str(i) for i in range(1,3+1)]"
   ]
  },
  {
   "cell_type": "code",
   "execution_count": null,
   "metadata": {},
   "outputs": [],
   "source": [
    "index = index.append('col_tot')"
   ]
  },
  {
   "cell_type": "code",
   "execution_count": null,
   "metadata": {},
   "outputs": [],
   "source": [
    "index"
   ]
  },
  {
   "cell_type": "code",
   "execution_count": null,
   "metadata": {},
   "outputs": [],
   "source": [
    "idx = ['cls_'+ str(i) for i in range(1, 3+1)]\n"
   ]
  },
  {
   "cell_type": "code",
   "execution_count": null,
   "metadata": {},
   "outputs": [],
   "source": [
    "type(idx)"
   ]
  },
  {
   "cell_type": "code",
   "execution_count": null,
   "metadata": {},
   "outputs": [],
   "source": [
    "print(idx2)"
   ]
  },
  {
   "cell_type": "code",
   "execution_count": null,
   "metadata": {},
   "outputs": [],
   "source": [
    "idx2 = idx.append('a')"
   ]
  },
  {
   "cell_type": "code",
   "execution_count": null,
   "metadata": {},
   "outputs": [],
   "source": [
    "idx"
   ]
  },
  {
   "cell_type": "code",
   "execution_count": null,
   "metadata": {},
   "outputs": [],
   "source": [
    "idx"
   ]
  },
  {
   "cell_type": "code",
   "execution_count": null,
   "metadata": {},
   "outputs": [],
   "source": [
    "print(idx)"
   ]
  },
  {
   "cell_type": "code",
   "execution_count": null,
   "metadata": {},
   "outputs": [],
   "source": [
    "indices = ['cls_'+ str(i) for i in range(1,3+1)]"
   ]
  },
  {
   "cell_type": "code",
   "execution_count": null,
   "metadata": {},
   "outputs": [],
   "source": [
    "indices.append('col_tot')"
   ]
  },
  {
   "cell_type": "code",
   "execution_count": null,
   "metadata": {},
   "outputs": [],
   "source": [
    "indices"
   ]
  },
  {
   "cell_type": "code",
   "execution_count": null,
   "metadata": {},
   "outputs": [],
   "source": [
    "# Author: Jianxin\n",
    "# Data: 2018/06/27\n",
    "# Function: generate cross table between two numpy array\n",
    "# Reference Link: https://stackoverflow.com/questions/48456145/generate-transition-matrix \n",
    "\n",
    "\n",
    "import numpy as np\n",
    "import pandas as pd\n",
    "from sklearn.metrics import cohen_kappa_score\n",
    "\n",
    "\n",
    "def f_pp(A, B, m):\n",
    "\t#A[np.isnan(A)] = 0\n",
    "\t#B[np.isnan(B)] = 0\n",
    "\tout = np.bincount(np.ravel_multi_index((A, B), (m+1, m+1)).ravel(), minlength=np.square(m+1)).reshape(m+1, m+1)\n",
    "\tout = out[1:,1:]\n",
    "\trow_sum = out.sum(1)\n",
    "\trow_sum = row_sum.reshape((m,1))\n",
    "\tout = np.concatenate((out,row_sum),axis = 1)\n",
    "\trow_sum = out.sum(0)\n",
    "\trow_sum = row_sum.reshape((1,m+1))\n",
    "\tout = np.concatenate((out,row_sum),axis = 0)\n",
    "\tindices = ['cls_'+ str(i) for i in range(1,m+1)]\n",
    "\tindices.append('col_tot')\n",
    "\t#print(indices)\n",
    "\tcols = ['cls_'+ str(i) for i in range(1,m+1)]\n",
    "\tcols.append('row_tot')\n",
    "\t#print(cols)\n",
    "\tout = pd.DataFrame(out,index = indices,columns=cols)\n",
    "\t#out = out.set_index(\"cls_\" + out.index.astype(str))\n",
    "\treturn out\n",
    "\n",
    "def kappa(A_arr,B_arr):\n",
    "\tnp.ravel(A_arr)\n",
    "\tnp.ravel(B_arr)\n",
    "\tcohen_kappa_score(np.ravel(A_arr), np.ravel(B_arr))\n",
    "\n",
    "\n",
    "\n",
    "if __name__ == '__main__':\n",
    "\ta = np.array([[3,2,1],[1,2,2],[2,2,1],[1,2,2],[2,2,1]])\n",
    "\tb = np.array([[3,2,1],[1,2,3],[3,2,1],[1,3,3],[3,3,1]])\n",
    "\tresult = f_pp(a,b,3)\n",
    "\tprint(result)\n",
    "\n"
   ]
  },
  {
   "cell_type": "code",
   "execution_count": null,
   "metadata": {},
   "outputs": [],
   "source": [
    "result.iloc[0]"
   ]
  },
  {
   "cell_type": "code",
   "execution_count": null,
   "metadata": {},
   "outputs": [],
   "source": [
    "# Author: Jianxin\n",
    "# Data: 2018/06/27\n",
    "# Function: generate cross table between two numpy array\n",
    "# Reference Link: https://stackoverflow.com/questions/48456145/generate-transition-matrix \n",
    "\n",
    "\n",
    "import numpy as np\n",
    "import pandas as pd\n",
    "from sklearn.metrics import cohen_kappa_score\n",
    "\n",
    "\n",
    "def f_pp(A, B, m):\n",
    "\t#A[np.isnan(A)] = 0\n",
    "\t#B[np.isnan(B)] = 0\n",
    "\tout = np.bincount(np.ravel_multi_index((A, B), (m+1, m+1)).ravel(), minlength=np.square(m+1)).reshape(m+1, m+1)\n",
    "\tout = out[1:,1:]\n",
    "\trow_sum = out.sum(1)\n",
    "\trow_sum = row_sum.reshape((m,1))\n",
    "\tout = np.concatenate((out,row_sum),axis = 1)\n",
    "\trow_sum = out.sum(0)\n",
    "\trow_sum = row_sum.reshape((1,m+1))\n",
    "\tout = np.concatenate((out,row_sum),axis = 0)\n",
    "\tindices = ['cls_'+ str(i) for i in range(1,m+1)]\n",
    "\tindices.append('col_tot')\n",
    "\t#print(indices)\n",
    "\tcols = ['cls_'+ str(i) for i in range(1,m+1)]\n",
    "\tcols.append('row_tot')\n",
    "\t#print(cols)\n",
    "\tout = pd.DataFrame(out,index = indices,columns=cols)\n",
    "\t#out = out.set_index(\"cls_\" + out.index.astype(str))\n",
    "\treturn out\n",
    "\n",
    "def kappa(A_arr,B_arr):\n",
    "\tnp.ravel(A_arr)\n",
    "\tnp.ravel(B_arr)\n",
    "\tcohen_kappa_score(np.ravel(A_arr), np.ravel(B_arr))\n",
    "\n",
    "\n",
    "\n",
    "if __name__ == '__main__':\n",
    "\ta = np.array([[3,2,1],[1,2,2],[2,2,1],[1,2,2],[2,2,1]])\n",
    "\tb = np.array([[3,2,1],[1,2,3],[3,2,1],[1,3,3],[3,3,1]])\n",
    "\tresult = f_pp(a,b,3).astype(np.int16)\n",
    "\tprint(result)\n",
    "\n"
   ]
  },
  {
   "cell_type": "code",
   "execution_count": null,
   "metadata": {},
   "outputs": [],
   "source": [
    "result['cls_1']"
   ]
  },
  {
   "cell_type": "code",
   "execution_count": null,
   "metadata": {},
   "outputs": [],
   "source": [
    "test = a[0:3,]"
   ]
  },
  {
   "cell_type": "code",
   "execution_count": null,
   "metadata": {},
   "outputs": [],
   "source": [
    "test"
   ]
  },
  {
   "cell_type": "code",
   "execution_count": null,
   "metadata": {},
   "outputs": [],
   "source": [
    "def gainPattern(arr,duration,m):\n",
    "\taverage_gain = []\n",
    "\tfor i in range(m):\n",
    "\t\ttotalArea_start_i = np.sum(arr[i,:])\n",
    "\t\ttotalArea_start_not_i = np.sum(arr) - totalArea_start_i\n",
    "\t\tgrossGain_i = np.sum(arr[:,i]) - arr[i,i]\n",
    "\t\taverage_gain_i = (grossGain_i/duration)/totalArea_start_not_i\n",
    "\t\taverage_gain.append(average_gain_i)\n",
    "\treturn average_gain"
   ]
  },
  {
   "cell_type": "code",
   "execution_count": null,
   "metadata": {},
   "outputs": [],
   "source": [
    "gainPattern(test,2,3)"
   ]
  },
  {
   "cell_type": "code",
   "execution_count": null,
   "metadata": {},
   "outputs": [],
   "source": [
    "2/11"
   ]
  },
  {
   "cell_type": "code",
   "execution_count": null,
   "metadata": {},
   "outputs": [],
   "source": [
    "for i in range(5):\n",
    "    print(i)"
   ]
  },
  {
   "cell_type": "code",
   "execution_count": null,
   "metadata": {},
   "outputs": [],
   "source": [
    "i"
   ]
  },
  {
   "cell_type": "code",
   "execution_count": null,
   "metadata": {},
   "outputs": [],
   "source": [
    "for i in range(5):\n",
    "    print(i)"
   ]
  },
  {
   "cell_type": "code",
   "execution_count": null,
   "metadata": {},
   "outputs": [],
   "source": [
    "def gainPattern(arr,duration,m):\n",
    "\taverage_gain = []\n",
    "\tfor i in range(m):\n",
    "\t\ttotalArea_start_i = np.sum(arr[i,:])\n",
    "\t\ttotalArea_start_not_i = np.sum(arr) - totalArea_start_i\n",
    "\t\tgrossGain_i = np.sum(arr[:,i]) - arr[i,i]\n",
    "\t\taverage_gain_i = (grossGain_i/duration)/totalArea_start_not_i\n",
    "\t\taverage_gain.append(average_gain_i)\n",
    "\t\n",
    "\taverage_loss = []\n",
    "\tfor i in range(m):\n",
    "\t\ttotalArea_end_i = np.sum(arr[:,i])\n",
    "\t\ttotalArea_end_not_i = np.sum(arr) - totalArea_end_i\n",
    "\t\tgrossLoss_i = np.sum(arr[i,:]) - arr[i,i]\n",
    "\t\taverage_loss_i = (grossLoss_i/duration)/totalArea_end_not_i\n",
    "\t\taverage_loss.append(average_loss_i)\n",
    "\treturn average_gain,average_loss"
   ]
  },
  {
   "cell_type": "code",
   "execution_count": null,
   "metadata": {},
   "outputs": [],
   "source": [
    "gainPattern(test,2,3)"
   ]
  },
  {
   "cell_type": "markdown",
   "metadata": {},
   "source": [
    "1/6"
   ]
  },
  {
   "cell_type": "code",
   "execution_count": null,
   "metadata": {},
   "outputs": [],
   "source": [
    "1/6"
   ]
  },
  {
   "cell_type": "code",
   "execution_count": null,
   "metadata": {},
   "outputs": [],
   "source": [
    "test"
   ]
  },
  {
   "cell_type": "code",
   "execution_count": null,
   "metadata": {},
   "outputs": [],
   "source": [
    "test[0,2]"
   ]
  },
  {
   "cell_type": "code",
   "execution_count": null,
   "metadata": {},
   "outputs": [],
   "source": [
    "def gainPattern(arr,duration,m):\n",
    "\taverage_gain = []\n",
    "\tfor i in range(m):\n",
    "\t\ttotalArea_start_i = np.sum(arr[i,:])\n",
    "\t\ttotalArea_start_not_i = np.sum(arr) - totalArea_start_i\n",
    "\t\tgrossGain_i = np.sum(arr[:,i]) - arr[i,i]\n",
    "\t\taverage_gain_i = (grossGain_i/duration)/totalArea_start_not_i\n",
    "\t\taverage_gain.append(average_gain_i)\n",
    "\t\n",
    "\tgainIntenMatr = np.zeros((m,m))\n",
    "\tfor i in range(m):\n",
    "\t\tfor j in range(m):\n",
    "\t\t\tgainIntensity_ji = (arr[j][i]/duration)/np.sum(arr[j,:])\n",
    "\t\t\tgainIntenMatr[j][i] = gainIntensity_ji\n",
    "\n",
    "\taverage_loss = []\n",
    "\tfor i in range(m):\n",
    "\t\ttotalArea_end_i = np.sum(arr[:,i])\n",
    "\t\ttotalArea_end_not_i = np.sum(arr) - totalArea_end_i\n",
    "\t\tgrossLoss_i = np.sum(arr[i,:]) - arr[i,i]\n",
    "\t\taverage_loss_i = (grossLoss_i/duration)/totalArea_end_not_i\n",
    "\t\taverage_loss.append(average_loss_i)\n",
    "\t\n",
    "\tlossIntenMatr = np.zeros((m,m))\n",
    "\tfor i in range(m):\n",
    "\t\tfor j in range(m):\n",
    "\t\t\tlossIntensity_ij = (arr[i][j]/duration)/np.sum(arr[:,j])\n",
    "\t\t\tlossIntenMatr[i][j] = lossIntensity_ij\n",
    "\n",
    "\n",
    "\n",
    "\treturn average_gain,gainIntenMatr,average_loss,lossIntenMatr"
   ]
  },
  {
   "cell_type": "code",
   "execution_count": null,
   "metadata": {},
   "outputs": [],
   "source": [
    "ptn = gainPattern(test,2,3)"
   ]
  },
  {
   "cell_type": "code",
   "execution_count": null,
   "metadata": {},
   "outputs": [],
   "source": [
    "ptn"
   ]
  },
  {
   "cell_type": "code",
   "execution_count": null,
   "metadata": {},
   "outputs": [],
   "source": [
    "test = np.array([[3, 2, 1],\n",
    "       [1, 2, 2],\n",
    "       [2, 2, 1]])\n"
   ]
  },
  {
   "cell_type": "code",
   "execution_count": null,
   "metadata": {},
   "outputs": [],
   "source": [
    "ptn[1]"
   ]
  },
  {
   "cell_type": "code",
   "execution_count": null,
   "metadata": {},
   "outputs": [],
   "source": [
    "ptn[0]"
   ]
  },
  {
   "cell_type": "code",
   "execution_count": null,
   "metadata": {},
   "outputs": [],
   "source": [
    "ptn[1][ptn[1] > ptn[0]]=1"
   ]
  },
  {
   "cell_type": "code",
   "execution_count": null,
   "metadata": {},
   "outputs": [],
   "source": [
    "ptn[1]"
   ]
  },
  {
   "cell_type": "code",
   "execution_count": null,
   "metadata": {},
   "outputs": [],
   "source": [
    "ptn[1] > ptn[0]"
   ]
  },
  {
   "cell_type": "code",
   "execution_count": null,
   "metadata": {},
   "outputs": [],
   "source": [
    "ptn[1][ptn[1] < ptn[0]]=2"
   ]
  },
  {
   "cell_type": "code",
   "execution_count": null,
   "metadata": {},
   "outputs": [],
   "source": [
    "ptn[3]"
   ]
  },
  {
   "cell_type": "code",
   "execution_count": null,
   "metadata": {},
   "outputs": [],
   "source": [
    "ptn[2]"
   ]
  },
  {
   "cell_type": "code",
   "execution_count": null,
   "metadata": {},
   "outputs": [],
   "source": [
    "ptn[3] > np.array(ptn[2]).T"
   ]
  },
  {
   "cell_type": "code",
   "execution_count": null,
   "metadata": {},
   "outputs": [],
   "source": [
    "def gainPattern(arr,duration,m):       #arr is a m x m numpy array\n",
    "\taverage_gain = []\n",
    "\tfor i in range(m):\n",
    "\t\ttotalArea_start_i = np.sum(arr[i,:])\n",
    "\t\ttotalArea_start_not_i = np.sum(arr) - totalArea_start_i\n",
    "\t\tgrossGain_i = np.sum(arr[:,i]) - arr[i,i]\n",
    "\t\taverage_gain_i = (grossGain_i/duration)/totalArea_start_not_i\n",
    "\t\taverage_gain.append(average_gain_i)\n",
    "\t\n",
    "\tgainIntenMatr = np.zeros((m,m))\n",
    "\tfor i in range(m):\n",
    "\t\tfor j in range(m):\n",
    "\t\t\tgainIntensity_ji = (arr[j][i]/duration)/np.sum(arr[j,:])\n",
    "\t\t\tgainIntenMatr[j][i] = gainIntensity_ji\n",
    "\n",
    "\tgainIntenMatr[gainIntenMatr > average_gain] = 1\n",
    "\tgainIntenMatr[gainIntenMatr < average_gain] = 2\n",
    "\n",
    "\n",
    "\n",
    "\taverage_loss = []\n",
    "\tfor i in range(m):\n",
    "\t\ttotalArea_end_i = np.sum(arr[:,i])\n",
    "\t\ttotalArea_end_not_i = np.sum(arr) - totalArea_end_i\n",
    "\t\tgrossLoss_i = np.sum(arr[i,:]) - arr[i,i]\n",
    "\t\taverage_loss_i = (grossLoss_i/duration)/totalArea_end_not_i\n",
    "\t\taverage_loss.append(average_loss_i)\n",
    "\t\n",
    "\tlossIntenMatr = np.zeros((m,m))\n",
    "\tfor i in range(m):\n",
    "\t\tfor j in range(m):\n",
    "\t\t\tlossIntensity_ij = (arr[i][j]/duration)/np.sum(arr[:,j])\n",
    "\t\t\tlossIntenMatr[i][j] = lossIntensity_ij\n",
    "\n",
    "\tlossIntenMatr[lossIntenMatr > np.array(average_loss).T] = 1\n",
    "\tlossIntenMatr[lossIntenMatr < np.array(average_loss).T] = 2\n",
    "\n",
    "\treturn average_gain,gainIntenMatr,average_loss,lossIntenMatr"
   ]
  },
  {
   "cell_type": "code",
   "execution_count": null,
   "metadata": {},
   "outputs": [],
   "source": [
    "ptn = gainPattern(test,2,3)"
   ]
  },
  {
   "cell_type": "code",
   "execution_count": null,
   "metadata": {},
   "outputs": [],
   "source": [
    "ptn"
   ]
  },
  {
   "cell_type": "code",
   "execution_count": null,
   "metadata": {},
   "outputs": [],
   "source": [
    "def gainPattern(arr,duration,m):       #arr is a m x m numpy array\n",
    "\taverage_gain = []\n",
    "\tfor i in range(m):\n",
    "\t\ttotalArea_start_i = np.sum(arr[i,:])\n",
    "\t\ttotalArea_start_not_i = np.sum(arr) - totalArea_start_i\n",
    "\t\tgrossGain_i = np.sum(arr[:,i]) - arr[i,i]\n",
    "\t\taverage_gain_i = (grossGain_i/duration)/totalArea_start_not_i\n",
    "\t\taverage_gain.append(average_gain_i)\n",
    "\t\n",
    "\tgainIntenMatr = np.zeros((m,m))\n",
    "\tfor i in range(m):\n",
    "\t\tfor j in range(m):\n",
    "\t\t\tgainIntensity_ji = (arr[j][i]/duration)/np.sum(arr[j,:])\n",
    "\t\t\tgainIntenMatr[j][i] = gainIntensity_ji\n",
    "\n",
    "\tgainIntenMatr[gainIntenMatr > average_gain] = 1\n",
    "\tgainIntenMatr[gainIntenMatr < average_gain] = 2\n",
    "\tnp.fill_diagonal(gainIntenMatr,0)\n",
    "\t\n",
    "\taverage_loss = []\n",
    "\tfor i in range(m):\n",
    "\t\ttotalArea_end_i = np.sum(arr[:,i])\n",
    "\t\ttotalArea_end_not_i = np.sum(arr) - totalArea_end_i\n",
    "\t\tgrossLoss_i = np.sum(arr[i,:]) - arr[i,i]\n",
    "\t\taverage_loss_i = (grossLoss_i/duration)/totalArea_end_not_i\n",
    "\t\taverage_loss.append(average_loss_i)\n",
    "\t\n",
    "\tlossIntenMatr = np.zeros((m,m))\n",
    "\tfor i in range(m):\n",
    "\t\tfor j in range(m):\n",
    "\t\t\tlossIntensity_ij = (arr[i][j]/duration)/np.sum(arr[:,j])\n",
    "\t\t\tlossIntenMatr[i][j] = lossIntensity_ij\n",
    "\n",
    "\tlossIntenMatr[lossIntenMatr > np.array(average_loss).T] = 1\n",
    "\tlossIntenMatr[lossIntenMatr < np.array(average_loss).T] = 2\n",
    "\tnp.fill_diagonal(lossIntenMatr,0)\n",
    "\treturn average_gain,gainIntenMatr,average_loss,lossIntenMatr"
   ]
  },
  {
   "cell_type": "code",
   "execution_count": null,
   "metadata": {},
   "outputs": [],
   "source": [
    "ptn = gainPattern(test,2,3)"
   ]
  },
  {
   "cell_type": "code",
   "execution_count": null,
   "metadata": {},
   "outputs": [],
   "source": [
    "ptn"
   ]
  },
  {
   "cell_type": "code",
   "execution_count": null,
   "metadata": {},
   "outputs": [],
   "source": [
    "ptn[1]"
   ]
  },
  {
   "cell_type": "code",
   "execution_count": null,
   "metadata": {},
   "outputs": [],
   "source": [
    "test.shape[1]"
   ]
  },
  {
   "cell_type": "code",
   "execution_count": null,
   "metadata": {},
   "outputs": [],
   "source": [
    "def TransPattern(arr,duration):       #arr is a m x m numpy array\n",
    "\tm = arr.shape[1]\n",
    "\taverage_gain = []\n",
    "\tfor i in range(m):\n",
    "\t\ttotalArea_start_i = np.sum(arr[i,:])\n",
    "\t\ttotalArea_start_not_i = np.sum(arr) - totalArea_start_i\n",
    "\t\tgrossGain_i = np.sum(arr[:,i]) - arr[i,i]\n",
    "\t\taverage_gain_i = (grossGain_i/duration)/totalArea_start_not_i\n",
    "\t\taverage_gain.append(average_gain_i)\n",
    "\t\n",
    "\tgainIntenMatr = np.zeros((m,m))\n",
    "\tfor i in range(m):\n",
    "\t\tfor j in range(m):\n",
    "\t\t\tgainIntensity_ji = (arr[j][i]/duration)/np.sum(arr[j,:])\n",
    "\t\t\tgainIntenMatr[j][i] = gainIntensity_ji\n",
    "\n",
    "\tgainIntenMatr[gainIntenMatr >= average_gain] = 1\n",
    "\tgainIntenMatr[gainIntenMatr < average_gain] = 2\n",
    "\tnp.fill_diagonal(gainIntenMatr,np.nan)\n",
    "\t\n",
    "\taverage_loss = []\n",
    "\tfor i in range(m):\n",
    "\t\ttotalArea_end_i = np.sum(arr[:,i])\n",
    "\t\ttotalArea_end_not_i = np.sum(arr) - totalArea_end_i\n",
    "\t\tgrossLoss_i = np.sum(arr[i,:]) - arr[i,i]\n",
    "\t\taverage_loss_i = (grossLoss_i/duration)/totalArea_end_not_i\n",
    "\t\taverage_loss.append(average_loss_i)\n",
    "\t\n",
    "\tlossIntenMatr = np.zeros((m,m))\n",
    "\tfor i in range(m):\n",
    "\t\tfor j in range(m):\n",
    "\t\t\tlossIntensity_ij = (arr[i][j]/duration)/np.sum(arr[:,j])\n",
    "\t\t\tlossIntenMatr[i][j] = lossIntensity_ij\n",
    "\n",
    "\tlossIntenMatr[lossIntenMatr >= np.array(average_loss).T] = 1\n",
    "\tlossIntenMatr[lossIntenMatr < np.array(average_loss).T] = 2\n",
    "\tnp.fill_diagonal(lossIntenMatr,np.nan)\n",
    "\treturn average_gain,gainIntenMatr,average_loss,lossIntenMatr"
   ]
  },
  {
   "cell_type": "code",
   "execution_count": null,
   "metadata": {},
   "outputs": [],
   "source": [
    "ptn = TransPattern(test,2)\n",
    "ptn"
   ]
  },
  {
   "cell_type": "code",
   "execution_count": null,
   "metadata": {},
   "outputs": [],
   "source": [
    "np.fill_diagonal(ptn[1],np.nan)\n",
    "aaa"
   ]
  },
  {
   "cell_type": "code",
   "execution_count": null,
   "metadata": {},
   "outputs": [],
   "source": [
    "ptn[1]"
   ]
  },
  {
   "cell_type": "code",
   "execution_count": null,
   "metadata": {},
   "outputs": [],
   "source": [
    "ptn[3]"
   ]
  },
  {
   "cell_type": "code",
   "execution_count": null,
   "metadata": {},
   "outputs": [],
   "source": [
    "np.fill_diagonal(ptn[3],np.nan)"
   ]
  },
  {
   "cell_type": "code",
   "execution_count": null,
   "metadata": {},
   "outputs": [],
   "source": [
    "ptn[3]"
   ]
  },
  {
   "cell_type": "code",
   "execution_count": null,
   "metadata": {},
   "outputs": [],
   "source": [
    "a4 = np.ravel(ptn[3])\n",
    "a4"
   ]
  },
  {
   "cell_type": "code",
   "execution_count": null,
   "metadata": {},
   "outputs": [],
   "source": [
    "(np.ravel(ptn[3]))"
   ]
  },
  {
   "cell_type": "code",
   "execution_count": null,
   "metadata": {},
   "outputs": [],
   "source": [
    "type(a4)"
   ]
  },
  {
   "cell_type": "code",
   "execution_count": null,
   "metadata": {},
   "outputs": [],
   "source": [
    "a4.dropna()"
   ]
  },
  {
   "cell_type": "code",
   "execution_count": null,
   "metadata": {},
   "outputs": [],
   "source": [
    "fptn = pd.DataFrame(ptn[1])"
   ]
  },
  {
   "cell_type": "code",
   "execution_count": null,
   "metadata": {},
   "outputs": [],
   "source": [
    "fptn"
   ]
  },
  {
   "cell_type": "code",
   "execution_count": null,
   "metadata": {},
   "outputs": [],
   "source": [
    "idx = [['cls_' + str(i) for i in range(1,4)],['gain']*3]"
   ]
  },
  {
   "cell_type": "code",
   "execution_count": null,
   "metadata": {},
   "outputs": [],
   "source": [
    "['gain']*3"
   ]
  },
  {
   "cell_type": "code",
   "execution_count": null,
   "metadata": {},
   "outputs": [],
   "source": [
    "idx"
   ]
  },
  {
   "cell_type": "code",
   "execution_count": null,
   "metadata": {},
   "outputs": [],
   "source": [
    "fptn = pd.DataFrame(ptn[1],columns = idx)"
   ]
  },
  {
   "cell_type": "code",
   "execution_count": null,
   "metadata": {},
   "outputs": [],
   "source": [
    "fptn"
   ]
  },
  {
   "cell_type": "code",
   "execution_count": null,
   "metadata": {},
   "outputs": [],
   "source": [
    "cols = [['cls_' + str(i) for i in range(1,4)],['gain']*3]"
   ]
  },
  {
   "cell_type": "code",
   "execution_count": null,
   "metadata": {},
   "outputs": [],
   "source": [
    "idx = ['cls_' + str(i) for i in range(1,4)]"
   ]
  },
  {
   "cell_type": "code",
   "execution_count": null,
   "metadata": {},
   "outputs": [],
   "source": [
    "gptn = pd.DataFrame(ptn[1],columns = cols,index = idx)"
   ]
  },
  {
   "cell_type": "code",
   "execution_count": null,
   "metadata": {},
   "outputs": [],
   "source": [
    "fptn"
   ]
  },
  {
   "cell_type": "code",
   "execution_count": null,
   "metadata": {},
   "outputs": [],
   "source": [
    "cols2 = [['cls_' + str(i) for i in range(1,4)],['loss']*3]"
   ]
  },
  {
   "cell_type": "code",
   "execution_count": null,
   "metadata": {},
   "outputs": [],
   "source": [
    "gptn = pd.DataFrame(ptn[1],columns = cols,index = idx)"
   ]
  },
  {
   "cell_type": "code",
   "execution_count": null,
   "metadata": {},
   "outputs": [],
   "source": [
    "lptn = pd.DataFrame(ptn[3],columns = cols2,index = idx)"
   ]
  },
  {
   "cell_type": "code",
   "execution_count": null,
   "metadata": {},
   "outputs": [],
   "source": [
    "lptn"
   ]
  },
  {
   "cell_type": "code",
   "execution_count": null,
   "metadata": {},
   "outputs": [],
   "source": [
    "b1 = pd.concat([gptn,lptn],axis = 1)"
   ]
  },
  {
   "cell_type": "code",
   "execution_count": null,
   "metadata": {},
   "outputs": [],
   "source": [
    "b2 = pd.concat([gptn,lptn],axis = 1)"
   ]
  },
  {
   "cell_type": "code",
   "execution_count": null,
   "metadata": {},
   "outputs": [],
   "source": [
    "b1"
   ]
  },
  {
   "cell_type": "code",
   "execution_count": null,
   "metadata": {},
   "outputs": [],
   "source": [
    "c1 = pd.concat([b1,b2],axis = 0,keys = ['interval1','interval2'])"
   ]
  },
  {
   "cell_type": "code",
   "execution_count": null,
   "metadata": {},
   "outputs": [],
   "source": [
    "c1"
   ]
  },
  {
   "cell_type": "code",
   "execution_count": null,
   "metadata": {},
   "outputs": [],
   "source": [
    "c1.swaplevel(1,0).sortlevel(0)"
   ]
  },
  {
   "cell_type": "code",
   "execution_count": null,
   "metadata": {},
   "outputs": [],
   "source": [
    "help(pd.sort_index())"
   ]
  },
  {
   "cell_type": "code",
   "execution_count": null,
   "metadata": {},
   "outputs": [],
   "source": [
    "help(sortlevel)"
   ]
  },
  {
   "cell_type": "code",
   "execution_count": null,
   "metadata": {},
   "outputs": [],
   "source": [
    "c1"
   ]
  },
  {
   "cell_type": "code",
   "execution_count": null,
   "metadata": {},
   "outputs": [],
   "source": [
    "c1.swaplevel(1,0).sort_index(axis=0,level=0).sort_index(axis=1,level=0).fillna(0)"
   ]
  },
  {
   "cell_type": "code",
   "execution_count": null,
   "metadata": {},
   "outputs": [],
   "source": [
    "c1.swaplevel(1,0).sort_index(axis=1,level=0)"
   ]
  },
  {
   "cell_type": "code",
   "execution_count": null,
   "metadata": {},
   "outputs": [],
   "source": [
    "def test(x,*args):\n",
    "    print(x +1)\n",
    "    print(\"length:\",len(args))\n",
    "    print(args[0],args[1])"
   ]
  },
  {
   "cell_type": "code",
   "execution_count": null,
   "metadata": {},
   "outputs": [],
   "source": [
    "test(5,2,3,4)"
   ]
  },
  {
   "cell_type": "code",
   "execution_count": null,
   "metadata": {},
   "outputs": [],
   "source": [
    "c1"
   ]
  },
  {
   "cell_type": "code",
   "execution_count": null,
   "metadata": {},
   "outputs": [],
   "source": [
    "c1.swaplevel(1,0,axis = 1)"
   ]
  },
  {
   "cell_type": "code",
   "execution_count": null,
   "metadata": {},
   "outputs": [],
   "source": [
    "c1"
   ]
  },
  {
   "cell_type": "code",
   "execution_count": null,
   "metadata": {},
   "outputs": [],
   "source": [
    "def mergeGainLoss(gainArr,lossArr):\n",
    "\tm = gainArr.shape[0]\n",
    "\tidx = ['cls_' + str(i) for i in range(1,m+1)]\n",
    "\tdfGain = pd.DataFrame(gainArr,columns = idx,index = idx)\n",
    "\tdfLoss = pd.DataFrame(lossArr,columns = idx,index = idx)\n",
    "\tdfGainLoss = pd.concat([dfGain,dfLoss],axis = 1,keys = ['Gain','Loss'])\n",
    "\tdfGainLoss = dfGainLoss.swaplevel(1,0,axis=1)"
   ]
  },
  {
   "cell_type": "code",
   "execution_count": null,
   "metadata": {},
   "outputs": [],
   "source": [
    "mergeGainLoss(ptn[1],ptn[3])"
   ]
  },
  {
   "cell_type": "code",
   "execution_count": null,
   "metadata": {},
   "outputs": [],
   "source": [
    "def mergeGainLoss(gainArr,lossArr):\n",
    "\tm = gainArr.shape[0]\n",
    "\tidx = ['cls_' + str(i) for i in range(1,m+1)]\n",
    "\tdfGain = pd.DataFrame(gainArr,columns = idx,index = idx)\n",
    "\tdfLoss = pd.DataFrame(lossArr,columns = idx,index = idx)\n",
    "\tdfGainLoss = pd.concat([dfGain,dfLoss],axis = 1,keys = ['Gain','Loss'])\n",
    "\tdfGainLoss = dfGainLoss.swaplevel(1,0,axis=1)\n",
    "\treturn dfGainLoss"
   ]
  },
  {
   "cell_type": "code",
   "execution_count": null,
   "metadata": {},
   "outputs": [],
   "source": [
    "d1 = mergeGainLoss(ptn[1],ptn[3])"
   ]
  },
  {
   "cell_type": "code",
   "execution_count": null,
   "metadata": {},
   "outputs": [],
   "source": [
    "def mergeGainLoss(gainArr,lossArr):\n",
    "\tm = gainArr.shape[0]\n",
    "\tidx = ['cls_' + str(i) for i in range(1,m+1)]\n",
    "\tdfGain = pd.DataFrame(gainArr,columns = idx,index = idx)\n",
    "\tdfLoss = pd.DataFrame(lossArr,columns = idx,index = idx)\n",
    "\tdfGainLoss = pd.concat([dfGain,dfLoss],axis = 1,keys = ['Gain','Loss'])\n",
    "\tdfGainLoss = dfGainLoss.swaplevel(1,0,axis=1).sort_index(axis=1,level=0)\n",
    "\treturn dfGainLoss"
   ]
  },
  {
   "cell_type": "code",
   "execution_count": null,
   "metadata": {},
   "outputs": [],
   "source": [
    "d2 = mergeGainLoss(ptn[3],ptn[1])"
   ]
  },
  {
   "cell_type": "code",
   "execution_count": null,
   "metadata": {},
   "outputs": [],
   "source": [
    "d1"
   ]
  },
  {
   "cell_type": "code",
   "execution_count": null,
   "metadata": {},
   "outputs": [],
   "source": [
    "都"
   ]
  },
  {
   "cell_type": "code",
   "execution_count": null,
   "metadata": {},
   "outputs": [],
   "source": [
    "d2"
   ]
  },
  {
   "cell_type": "code",
   "execution_count": null,
   "metadata": {},
   "outputs": [],
   "source": [
    "def mergeInterval(*args):\n",
    "\tm = len(args)\n",
    "\tidx = ['interval_' + str(i+1) for i in range(m)]\n",
    "\tmultiInterval = pd.concat(list(args),axis = 0,keys = idx).swaplevel(1,0,axis = 0).sort_index(axis = 0,level = 0)\n",
    "\treturn multiInterval"
   ]
  },
  {
   "cell_type": "code",
   "execution_count": null,
   "metadata": {},
   "outputs": [],
   "source": [
    "d = mergeInterval(d1,d2,d1,d2)"
   ]
  },
  {
   "cell_type": "code",
   "execution_count": null,
   "metadata": {},
   "outputs": [],
   "source": [
    "d"
   ]
  },
  {
   "cell_type": "code",
   "execution_count": null,
   "metadata": {},
   "outputs": [],
   "source": [
    "# Author: Jianxin\n",
    "# Data: 2018/06/27\n",
    "# Function: generate cross table between two numpy array\n",
    "# Reference Link: https://stackoverflow.com/questions/48456145/generate-transition-matrix \n",
    "# important notes: land use classes must be encoded form 1 to n continuously\n",
    "\n",
    "import numpy as np\n",
    "import pandas as pd\n",
    "from sklearn.metrics import cohen_kappa_score\n",
    "\n",
    "# create transition matrix from two land use array.\n",
    "# m is the number of land use categories.\n",
    "# A and B are land use type arrays with all background value convert to 0 or np.nan.\n",
    "def transMatrix(A, B, m):\n",
    "\tA[np.isnan(A)] = 0\n",
    "\tB[np.isnan(B)] = 0\n",
    "# generate transition matrix\n",
    "\tout = np.bincount(np.ravel_multi_index((A, B), (m+1, m+1)).ravel(), minlength=np.square(m+1)).reshape(m+1, m+1)\n",
    "# drop lines and columns that indicat transition between background values, that is 0.\n",
    "\ttranMatrix = out[1:,1:]\n",
    "# furthur polish the transition matrix. add column and row margins(sum).\n",
    "\trow_sum = tranMatrix.sum(1).reshape((m,1))\n",
    "\ttranMatrix = np.concatenate((tranMatrix,row_sum),axis = 1)\n",
    "\trow_sum = tranMatrix.sum(0).reshape((1,m+1))\n",
    "\ttranMatrix = np.concatenate((tranMatrix,row_sum),axis = 0)\n",
    "# convert the transition matrix to dataframe\n",
    "\tindices = ['cls_'+ str(i) for i in range(1,m+1)]\n",
    "\tindices.append('col_tot')\n",
    "\t#print(indices)\n",
    "\tcols = ['cls_'+ str(i) for i in range(1,m+1)]\n",
    "\tcols.append('row_tot')\n",
    "\t#print(cols)\n",
    "# outTranMatrix is the final transition matrix in pandas DataFrame format\n",
    "\toutTranMatrix = pd.DataFrame(tranMatrix,index = indices,columns=cols)\n",
    "\t#out = out.set_index(\"cls_\" + out.index.astype(str))\n",
    "# finally, return the transition matrix in dataframe format and in numpy array format\n",
    "\treturn outTranMatrix.astype(np.int32),tranMatrix[:m,:m].astype(np.int32)\n",
    "\n",
    "# Input a numpy array wihich shows the transtion matrix in a time interval.\n",
    "# The TM should not have marginal summations\n",
    "# duraton is the number of years (steps) in a time interval\n",
    "def TransPattern(arr,duration):       #arr is a m x m numpy array\n",
    "\tm = arr.shape[1]\n",
    "\t# calculate average gian intensity for each lucc class, then put the reslut in a list\n",
    "\taverage_gain = []\n",
    "\tfor i in range(m):\n",
    "\t\ttotalArea_start_i = np.sum(arr[i,:])\n",
    "\t\ttotalArea_start_not_i = np.sum(arr) - totalArea_start_i\n",
    "\t\tgrossGain_i = np.sum(arr[:,i]) - arr[i,i]\n",
    "\t\taverage_gain_i = (grossGain_i/duration)/totalArea_start_not_i\n",
    "\t\taverage_gain.append(average_gain_i)\n",
    "\t# calculate gian intensity of class i from j, then put the reslut in a numpy array\n",
    "\tgainIntenMatr = np.zeros((m,m))\n",
    "\tfor i in range(m):\n",
    "\t\tfor j in range(m):\n",
    "\t\t\tgainIntensity_ji = (arr[j][i]/duration)/np.sum(arr[j,:])\n",
    "\t\t\tgainIntenMatr[j][i] = gainIntensity_ji\n",
    "\t# convert gain intensity to gain pattern with \"1\" indicat tending to convert and \"2\" indicate avoiding\n",
    "\tgainIntenMatr[gainIntenMatr >= average_gain] = 1\t\t# tend to\n",
    "\tgainIntenMatr[gainIntenMatr < average_gain] = 2\t\t\t# avoid\n",
    "\t# change the diagonal element to np.nan\n",
    "\tnp.fill_diagonal(gainIntenMatr,np.nan)\n",
    "\t\n",
    "\t# calculate average loss intensity for each lucc class, then put the reslut in a list\n",
    "\taverage_loss = []\n",
    "\tfor i in range(m):\n",
    "\t\ttotalArea_end_i = np.sum(arr[:,i])\n",
    "\t\ttotalArea_end_not_i = np.sum(arr) - totalArea_end_i\n",
    "\t\tgrossLoss_i = np.sum(arr[i,:]) - arr[i,i]\n",
    "\t\taverage_loss_i = (grossLoss_i/duration)/totalArea_end_not_i\n",
    "\t\taverage_loss.append(average_loss_i)\n",
    "\t# calculate loss intensity of class i to j, then put the reslut in a numpy array\n",
    "\tlossIntenMatr = np.zeros((m,m))\n",
    "\tfor i in range(m):\n",
    "\t\tfor j in range(m):\n",
    "\t\t\tlossIntensity_ij = (arr[i][j]/duration)/np.sum(arr[:,j])\n",
    "\t\t\tlossIntenMatr[i][j] = lossIntensity_ij\n",
    "\t# convert loss intensity to loss pattern with \"1\" indicat tending to convert and \"2\" indicate avoiding\n",
    "\tlossIntenMatr[lossIntenMatr >= np.array(average_loss).T] = 1    # tend to\n",
    "\tlossIntenMatr[lossIntenMatr < np.array(average_loss).T] = 2\t\t# avoid\n",
    "\t# change the diagonal element to np.nan\n",
    "\tnp.fill_diagonal(lossIntenMatr,np.nan)\n",
    "\t# four returns\n",
    "\treturn average_gain,gainIntenMatr,average_loss,lossIntenMatr\n",
    "\n",
    "# merge the gain and loss pattern array\n",
    "def mergeGainLoss(gainArr,lossArr):\n",
    "\tm = gainArr.shape[0]\n",
    "\tidx = ['cls_' + str(i) for i in range(1,m+1)]\n",
    "\tdfGain = pd.DataFrame(gainArr,columns = idx,index = idx)\n",
    "\tdfLoss = pd.DataFrame(lossArr,columns = idx,index = idx)\n",
    "\tdfGainLoss = pd.concat([dfGain,dfLoss],axis = 1,keys = ['Gain','Loss']).swaplevel(1,0,axis=1).sort_index(axis=1,level=0)\n",
    "\treturn dfGainLoss\n",
    "# merge gain and loss pattern array in different time intervals\n",
    "def mergeInterval(*args):\n",
    "\tm = len(args)\n",
    "\tidx = ['interval_' + str(i + 1) for i in range(m)]\n",
    "\tmultiInterval = pd.concat(list(args),axis = 0,keys = idx).swaplevel(1,0,axis = 0).sort_index(axis = 0,level = 0)\n",
    "\treturn multiInterval\n",
    "\n",
    "# calculate kappa index between land change pattern array\n",
    "# the array should not contain none values\n",
    "def kappa(A_arr,B_arr):\n",
    "\tnp.ravel(A_arr)\n",
    "\tnp.ravel(B_arr)\n",
    "\treturn cohen_kappa_score(np.ravel(A_arr), np.ravel(B_arr))\n",
    "\n",
    "\n",
    "\n",
    "\n",
    "if __name__ == '__main__':\n",
    "\tmap_a = np.array([[3,2,1],[1,2,2],[2,2,1],[1,2,2],[2,2,1]])\n",
    "\tmap_b = np.array([[3,2,1],[1,2,3],[3,2,1],[1,3,3],[3,3,1]])\n",
    "\ttransMatrx = transMatrix(map_a,map_b,3)[1]\n",
    "\tptn1 = TransPattern(transMatrx,2)\n",
    "\tptn2 = TransPattern(transMatrx,3)\n",
    "\tprint(ptn1[1])\n",
    "\tprint('_______________')\n",
    "\tprint(ptn2[1])\n",
    "\n",
    "\t#print(kappa(ptn1[1],ptn2[1]))"
   ]
  },
  {
   "cell_type": "code",
   "execution_count": null,
   "metadata": {},
   "outputs": [],
   "source": [
    "f = np.ravel(ptn1[1])"
   ]
  },
  {
   "cell_type": "code",
   "execution_count": null,
   "metadata": {},
   "outputs": [],
   "source": [
    "f[~np.isnan(f)]"
   ]
  },
  {
   "cell_type": "code",
   "execution_count": null,
   "metadata": {},
   "outputs": [],
   "source": [
    "np.ravel(ptn1[1])"
   ]
  },
  {
   "cell_type": "code",
   "execution_count": null,
   "metadata": {},
   "outputs": [],
   "source": [
    "map_a = np.array(np.random.randint(100100).reshape((100,100)))"
   ]
  },
  {
   "cell_type": "code",
   "execution_count": null,
   "metadata": {},
   "outputs": [],
   "source": [
    "np.random.randn(10,10)"
   ]
  },
  {
   "cell_type": "code",
   "execution_count": null,
   "metadata": {},
   "outputs": [],
   "source": [
    "np.random.randint(1,10,(5,5))"
   ]
  },
  {
   "cell_type": "code",
   "execution_count": null,
   "metadata": {},
   "outputs": [],
   "source": [
    "# Author: Jianxin\n",
    "# Data: 2018/06/27\n",
    "# Function: generate cross table between two numpy array\n",
    "# Reference Link: https://stackoverflow.com/questions/48456145/generate-transition-matrix \n",
    "# important notes: land use classes must be encoded form 1 to n continuously\n",
    "\n",
    "import numpy as np\n",
    "import pandas as pd\n",
    "from sklearn.metrics import cohen_kappa_score\n",
    "\n",
    "# create transition matrix from two land use array.\n",
    "# m is the number of land use categories.\n",
    "# A and B are land use type arrays with all background value convert to 0 or np.nan.\n",
    "def transMatrix(A, B, m):\n",
    "\tA[np.isnan(A)] = 0\n",
    "\tB[np.isnan(B)] = 0\n",
    "# generate transition matrix\n",
    "\tout = np.bincount(np.ravel_multi_index((A, B), (m+1, m+1)).ravel(), minlength=np.square(m+1)).reshape(m+1, m+1)\n",
    "# drop lines and columns that indicat transition between background values, that is 0.\n",
    "\ttranMatrix = out[1:,1:]\n",
    "# furthur polish the transition matrix. add column and row margins(sum).\n",
    "\trow_sum = tranMatrix.sum(1).reshape((m,1))\n",
    "\ttranMatrix = np.concatenate((tranMatrix,row_sum),axis = 1)\n",
    "\trow_sum = tranMatrix.sum(0).reshape((1,m+1))\n",
    "\ttranMatrix = np.concatenate((tranMatrix,row_sum),axis = 0)\n",
    "# convert the transition matrix to dataframe\n",
    "\tindices = ['cls_'+ str(i) for i in range(1,m+1)]\n",
    "\tindices.append('col_tot')\n",
    "\t#print(indices)\n",
    "\tcols = ['cls_'+ str(i) for i in range(1,m+1)]\n",
    "\tcols.append('row_tot')\n",
    "\t#print(cols)\n",
    "# outTranMatrix is the final transition matrix in pandas DataFrame format\n",
    "\toutTranMatrix = pd.DataFrame(tranMatrix,index = indices,columns=cols)\n",
    "\t#out = out.set_index(\"cls_\" + out.index.astype(str))\n",
    "# finally, return the transition matrix in dataframe format and in numpy array format\n",
    "\treturn outTranMatrix.astype(np.int32),tranMatrix[:m,:m].astype(np.int32)\n",
    "\n",
    "# Input a numpy array wihich shows the transtion matrix in a time interval.\n",
    "# The TM should not have marginal summations\n",
    "# duraton is the number of years (steps) in a time interval\n",
    "def TransPattern(arr,duration):       #arr is a m x m numpy array\n",
    "\tm = arr.shape[1]\n",
    "\t# calculate average gian intensity for each lucc class, then put the reslut in a list\n",
    "\taverage_gain = []\n",
    "\tfor i in range(m):\n",
    "\t\ttotalArea_start_i = np.sum(arr[i,:])\n",
    "\t\ttotalArea_start_not_i = np.sum(arr) - totalArea_start_i\n",
    "\t\tgrossGain_i = np.sum(arr[:,i]) - arr[i,i]\n",
    "\t\taverage_gain_i = (grossGain_i/duration)/totalArea_start_not_i\n",
    "\t\taverage_gain.append(average_gain_i)\n",
    "\t# calculate gian intensity of class i from j, then put the reslut in a numpy array\n",
    "\tgainIntenMatr = np.zeros((m,m))\n",
    "\tfor i in range(m):\n",
    "\t\tfor j in range(m):\n",
    "\t\t\tgainIntensity_ji = (arr[j][i]/duration)/np.sum(arr[j,:])\n",
    "\t\t\tgainIntenMatr[j][i] = gainIntensity_ji\n",
    "\t# convert gain intensity to gain pattern with \"1\" indicat tending to convert and \"2\" indicate avoiding\n",
    "\tgainIntenMatr[gainIntenMatr >= average_gain] = 1\t\t# tend to\n",
    "\tgainIntenMatr[gainIntenMatr < average_gain] = 2\t\t\t# avoid\n",
    "\t# change the diagonal element to np.nan\n",
    "\tnp.fill_diagonal(gainIntenMatr,np.nan)\n",
    "\t\n",
    "\t# calculate average loss intensity for each lucc class, then put the reslut in a list\n",
    "\taverage_loss = []\n",
    "\tfor i in range(m):\n",
    "\t\ttotalArea_end_i = np.sum(arr[:,i])\n",
    "\t\ttotalArea_end_not_i = np.sum(arr) - totalArea_end_i\n",
    "\t\tgrossLoss_i = np.sum(arr[i,:]) - arr[i,i]\n",
    "\t\taverage_loss_i = (grossLoss_i/duration)/totalArea_end_not_i\n",
    "\t\taverage_loss.append(average_loss_i)\n",
    "\t# calculate loss intensity of class i to j, then put the reslut in a numpy array\n",
    "\tlossIntenMatr = np.zeros((m,m))\n",
    "\tfor i in range(m):\n",
    "\t\tfor j in range(m):\n",
    "\t\t\tlossIntensity_ij = (arr[i][j]/duration)/np.sum(arr[:,j])\n",
    "\t\t\tlossIntenMatr[i][j] = lossIntensity_ij\n",
    "\t# convert loss intensity to loss pattern with \"1\" indicat tending to convert and \"2\" indicate avoiding\n",
    "\tlossIntenMatr[lossIntenMatr >= np.array(average_loss).T] = 1    # tend to\n",
    "\tlossIntenMatr[lossIntenMatr < np.array(average_loss).T] = 2\t\t# avoid\n",
    "\t# change the diagonal element to np.nan\n",
    "\tnp.fill_diagonal(lossIntenMatr,np.nan)\n",
    "\t# four returns\n",
    "\treturn gainIntenMatr,lossIntenMatr\n",
    "\n",
    "# merge the gain and loss pattern array\n",
    "def mergeGainLoss(gainArr,lossArr):\n",
    "\tm = gainArr.shape[0]\n",
    "\tidx = ['cls_' + str(i) for i in range(1,m+1)]\n",
    "\tdfGain = pd.DataFrame(gainArr,columns = idx,index = idx)\n",
    "\tdfLoss = pd.DataFrame(lossArr,columns = idx,index = idx)\n",
    "\tdfGainLoss = pd.concat([dfGain,dfLoss],axis = 1,keys = ['Gain','Loss']).swaplevel(1,0,axis=1).sort_index(axis=1,level=0)\n",
    "\treturn dfGainLoss\n",
    "# merge gain and loss pattern array in different time intervals\n",
    "def mergeInterval(*args):\n",
    "\tm = len(args)\n",
    "\tidx = ['interval_' + str(i + 1) for i in range(m)]\n",
    "\tmultiInterval = pd.concat(list(args),axis = 0,keys = idx).swaplevel(1,0,axis = 0).sort_index(axis = 0,level = 0)\n",
    "\treturn multiInterval\n",
    "\n",
    "# calculate kappa index between land change pattern array\n",
    "# the array should not contain none values\n",
    "def kappa(A_arr,B_arr):\n",
    "\tA = np.ravel(A_arr)[~np.isnan(np.ravel(A_arr))]\n",
    "\tB = np.ravel(B_arr)[~np.isnan(np.ravel(B_arr))]\n",
    "\treturn cohen_kappa_score(np.ravel(A), np.ravel(B))\n",
    "\n",
    "\n",
    "\n",
    "\n",
    "if __name__ == '__main__':\n",
    "\tmap_a = np.random.randint(1,7,(50,50))\n",
    "\tmap_b = np.random.randint(1,7,(50,50))\n",
    "\tmap_c = np.random.randint(1,7,(50,50))\n",
    "\tTM_ab = transMatrix(map_a,map_b,6)[1]\n",
    "\tTM_bc = transMatrix(map_b,map_c,6)[1]\n",
    "\tgainIntenPtn_ab,lossIntenPtn_ab = TransPattern(TM_ab,5)\n",
    "\tgainIntenPtn_bc,lossIntenPtn_bc = TransPattern(TM_bc,5)\n",
    "\tGainLossPtn_ab = mergeGainLoss(gainIntenPtn_ab,lossIntenPtn_ab)\n",
    "\tGainLossPtn_bc = mergeGainLoss(gainIntenPtn_bc,lossIntenPtn_bc)\n",
    "\tfinnalPtn = mergeInterval(GainLossPtn_ab,GainLossPtn_bc)\n",
    "\tprint(finnalPtn)\n",
    "\n",
    "\n",
    "\t#print(kappa(ptn1[1],ptn2[1]))"
   ]
  },
  {
   "cell_type": "code",
   "execution_count": null,
   "metadata": {},
   "outputs": [],
   "source": [
    "print(kappa(finnalPtn,finnalPtn))"
   ]
  },
  {
   "cell_type": "code",
   "execution_count": null,
   "metadata": {},
   "outputs": [],
   "source": [
    "TM_ab"
   ]
  },
  {
   "cell_type": "code",
   "execution_count": null,
   "metadata": {},
   "outputs": [],
   "source": [
    "gainIntenPtn_ab"
   ]
  },
  {
   "cell_type": "code",
   "execution_count": null,
   "metadata": {},
   "outputs": [],
   "source": [
    "GainLossPtn_ab"
   ]
  },
  {
   "cell_type": "code",
   "execution_count": null,
   "metadata": {},
   "outputs": [],
   "source": [
    "finnalPtn"
   ]
  },
  {
   "cell_type": "code",
   "execution_count": null,
   "metadata": {},
   "outputs": [],
   "source": [
    "A = np.ravel(finnalPtn)[~np.isnan(np.ravel(finnalPtn))]"
   ]
  },
  {
   "cell_type": "code",
   "execution_count": null,
   "metadata": {},
   "outputs": [],
   "source": [
    "A"
   ]
  },
  {
   "cell_type": "code",
   "execution_count": null,
   "metadata": {},
   "outputs": [],
   "source": [
    "np.ravel(finnalPtn)"
   ]
  },
  {
   "cell_type": "code",
   "execution_count": null,
   "metadata": {},
   "outputs": [],
   "source": [
    "import rasterio\n",
    "from rasterio.mask import mask\n",
    "from shapely.geometry import box\n",
    "import geopandas as gpd\n",
    "from fiona.crs import from_epsg\n",
    "import pycrs\n",
    "import json\n",
    "\n",
    "\n",
    "\n",
    "def maskRaster(rst,GeoDf):\n",
    "\trasterFile = rasterio.open(rst)\n",
    "\tGeoDf = GeoDf.to_crs(crs=rasterFile.crs.rasterFile)\n",
    "\tcoords = list(json.loads(GeoDf.to_json())['features'][0]['geometry'])\n",
    "\tout_img, out_transform = mask(raster=rasterFile, shapes=coords, crop=True)\n",
    "\tout_meta = rasterFile.meta.copy()\n",
    "\tepsg_code = int(rasterFile.crs.rasterFile['init'][5:])\n",
    "\tout_meta.update({\"driver\": \"GTiff\",\"height\": out_img.shape[1],\"width\": out_img.shape[2],\"transform\": out_transform,\"crs\": pycrs.parser.from_epsg_code(epsg_code).to_proj4()})\n",
    "\treturn out_img\n",
    "\n",
    "if __name__ == '__main__':\n",
    "\tlandmap = r\"C:\\Users\\jyang71\\Desktop\\Datasets\\DLTB\\DLTB1996_WH_Erase_Merge_UGB_Dis.tif\"\n",
    "\tclipFc = r\"C:\\Users\\jyang71\\Desktop\\Datasets\\WH_XZQ.shp\"\n",
    "\tgpdFc = gpd.read_file(clipFc)\n",
    "\t#for i in range(gpdFc.shape[0]):\n",
    "\t\t#clipedImgArr = maskRaster(landmap,gpdFc.iloc[i])\n"
   ]
  },
  {
   "cell_type": "code",
   "execution_count": null,
   "metadata": {},
   "outputs": [],
   "source": [
    "type(gpdFc)"
   ]
  },
  {
   "cell_type": "code",
   "execution_count": null,
   "metadata": {},
   "outputs": [],
   "source": [
    "gpdFc.plot();"
   ]
  },
  {
   "cell_type": "code",
   "execution_count": null,
   "metadata": {},
   "outputs": [],
   "source": [
    "gpdFc.head()"
   ]
  },
  {
   "cell_type": "code",
   "execution_count": null,
   "metadata": {},
   "outputs": [],
   "source": [
    "gpdFc.iloc[1]"
   ]
  },
  {
   "cell_type": "code",
   "execution_count": null,
   "metadata": {},
   "outputs": [],
   "source": [
    "gpdFc.shape[0]"
   ]
  },
  {
   "cell_type": "code",
   "execution_count": null,
   "metadata": {},
   "outputs": [],
   "source": [
    "type(gpdFc.iloc[1])"
   ]
  },
  {
   "cell_type": "code",
   "execution_count": null,
   "metadata": {},
   "outputs": [],
   "source": [
    "gpd.GeoDataFrame(gpdFc.iloc[6]).geometry"
   ]
  },
  {
   "cell_type": "code",
   "execution_count": null,
   "metadata": {},
   "outputs": [],
   "source": [
    "type(gpd.GeoDataFrame(gpdFc.iloc[6]))"
   ]
  },
  {
   "cell_type": "code",
   "execution_count": null,
   "metadata": {},
   "outputs": [],
   "source": [
    "gpdFc.geometry.name"
   ]
  },
  {
   "cell_type": "code",
   "execution_count": null,
   "metadata": {},
   "outputs": [],
   "source": [
    "a9 = gpd.GeoDataFrame(gpdFc.iloc[6])"
   ]
  },
  {
   "cell_type": "code",
   "execution_count": null,
   "metadata": {},
   "outputs": [],
   "source": [
    "a9.set_geometry('geometry')"
   ]
  },
  {
   "cell_type": "code",
   "execution_count": null,
   "metadata": {},
   "outputs": [],
   "source": [
    "a9.T.set_geometry('geometry')"
   ]
  },
  {
   "cell_type": "code",
   "execution_count": null,
   "metadata": {},
   "outputs": [],
   "source": [
    "rasterFile = rasterio.open(landmap)"
   ]
  },
  {
   "cell_type": "code",
   "execution_count": null,
   "metadata": {},
   "outputs": [],
   "source": [
    "type(rasterFile)"
   ]
  },
  {
   "cell_type": "code",
   "execution_count": null,
   "metadata": {},
   "outputs": [],
   "source": [
    "import rasterio\n",
    "from rasterio.mask import mask\n",
    "from shapely.geometry import box\n",
    "import geopandas as gpd\n",
    "from fiona.crs import from_epsg\n",
    "import pycrs\n",
    "\n",
    "\n",
    "def getFeatures(gdf):\n",
    "    \"\"\"Function to parse features from GeoDataFrame in such a manner that rasterio wants them\"\"\"\n",
    "    import json\n",
    "    return [json.loads(gdf.to_json())['features'][0]['geometry']]\n",
    "\n",
    "def maskRaster(rst,GeoDf):\n",
    "\trasterFile = rasterio.open(rst)\n",
    "\tGeoDf = GeoDf.to_crs(crs=rasterFile.crs.data)\n",
    "\tcoords = getFeatures(GeoDf)\n",
    "\tout_img, out_transform = mask(raster=rasterFile, shapes=coords, crop=True)\n",
    "\tout_meta = rasterFile.meta.copy()\n",
    "\tepsg_code = int(rasterFile.crs.data['init'][5:])\n",
    "\t#out_meta.update({\"driver\": \"GTiff\",\"height\": out_img.shape[1],\"width\": out_img.shape[2],\"transform\": out_transform,\"crs\": pycrs.parser.from_epsg_code(epsg_code).to_proj4()})\n",
    "\treturn out_img\n",
    "\n",
    "if __name__ == '__main__':\n",
    "\tlandmap = r\"C:\\Users\\jyang71\\Desktop\\Datasets\\DLTB\\DLTB1996_WH_Erase_Merge_UGB_Dis.tif\"\n",
    "\tclipFc = r\"C:\\Users\\jyang71\\Desktop\\Datasets\\WH_XZQ.shp\"\n",
    "\tgpdFc = gpd.read_file(clipFc)\n",
    "\tlength = gpdFc.shape[0]\n",
    "\t\n",
    "\n",
    "\n",
    "\tclipedImgArr = maskRaster(landmap,gpdFc)\n",
    "\n"
   ]
  },
  {
   "cell_type": "code",
   "execution_count": null,
   "metadata": {},
   "outputs": [],
   "source": [
    "length"
   ]
  },
  {
   "cell_type": "code",
   "execution_count": null,
   "metadata": {},
   "outputs": [],
   "source": [
    "gpdFc.iloc[1].geometry"
   ]
  },
  {
   "cell_type": "code",
   "execution_count": null,
   "metadata": {},
   "outputs": [],
   "source": [
    "clipShape = gpd.GeoDataFrame({'geometry': gpdFc.iloc[1].geometry}, index=[1], crs=from_epsg(4326))"
   ]
  },
  {
   "cell_type": "code",
   "execution_count": null,
   "metadata": {},
   "outputs": [],
   "source": [
    "type(clipShape)"
   ]
  },
  {
   "cell_type": "code",
   "execution_count": null,
   "metadata": {},
   "outputs": [],
   "source": [
    "clipedImgArr = maskRaster(landmap,clipShape)"
   ]
  },
  {
   "cell_type": "code",
   "execution_count": null,
   "metadata": {},
   "outputs": [],
   "source": [
    "clipShape = gpd.GeoDataFrame({'geometry': gpdFc.iloc[i].geometry}, index=[i], crs=rasterFile.crs.data)"
   ]
  },
  {
   "cell_type": "code",
   "execution_count": null,
   "metadata": {},
   "outputs": [],
   "source": [
    "rasterFile = rasterio.open(rst)"
   ]
  },
  {
   "cell_type": "code",
   "execution_count": null,
   "metadata": {},
   "outputs": [],
   "source": [
    "rasterFile = rasterio.open(landmap)"
   ]
  },
  {
   "cell_type": "code",
   "execution_count": null,
   "metadata": {},
   "outputs": [],
   "source": [
    "clipShape = gpd.GeoDataFrame({'geometry': gpdFc.iloc[1].geometry}, index=[1], crs=rasterFile.crs.data)"
   ]
  },
  {
   "cell_type": "code",
   "execution_count": null,
   "metadata": {},
   "outputs": [],
   "source": [
    "clipedImgArr = maskRaster(rasterFile,clipShape)"
   ]
  },
  {
   "cell_type": "code",
   "execution_count": null,
   "metadata": {},
   "outputs": [],
   "source": [
    "def maskRaster(rasterFile,GeoDf):\n",
    "\tGeoDf = GeoDf.to_crs(crs=rasterFile.crs.data)\n",
    "\tcoords = getFeatures(GeoDf)\n",
    "\tout_img, out_transform = mask(raster=rasterFile, shapes=coords, crop=True)\n",
    "\tout_meta = rasterFile.meta.copy()\n",
    "\tepsg_code = int(rasterFile.crs.data['init'][5:])\n",
    "\t#out_meta.update({\"driver\": \"GTiff\",\"height\": out_img.shape[1],\"width\": out_img.shape[2],\"transform\": out_transform,\"crs\": pycrs.parser.from_epsg_code(epsg_code).to_proj4()})\n",
    "\treturn out_img"
   ]
  },
  {
   "cell_type": "code",
   "execution_count": null,
   "metadata": {},
   "outputs": [],
   "source": [
    "import rasterio\n",
    "from rasterio.mask import mask\n",
    "from shapely.geometry import box\n",
    "import geopandas as gpd\n",
    "from fiona.crs import from_epsg\n",
    "import pycrs\n",
    "\n",
    "\n",
    "def getFeatures(gdf):\n",
    "    \"\"\"Function to parse features from GeoDataFrame in such a manner that rasterio wants them\"\"\"\n",
    "    import json\n",
    "    return [json.loads(gdf.to_json())['features'][0]['geometry']]\n",
    "\n",
    "def maskRaster(rasterFile,GeoDf):\n",
    "\tGeoDf = GeoDf.to_crs(crs=rasterFile.crs.data)\n",
    "\tcoords = getFeatures(GeoDf)\n",
    "\tout_img, out_transform = mask(raster=rasterFile, shapes=coords, crop=True,nodata = np.nan)\n",
    "\tout_meta = rasterFile.meta.copy()\n",
    "\tepsg_code = int(rasterFile.crs.data['init'][5:])\n",
    "\t#out_meta.update({\"driver\": \"GTiff\",\"height\": out_img.shape[1],\"width\": out_img.shape[2],\"transform\": out_transform,\"crs\": pycrs.parser.from_epsg_code(epsg_code).to_proj4()})\n",
    "\treturn out_img\n",
    "\n",
    "if __name__ == '__main__':\n",
    "\tlandmap = r\"C:\\Users\\jyang71\\Desktop\\Datasets\\DLTB\\DLTB1996_WH_Erase_Merge_UGB_Dis.tif\"\n",
    "\trasterFile = rasterio.open(landmap)\n",
    "\tclipFc = r\"C:\\Users\\jyang71\\Desktop\\Datasets\\WH_XZQ_Project.shp\"\n",
    "\tgpdFc = gpd.read_file(clipFc)\n",
    "\tlength = gpdFc.shape[0]\n",
    "\tfor i in range(2):\n",
    "\t\tclipShape = gpd.GeoDataFrame({'geometry': gpdFc.iloc[i].geometry}, index=[i], crs=rasterFile.crs.data)\n",
    "\t\t\n",
    "\t\tclipedImgArr = maskRaster(rasterFile,clipShape)\n",
    "\n"
   ]
  },
  {
   "cell_type": "code",
   "execution_count": null,
   "metadata": {},
   "outputs": [],
   "source": [
    "clipedImgArr"
   ]
  },
  {
   "cell_type": "code",
   "execution_count": null,
   "metadata": {},
   "outputs": [],
   "source": [
    "clipShape"
   ]
  },
  {
   "cell_type": "code",
   "execution_count": null,
   "metadata": {},
   "outputs": [],
   "source": [
    "import numpy as np"
   ]
  },
  {
   "cell_type": "code",
   "execution_count": 99,
   "metadata": {},
   "outputs": [],
   "source": [
    "import rasterio\n",
    "from rasterio.mask import mask\n",
    "from shapely.geometry import box\n",
    "import geopandas as gpd\n",
    "from fiona.crs import from_epsg\n",
    "import pycrs\n",
    "\n",
    "\n",
    "def getFeatures(gdf):\n",
    "    \"\"\"Function to parse features from GeoDataFrame in such a manner that rasterio wants them\"\"\"\n",
    "    import json\n",
    "    return [json.loads(gdf.to_json())['features'][0]['geometry']]\n",
    "\n",
    "def maskRaster(rasterFile,GeoDf):\n",
    "\tGeoDf = GeoDf.to_crs(crs=rasterFile.crs.data)\n",
    "\tcoords = getFeatures(GeoDf)\n",
    "\tout_img, out_transform = mask(raster=rasterFile, shapes=coords, crop=True)\n",
    "\tout_meta = rasterFile.meta.copy()\n",
    "\tepsg_code = int(rasterFile.crs.data['init'][5:])\n",
    "\t#out_meta.update({\"driver\": \"GTiff\",\"height\": out_img.shape[1],\"width\": out_img.shape[2],\"transform\": out_transform,\"crs\": pycrs.parser.from_epsg_code(epsg_code).to_proj4()})\n",
    "\treturn out_img\n",
    "\n",
    "if __name__ == '__main__':\n",
    "\tlandmap = r\"C:\\Users\\jyang71\\Desktop\\Datasets\\DLTB\\DLTB1996_WH_Erase_Merge_UGB_Dis.tif\"\n",
    "\trasterFile = rasterio.open(landmap)\n",
    "\tclipFc = r\"C:\\Users\\jyang71\\Desktop\\Datasets\\WH_XZQ_Project.shp\"\n",
    "\tgpdFc = gpd.read_file(clipFc)\n",
    "\tlength = gpdFc.shape[0]\n",
    "\tclipShape = gpd.GeoDataFrame({'geometry': gpdFc.iloc[1].geometry}, index=[1], crs=rasterFile.crs.data)\n",
    "\tclipedImgArr = maskRaster(rasterFile,clipShape)\n",
    "\n"
   ]
  },
  {
   "cell_type": "code",
   "execution_count": 100,
   "metadata": {},
   "outputs": [
    {
     "data": {
      "text/plain": [
       "masked_array(\n",
       "  data=[[[255, 255, 255, ..., 255, 255, 255],\n",
       "         [255, 255, 255, ..., 255, 255, 255],\n",
       "         [255, 255, 255, ..., 255, 255, 255],\n",
       "         ...,\n",
       "         [255, 255, 255, ..., 255, 255, 255],\n",
       "         [255, 255, 255, ..., 255, 255, 255],\n",
       "         [255, 255, 255, ..., 255, 255, 255]]],\n",
       "  mask=[[[False, False, False, ..., False, False, False],\n",
       "         [False, False, False, ..., False, False, False],\n",
       "         [False, False, False, ..., False, False, False],\n",
       "         ...,\n",
       "         [False, False, False, ..., False, False, False],\n",
       "         [False, False, False, ..., False, False, False],\n",
       "         [False, False, False, ..., False, False, False]]],\n",
       "  fill_value=255,\n",
       "  dtype=uint8)"
      ]
     },
     "execution_count": 100,
     "metadata": {},
     "output_type": "execute_result"
    }
   ],
   "source": [
    "clipedImgArr"
   ]
  },
  {
   "cell_type": "code",
   "execution_count": 101,
   "metadata": {},
   "outputs": [
    {
     "data": {
      "text/plain": [
       "(1, 154, 204)"
      ]
     },
     "execution_count": 101,
     "metadata": {},
     "output_type": "execute_result"
    }
   ],
   "source": [
    "clipedImgArr.shape"
   ]
  },
  {
   "cell_type": "code",
   "execution_count": 108,
   "metadata": {},
   "outputs": [
    {
     "data": {
      "text/plain": [
       "<matplotlib.axes._subplots.AxesSubplot at 0x253dc554d30>"
      ]
     },
     "execution_count": 108,
     "metadata": {},
     "output_type": "execute_result"
    },
    {
     "data": {
      "image/png": "[encoded data removed]",
      "text/plain": [
       "<Figure size 432x288 with 1 Axes>"
      ]
     },
     "metadata": {},
     "output_type": "display_data"
    }
   ],
   "source": [
    "clipShape.plot()"
   ]
  },
  {
   "cell_type": "code",
   "execution_count": null,
   "metadata": {},
   "outputs": [],
   "source": [
    "gpdFc.plot()"
   ]
  },
  {
   "cell_type": "code",
   "execution_count": null,
   "metadata": {},
   "outputs": [],
   "source": [
    "rasterFile.plot()"
   ]
  },
  {
   "cell_type": "code",
   "execution_count": 123,
   "metadata": {},
   "outputs": [
    {
     "data": {
      "image/png": "[encoded data removed]",
      "text/plain": [
       "<Figure size 432x288 with 1 Axes>"
      ]
     },
     "metadata": {},
     "output_type": "display_data"
    },
    {
     "data": {
      "text/plain": [
       "<matplotlib.axes._subplots.AxesSubplot at 0x253e9cc8128>"
      ]
     },
     "execution_count": 123,
     "metadata": {},
     "output_type": "execute_result"
    }
   ],
   "source": [
    "show(clipedImgArr.data)"
   ]
  },
  {
   "cell_type": "code",
   "execution_count": 121,
   "metadata": {},
   "outputs": [
    {
     "data": {
      "text/plain": [
       "2"
      ]
     },
     "execution_count": 121,
     "metadata": {},
     "output_type": "execute_result"
    }
   ],
   "source": [
    "clipedImgArr[0,100,50]"
   ]
  },
  {
   "cell_type": "code",
   "execution_count": 122,
   "metadata": {},
   "outputs": [
    {
     "data": {
      "text/plain": [
       "masked_array(data=[1, 2, 3, 4, 5, 6, 7, 255],\n",
       "             mask=[False, False, False, False, False, False, False, False],\n",
       "       fill_value=255,\n",
       "            dtype=uint8)"
      ]
     },
     "execution_count": 122,
     "metadata": {},
     "output_type": "execute_result"
    }
   ],
   "source": [
    "np.unique(clipedImgArr)"
   ]
  },
  {
   "cell_type": "code",
   "execution_count": 127,
   "metadata": {},
   "outputs": [
    {
     "data": {
      "text/plain": [
       "(1, 154, 204)"
      ]
     },
     "execution_count": 127,
     "metadata": {},
     "output_type": "execute_result"
    }
   ],
   "source": [
    "clipedImgArr.data.shape"
   ]
  },
  {
   "cell_type": "code",
   "execution_count": null,
   "metadata": {},
   "outputs": [],
   "source": [
    "rasterFile.crs.data"
   ]
  },
  {
   "cell_type": "code",
   "execution_count": null,
   "metadata": {},
   "outputs": [],
   "source": [
    "gpdFc.crs"
   ]
  },
  {
   "cell_type": "code",
   "execution_count": null,
   "metadata": {},
   "outputs": [],
   "source": [
    "rasterio.mask.raster_geometry_mask(rasterFile,clipShape)"
   ]
  },
  {
   "cell_type": "code",
   "execution_count": null,
   "metadata": {},
   "outputs": [],
   "source": [
    "from rasterio import mask"
   ]
  },
  {
   "cell_type": "code",
   "execution_count": null,
   "metadata": {},
   "outputs": [],
   "source": [
    "raster_geometry_mask()"
   ]
  },
  {
   "cell_type": "code",
   "execution_count": null,
   "metadata": {},
   "outputs": [],
   "source": [
    "from rasterio.mask import raster_geometry"
   ]
  },
  {
   "cell_type": "code",
   "execution_count": 109,
   "metadata": {},
   "outputs": [],
   "source": [
    "from matplotlib.pyplot import imshow"
   ]
  },
  {
   "cell_type": "code",
   "execution_count": 111,
   "metadata": {},
   "outputs": [
    {
     "ename": "TypeError",
     "evalue": "Invalid dimensions for image data",
     "output_type": "error",
     "traceback": [
      "\u001b[1;31m---------------------------------------------------------------------------\u001b[0m",
      "\u001b[1;31mTypeError\u001b[0m                                 Traceback (most recent call last)",
      "\u001b[1;32m<ipython-input-111-594e08551da6>\u001b[0m in \u001b[0;36m<module>\u001b[1;34m()\u001b[0m\n\u001b[1;32m----> 1\u001b[1;33m \u001b[0mimshow\u001b[0m\u001b[1;33m(\u001b[0m\u001b[0mclipedImgArr\u001b[0m\u001b[1;33m)\u001b[0m\u001b[1;33m\u001b[0m\u001b[0m\n\u001b[0m",
      "\u001b[1;32mC:\\Anaconda\\lib\\site-packages\\matplotlib\\pyplot.py\u001b[0m in \u001b[0;36mimshow\u001b[1;34m(X, cmap, norm, aspect, interpolation, alpha, vmin, vmax, origin, extent, shape, filternorm, filterrad, imlim, resample, url, hold, data, **kwargs)\u001b[0m\n\u001b[0;32m   3203\u001b[0m                         \u001b[0mfilternorm\u001b[0m\u001b[1;33m=\u001b[0m\u001b[0mfilternorm\u001b[0m\u001b[1;33m,\u001b[0m \u001b[0mfilterrad\u001b[0m\u001b[1;33m=\u001b[0m\u001b[0mfilterrad\u001b[0m\u001b[1;33m,\u001b[0m\u001b[1;33m\u001b[0m\u001b[0m\n\u001b[0;32m   3204\u001b[0m                         \u001b[0mimlim\u001b[0m\u001b[1;33m=\u001b[0m\u001b[0mimlim\u001b[0m\u001b[1;33m,\u001b[0m \u001b[0mresample\u001b[0m\u001b[1;33m=\u001b[0m\u001b[0mresample\u001b[0m\u001b[1;33m,\u001b[0m \u001b[0murl\u001b[0m\u001b[1;33m=\u001b[0m\u001b[0murl\u001b[0m\u001b[1;33m,\u001b[0m \u001b[0mdata\u001b[0m\u001b[1;33m=\u001b[0m\u001b[0mdata\u001b[0m\u001b[1;33m,\u001b[0m\u001b[1;33m\u001b[0m\u001b[0m\n\u001b[1;32m-> 3205\u001b[1;33m                         **kwargs)\n\u001b[0m\u001b[0;32m   3206\u001b[0m     \u001b[1;32mfinally\u001b[0m\u001b[1;33m:\u001b[0m\u001b[1;33m\u001b[0m\u001b[0m\n\u001b[0;32m   3207\u001b[0m         \u001b[0max\u001b[0m\u001b[1;33m.\u001b[0m\u001b[0m_hold\u001b[0m \u001b[1;33m=\u001b[0m \u001b[0mwashold\u001b[0m\u001b[1;33m\u001b[0m\u001b[0m\n",
      "\u001b[1;32mC:\\Anaconda\\lib\\site-packages\\matplotlib\\__init__.py\u001b[0m in \u001b[0;36minner\u001b[1;34m(ax, *args, **kwargs)\u001b[0m\n\u001b[0;32m   1853\u001b[0m                         \u001b[1;34m\"the Matplotlib list!)\"\u001b[0m \u001b[1;33m%\u001b[0m \u001b[1;33m(\u001b[0m\u001b[0mlabel_namer\u001b[0m\u001b[1;33m,\u001b[0m \u001b[0mfunc\u001b[0m\u001b[1;33m.\u001b[0m\u001b[0m__name__\u001b[0m\u001b[1;33m)\u001b[0m\u001b[1;33m,\u001b[0m\u001b[1;33m\u001b[0m\u001b[0m\n\u001b[0;32m   1854\u001b[0m                         RuntimeWarning, stacklevel=2)\n\u001b[1;32m-> 1855\u001b[1;33m             \u001b[1;32mreturn\u001b[0m \u001b[0mfunc\u001b[0m\u001b[1;33m(\u001b[0m\u001b[0max\u001b[0m\u001b[1;33m,\u001b[0m \u001b[1;33m*\u001b[0m\u001b[0margs\u001b[0m\u001b[1;33m,\u001b[0m \u001b[1;33m**\u001b[0m\u001b[0mkwargs\u001b[0m\u001b[1;33m)\u001b[0m\u001b[1;33m\u001b[0m\u001b[0m\n\u001b[0m\u001b[0;32m   1856\u001b[0m \u001b[1;33m\u001b[0m\u001b[0m\n\u001b[0;32m   1857\u001b[0m         inner.__doc__ = _add_data_doc(inner.__doc__,\n",
      "\u001b[1;32mC:\\Anaconda\\lib\\site-packages\\matplotlib\\axes\\_axes.py\u001b[0m in \u001b[0;36mimshow\u001b[1;34m(self, X, cmap, norm, aspect, interpolation, alpha, vmin, vmax, origin, extent, shape, filternorm, filterrad, imlim, resample, url, **kwargs)\u001b[0m\n\u001b[0;32m   5485\u001b[0m                               resample=resample, **kwargs)\n\u001b[0;32m   5486\u001b[0m \u001b[1;33m\u001b[0m\u001b[0m\n\u001b[1;32m-> 5487\u001b[1;33m         \u001b[0mim\u001b[0m\u001b[1;33m.\u001b[0m\u001b[0mset_data\u001b[0m\u001b[1;33m(\u001b[0m\u001b[0mX\u001b[0m\u001b[1;33m)\u001b[0m\u001b[1;33m\u001b[0m\u001b[0m\n\u001b[0m\u001b[0;32m   5488\u001b[0m         \u001b[0mim\u001b[0m\u001b[1;33m.\u001b[0m\u001b[0mset_alpha\u001b[0m\u001b[1;33m(\u001b[0m\u001b[0malpha\u001b[0m\u001b[1;33m)\u001b[0m\u001b[1;33m\u001b[0m\u001b[0m\n\u001b[0;32m   5489\u001b[0m         \u001b[1;32mif\u001b[0m \u001b[0mim\u001b[0m\u001b[1;33m.\u001b[0m\u001b[0mget_clip_path\u001b[0m\u001b[1;33m(\u001b[0m\u001b[1;33m)\u001b[0m \u001b[1;32mis\u001b[0m \u001b[1;32mNone\u001b[0m\u001b[1;33m:\u001b[0m\u001b[1;33m\u001b[0m\u001b[0m\n",
      "\u001b[1;32mC:\\Anaconda\\lib\\site-packages\\matplotlib\\image.py\u001b[0m in \u001b[0;36mset_data\u001b[1;34m(self, A)\u001b[0m\n\u001b[0;32m    651\u001b[0m         if not (self._A.ndim == 2\n\u001b[0;32m    652\u001b[0m                 or self._A.ndim == 3 and self._A.shape[-1] in [3, 4]):\n\u001b[1;32m--> 653\u001b[1;33m             \u001b[1;32mraise\u001b[0m \u001b[0mTypeError\u001b[0m\u001b[1;33m(\u001b[0m\u001b[1;34m\"Invalid dimensions for image data\"\u001b[0m\u001b[1;33m)\u001b[0m\u001b[1;33m\u001b[0m\u001b[0m\n\u001b[0m\u001b[0;32m    654\u001b[0m \u001b[1;33m\u001b[0m\u001b[0m\n\u001b[0;32m    655\u001b[0m         \u001b[1;32mif\u001b[0m \u001b[0mself\u001b[0m\u001b[1;33m.\u001b[0m\u001b[0m_A\u001b[0m\u001b[1;33m.\u001b[0m\u001b[0mndim\u001b[0m \u001b[1;33m==\u001b[0m \u001b[1;36m3\u001b[0m\u001b[1;33m:\u001b[0m\u001b[1;33m\u001b[0m\u001b[0m\n",
      "\u001b[1;31mTypeError\u001b[0m: Invalid dimensions for image data"
     ]
    },
    {
     "data": {
      "image/png": "[encoded data removed]",
      "text/plain": [
       "<Figure size 432x288 with 1 Axes>"
      ]
     },
     "metadata": {},
     "output_type": "display_data"
    }
   ],
   "source": [
    "imshow(clipedImgArr)"
   ]
  },
  {
   "cell_type": "code",
   "execution_count": 119,
   "metadata": {},
   "outputs": [
    {
     "data": {
      "text/plain": [
       "255"
      ]
     },
     "execution_count": 119,
     "metadata": {},
     "output_type": "execute_result"
    }
   ],
   "source": [
    "clipedImgArr[0,120,130]"
   ]
  },
  {
   "cell_type": "code",
   "execution_count": 141,
   "metadata": {},
   "outputs": [],
   "source": [
    "import rasterio\n",
    "from rasterio.mask import mask\n",
    "from rasterio.plot import show\n",
    "from rasterio.plot import show_hist\n",
    "import geopandas as gpd\n",
    "from fiona.crs import from_epsg\n",
    "import pycrs\n",
    "\n",
    "\n",
    "def getFeatures(gdf):\n",
    "    \"\"\"Function to parse features from GeoDataFrame in such a manner that rasterio wants them\"\"\"\n",
    "    import json\n",
    "    return [json.loads(gdf.to_json())['features'][0]['geometry']]\n",
    "\n",
    "def maskRaster(rasterFile,GeoDf):\n",
    "\tGeoDf = GeoDf.to_crs(crs=rasterFile.crs.data)\n",
    "\tcoords = getFeatures(GeoDf)\n",
    "\tout_img, out_transform = mask(raster=rasterFile, shapes=coords, crop=True)\n",
    "\tout_meta = rasterFile.meta.copy()\n",
    "\tepsg_code = int(rasterFile.crs.data['init'][5:])\n",
    "\t#out_meta.update({\"driver\": \"GTiff\",\"height\": out_img.shape[1],\"width\": out_img.shape[2],\"transform\": out_transform,\"crs\": pycrs.parser.from_epsg_code(epsg_code).to_proj4()})\n",
    "\treturn out_img\n",
    "\n",
    "if __name__ == '__main__':\n",
    "\tlandmap = r\"C:\\Users\\jyang71\\Desktop\\Datasets\\DLTB\\DLTB1996_WH_Erase_Merge_UGB_Dis.tif\"\n",
    "\trasterFile = rasterio.open(landmap)\n",
    "\tclipFc = r\"C:\\Users\\jyang71\\Desktop\\Datasets\\WH_XZQ_Project.shp\"\n",
    "\tgpdFc = gpd.read_file(clipFc)\n",
    "\tlength = gpdFc.shape[0]\n",
    "\tfor i in range(2):\n",
    "\t\tclipShape = gpd.GeoDataFrame({'geometry': gpdFc.iloc[i].geometry}, index=[i], crs=rasterFile.crs.data)\n",
    "\t\t\n",
    "\t\tclipedImgArr = maskRaster(rasterFile,clipShape)\n",
    "\n"
   ]
  },
  {
   "cell_type": "code",
   "execution_count": 131,
   "metadata": {},
   "outputs": [
    {
     "ename": "AttributeError",
     "evalue": "'numpy.ndarray' object has no attribute 'replace'",
     "output_type": "error",
     "traceback": [
      "\u001b[1;31m---------------------------------------------------------------------------\u001b[0m",
      "\u001b[1;31mAttributeError\u001b[0m                            Traceback (most recent call last)",
      "\u001b[1;32m<ipython-input-131-051d88e57138>\u001b[0m in \u001b[0;36m<module>\u001b[1;34m()\u001b[0m\n\u001b[1;32m----> 1\u001b[1;33m \u001b[0mclipedImgArr\u001b[0m\u001b[1;33m.\u001b[0m\u001b[0mdata\u001b[0m\u001b[1;33m.\u001b[0m\u001b[0mreplace\u001b[0m\u001b[1;33m(\u001b[0m\u001b[1;36m255\u001b[0m\u001b[1;33m,\u001b[0m\u001b[1;36m0\u001b[0m\u001b[1;33m)\u001b[0m\u001b[1;33m\u001b[0m\u001b[0m\n\u001b[0m",
      "\u001b[1;31mAttributeError\u001b[0m: 'numpy.ndarray' object has no attribute 'replace'"
     ]
    }
   ],
   "source": [
    "clipedImgArr.data.replace(255,0)"
   ]
  },
  {
   "cell_type": "code",
   "execution_count": 136,
   "metadata": {},
   "outputs": [],
   "source": [
    "a1 = np.place(clipedImgArr.data,clipedImgArr.data==255,[0])"
   ]
  },
  {
   "cell_type": "code",
   "execution_count": 137,
   "metadata": {},
   "outputs": [
    {
     "ename": "AttributeError",
     "evalue": "'NoneType' object has no attribute 'shape'",
     "output_type": "error",
     "traceback": [
      "\u001b[1;31m---------------------------------------------------------------------------\u001b[0m",
      "\u001b[1;31mAttributeError\u001b[0m                            Traceback (most recent call last)",
      "\u001b[1;32m<ipython-input-137-7528093c7bee>\u001b[0m in \u001b[0;36m<module>\u001b[1;34m()\u001b[0m\n\u001b[1;32m----> 1\u001b[1;33m \u001b[0ma1\u001b[0m\u001b[1;33m.\u001b[0m\u001b[0mshape\u001b[0m\u001b[1;33m\u001b[0m\u001b[0m\n\u001b[0m",
      "\u001b[1;31mAttributeError\u001b[0m: 'NoneType' object has no attribute 'shape'"
     ]
    }
   ],
   "source": [
    "a1.shape"
   ]
  },
  {
   "cell_type": "code",
   "execution_count": 140,
   "metadata": {},
   "outputs": [
    {
     "data": {
      "text/plain": [
       "array([0, 1, 2, 3, 4, 5, 6, 7], dtype=uint8)"
      ]
     },
     "execution_count": 140,
     "metadata": {},
     "output_type": "execute_result"
    }
   ],
   "source": [
    "np.unique(clipedImgArr.data)"
   ]
  },
  {
   "cell_type": "code",
   "execution_count": 142,
   "metadata": {},
   "outputs": [
    {
     "data": {
      "text/plain": [
       "masked_array(\n",
       "  data=[[[255, 255, 255, ..., 255, 255, 255],\n",
       "         [255, 255, 255, ..., 255, 255, 255],\n",
       "         [255, 255, 255, ..., 255, 255, 255],\n",
       "         ...,\n",
       "         [255, 255, 255, ..., 255, 255, 255],\n",
       "         [255, 255, 255, ..., 255, 255, 255],\n",
       "         [255, 255, 255, ..., 255, 255, 255]]],\n",
       "  mask=[[[False, False, False, ..., False, False, False],\n",
       "         [False, False, False, ..., False, False, False],\n",
       "         [False, False, False, ..., False, False, False],\n",
       "         ...,\n",
       "         [False, False, False, ..., False, False, False],\n",
       "         [False, False, False, ..., False, False, False],\n",
       "         [False, False, False, ..., False, False, False]]],\n",
       "  fill_value=255,\n",
       "  dtype=uint8)"
      ]
     },
     "execution_count": 142,
     "metadata": {},
     "output_type": "execute_result"
    }
   ],
   "source": [
    "clipedImgArr"
   ]
  },
  {
   "cell_type": "code",
   "execution_count": 143,
   "metadata": {},
   "outputs": [],
   "source": [
    "TM_arr = clipedImgArr.data"
   ]
  },
  {
   "cell_type": "code",
   "execution_count": 144,
   "metadata": {},
   "outputs": [
    {
     "data": {
      "text/plain": [
       "array([[[255, 255, 255, ..., 255, 255, 255],\n",
       "        [255, 255, 255, ..., 255, 255, 255],\n",
       "        [255, 255, 255, ..., 255, 255, 255],\n",
       "        ...,\n",
       "        [255, 255, 255, ..., 255, 255, 255],\n",
       "        [255, 255, 255, ..., 255, 255, 255],\n",
       "        [255, 255, 255, ..., 255, 255, 255]]], dtype=uint8)"
      ]
     },
     "execution_count": 144,
     "metadata": {},
     "output_type": "execute_result"
    }
   ],
   "source": [
    "TM_arr"
   ]
  },
  {
   "cell_type": "code",
   "execution_count": 145,
   "metadata": {},
   "outputs": [],
   "source": [
    "np.place(TM_arr,TM_arr==255,0)"
   ]
  },
  {
   "cell_type": "code",
   "execution_count": 146,
   "metadata": {},
   "outputs": [
    {
     "data": {
      "text/plain": [
       "array([[[0, 0, 0, ..., 0, 0, 0],\n",
       "        [0, 0, 0, ..., 0, 0, 0],\n",
       "        [0, 0, 0, ..., 0, 0, 0],\n",
       "        ...,\n",
       "        [0, 0, 0, ..., 0, 0, 0],\n",
       "        [0, 0, 0, ..., 0, 0, 0],\n",
       "        [0, 0, 0, ..., 0, 0, 0]]], dtype=uint8)"
      ]
     },
     "execution_count": 146,
     "metadata": {},
     "output_type": "execute_result"
    }
   ],
   "source": [
    "TM_arr"
   ]
  },
  {
   "cell_type": "code",
   "execution_count": 147,
   "metadata": {},
   "outputs": [
    {
     "data": {
      "text/plain": [
       "array([0, 1, 2, 3, 4, 5, 6, 7], dtype=uint8)"
      ]
     },
     "execution_count": 147,
     "metadata": {},
     "output_type": "execute_result"
    }
   ],
   "source": [
    "np.unique(TM_arr)"
   ]
  },
  {
   "cell_type": "code",
   "execution_count": 149,
   "metadata": {},
   "outputs": [],
   "source": [
    "gpdFc[\"TransMtx\"] = np.nan"
   ]
  },
  {
   "cell_type": "code",
   "execution_count": 154,
   "metadata": {},
   "outputs": [
    {
     "data": {
      "text/plain": [
       "pandas.core.series.Series"
      ]
     },
     "execution_count": 154,
     "metadata": {},
     "output_type": "execute_result"
    }
   ],
   "source": [
    "type(gpdFc.TransMtx)"
   ]
  },
  {
   "cell_type": "code",
   "execution_count": 152,
   "metadata": {},
   "outputs": [
    {
     "data": {
      "text/plain": [
       "dtype('uint8')"
      ]
     },
     "execution_count": 152,
     "metadata": {},
     "output_type": "execute_result"
    }
   ],
   "source": [
    "TM_arr.dtype"
   ]
  },
  {
   "cell_type": "code",
   "execution_count": 159,
   "metadata": {},
   "outputs": [
    {
     "name": "stderr",
     "output_type": "stream",
     "text": [
      "C:\\Anaconda\\lib\\site-packages\\ipykernel_launcher.py:1: SettingWithCopyWarning: \n",
      "A value is trying to be set on a copy of a slice from a DataFrame\n",
      "\n",
      "See the caveats in the documentation: http://pandas.pydata.org/pandas-docs/stable/indexing.html#indexing-view-versus-copy\n",
      "  \"\"\"Entry point for launching an IPython kernel.\n"
     ]
    }
   ],
   "source": [
    "gpdFc.TransMtx[1] = 5.0"
   ]
  },
  {
   "cell_type": "code",
   "execution_count": 158,
   "metadata": {},
   "outputs": [
    {
     "data": {
      "text/plain": [
       "5.0"
      ]
     },
     "execution_count": 158,
     "metadata": {},
     "output_type": "execute_result"
    }
   ],
   "source": [
    "gpdFc.TransMtx[1]"
   ]
  },
  {
   "cell_type": "code",
   "execution_count": 160,
   "metadata": {},
   "outputs": [],
   "source": [
    "a = np.array([5, 6, 7, 8])"
   ]
  },
  {
   "cell_type": "code",
   "execution_count": 161,
   "metadata": {},
   "outputs": [
    {
     "ename": "NameError",
     "evalue": "name 'pd' is not defined",
     "output_type": "error",
     "traceback": [
      "\u001b[1;31m---------------------------------------------------------------------------\u001b[0m",
      "\u001b[1;31mNameError\u001b[0m                                 Traceback (most recent call last)",
      "\u001b[1;32m<ipython-input-161-b3659539c167>\u001b[0m in \u001b[0;36m<module>\u001b[1;34m()\u001b[0m\n\u001b[1;32m----> 1\u001b[1;33m \u001b[0mdf\u001b[0m \u001b[1;33m=\u001b[0m \u001b[0mpd\u001b[0m\u001b[1;33m.\u001b[0m\u001b[0mDataFrame\u001b[0m\u001b[1;33m(\u001b[0m\u001b[1;33m{\u001b[0m\u001b[1;34m\"a\"\u001b[0m\u001b[1;33m:\u001b[0m \u001b[1;33m[\u001b[0m\u001b[0ma\u001b[0m\u001b[1;33m]\u001b[0m\u001b[1;33m}\u001b[0m\u001b[1;33m)\u001b[0m\u001b[1;33m\u001b[0m\u001b[0m\n\u001b[0m",
      "\u001b[1;31mNameError\u001b[0m: name 'pd' is not defined"
     ]
    }
   ],
   "source": [
    "df = pd.DataFrame({\"a\": [a]})"
   ]
  },
  {
   "cell_type": "code",
   "execution_count": 162,
   "metadata": {},
   "outputs": [],
   "source": [
    "import pandas as pd"
   ]
  },
  {
   "cell_type": "code",
   "execution_count": 171,
   "metadata": {},
   "outputs": [
    {
     "ename": "ValueError",
     "evalue": "If using all scalar values, you must pass an index",
     "output_type": "error",
     "traceback": [
      "\u001b[1;31m---------------------------------------------------------------------------\u001b[0m",
      "\u001b[1;31mValueError\u001b[0m                                Traceback (most recent call last)",
      "\u001b[1;32m<ipython-input-171-cd4285eec7de>\u001b[0m in \u001b[0;36m<module>\u001b[1;34m()\u001b[0m\n\u001b[1;32m----> 1\u001b[1;33m \u001b[0mdf\u001b[0m \u001b[1;33m=\u001b[0m \u001b[0mpd\u001b[0m\u001b[1;33m.\u001b[0m\u001b[0mDataFrame\u001b[0m\u001b[1;33m(\u001b[0m\u001b[1;33m{\u001b[0m\u001b[1;34m\"a\"\u001b[0m\u001b[1;33m:\u001b[0m \u001b[0mTM_arr\u001b[0m\u001b[1;33m}\u001b[0m\u001b[1;33m)\u001b[0m\u001b[1;33m\u001b[0m\u001b[0m\n\u001b[0m",
      "\u001b[1;32mC:\\Anaconda\\lib\\site-packages\\pandas\\core\\frame.py\u001b[0m in \u001b[0;36m__init__\u001b[1;34m(self, data, index, columns, dtype, copy)\u001b[0m\n\u001b[0;32m    346\u001b[0m                                  dtype=dtype, copy=copy)\n\u001b[0;32m    347\u001b[0m         \u001b[1;32melif\u001b[0m \u001b[0misinstance\u001b[0m\u001b[1;33m(\u001b[0m\u001b[0mdata\u001b[0m\u001b[1;33m,\u001b[0m \u001b[0mdict\u001b[0m\u001b[1;33m)\u001b[0m\u001b[1;33m:\u001b[0m\u001b[1;33m\u001b[0m\u001b[0m\n\u001b[1;32m--> 348\u001b[1;33m             \u001b[0mmgr\u001b[0m \u001b[1;33m=\u001b[0m \u001b[0mself\u001b[0m\u001b[1;33m.\u001b[0m\u001b[0m_init_dict\u001b[0m\u001b[1;33m(\u001b[0m\u001b[0mdata\u001b[0m\u001b[1;33m,\u001b[0m \u001b[0mindex\u001b[0m\u001b[1;33m,\u001b[0m \u001b[0mcolumns\u001b[0m\u001b[1;33m,\u001b[0m \u001b[0mdtype\u001b[0m\u001b[1;33m=\u001b[0m\u001b[0mdtype\u001b[0m\u001b[1;33m)\u001b[0m\u001b[1;33m\u001b[0m\u001b[0m\n\u001b[0m\u001b[0;32m    349\u001b[0m         \u001b[1;32melif\u001b[0m \u001b[0misinstance\u001b[0m\u001b[1;33m(\u001b[0m\u001b[0mdata\u001b[0m\u001b[1;33m,\u001b[0m \u001b[0mma\u001b[0m\u001b[1;33m.\u001b[0m\u001b[0mMaskedArray\u001b[0m\u001b[1;33m)\u001b[0m\u001b[1;33m:\u001b[0m\u001b[1;33m\u001b[0m\u001b[0m\n\u001b[0;32m    350\u001b[0m             \u001b[1;32mimport\u001b[0m \u001b[0mnumpy\u001b[0m\u001b[1;33m.\u001b[0m\u001b[0mma\u001b[0m\u001b[1;33m.\u001b[0m\u001b[0mmrecords\u001b[0m \u001b[1;32mas\u001b[0m \u001b[0mmrecords\u001b[0m\u001b[1;33m\u001b[0m\u001b[0m\n",
      "\u001b[1;32mC:\\Anaconda\\lib\\site-packages\\pandas\\core\\frame.py\u001b[0m in \u001b[0;36m_init_dict\u001b[1;34m(self, data, index, columns, dtype)\u001b[0m\n\u001b[0;32m    457\u001b[0m             \u001b[0marrays\u001b[0m \u001b[1;33m=\u001b[0m \u001b[1;33m[\u001b[0m\u001b[0mdata\u001b[0m\u001b[1;33m[\u001b[0m\u001b[0mk\u001b[0m\u001b[1;33m]\u001b[0m \u001b[1;32mfor\u001b[0m \u001b[0mk\u001b[0m \u001b[1;32min\u001b[0m \u001b[0mkeys\u001b[0m\u001b[1;33m]\u001b[0m\u001b[1;33m\u001b[0m\u001b[0m\n\u001b[0;32m    458\u001b[0m \u001b[1;33m\u001b[0m\u001b[0m\n\u001b[1;32m--> 459\u001b[1;33m         \u001b[1;32mreturn\u001b[0m \u001b[0m_arrays_to_mgr\u001b[0m\u001b[1;33m(\u001b[0m\u001b[0marrays\u001b[0m\u001b[1;33m,\u001b[0m \u001b[0mdata_names\u001b[0m\u001b[1;33m,\u001b[0m \u001b[0mindex\u001b[0m\u001b[1;33m,\u001b[0m \u001b[0mcolumns\u001b[0m\u001b[1;33m,\u001b[0m \u001b[0mdtype\u001b[0m\u001b[1;33m=\u001b[0m\u001b[0mdtype\u001b[0m\u001b[1;33m)\u001b[0m\u001b[1;33m\u001b[0m\u001b[0m\n\u001b[0m\u001b[0;32m    460\u001b[0m \u001b[1;33m\u001b[0m\u001b[0m\n\u001b[0;32m    461\u001b[0m     \u001b[1;32mdef\u001b[0m \u001b[0m_init_ndarray\u001b[0m\u001b[1;33m(\u001b[0m\u001b[0mself\u001b[0m\u001b[1;33m,\u001b[0m \u001b[0mvalues\u001b[0m\u001b[1;33m,\u001b[0m \u001b[0mindex\u001b[0m\u001b[1;33m,\u001b[0m \u001b[0mcolumns\u001b[0m\u001b[1;33m,\u001b[0m \u001b[0mdtype\u001b[0m\u001b[1;33m=\u001b[0m\u001b[1;32mNone\u001b[0m\u001b[1;33m,\u001b[0m \u001b[0mcopy\u001b[0m\u001b[1;33m=\u001b[0m\u001b[1;32mFalse\u001b[0m\u001b[1;33m)\u001b[0m\u001b[1;33m:\u001b[0m\u001b[1;33m\u001b[0m\u001b[0m\n",
      "\u001b[1;32mC:\\Anaconda\\lib\\site-packages\\pandas\\core\\frame.py\u001b[0m in \u001b[0;36m_arrays_to_mgr\u001b[1;34m(arrays, arr_names, index, columns, dtype)\u001b[0m\n\u001b[0;32m   7313\u001b[0m     \u001b[1;31m# figure out the index, if necessary\u001b[0m\u001b[1;33m\u001b[0m\u001b[1;33m\u001b[0m\u001b[0m\n\u001b[0;32m   7314\u001b[0m     \u001b[1;32mif\u001b[0m \u001b[0mindex\u001b[0m \u001b[1;32mis\u001b[0m \u001b[1;32mNone\u001b[0m\u001b[1;33m:\u001b[0m\u001b[1;33m\u001b[0m\u001b[0m\n\u001b[1;32m-> 7315\u001b[1;33m         \u001b[0mindex\u001b[0m \u001b[1;33m=\u001b[0m \u001b[0mextract_index\u001b[0m\u001b[1;33m(\u001b[0m\u001b[0marrays\u001b[0m\u001b[1;33m)\u001b[0m\u001b[1;33m\u001b[0m\u001b[0m\n\u001b[0m\u001b[0;32m   7316\u001b[0m \u001b[1;33m\u001b[0m\u001b[0m\n\u001b[0;32m   7317\u001b[0m     \u001b[1;31m# don't force copy because getting jammed in an ndarray anyway\u001b[0m\u001b[1;33m\u001b[0m\u001b[1;33m\u001b[0m\u001b[0m\n",
      "\u001b[1;32mC:\\Anaconda\\lib\\site-packages\\pandas\\core\\frame.py\u001b[0m in \u001b[0;36mextract_index\u001b[1;34m(data)\u001b[0m\n\u001b[0;32m   7350\u001b[0m \u001b[1;33m\u001b[0m\u001b[0m\n\u001b[0;32m   7351\u001b[0m         \u001b[1;32mif\u001b[0m \u001b[1;32mnot\u001b[0m \u001b[0mindexes\u001b[0m \u001b[1;32mand\u001b[0m \u001b[1;32mnot\u001b[0m \u001b[0mraw_lengths\u001b[0m\u001b[1;33m:\u001b[0m\u001b[1;33m\u001b[0m\u001b[0m\n\u001b[1;32m-> 7352\u001b[1;33m             raise ValueError('If using all scalar values, you must pass'\n\u001b[0m\u001b[0;32m   7353\u001b[0m                              ' an index')\n\u001b[0;32m   7354\u001b[0m \u001b[1;33m\u001b[0m\u001b[0m\n",
      "\u001b[1;31mValueError\u001b[0m: If using all scalar values, you must pass an index"
     ]
    }
   ],
   "source": [
    "df = pd.DataFrame({\"a\": TM_arr})"
   ]
  },
  {
   "cell_type": "code",
   "execution_count": 170,
   "metadata": {},
   "outputs": [
    {
     "data": {
      "text/plain": [
       "(1,)"
      ]
     },
     "execution_count": 170,
     "metadata": {},
     "output_type": "execute_result"
    }
   ],
   "source": [
    "df.a.shape"
   ]
  },
  {
   "cell_type": "code",
   "execution_count": 168,
   "metadata": {},
   "outputs": [
    {
     "data": {
      "text/plain": [
       "(1, 1)"
      ]
     },
     "execution_count": 168,
     "metadata": {},
     "output_type": "execute_result"
    }
   ],
   "source": [
    "df.shape"
   ]
  },
  {
   "cell_type": "code",
   "execution_count": 172,
   "metadata": {},
   "outputs": [],
   "source": [
    "one_d_array = np.array([1,2,3])"
   ]
  },
  {
   "cell_type": "code",
   "execution_count": 173,
   "metadata": {},
   "outputs": [],
   "source": [
    "two_d_array = one_d_array*one_d_array[:,np.newaxis]"
   ]
  },
  {
   "cell_type": "code",
   "execution_count": 174,
   "metadata": {},
   "outputs": [
    {
     "data": {
      "text/plain": [
       "array([[1, 2, 3],\n",
       "       [2, 4, 6],\n",
       "       [3, 6, 9]])"
      ]
     },
     "execution_count": 174,
     "metadata": {},
     "output_type": "execute_result"
    }
   ],
   "source": [
    "two_d_array"
   ]
  },
  {
   "cell_type": "code",
   "execution_count": 182,
   "metadata": {},
   "outputs": [],
   "source": [
    "df = pd.DataFrame([\n",
    "    [TM_arr],\n",
    "    [TM_arr] ])"
   ]
  },
  {
   "cell_type": "code",
   "execution_count": 178,
   "metadata": {},
   "outputs": [
    {
     "data": {
      "text/html": [
       "<div>\n",
       "<style scoped>\n",
       "    .dataframe tbody tr th:only-of-type {\n",
       "        vertical-align: middle;\n",
       "    }\n",
       "\n",
       "    .dataframe tbody tr th {\n",
       "        vertical-align: top;\n",
       "    }\n",
       "\n",
       "    .dataframe thead th {\n",
       "        text-align: right;\n",
       "    }\n",
       "</style>\n",
       "<table border=\"1\" class=\"dataframe\">\n",
       "  <thead>\n",
       "    <tr style=\"text-align: right;\">\n",
       "      <th></th>\n",
       "      <th>0</th>\n",
       "    </tr>\n",
       "  </thead>\n",
       "  <tbody>\n",
       "    <tr>\n",
       "      <th>0</th>\n",
       "      <td>[[[0, 0, 0, 0, 0, 0, 0, 0, 0, 0, 0, 0, 0, 0, 0...</td>\n",
       "    </tr>\n",
       "    <tr>\n",
       "      <th>1</th>\n",
       "      <td>[[[0, 0, 0, 0, 0, 0, 0, 0, 0, 0, 0, 0, 0, 0, 0...</td>\n",
       "    </tr>\n",
       "  </tbody>\n",
       "</table>\n",
       "</div>"
      ],
      "text/plain": [
       "                                                   0\n",
       "0  [[[0, 0, 0, 0, 0, 0, 0, 0, 0, 0, 0, 0, 0, 0, 0...\n",
       "1  [[[0, 0, 0, 0, 0, 0, 0, 0, 0, 0, 0, 0, 0, 0, 0..."
      ]
     },
     "execution_count": 178,
     "metadata": {},
     "output_type": "execute_result"
    }
   ],
   "source": [
    "df"
   ]
  },
  {
   "cell_type": "code",
   "execution_count": 186,
   "metadata": {},
   "outputs": [
    {
     "data": {
      "text/plain": [
       "0    [[[0, 0, 0, 0, 0, 0, 0, 0, 0, 0, 0, 0, 0, 0, 0...\n",
       "Name: 1, dtype: object"
      ]
     },
     "execution_count": 186,
     "metadata": {},
     "output_type": "execute_result"
    }
   ],
   "source": [
    "df.iloc[1]"
   ]
  },
  {
   "cell_type": "code",
   "execution_count": 192,
   "metadata": {},
   "outputs": [
    {
     "data": {
      "text/plain": [
       "array([0, 1, 2, 3, 4, 5, 6, 7], dtype=uint8)"
      ]
     },
     "execution_count": 192,
     "metadata": {},
     "output_type": "execute_result"
    }
   ],
   "source": [
    "np.unique(df.iloc[0][0])"
   ]
  },
  {
   "cell_type": "code",
   "execution_count": 189,
   "metadata": {},
   "outputs": [
    {
     "data": {
      "text/plain": [
       "[array([[0, 0, 0, ..., 0, 0, 0],\n",
       "        [0, 0, 0, ..., 0, 0, 0],\n",
       "        [0, 0, 0, ..., 0, 0, 0],\n",
       "        ...,\n",
       "        [0, 0, 0, ..., 0, 0, 0],\n",
       "        [0, 0, 0, ..., 0, 0, 0],\n",
       "        [0, 0, 0, ..., 0, 0, 0]], dtype=uint8)]"
      ]
     },
     "execution_count": 189,
     "metadata": {},
     "output_type": "execute_result"
    }
   ],
   "source": [
    "list(TM_arr)"
   ]
  },
  {
   "cell_type": "code",
   "execution_count": 190,
   "metadata": {},
   "outputs": [
    {
     "data": {
      "text/plain": [
       "array([[[0, 0, 0, ..., 0, 0, 0],\n",
       "        [0, 0, 0, ..., 0, 0, 0],\n",
       "        [0, 0, 0, ..., 0, 0, 0],\n",
       "        ...,\n",
       "        [0, 0, 0, ..., 0, 0, 0],\n",
       "        [0, 0, 0, ..., 0, 0, 0],\n",
       "        [0, 0, 0, ..., 0, 0, 0]]], dtype=uint8)"
      ]
     },
     "execution_count": 190,
     "metadata": {},
     "output_type": "execute_result"
    }
   ],
   "source": [
    "TM_arr"
   ]
  },
  {
   "cell_type": "code",
   "execution_count": 193,
   "metadata": {},
   "outputs": [],
   "source": [
    "import rasterio\n",
    "from rasterio.mask import mask\n",
    "from rasterio.plot import show\n",
    "from rasterio.plot import show_hist\n",
    "import geopandas as gpd\n",
    "from fiona.crs import from_epsg\n",
    "import pycrs\n",
    "import numpy as np \n",
    "\n",
    "\n",
    "# the input shapefile and raster shoul project to the same crs\n",
    "\n",
    "def getFeatures(gdf):\n",
    "    \"\"\"Function to parse features from GeoDataFrame in such a manner that rasterio wants them\"\"\"\n",
    "    import json\n",
    "    return [json.loads(gdf.to_json())['features'][0]['geometry']]\n",
    "\n",
    "def maskRaster(rasterFile,GeoDf):\n",
    "\tGeoDf = GeoDf.to_crs(crs=rasterFile.crs.data)\n",
    "\tcoords = getFeatures(GeoDf)\n",
    "\tout_img, out_transform = mask(raster=rasterFile, shapes=coords, crop=True)\n",
    "\tout_meta = rasterFile.meta.copy()\n",
    "\tepsg_code = int(rasterFile.crs.data['init'][5:])\n",
    "\t#out_meta.update({\"driver\": \"GTiff\",\"height\": out_img.shape[1],\"width\": out_img.shape[2],\"transform\": out_transform,\"crs\": pycrs.parser.from_epsg_code(epsg_code).to_proj4()})\n",
    "\treturn out_img\n",
    "\n",
    "if __name__ == '__main__':\n",
    "\tlandmap = r\"C:\\Users\\jyang71\\Desktop\\Datasets\\DLTB\\DLTB1996_WH_Erase_Merge_UGB_Dis.tif\"\n",
    "\trasterFile = rasterio.open(landmap)\n",
    "\tclipFc = r\"C:\\Users\\jyang71\\Desktop\\Datasets\\WH_XZQ_Project_Eliminate.shp\"\n",
    "\tgpdFc = gpd.read_file(clipFc)\n",
    "\tlength = gpdFc.shape[0]\n",
    "\tclipArrLst = []\n",
    "\tfor i in range(length):\n",
    "\t\tclipShape = gpd.GeoDataFrame({'geometry': gpdFc.iloc[i].geometry}, index=[i], crs=rasterFile.crs.data)\n",
    "\t\tclipedImgArr = maskRaster(rasterFile,clipShape)\n",
    "\t\tTM_arr = clipedImgArr.data\n",
    "\t\tnp.place(TM_arr,TM_arr==255,0)\n",
    "\t\t#print(np.unique(TM_arr))\n",
    "\t\tclipArrLst.append(list(TM_arr))\n",
    "\t\t\n",
    "\n",
    "\n"
   ]
  },
  {
   "cell_type": "code",
   "execution_count": 194,
   "metadata": {},
   "outputs": [
    {
     "data": {
      "text/plain": [
       "[[array([[0, 0, 0, ..., 0, 0, 0],\n",
       "         [0, 0, 0, ..., 0, 0, 0],\n",
       "         [0, 0, 0, ..., 0, 0, 0],\n",
       "         ...,\n",
       "         [0, 0, 0, ..., 0, 0, 0],\n",
       "         [0, 0, 0, ..., 0, 0, 0],\n",
       "         [0, 0, 0, ..., 0, 0, 0]], dtype=uint8)],\n",
       " [array([[0, 0, 0, ..., 0, 0, 0],\n",
       "         [0, 0, 0, ..., 0, 0, 0],\n",
       "         [0, 0, 0, ..., 0, 0, 0],\n",
       "         ...,\n",
       "         [0, 0, 0, ..., 0, 0, 0],\n",
       "         [0, 0, 0, ..., 0, 0, 0],\n",
       "         [0, 0, 0, ..., 0, 0, 0]], dtype=uint8)],\n",
       " [array([[0, 0, 0, ..., 0, 0, 0],\n",
       "         [0, 0, 0, ..., 0, 0, 0],\n",
       "         [0, 0, 0, ..., 0, 0, 0],\n",
       "         ...,\n",
       "         [0, 0, 0, ..., 0, 0, 0],\n",
       "         [0, 0, 0, ..., 0, 0, 0],\n",
       "         [0, 0, 0, ..., 0, 0, 0]], dtype=uint8)],\n",
       " [array([[0, 0, 0, ..., 0, 0, 0],\n",
       "         [0, 0, 0, ..., 0, 0, 0],\n",
       "         [0, 0, 0, ..., 0, 0, 0],\n",
       "         ...,\n",
       "         [0, 0, 0, ..., 0, 0, 0],\n",
       "         [0, 0, 0, ..., 0, 0, 0],\n",
       "         [0, 0, 0, ..., 0, 0, 0]], dtype=uint8)],\n",
       " [array([[0, 0, 0, ..., 0, 0, 0],\n",
       "         [0, 0, 0, ..., 0, 0, 0],\n",
       "         [0, 0, 0, ..., 0, 0, 0],\n",
       "         ...,\n",
       "         [0, 0, 0, ..., 0, 0, 0],\n",
       "         [0, 0, 0, ..., 0, 0, 0],\n",
       "         [0, 0, 0, ..., 0, 0, 0]], dtype=uint8)],\n",
       " [array([[0, 0, 0, ..., 0, 0, 0],\n",
       "         [0, 0, 0, ..., 0, 0, 0],\n",
       "         [0, 0, 0, ..., 0, 0, 0],\n",
       "         ...,\n",
       "         [0, 0, 0, ..., 0, 0, 0],\n",
       "         [0, 0, 0, ..., 0, 0, 0],\n",
       "         [0, 0, 0, ..., 0, 0, 0]], dtype=uint8)],\n",
       " [array([[0, 0, 0, ..., 0, 0, 0],\n",
       "         [0, 0, 0, ..., 0, 0, 0],\n",
       "         [0, 0, 0, ..., 0, 0, 0],\n",
       "         ...,\n",
       "         [0, 0, 0, ..., 0, 0, 0],\n",
       "         [0, 0, 0, ..., 0, 0, 0],\n",
       "         [0, 0, 0, ..., 0, 0, 0]], dtype=uint8)],\n",
       " [array([[0, 0, 0, ..., 0, 0, 0],\n",
       "         [0, 0, 0, ..., 0, 0, 0],\n",
       "         [0, 0, 0, ..., 0, 0, 0],\n",
       "         ...,\n",
       "         [0, 0, 0, ..., 0, 0, 0],\n",
       "         [0, 0, 0, ..., 0, 0, 0],\n",
       "         [0, 0, 0, ..., 0, 0, 0]], dtype=uint8)],\n",
       " [array([[0, 0, 0, ..., 0, 0, 0],\n",
       "         [0, 0, 0, ..., 0, 0, 0],\n",
       "         [0, 0, 0, ..., 0, 0, 0],\n",
       "         ...,\n",
       "         [0, 0, 0, ..., 0, 0, 0],\n",
       "         [0, 0, 0, ..., 0, 0, 0],\n",
       "         [0, 0, 0, ..., 0, 0, 0]], dtype=uint8)],\n",
       " [array([[0, 0, 0, ..., 0, 0, 0],\n",
       "         [0, 0, 0, ..., 0, 0, 0],\n",
       "         [0, 0, 0, ..., 0, 0, 0],\n",
       "         ...,\n",
       "         [0, 0, 0, ..., 0, 0, 0],\n",
       "         [0, 0, 0, ..., 0, 0, 0],\n",
       "         [0, 0, 0, ..., 0, 0, 0]], dtype=uint8)],\n",
       " [array([[0, 0, 0, ..., 0, 0, 0],\n",
       "         [0, 0, 0, ..., 0, 0, 0],\n",
       "         [0, 0, 0, ..., 0, 0, 0],\n",
       "         ...,\n",
       "         [0, 0, 0, ..., 0, 0, 0],\n",
       "         [0, 0, 0, ..., 0, 0, 0],\n",
       "         [0, 0, 0, ..., 0, 0, 0]], dtype=uint8)],\n",
       " [array([[0, 0, 0, ..., 0, 0, 0],\n",
       "         [0, 0, 0, ..., 2, 0, 0],\n",
       "         [0, 0, 0, ..., 2, 2, 2],\n",
       "         ...,\n",
       "         [0, 0, 0, ..., 0, 0, 0],\n",
       "         [0, 0, 0, ..., 0, 0, 0],\n",
       "         [0, 0, 0, ..., 0, 0, 0]], dtype=uint8)],\n",
       " [array([[0, 0, 0, ..., 0, 0, 0],\n",
       "         [0, 0, 0, ..., 0, 0, 0],\n",
       "         [0, 0, 0, ..., 0, 0, 0],\n",
       "         ...,\n",
       "         [0, 0, 0, ..., 0, 0, 0],\n",
       "         [0, 0, 0, ..., 0, 0, 0],\n",
       "         [0, 0, 0, ..., 0, 0, 0]], dtype=uint8)],\n",
       " [array([[0, 0, 0, ..., 0, 0, 0],\n",
       "         [0, 0, 0, ..., 0, 0, 0],\n",
       "         [0, 0, 0, ..., 0, 0, 0],\n",
       "         ...,\n",
       "         [0, 0, 0, ..., 0, 0, 0],\n",
       "         [0, 0, 0, ..., 0, 0, 0],\n",
       "         [0, 0, 0, ..., 0, 0, 0]], dtype=uint8)],\n",
       " [array([[0, 0, 0, ..., 0, 0, 0],\n",
       "         [0, 0, 0, ..., 0, 0, 0],\n",
       "         [0, 0, 0, ..., 0, 0, 0],\n",
       "         ...,\n",
       "         [0, 0, 0, ..., 0, 0, 0],\n",
       "         [0, 0, 0, ..., 0, 0, 0],\n",
       "         [0, 0, 0, ..., 0, 0, 0]], dtype=uint8)],\n",
       " [array([[0, 0, 0, ..., 0, 0, 0],\n",
       "         [0, 0, 0, ..., 0, 0, 0],\n",
       "         [0, 0, 0, ..., 0, 0, 0],\n",
       "         ...,\n",
       "         [0, 0, 0, ..., 0, 0, 0],\n",
       "         [0, 0, 0, ..., 0, 0, 0],\n",
       "         [0, 0, 0, ..., 0, 0, 0]], dtype=uint8)],\n",
       " [array([[0, 0, 0, ..., 0, 0, 0],\n",
       "         [0, 0, 0, ..., 0, 0, 0],\n",
       "         [0, 0, 0, ..., 0, 0, 0],\n",
       "         ...,\n",
       "         [0, 0, 0, ..., 0, 0, 0],\n",
       "         [0, 0, 0, ..., 0, 0, 0],\n",
       "         [0, 0, 0, ..., 0, 0, 0]], dtype=uint8)],\n",
       " [array([[0, 0, 0, ..., 0, 0, 0],\n",
       "         [0, 0, 0, ..., 0, 0, 0],\n",
       "         [0, 0, 0, ..., 0, 0, 0],\n",
       "         ...,\n",
       "         [0, 0, 0, ..., 0, 0, 0],\n",
       "         [0, 0, 0, ..., 0, 0, 0],\n",
       "         [0, 0, 0, ..., 0, 0, 0]], dtype=uint8)],\n",
       " [array([[0, 0, 0, ..., 0, 0, 0],\n",
       "         [0, 0, 0, ..., 0, 0, 0],\n",
       "         [0, 0, 0, ..., 0, 0, 0],\n",
       "         ...,\n",
       "         [0, 0, 0, ..., 0, 0, 0],\n",
       "         [0, 0, 0, ..., 0, 0, 0],\n",
       "         [0, 0, 0, ..., 0, 0, 0]], dtype=uint8)],\n",
       " [array([[0, 0, 0, ..., 0, 0, 0],\n",
       "         [0, 0, 0, ..., 0, 0, 0],\n",
       "         [0, 0, 0, ..., 0, 0, 0],\n",
       "         ...,\n",
       "         [0, 0, 6, ..., 0, 0, 0],\n",
       "         [0, 6, 0, ..., 0, 0, 0],\n",
       "         [0, 0, 0, ..., 0, 0, 0]], dtype=uint8)],\n",
       " [array([[0, 0, 0, ..., 0, 0, 0],\n",
       "         [0, 0, 0, ..., 0, 0, 0],\n",
       "         [0, 0, 0, ..., 0, 0, 0],\n",
       "         ...,\n",
       "         [0, 0, 0, ..., 0, 0, 0],\n",
       "         [0, 0, 0, ..., 0, 0, 0],\n",
       "         [0, 0, 0, ..., 0, 0, 0]], dtype=uint8)],\n",
       " [array([[0, 0, 0, ..., 0, 0, 0],\n",
       "         [0, 0, 0, ..., 0, 0, 0],\n",
       "         [0, 0, 0, ..., 0, 0, 0],\n",
       "         ...,\n",
       "         [0, 0, 0, ..., 0, 0, 0],\n",
       "         [0, 0, 0, ..., 0, 0, 0],\n",
       "         [0, 0, 0, ..., 0, 0, 0]], dtype=uint8)],\n",
       " [array([[0, 0, 0, ..., 0, 0, 0],\n",
       "         [0, 0, 6, ..., 0, 0, 0],\n",
       "         [0, 6, 2, ..., 0, 0, 0],\n",
       "         ...,\n",
       "         [0, 0, 0, ..., 0, 0, 0],\n",
       "         [0, 0, 0, ..., 0, 0, 0],\n",
       "         [0, 0, 0, ..., 0, 0, 0]], dtype=uint8)],\n",
       " [array([[0, 0, 0, ..., 0, 0, 0],\n",
       "         [0, 0, 0, ..., 0, 0, 0],\n",
       "         [0, 0, 0, ..., 0, 0, 0],\n",
       "         ...,\n",
       "         [0, 0, 0, ..., 0, 0, 0],\n",
       "         [0, 0, 0, ..., 0, 0, 0],\n",
       "         [0, 0, 0, ..., 0, 0, 0]], dtype=uint8)],\n",
       " [array([[0, 0, 0, ..., 0, 0, 0],\n",
       "         [0, 0, 0, ..., 0, 0, 0],\n",
       "         [0, 0, 0, ..., 0, 0, 0],\n",
       "         ...,\n",
       "         [0, 0, 0, ..., 0, 0, 0],\n",
       "         [0, 0, 0, ..., 0, 0, 0],\n",
       "         [0, 0, 0, ..., 0, 0, 0]], dtype=uint8)],\n",
       " [array([[0, 0, 0, ..., 0, 0, 0],\n",
       "         [0, 0, 0, ..., 0, 0, 0],\n",
       "         [0, 0, 0, ..., 0, 0, 0],\n",
       "         ...,\n",
       "         [0, 0, 0, ..., 0, 0, 0],\n",
       "         [0, 0, 0, ..., 0, 0, 0],\n",
       "         [0, 0, 0, ..., 0, 0, 0]], dtype=uint8)],\n",
       " [array([[0, 0, 0, ..., 0, 0, 0],\n",
       "         [0, 0, 0, ..., 0, 0, 0],\n",
       "         [0, 0, 0, ..., 0, 0, 0],\n",
       "         ...,\n",
       "         [0, 0, 0, ..., 0, 0, 0],\n",
       "         [0, 0, 0, ..., 0, 0, 0],\n",
       "         [0, 0, 0, ..., 0, 0, 0]], dtype=uint8)],\n",
       " [array([[0, 0, 0, ..., 0, 0, 0],\n",
       "         [0, 0, 0, ..., 0, 0, 0],\n",
       "         [0, 0, 0, ..., 0, 0, 0],\n",
       "         ...,\n",
       "         [0, 0, 0, ..., 0, 0, 0],\n",
       "         [0, 0, 0, ..., 0, 0, 0],\n",
       "         [0, 0, 0, ..., 0, 0, 0]], dtype=uint8)],\n",
       " [array([[0, 0, 0, ..., 0, 0, 0],\n",
       "         [0, 0, 0, ..., 0, 0, 0],\n",
       "         [0, 0, 0, ..., 0, 0, 0],\n",
       "         ...,\n",
       "         [0, 0, 0, ..., 0, 0, 0],\n",
       "         [0, 0, 0, ..., 0, 0, 0],\n",
       "         [0, 0, 0, ..., 0, 0, 0]], dtype=uint8)],\n",
       " [array([[0, 0, 0, ..., 0, 0, 0],\n",
       "         [0, 0, 0, ..., 0, 0, 0],\n",
       "         [0, 0, 0, ..., 0, 0, 0],\n",
       "         ...,\n",
       "         [0, 0, 0, ..., 2, 2, 0],\n",
       "         [0, 0, 0, ..., 0, 0, 0],\n",
       "         [0, 0, 0, ..., 0, 0, 0]], dtype=uint8)],\n",
       " [array([[0, 0, 0, ..., 0, 0, 0],\n",
       "         [0, 0, 0, ..., 0, 0, 0],\n",
       "         [0, 0, 0, ..., 0, 0, 0],\n",
       "         ...,\n",
       "         [0, 0, 0, ..., 0, 0, 0],\n",
       "         [0, 0, 0, ..., 0, 0, 0],\n",
       "         [0, 0, 0, ..., 0, 0, 0]], dtype=uint8)],\n",
       " [array([[0, 0, 0, ..., 0, 0, 0],\n",
       "         [0, 0, 0, ..., 0, 0, 0],\n",
       "         [0, 0, 0, ..., 0, 0, 0],\n",
       "         ...,\n",
       "         [0, 0, 0, ..., 0, 0, 0],\n",
       "         [0, 0, 0, ..., 0, 0, 0],\n",
       "         [0, 0, 0, ..., 0, 0, 0]], dtype=uint8)],\n",
       " [array([[0, 0, 0, ..., 0, 0, 0],\n",
       "         [0, 0, 0, ..., 0, 0, 0],\n",
       "         [0, 0, 0, ..., 0, 0, 0],\n",
       "         ...,\n",
       "         [0, 0, 0, ..., 0, 0, 0],\n",
       "         [0, 0, 0, ..., 0, 0, 0],\n",
       "         [0, 0, 0, ..., 0, 0, 0]], dtype=uint8)],\n",
       " [array([[0, 0, 0, ..., 0, 0, 0],\n",
       "         [0, 0, 0, ..., 0, 0, 0],\n",
       "         [0, 0, 0, ..., 0, 0, 0],\n",
       "         ...,\n",
       "         [0, 0, 0, ..., 0, 0, 0],\n",
       "         [0, 0, 0, ..., 0, 0, 0],\n",
       "         [0, 0, 0, ..., 0, 0, 0]], dtype=uint8)],\n",
       " [array([[0, 0, 0, ..., 0, 0, 0],\n",
       "         [0, 0, 0, ..., 0, 0, 0],\n",
       "         [0, 0, 0, ..., 0, 0, 0],\n",
       "         ...,\n",
       "         [0, 0, 0, ..., 0, 0, 0],\n",
       "         [0, 0, 0, ..., 0, 0, 0],\n",
       "         [0, 0, 0, ..., 0, 0, 0]], dtype=uint8)],\n",
       " [array([[0, 0, 0, ..., 0, 0, 0],\n",
       "         [0, 0, 0, ..., 0, 0, 0],\n",
       "         [0, 0, 0, ..., 0, 0, 0],\n",
       "         ...,\n",
       "         [0, 0, 2, ..., 0, 0, 0],\n",
       "         [0, 0, 2, ..., 0, 0, 0],\n",
       "         [0, 0, 2, ..., 0, 0, 0]], dtype=uint8)],\n",
       " [array([[0, 0, 0, ..., 0, 0, 0],\n",
       "         [0, 0, 0, ..., 0, 0, 0],\n",
       "         [0, 0, 0, ..., 0, 0, 0],\n",
       "         ...,\n",
       "         [0, 0, 0, ..., 0, 0, 0],\n",
       "         [0, 0, 0, ..., 0, 0, 0],\n",
       "         [0, 0, 0, ..., 0, 0, 0]], dtype=uint8)],\n",
       " [array([[0, 0, 0, ..., 0, 0, 0],\n",
       "         [0, 0, 0, ..., 0, 0, 0],\n",
       "         [0, 0, 0, ..., 0, 0, 0],\n",
       "         ...,\n",
       "         [0, 0, 0, ..., 0, 0, 0],\n",
       "         [0, 0, 0, ..., 0, 0, 0],\n",
       "         [0, 0, 0, ..., 0, 0, 0]], dtype=uint8)],\n",
       " [array([[0, 0, 0, ..., 0, 0, 0],\n",
       "         [0, 0, 0, ..., 0, 0, 0],\n",
       "         [0, 0, 0, ..., 0, 0, 0],\n",
       "         ...,\n",
       "         [0, 0, 0, ..., 0, 0, 0],\n",
       "         [0, 0, 0, ..., 0, 0, 0],\n",
       "         [0, 0, 0, ..., 0, 0, 0]], dtype=uint8)],\n",
       " [array([[0, 0, 0, ..., 0, 0, 0],\n",
       "         [0, 0, 0, ..., 0, 0, 0],\n",
       "         [0, 0, 0, ..., 0, 0, 0],\n",
       "         ...,\n",
       "         [0, 0, 0, ..., 0, 0, 0],\n",
       "         [0, 0, 0, ..., 0, 0, 0],\n",
       "         [0, 0, 0, ..., 0, 0, 0]], dtype=uint8)],\n",
       " [array([[0, 0, 0, ..., 0, 0, 0],\n",
       "         [0, 0, 0, ..., 0, 0, 0],\n",
       "         [0, 0, 0, ..., 0, 0, 0],\n",
       "         ...,\n",
       "         [0, 0, 0, ..., 0, 0, 0],\n",
       "         [0, 0, 0, ..., 0, 0, 0],\n",
       "         [0, 0, 0, ..., 0, 0, 0]], dtype=uint8)],\n",
       " [array([[0, 0, 0, ..., 0, 0, 0],\n",
       "         [0, 0, 0, ..., 0, 0, 0],\n",
       "         [0, 0, 0, ..., 0, 0, 0],\n",
       "         ...,\n",
       "         [0, 0, 0, ..., 0, 0, 0],\n",
       "         [0, 0, 0, ..., 0, 0, 0],\n",
       "         [0, 0, 0, ..., 0, 0, 0]], dtype=uint8)],\n",
       " [array([[0, 0, 0, ..., 0, 0, 0],\n",
       "         [0, 0, 0, ..., 0, 0, 0],\n",
       "         [0, 0, 0, ..., 0, 0, 0],\n",
       "         ...,\n",
       "         [0, 0, 0, ..., 0, 0, 0],\n",
       "         [0, 0, 0, ..., 0, 0, 0],\n",
       "         [0, 0, 0, ..., 0, 0, 0]], dtype=uint8)],\n",
       " [array([[0, 0, 0, ..., 0, 0, 0],\n",
       "         [0, 0, 0, ..., 0, 0, 0],\n",
       "         [0, 0, 0, ..., 0, 0, 0],\n",
       "         ...,\n",
       "         [0, 0, 0, ..., 0, 0, 0],\n",
       "         [0, 0, 0, ..., 0, 0, 0],\n",
       "         [0, 0, 0, ..., 0, 0, 0]], dtype=uint8)],\n",
       " [array([[0, 0, 0, ..., 0, 0, 0],\n",
       "         [0, 0, 0, ..., 0, 0, 0],\n",
       "         [0, 0, 0, ..., 0, 0, 0],\n",
       "         ...,\n",
       "         [0, 0, 0, ..., 0, 0, 0],\n",
       "         [0, 0, 0, ..., 0, 0, 0],\n",
       "         [0, 0, 0, ..., 0, 0, 0]], dtype=uint8)],\n",
       " [array([[0, 0, 0, ..., 0, 0, 0],\n",
       "         [0, 0, 0, ..., 0, 0, 0],\n",
       "         [0, 0, 0, ..., 0, 0, 0],\n",
       "         ...,\n",
       "         [0, 0, 0, ..., 0, 0, 0],\n",
       "         [0, 0, 0, ..., 0, 0, 0],\n",
       "         [0, 0, 0, ..., 0, 0, 0]], dtype=uint8)],\n",
       " [array([[0, 0, 0, ..., 0, 0, 0],\n",
       "         [0, 0, 0, ..., 0, 0, 0],\n",
       "         [0, 0, 0, ..., 0, 0, 0],\n",
       "         ...,\n",
       "         [0, 0, 0, ..., 0, 0, 0],\n",
       "         [0, 0, 0, ..., 0, 0, 0],\n",
       "         [0, 0, 0, ..., 0, 0, 0]], dtype=uint8)],\n",
       " [array([[0, 0, 0, ..., 0, 0, 0],\n",
       "         [0, 0, 0, ..., 0, 0, 0],\n",
       "         [0, 0, 0, ..., 0, 0, 0],\n",
       "         ...,\n",
       "         [0, 0, 0, ..., 0, 0, 0],\n",
       "         [0, 0, 0, ..., 0, 0, 0],\n",
       "         [0, 0, 0, ..., 0, 0, 0]], dtype=uint8)],\n",
       " [array([[0, 0, 0, ..., 0, 0, 0],\n",
       "         [0, 0, 0, ..., 0, 0, 0],\n",
       "         [0, 0, 0, ..., 0, 0, 0],\n",
       "         ...,\n",
       "         [0, 0, 0, ..., 0, 0, 0],\n",
       "         [0, 0, 0, ..., 0, 0, 0],\n",
       "         [0, 0, 0, ..., 0, 0, 0]], dtype=uint8)],\n",
       " [array([[0, 0, 0, ..., 0, 0, 0],\n",
       "         [0, 0, 0, ..., 0, 0, 0],\n",
       "         [0, 0, 0, ..., 0, 0, 0],\n",
       "         ...,\n",
       "         [0, 0, 0, ..., 0, 0, 0],\n",
       "         [0, 0, 0, ..., 0, 0, 0],\n",
       "         [0, 0, 0, ..., 0, 0, 0]], dtype=uint8)],\n",
       " [array([[0, 0, 0, ..., 0, 0, 0],\n",
       "         [0, 0, 0, ..., 0, 0, 0],\n",
       "         [0, 0, 0, ..., 0, 0, 0],\n",
       "         ...,\n",
       "         [0, 0, 0, ..., 0, 0, 0],\n",
       "         [0, 0, 0, ..., 0, 0, 0],\n",
       "         [0, 0, 0, ..., 0, 0, 0]], dtype=uint8)],\n",
       " [array([[0, 0, 0, ..., 0, 0, 0],\n",
       "         [0, 0, 0, ..., 0, 0, 0],\n",
       "         [0, 0, 0, ..., 0, 0, 0],\n",
       "         ...,\n",
       "         [0, 0, 0, ..., 0, 0, 0],\n",
       "         [0, 0, 0, ..., 0, 0, 0],\n",
       "         [0, 0, 0, ..., 0, 0, 0]], dtype=uint8)],\n",
       " [array([[0, 0, 0, ..., 0, 0, 0],\n",
       "         [0, 0, 0, ..., 0, 0, 0],\n",
       "         [0, 0, 0, ..., 0, 0, 0],\n",
       "         ...,\n",
       "         [0, 0, 0, ..., 0, 0, 0],\n",
       "         [0, 0, 0, ..., 0, 0, 0],\n",
       "         [0, 0, 0, ..., 0, 0, 0]], dtype=uint8)],\n",
       " [array([[0, 0, 0, ..., 0, 0, 0],\n",
       "         [0, 0, 0, ..., 0, 0, 0],\n",
       "         [0, 0, 0, ..., 0, 0, 0],\n",
       "         ...,\n",
       "         [0, 0, 0, ..., 0, 0, 0],\n",
       "         [0, 0, 0, ..., 0, 0, 0],\n",
       "         [0, 0, 0, ..., 0, 0, 0]], dtype=uint8)],\n",
       " [array([[0, 0, 0, ..., 0, 0, 0],\n",
       "         [0, 0, 0, ..., 0, 0, 0],\n",
       "         [0, 0, 0, ..., 0, 0, 0],\n",
       "         ...,\n",
       "         [0, 0, 0, ..., 0, 0, 0],\n",
       "         [0, 0, 0, ..., 0, 0, 0],\n",
       "         [0, 0, 0, ..., 0, 0, 0]], dtype=uint8)],\n",
       " [array([[0, 0, 0, ..., 0, 0, 0],\n",
       "         [0, 0, 0, ..., 0, 0, 0],\n",
       "         [0, 0, 0, ..., 0, 0, 0],\n",
       "         ...,\n",
       "         [0, 0, 0, ..., 6, 6, 6],\n",
       "         [0, 0, 0, ..., 7, 6, 0],\n",
       "         [0, 0, 0, ..., 0, 6, 0]], dtype=uint8)],\n",
       " [array([[0, 0, 0, ..., 0, 0, 0],\n",
       "         [0, 0, 0, ..., 0, 0, 0],\n",
       "         [0, 0, 0, ..., 0, 0, 0],\n",
       "         ...,\n",
       "         [0, 0, 0, ..., 0, 0, 0],\n",
       "         [0, 0, 0, ..., 0, 0, 0],\n",
       "         [0, 0, 0, ..., 0, 0, 0]], dtype=uint8)],\n",
       " [array([[0, 0, 0, ..., 0, 0, 0],\n",
       "         [0, 0, 0, ..., 0, 0, 0],\n",
       "         [0, 0, 0, ..., 0, 0, 0],\n",
       "         ...,\n",
       "         [0, 0, 0, ..., 0, 0, 0],\n",
       "         [0, 0, 0, ..., 0, 0, 0],\n",
       "         [0, 0, 0, ..., 0, 0, 0]], dtype=uint8)],\n",
       " [array([[0, 0, 0, ..., 0, 0, 0],\n",
       "         [0, 0, 0, ..., 0, 0, 0],\n",
       "         [0, 0, 0, ..., 0, 0, 0],\n",
       "         ...,\n",
       "         [0, 0, 0, ..., 0, 0, 0],\n",
       "         [0, 0, 0, ..., 0, 0, 0],\n",
       "         [0, 0, 0, ..., 0, 0, 0]], dtype=uint8)],\n",
       " [array([[0, 0, 0, ..., 0, 0, 0],\n",
       "         [0, 0, 0, ..., 0, 0, 0],\n",
       "         [0, 0, 0, ..., 0, 0, 0],\n",
       "         ...,\n",
       "         [0, 0, 0, ..., 0, 0, 0],\n",
       "         [0, 0, 0, ..., 0, 0, 0],\n",
       "         [0, 0, 0, ..., 0, 0, 0]], dtype=uint8)],\n",
       " [array([[0, 0, 0, ..., 0, 0, 0],\n",
       "         [0, 0, 0, ..., 0, 0, 0],\n",
       "         [0, 0, 0, ..., 0, 0, 0],\n",
       "         ...,\n",
       "         [0, 0, 0, ..., 0, 0, 0],\n",
       "         [0, 0, 0, ..., 0, 0, 0],\n",
       "         [0, 0, 0, ..., 0, 0, 0]], dtype=uint8)],\n",
       " [array([[0, 0, 0, ..., 0, 0, 0],\n",
       "         [0, 0, 0, ..., 0, 0, 0],\n",
       "         [0, 0, 0, ..., 0, 0, 0],\n",
       "         ...,\n",
       "         [0, 0, 0, ..., 0, 0, 0],\n",
       "         [0, 0, 0, ..., 0, 0, 0],\n",
       "         [0, 0, 0, ..., 0, 0, 0]], dtype=uint8)],\n",
       " [array([[0, 0, 0, ..., 0, 0, 0],\n",
       "         [0, 0, 0, ..., 0, 0, 0],\n",
       "         [0, 0, 0, ..., 0, 0, 0],\n",
       "         ...,\n",
       "         [0, 0, 0, ..., 0, 0, 0],\n",
       "         [0, 0, 0, ..., 0, 0, 0],\n",
       "         [0, 0, 0, ..., 0, 0, 0]], dtype=uint8)],\n",
       " [array([[0, 0, 0, ..., 0, 0, 0],\n",
       "         [0, 0, 0, ..., 0, 0, 0],\n",
       "         [0, 0, 0, ..., 0, 0, 0],\n",
       "         ...,\n",
       "         [0, 0, 0, ..., 0, 0, 0],\n",
       "         [0, 0, 0, ..., 0, 0, 0],\n",
       "         [0, 0, 0, ..., 0, 0, 0]], dtype=uint8)],\n",
       " [array([[0, 0, 0, ..., 0, 0, 0],\n",
       "         [0, 0, 0, ..., 6, 0, 6],\n",
       "         [0, 0, 0, ..., 6, 0, 6],\n",
       "         ...,\n",
       "         [0, 0, 0, ..., 0, 0, 0],\n",
       "         [0, 0, 0, ..., 0, 0, 0],\n",
       "         [0, 0, 0, ..., 0, 0, 0]], dtype=uint8)],\n",
       " [array([[0, 0, 0, ..., 0, 0, 0],\n",
       "         [0, 0, 0, ..., 0, 0, 0],\n",
       "         [0, 0, 0, ..., 0, 0, 0],\n",
       "         ...,\n",
       "         [0, 0, 0, ..., 0, 0, 0],\n",
       "         [0, 0, 0, ..., 0, 0, 0],\n",
       "         [0, 0, 0, ..., 0, 0, 0]], dtype=uint8)],\n",
       " [array([[0, 0, 0, ..., 0, 0, 0],\n",
       "         [0, 0, 0, ..., 0, 0, 0],\n",
       "         [0, 0, 0, ..., 0, 0, 0],\n",
       "         ...,\n",
       "         [0, 0, 0, ..., 0, 0, 0],\n",
       "         [0, 0, 0, ..., 0, 0, 0],\n",
       "         [0, 0, 0, ..., 0, 0, 0]], dtype=uint8)],\n",
       " [array([[0, 0, 0, ..., 0, 0, 0],\n",
       "         [0, 0, 0, ..., 0, 0, 0],\n",
       "         [0, 0, 0, ..., 0, 0, 0],\n",
       "         ...,\n",
       "         [0, 0, 0, ..., 0, 0, 0],\n",
       "         [0, 0, 0, ..., 0, 0, 0],\n",
       "         [0, 0, 0, ..., 0, 0, 0]], dtype=uint8)],\n",
       " [array([[0, 0, 0, ..., 0, 0, 0],\n",
       "         [0, 0, 0, ..., 0, 0, 0],\n",
       "         [0, 0, 0, ..., 0, 0, 0],\n",
       "         ...,\n",
       "         [0, 0, 0, ..., 0, 0, 0],\n",
       "         [0, 0, 0, ..., 0, 0, 0],\n",
       "         [0, 0, 0, ..., 0, 0, 0]], dtype=uint8)],\n",
       " [array([[0, 0, 0, ..., 0, 0, 0],\n",
       "         [0, 0, 0, ..., 0, 0, 0],\n",
       "         [0, 0, 0, ..., 0, 0, 0],\n",
       "         ...,\n",
       "         [0, 0, 0, ..., 0, 0, 0],\n",
       "         [0, 0, 0, ..., 0, 0, 0],\n",
       "         [0, 0, 0, ..., 0, 0, 0]], dtype=uint8)],\n",
       " [array([[0, 0, 0, ..., 0, 0, 0],\n",
       "         [0, 0, 0, ..., 0, 0, 0],\n",
       "         [0, 0, 0, ..., 0, 0, 0],\n",
       "         ...,\n",
       "         [0, 0, 0, ..., 0, 0, 0],\n",
       "         [0, 0, 0, ..., 0, 0, 0],\n",
       "         [0, 0, 0, ..., 0, 0, 0]], dtype=uint8)],\n",
       " [array([[0, 0, 0, ..., 0, 0, 0],\n",
       "         [0, 0, 0, ..., 0, 0, 0],\n",
       "         [0, 0, 0, ..., 0, 0, 0],\n",
       "         ...,\n",
       "         [0, 0, 0, ..., 0, 0, 0],\n",
       "         [0, 0, 0, ..., 0, 0, 0],\n",
       "         [0, 0, 0, ..., 0, 0, 0]], dtype=uint8)],\n",
       " [array([[0, 0, 0, ..., 0, 0, 0],\n",
       "         [0, 0, 0, ..., 0, 0, 0],\n",
       "         [0, 0, 0, ..., 0, 0, 0],\n",
       "         ...,\n",
       "         [0, 0, 0, ..., 0, 0, 0],\n",
       "         [0, 0, 0, ..., 0, 0, 0],\n",
       "         [0, 0, 0, ..., 0, 0, 0]], dtype=uint8)],\n",
       " [array([[0, 0, 0, ..., 0, 0, 0],\n",
       "         [0, 0, 0, ..., 0, 0, 0],\n",
       "         [0, 0, 0, ..., 0, 0, 0],\n",
       "         ...,\n",
       "         [0, 0, 0, ..., 0, 0, 0],\n",
       "         [0, 0, 0, ..., 0, 0, 0],\n",
       "         [0, 0, 0, ..., 0, 0, 0]], dtype=uint8)],\n",
       " [array([[0, 0, 0, ..., 0, 0, 0],\n",
       "         [0, 0, 0, ..., 0, 0, 0],\n",
       "         [0, 0, 0, ..., 0, 0, 0],\n",
       "         ...,\n",
       "         [0, 0, 0, ..., 0, 0, 0],\n",
       "         [0, 0, 0, ..., 0, 0, 0],\n",
       "         [0, 0, 0, ..., 0, 0, 0]], dtype=uint8)],\n",
       " [array([[0, 0, 0, ..., 0, 0, 0],\n",
       "         [0, 0, 0, ..., 0, 0, 0],\n",
       "         [0, 0, 0, ..., 0, 0, 0],\n",
       "         ...,\n",
       "         [0, 0, 0, ..., 0, 0, 0],\n",
       "         [0, 0, 0, ..., 0, 0, 0],\n",
       "         [0, 0, 0, ..., 0, 0, 0]], dtype=uint8)],\n",
       " [array([[0, 0, 0, ..., 0, 0, 0],\n",
       "         [0, 0, 0, ..., 0, 0, 0],\n",
       "         [0, 0, 0, ..., 0, 0, 0],\n",
       "         ...,\n",
       "         [0, 0, 0, ..., 0, 0, 0],\n",
       "         [0, 0, 0, ..., 0, 0, 0],\n",
       "         [0, 0, 0, ..., 0, 0, 0]], dtype=uint8)],\n",
       " [array([[0, 0, 0, ..., 0, 0, 0],\n",
       "         [0, 0, 0, ..., 0, 0, 0],\n",
       "         [0, 0, 0, ..., 0, 0, 0],\n",
       "         ...,\n",
       "         [0, 0, 0, ..., 0, 0, 0],\n",
       "         [0, 0, 0, ..., 0, 0, 0],\n",
       "         [0, 0, 0, ..., 0, 0, 0]], dtype=uint8)],\n",
       " [array([[0, 0, 0, ..., 0, 0, 0],\n",
       "         [0, 0, 0, ..., 0, 0, 0],\n",
       "         [0, 0, 0, ..., 0, 0, 0],\n",
       "         ...,\n",
       "         [0, 0, 0, ..., 0, 0, 0],\n",
       "         [0, 0, 0, ..., 0, 0, 0],\n",
       "         [0, 0, 0, ..., 0, 0, 0]], dtype=uint8)],\n",
       " [array([[0, 0, 0, ..., 0, 0, 0],\n",
       "         [0, 0, 0, ..., 0, 0, 0],\n",
       "         [0, 0, 0, ..., 0, 0, 0],\n",
       "         ...,\n",
       "         [0, 0, 0, ..., 0, 0, 0],\n",
       "         [0, 0, 0, ..., 0, 0, 0],\n",
       "         [0, 0, 0, ..., 0, 0, 0]], dtype=uint8)],\n",
       " [array([[0, 0, 0, ..., 0, 0, 0],\n",
       "         [0, 0, 0, ..., 0, 0, 0],\n",
       "         [0, 0, 0, ..., 0, 0, 0],\n",
       "         ...,\n",
       "         [0, 0, 0, ..., 0, 0, 0],\n",
       "         [0, 0, 0, ..., 0, 0, 0],\n",
       "         [0, 0, 0, ..., 0, 0, 0]], dtype=uint8)],\n",
       " [array([[0, 0, 0, ..., 0, 0, 0],\n",
       "         [0, 0, 0, ..., 0, 0, 0],\n",
       "         [0, 0, 0, ..., 0, 0, 0],\n",
       "         ...,\n",
       "         [0, 0, 0, ..., 0, 0, 0],\n",
       "         [0, 0, 0, ..., 0, 0, 0],\n",
       "         [0, 0, 0, ..., 0, 0, 0]], dtype=uint8)],\n",
       " [array([[0, 0, 0, ..., 0, 0, 0],\n",
       "         [0, 0, 0, ..., 0, 0, 0],\n",
       "         [0, 0, 0, ..., 0, 0, 0],\n",
       "         ...,\n",
       "         [0, 0, 0, ..., 0, 0, 0],\n",
       "         [0, 0, 0, ..., 0, 0, 0],\n",
       "         [0, 0, 0, ..., 0, 0, 0]], dtype=uint8)],\n",
       " [array([[0, 0, 0, ..., 0, 0, 0],\n",
       "         [0, 0, 0, ..., 0, 0, 0],\n",
       "         [0, 0, 0, ..., 0, 0, 0],\n",
       "         ...,\n",
       "         [0, 0, 0, ..., 0, 0, 0],\n",
       "         [0, 0, 0, ..., 0, 0, 0],\n",
       "         [0, 0, 0, ..., 0, 0, 0]], dtype=uint8)],\n",
       " [array([[0, 0, 0, ..., 0, 0, 0],\n",
       "         [0, 0, 0, ..., 0, 0, 0],\n",
       "         [0, 0, 0, ..., 0, 0, 0],\n",
       "         ...,\n",
       "         [0, 0, 0, ..., 0, 0, 0],\n",
       "         [0, 0, 0, ..., 0, 0, 0],\n",
       "         [0, 0, 0, ..., 0, 0, 0]], dtype=uint8)],\n",
       " [array([[0, 0, 0, ..., 0, 0, 0],\n",
       "         [0, 0, 0, ..., 0, 0, 0],\n",
       "         [0, 0, 0, ..., 0, 0, 0],\n",
       "         ...,\n",
       "         [0, 0, 0, ..., 0, 0, 0],\n",
       "         [0, 0, 0, ..., 0, 0, 0],\n",
       "         [0, 0, 0, ..., 0, 0, 0]], dtype=uint8)],\n",
       " [array([[0, 0, 0, ..., 0, 0, 0],\n",
       "         [0, 0, 0, ..., 0, 0, 0],\n",
       "         [0, 0, 0, ..., 0, 0, 0],\n",
       "         ...,\n",
       "         [0, 0, 6, ..., 0, 0, 0],\n",
       "         [0, 0, 0, ..., 0, 0, 0],\n",
       "         [0, 0, 0, ..., 0, 0, 0]], dtype=uint8)],\n",
       " [array([[0, 0, 0, ..., 0, 0, 0],\n",
       "         [0, 0, 0, ..., 0, 0, 0],\n",
       "         [0, 0, 0, ..., 0, 0, 0],\n",
       "         ...,\n",
       "         [0, 0, 0, ..., 0, 0, 0],\n",
       "         [0, 0, 0, ..., 0, 0, 0],\n",
       "         [0, 0, 0, ..., 0, 0, 0]], dtype=uint8)],\n",
       " [array([[0, 0, 0, ..., 0, 0, 0],\n",
       "         [0, 0, 0, ..., 0, 0, 0],\n",
       "         [0, 0, 0, ..., 0, 0, 0],\n",
       "         ...,\n",
       "         [0, 0, 0, ..., 0, 0, 0],\n",
       "         [0, 0, 0, ..., 0, 0, 0],\n",
       "         [0, 0, 0, ..., 0, 0, 0]], dtype=uint8)],\n",
       " [array([[0, 0, 0, ..., 0, 0, 0],\n",
       "         [0, 0, 0, ..., 0, 0, 0],\n",
       "         [0, 0, 0, ..., 0, 0, 0],\n",
       "         ...,\n",
       "         [0, 0, 0, ..., 0, 0, 0],\n",
       "         [0, 0, 0, ..., 0, 0, 0],\n",
       "         [0, 0, 0, ..., 0, 0, 0]], dtype=uint8)],\n",
       " [array([[0, 0, 0, ..., 0, 0, 0],\n",
       "         [0, 0, 0, ..., 0, 0, 0],\n",
       "         [0, 0, 0, ..., 0, 0, 0],\n",
       "         ...,\n",
       "         [0, 0, 0, ..., 0, 0, 0],\n",
       "         [0, 0, 0, ..., 0, 0, 0],\n",
       "         [0, 0, 0, ..., 0, 0, 0]], dtype=uint8)],\n",
       " [array([[0, 0, 0, ..., 0, 0, 0],\n",
       "         [0, 0, 0, ..., 0, 0, 0],\n",
       "         [0, 0, 0, ..., 0, 0, 0],\n",
       "         ...,\n",
       "         [0, 0, 0, ..., 0, 0, 0],\n",
       "         [0, 0, 0, ..., 0, 0, 0],\n",
       "         [0, 0, 0, ..., 0, 0, 0]], dtype=uint8)],\n",
       " [array([[0, 0, 0, ..., 0, 0, 0],\n",
       "         [0, 0, 0, ..., 0, 0, 0],\n",
       "         [0, 0, 0, ..., 0, 0, 0],\n",
       "         ...,\n",
       "         [0, 0, 0, ..., 0, 0, 0],\n",
       "         [0, 0, 0, ..., 0, 0, 0],\n",
       "         [0, 0, 0, ..., 0, 0, 0]], dtype=uint8)],\n",
       " [array([[0, 0, 0, ..., 0, 0, 0],\n",
       "         [0, 0, 0, ..., 0, 0, 0],\n",
       "         [0, 0, 0, ..., 0, 0, 0],\n",
       "         ...,\n",
       "         [0, 0, 0, ..., 0, 0, 0],\n",
       "         [0, 0, 0, ..., 0, 0, 0],\n",
       "         [0, 0, 0, ..., 0, 0, 0]], dtype=uint8)],\n",
       " [array([[0, 0, 0, ..., 0, 0, 0],\n",
       "         [0, 0, 0, ..., 0, 0, 0],\n",
       "         [0, 0, 0, ..., 0, 0, 0],\n",
       "         ...,\n",
       "         [0, 0, 0, ..., 0, 0, 0],\n",
       "         [0, 0, 0, ..., 0, 0, 0],\n",
       "         [0, 0, 0, ..., 0, 0, 0]], dtype=uint8)],\n",
       " [array([[0, 0, 0, ..., 0, 0, 0],\n",
       "         [0, 0, 0, ..., 0, 0, 0],\n",
       "         [0, 0, 0, ..., 0, 0, 0],\n",
       "         ...,\n",
       "         [0, 0, 0, ..., 0, 0, 0],\n",
       "         [0, 0, 0, ..., 0, 0, 0],\n",
       "         [0, 0, 0, ..., 0, 0, 0]], dtype=uint8)],\n",
       " [array([[0, 0, 0, ..., 0, 0, 0],\n",
       "         [0, 0, 0, ..., 0, 0, 0],\n",
       "         [0, 0, 0, ..., 0, 0, 0],\n",
       "         ...,\n",
       "         [0, 0, 0, ..., 0, 0, 0],\n",
       "         [0, 0, 0, ..., 0, 0, 0],\n",
       "         [0, 0, 0, ..., 0, 0, 0]], dtype=uint8)],\n",
       " [array([[0, 0, 0, ..., 0, 0, 0],\n",
       "         [0, 0, 0, ..., 0, 0, 0],\n",
       "         [0, 0, 0, ..., 0, 0, 0],\n",
       "         ...,\n",
       "         [0, 0, 0, ..., 0, 0, 0],\n",
       "         [0, 0, 0, ..., 0, 0, 0],\n",
       "         [0, 0, 0, ..., 0, 0, 0]], dtype=uint8)],\n",
       " [array([[0, 0, 0, ..., 0, 0, 0],\n",
       "         [0, 0, 0, ..., 0, 0, 0],\n",
       "         [0, 0, 0, ..., 0, 0, 0],\n",
       "         ...,\n",
       "         [0, 0, 0, ..., 0, 0, 0],\n",
       "         [0, 0, 0, ..., 0, 0, 0],\n",
       "         [0, 0, 0, ..., 0, 0, 0]], dtype=uint8)],\n",
       " [array([[0, 0, 0, ..., 0, 0, 0],\n",
       "         [0, 0, 0, ..., 0, 0, 0],\n",
       "         [0, 0, 0, ..., 0, 0, 0],\n",
       "         ...,\n",
       "         [0, 0, 0, ..., 0, 0, 0],\n",
       "         [0, 0, 0, ..., 0, 0, 0],\n",
       "         [0, 0, 0, ..., 0, 0, 0]], dtype=uint8)],\n",
       " [array([[0, 0, 0, ..., 0, 0, 0],\n",
       "         [0, 0, 0, ..., 0, 0, 0],\n",
       "         [0, 0, 0, ..., 0, 0, 0],\n",
       "         ...,\n",
       "         [0, 0, 0, ..., 0, 0, 0],\n",
       "         [0, 0, 0, ..., 0, 0, 0],\n",
       "         [0, 0, 0, ..., 0, 0, 0]], dtype=uint8)],\n",
       " [array([[0, 0, 0, ..., 0, 0, 0],\n",
       "         [0, 0, 0, ..., 0, 0, 0],\n",
       "         [0, 0, 0, ..., 0, 0, 0],\n",
       "         ...,\n",
       "         [0, 0, 0, ..., 0, 0, 0],\n",
       "         [0, 0, 0, ..., 0, 0, 0],\n",
       "         [0, 0, 0, ..., 0, 0, 0]], dtype=uint8)],\n",
       " [array([[0, 0, 0, ..., 0, 0, 0],\n",
       "         [0, 0, 0, ..., 0, 0, 0],\n",
       "         [0, 0, 0, ..., 0, 0, 0],\n",
       "         ...,\n",
       "         [0, 0, 0, ..., 0, 0, 0],\n",
       "         [0, 0, 0, ..., 0, 0, 0],\n",
       "         [0, 0, 0, ..., 0, 0, 0]], dtype=uint8)],\n",
       " [array([[0, 0, 0, ..., 0, 0, 0],\n",
       "         [0, 0, 0, ..., 0, 0, 0],\n",
       "         [0, 0, 0, ..., 0, 0, 0],\n",
       "         ...,\n",
       "         [0, 0, 0, ..., 0, 0, 0],\n",
       "         [0, 0, 0, ..., 0, 0, 0],\n",
       "         [0, 0, 0, ..., 0, 0, 0]], dtype=uint8)],\n",
       " [array([[0, 0, 0, ..., 0, 0, 0],\n",
       "         [0, 0, 0, ..., 0, 0, 0],\n",
       "         [0, 0, 0, ..., 0, 0, 0],\n",
       "         ...,\n",
       "         [0, 0, 0, ..., 0, 0, 0],\n",
       "         [0, 0, 0, ..., 0, 0, 0],\n",
       "         [0, 0, 0, ..., 0, 0, 0]], dtype=uint8)],\n",
       " [array([[0, 0, 0, ..., 0, 0, 0],\n",
       "         [0, 0, 0, ..., 0, 0, 0],\n",
       "         [0, 0, 0, ..., 0, 0, 0],\n",
       "         ...,\n",
       "         [0, 0, 0, ..., 0, 0, 0],\n",
       "         [0, 0, 0, ..., 0, 0, 0],\n",
       "         [0, 0, 0, ..., 0, 0, 0]], dtype=uint8)],\n",
       " [array([[0, 0, 0, ..., 0, 0, 0],\n",
       "         [0, 0, 0, ..., 0, 0, 0],\n",
       "         [0, 0, 0, ..., 0, 0, 0],\n",
       "         ...,\n",
       "         [0, 0, 0, ..., 0, 0, 0],\n",
       "         [0, 0, 0, ..., 0, 0, 0],\n",
       "         [0, 0, 0, ..., 0, 0, 0]], dtype=uint8)],\n",
       " [array([[0, 0, 0, ..., 0, 0, 0],\n",
       "         [0, 0, 0, ..., 0, 0, 0],\n",
       "         [0, 0, 0, ..., 0, 0, 0],\n",
       "         ...,\n",
       "         [0, 0, 0, ..., 0, 0, 0],\n",
       "         [0, 0, 0, ..., 0, 0, 0],\n",
       "         [0, 0, 0, ..., 0, 0, 0]], dtype=uint8)],\n",
       " [array([[0, 0, 0, ..., 0, 0, 0],\n",
       "         [0, 0, 0, ..., 0, 0, 0],\n",
       "         [0, 0, 0, ..., 0, 0, 0],\n",
       "         ...,\n",
       "         [0, 0, 0, ..., 0, 0, 0],\n",
       "         [0, 0, 0, ..., 0, 0, 0],\n",
       "         [0, 0, 0, ..., 0, 0, 0]], dtype=uint8)],\n",
       " [array([[0, 0, 0, ..., 0, 0, 0],\n",
       "         [0, 0, 0, ..., 0, 0, 0],\n",
       "         [0, 0, 0, ..., 0, 0, 0],\n",
       "         ...,\n",
       "         [0, 0, 0, ..., 0, 0, 0],\n",
       "         [0, 0, 0, ..., 0, 0, 0],\n",
       "         [0, 0, 0, ..., 0, 0, 0]], dtype=uint8)]]"
      ]
     },
     "execution_count": 194,
     "metadata": {},
     "output_type": "execute_result"
    }
   ],
   "source": [
    "clipArrLst"
   ]
  },
  {
   "cell_type": "code",
   "execution_count": 195,
   "metadata": {},
   "outputs": [],
   "source": [
    "gpdFc['TM'] = clipArrLst"
   ]
  },
  {
   "cell_type": "code",
   "execution_count": 196,
   "metadata": {},
   "outputs": [
    {
     "data": {
      "text/html": [
       "<div>\n",
       "<style scoped>\n",
       "    .dataframe tbody tr th:only-of-type {\n",
       "        vertical-align: middle;\n",
       "    }\n",
       "\n",
       "    .dataframe tbody tr th {\n",
       "        vertical-align: top;\n",
       "    }\n",
       "\n",
       "    .dataframe thead th {\n",
       "        text-align: right;\n",
       "    }\n",
       "</style>\n",
       "<table border=\"1\" class=\"dataframe\">\n",
       "  <thead>\n",
       "    <tr style=\"text-align: right;\">\n",
       "      <th></th>\n",
       "      <th>area</th>\n",
       "      <th>xz_ID</th>\n",
       "      <th>geometry</th>\n",
       "      <th>TM</th>\n",
       "    </tr>\n",
       "  </thead>\n",
       "  <tbody>\n",
       "    <tr>\n",
       "      <th>0</th>\n",
       "      <td>37.461746</td>\n",
       "      <td>0</td>\n",
       "      <td>POLYGON ((245196.7052662201 3395654.955879253,...</td>\n",
       "      <td>[[[0, 0, 0, 0, 0, 0, 0, 0, 0, 0, 0, 0, 0, 0, 0...</td>\n",
       "    </tr>\n",
       "    <tr>\n",
       "      <th>1</th>\n",
       "      <td>32.128707</td>\n",
       "      <td>1</td>\n",
       "      <td>POLYGON ((246127.9977300821 3398319.671288075,...</td>\n",
       "      <td>[[[0, 0, 0, 0, 0, 0, 0, 0, 0, 0, 0, 0, 0, 0, 0...</td>\n",
       "    </tr>\n",
       "    <tr>\n",
       "      <th>2</th>\n",
       "      <td>10.758785</td>\n",
       "      <td>2</td>\n",
       "      <td>POLYGON ((249053.5279977534 3398909.368736333,...</td>\n",
       "      <td>[[[0, 0, 0, 0, 0, 0, 0, 0, 0, 0, 0, 0, 0, 0, 0...</td>\n",
       "    </tr>\n",
       "    <tr>\n",
       "      <th>3</th>\n",
       "      <td>6.151334</td>\n",
       "      <td>3</td>\n",
       "      <td>POLYGON ((237567.9180708992 3387955.909025446,...</td>\n",
       "      <td>[[[0, 0, 0, 0, 0, 0, 0, 0, 0, 0, 0, 0, 0, 0, 0...</td>\n",
       "    </tr>\n",
       "    <tr>\n",
       "      <th>4</th>\n",
       "      <td>16.759394</td>\n",
       "      <td>4</td>\n",
       "      <td>POLYGON ((236700.8511632368 3393067.70824844, ...</td>\n",
       "      <td>[[[0, 0, 0, 0, 0, 0, 0, 0, 0, 0, 0, 0, 0, 0, 0...</td>\n",
       "    </tr>\n",
       "    <tr>\n",
       "      <th>5</th>\n",
       "      <td>5.408495</td>\n",
       "      <td>5</td>\n",
       "      <td>POLYGON ((236394.6852723961 3389458.658487836,...</td>\n",
       "      <td>[[[0, 0, 0, 0, 0, 0, 0, 0, 0, 0, 0, 0, 0, 0, 0...</td>\n",
       "    </tr>\n",
       "    <tr>\n",
       "      <th>6</th>\n",
       "      <td>24.680368</td>\n",
       "      <td>7</td>\n",
       "      <td>POLYGON ((227537.4216475239 3392163.239738112,...</td>\n",
       "      <td>[[[0, 0, 0, 0, 0, 0, 0, 0, 0, 0, 0, 0, 0, 0, 0...</td>\n",
       "    </tr>\n",
       "    <tr>\n",
       "      <th>7</th>\n",
       "      <td>27.709097</td>\n",
       "      <td>8</td>\n",
       "      <td>POLYGON ((233644.2325777694 3385670.883670883,...</td>\n",
       "      <td>[[[0, 0, 0, 0, 0, 0, 0, 0, 0, 0, 0, 0, 0, 0, 0...</td>\n",
       "    </tr>\n",
       "    <tr>\n",
       "      <th>8</th>\n",
       "      <td>56.402261</td>\n",
       "      <td>9</td>\n",
       "      <td>POLYGON ((228717.9280044194 3387327.006541017,...</td>\n",
       "      <td>[[[0, 0, 0, 0, 0, 0, 0, 0, 0, 0, 0, 0, 0, 0, 0...</td>\n",
       "    </tr>\n",
       "    <tr>\n",
       "      <th>9</th>\n",
       "      <td>6.987411</td>\n",
       "      <td>10</td>\n",
       "      <td>POLYGON ((232403.2265438587 3381692.517631772,...</td>\n",
       "      <td>[[[0, 0, 0, 0, 0, 0, 0, 0, 0, 0, 0, 0, 0, 0, 0...</td>\n",
       "    </tr>\n",
       "    <tr>\n",
       "      <th>10</th>\n",
       "      <td>3.754099</td>\n",
       "      <td>11</td>\n",
       "      <td>POLYGON ((250919.6381412717 3383366.473745157,...</td>\n",
       "      <td>[[[0, 0, 0, 0, 0, 0, 0, 0, 0, 0, 0, 0, 0, 0, 0...</td>\n",
       "    </tr>\n",
       "    <tr>\n",
       "      <th>11</th>\n",
       "      <td>1.606476</td>\n",
       "      <td>16</td>\n",
       "      <td>POLYGON ((258733.4220985044 3389075.853463032,...</td>\n",
       "      <td>[[[0, 0, 0, 0, 0, 0, 0, 0, 0, 0, 0, 0, 0, 0, 0...</td>\n",
       "    </tr>\n",
       "    <tr>\n",
       "      <th>12</th>\n",
       "      <td>9.589867</td>\n",
       "      <td>17</td>\n",
       "      <td>POLYGON ((262645.4781910261 3389900.251284848,...</td>\n",
       "      <td>[[[0, 0, 0, 0, 0, 0, 0, 0, 0, 0, 0, 0, 0, 0, 0...</td>\n",
       "    </tr>\n",
       "    <tr>\n",
       "      <th>13</th>\n",
       "      <td>46.164991</td>\n",
       "      <td>18</td>\n",
       "      <td>POLYGON ((256683.9132942013 3395586.884398385,...</td>\n",
       "      <td>[[[0, 0, 0, 0, 0, 0, 0, 0, 0, 0, 0, 0, 0, 0, 0...</td>\n",
       "    </tr>\n",
       "    <tr>\n",
       "      <th>14</th>\n",
       "      <td>8.045481</td>\n",
       "      <td>22</td>\n",
       "      <td>POLYGON ((246877.9241447171 3380677.722517348,...</td>\n",
       "      <td>[[[0, 0, 0, 0, 0, 0, 0, 0, 0, 0, 0, 0, 0, 0, 0...</td>\n",
       "    </tr>\n",
       "    <tr>\n",
       "      <th>15</th>\n",
       "      <td>7.632606</td>\n",
       "      <td>25</td>\n",
       "      <td>POLYGON ((250026.52186856 3380729.694675759, 2...</td>\n",
       "      <td>[[[0, 0, 0, 0, 0, 0, 0, 0, 0, 0, 0, 0, 0, 0, 0...</td>\n",
       "    </tr>\n",
       "    <tr>\n",
       "      <th>16</th>\n",
       "      <td>66.083682</td>\n",
       "      <td>27</td>\n",
       "      <td>POLYGON ((267814.7155710967 3386210.443324828,...</td>\n",
       "      <td>[[[0, 0, 0, 0, 0, 0, 0, 0, 0, 0, 0, 0, 0, 0, 0...</td>\n",
       "    </tr>\n",
       "    <tr>\n",
       "      <th>17</th>\n",
       "      <td>1.398032</td>\n",
       "      <td>28</td>\n",
       "      <td>POLYGON ((244611.8461093508 3384347.095094561,...</td>\n",
       "      <td>[[[0, 0, 0, 0, 0, 0, 0, 0, 0, 0, 0, 0, 0, 0, 0...</td>\n",
       "    </tr>\n",
       "    <tr>\n",
       "      <th>18</th>\n",
       "      <td>52.220920</td>\n",
       "      <td>33</td>\n",
       "      <td>POLYGON ((256928.5447249058 3385041.04157073, ...</td>\n",
       "      <td>[[[0, 0, 0, 0, 0, 0, 0, 0, 0, 0, 0, 0, 0, 0, 0...</td>\n",
       "    </tr>\n",
       "    <tr>\n",
       "      <th>19</th>\n",
       "      <td>30.865595</td>\n",
       "      <td>34</td>\n",
       "      <td>POLYGON ((257800.9283160074 3398601.455566616,...</td>\n",
       "      <td>[[[0, 0, 0, 0, 0, 0, 0, 0, 0, 0, 0, 0, 0, 0, 0...</td>\n",
       "    </tr>\n",
       "    <tr>\n",
       "      <th>20</th>\n",
       "      <td>13.160457</td>\n",
       "      <td>35</td>\n",
       "      <td>POLYGON ((258561.0994139828 3388014.182437374,...</td>\n",
       "      <td>[[[0, 0, 0, 0, 0, 0, 0, 0, 0, 0, 0, 0, 0, 0, 0...</td>\n",
       "    </tr>\n",
       "    <tr>\n",
       "      <th>21</th>\n",
       "      <td>7.757665</td>\n",
       "      <td>36</td>\n",
       "      <td>POLYGON ((244866.2670752909 3377999.291971728,...</td>\n",
       "      <td>[[[0, 0, 0, 0, 0, 0, 0, 0, 0, 0, 0, 0, 0, 0, 0...</td>\n",
       "    </tr>\n",
       "    <tr>\n",
       "      <th>22</th>\n",
       "      <td>48.149551</td>\n",
       "      <td>37</td>\n",
       "      <td>POLYGON ((203149.1909429217 3403110.389424345,...</td>\n",
       "      <td>[[[0, 0, 0, 0, 6, 6, 6, 6, 0, 0, 0, 0, 0, 0, 0...</td>\n",
       "    </tr>\n",
       "    <tr>\n",
       "      <th>23</th>\n",
       "      <td>93.572549</td>\n",
       "      <td>38</td>\n",
       "      <td>POLYGON ((223262.8303031383 3407591.97500018, ...</td>\n",
       "      <td>[[[0, 0, 0, 0, 0, 0, 0, 0, 0, 0, 0, 0, 0, 0, 0...</td>\n",
       "    </tr>\n",
       "    <tr>\n",
       "      <th>24</th>\n",
       "      <td>67.577829</td>\n",
       "      <td>39</td>\n",
       "      <td>POLYGON ((212844.6985774174 3409794.211813767,...</td>\n",
       "      <td>[[[0, 0, 0, 0, 0, 0, 0, 0, 0, 0, 0, 0, 0, 0, 0...</td>\n",
       "    </tr>\n",
       "    <tr>\n",
       "      <th>25</th>\n",
       "      <td>55.701988</td>\n",
       "      <td>40</td>\n",
       "      <td>POLYGON ((211105.1973076742 3409393.909792609,...</td>\n",
       "      <td>[[[0, 0, 0, 0, 0, 0, 0, 0, 0, 0, 0, 0, 0, 0, 0...</td>\n",
       "    </tr>\n",
       "    <tr>\n",
       "      <th>26</th>\n",
       "      <td>61.292155</td>\n",
       "      <td>41</td>\n",
       "      <td>POLYGON ((217652.9047025414 3398031.462757234,...</td>\n",
       "      <td>[[[0, 0, 0, 0, 0, 0, 0, 0, 0, 0, 0, 0, 0, 0, 0...</td>\n",
       "    </tr>\n",
       "    <tr>\n",
       "      <th>27</th>\n",
       "      <td>25.697684</td>\n",
       "      <td>42</td>\n",
       "      <td>POLYGON ((219868.0739246203 3390412.010286849,...</td>\n",
       "      <td>[[[0, 0, 0, 0, 0, 0, 0, 0, 0, 0, 0, 0, 0, 0, 0...</td>\n",
       "    </tr>\n",
       "    <tr>\n",
       "      <th>28</th>\n",
       "      <td>58.079141</td>\n",
       "      <td>43</td>\n",
       "      <td>POLYGON ((221844.0484690309 3399536.859112736,...</td>\n",
       "      <td>[[[0, 0, 0, 0, 0, 0, 0, 0, 0, 0, 0, 0, 0, 0, 0...</td>\n",
       "    </tr>\n",
       "    <tr>\n",
       "      <th>29</th>\n",
       "      <td>4.262942</td>\n",
       "      <td>44</td>\n",
       "      <td>POLYGON ((225335.4666741071 3391681.764966058,...</td>\n",
       "      <td>[[[0, 0, 0, 0, 0, 0, 0, 0, 0, 0, 0, 0, 0, 0, 0...</td>\n",
       "    </tr>\n",
       "    <tr>\n",
       "      <th>...</th>\n",
       "      <td>...</td>\n",
       "      <td>...</td>\n",
       "      <td>...</td>\n",
       "      <td>...</td>\n",
       "    </tr>\n",
       "    <tr>\n",
       "      <th>80</th>\n",
       "      <td>142.379392</td>\n",
       "      <td>96</td>\n",
       "      <td>POLYGON ((274281.1670465505 3416556.983339832,...</td>\n",
       "      <td>[[[0, 0, 0, 0, 0, 0, 0, 0, 0, 0, 0, 0, 0, 0, 0...</td>\n",
       "    </tr>\n",
       "    <tr>\n",
       "      <th>81</th>\n",
       "      <td>85.681565</td>\n",
       "      <td>97</td>\n",
       "      <td>POLYGON ((278680.1452474426 3426404.019568328,...</td>\n",
       "      <td>[[[0, 0, 0, 0, 0, 0, 0, 0, 0, 0, 0, 0, 0, 0, 0...</td>\n",
       "    </tr>\n",
       "    <tr>\n",
       "      <th>82</th>\n",
       "      <td>116.437197</td>\n",
       "      <td>98</td>\n",
       "      <td>POLYGON ((289233.3640943873 3431908.95755067, ...</td>\n",
       "      <td>[[[0, 0, 0, 0, 0, 0, 0, 0, 0, 0, 0, 0, 0, 0, 0...</td>\n",
       "    </tr>\n",
       "    <tr>\n",
       "      <th>83</th>\n",
       "      <td>59.997251</td>\n",
       "      <td>99</td>\n",
       "      <td>POLYGON ((306366.1218943342 3434899.469653212,...</td>\n",
       "      <td>[[[0, 0, 0, 0, 0, 0, 0, 0, 0, 0, 0, 0, 0, 0, 0...</td>\n",
       "    </tr>\n",
       "    <tr>\n",
       "      <th>84</th>\n",
       "      <td>116.449493</td>\n",
       "      <td>100</td>\n",
       "      <td>POLYGON ((301421.4200729014 3421689.024805699,...</td>\n",
       "      <td>[[[0, 0, 0, 0, 0, 0, 0, 0, 0, 0, 0, 0, 0, 0, 0...</td>\n",
       "    </tr>\n",
       "    <tr>\n",
       "      <th>85</th>\n",
       "      <td>181.299813</td>\n",
       "      <td>101</td>\n",
       "      <td>POLYGON ((284825.8778882028 3401674.388815791,...</td>\n",
       "      <td>[[[0, 0, 0, 0, 0, 0, 0, 0, 0, 0, 0, 0, 0, 0, 0...</td>\n",
       "    </tr>\n",
       "    <tr>\n",
       "      <th>86</th>\n",
       "      <td>78.487990</td>\n",
       "      <td>102</td>\n",
       "      <td>POLYGON ((296047.4470060932 3417645.762623927,...</td>\n",
       "      <td>[[[0, 0, 0, 0, 0, 0, 0, 0, 0, 0, 0, 0, 0, 0, 0...</td>\n",
       "    </tr>\n",
       "    <tr>\n",
       "      <th>87</th>\n",
       "      <td>83.767749</td>\n",
       "      <td>103</td>\n",
       "      <td>POLYGON ((306433.8678496751 3428966.569412167,...</td>\n",
       "      <td>[[[0, 0, 0, 0, 0, 0, 0, 0, 0, 0, 0, 0, 0, 0, 0...</td>\n",
       "    </tr>\n",
       "    <tr>\n",
       "      <th>88</th>\n",
       "      <td>1.349224</td>\n",
       "      <td>104</td>\n",
       "      <td>POLYGON ((307466.5057836499 3431132.560608812,...</td>\n",
       "      <td>[[[0, 0, 0, 0, 0, 0, 0, 0, 0, 0, 0, 0, 0, 0, 0...</td>\n",
       "    </tr>\n",
       "    <tr>\n",
       "      <th>89</th>\n",
       "      <td>56.440873</td>\n",
       "      <td>105</td>\n",
       "      <td>POLYGON ((285430.7641378734 3431331.247815964,...</td>\n",
       "      <td>[[[0, 0, 0, 0, 0, 0, 0, 0, 0, 0, 0, 0, 0, 0, 0...</td>\n",
       "    </tr>\n",
       "    <tr>\n",
       "      <th>90</th>\n",
       "      <td>16.820918</td>\n",
       "      <td>106</td>\n",
       "      <td>POLYGON ((308616.8388703883 3419723.795131347,...</td>\n",
       "      <td>[[[0, 0, 0, 0, 0, 0, 0, 0, 0, 0, 0, 0, 0, 0, 0...</td>\n",
       "    </tr>\n",
       "    <tr>\n",
       "      <th>91</th>\n",
       "      <td>33.554642</td>\n",
       "      <td>107</td>\n",
       "      <td>POLYGON ((287453.4716856948 3404785.893795603,...</td>\n",
       "      <td>[[[0, 0, 0, 0, 0, 0, 0, 0, 0, 0, 0, 0, 0, 0, 0...</td>\n",
       "    </tr>\n",
       "    <tr>\n",
       "      <th>92</th>\n",
       "      <td>16.990061</td>\n",
       "      <td>108</td>\n",
       "      <td>POLYGON ((272593.0611156847 3390572.940763018,...</td>\n",
       "      <td>[[[0, 0, 0, 0, 0, 0, 0, 0, 0, 0, 0, 0, 0, 0, 0...</td>\n",
       "    </tr>\n",
       "    <tr>\n",
       "      <th>93</th>\n",
       "      <td>9.133035</td>\n",
       "      <td>109</td>\n",
       "      <td>POLYGON ((286469.6434675962 3395403.419275079,...</td>\n",
       "      <td>[[[0, 0, 0, 0, 0, 0, 0, 0, 0, 0, 0, 0, 0, 0, 0...</td>\n",
       "    </tr>\n",
       "    <tr>\n",
       "      <th>94</th>\n",
       "      <td>15.413272</td>\n",
       "      <td>110</td>\n",
       "      <td>POLYGON ((232899.3900127298 3388579.768415547,...</td>\n",
       "      <td>[[[0, 0, 0, 0, 0, 0, 0, 0, 0, 0, 0, 0, 0, 0, 0...</td>\n",
       "    </tr>\n",
       "    <tr>\n",
       "      <th>95</th>\n",
       "      <td>20.553338</td>\n",
       "      <td>111</td>\n",
       "      <td>POLYGON ((235484.9671065494 3382080.011242107,...</td>\n",
       "      <td>[[[0, 0, 0, 0, 0, 0, 0, 0, 0, 0, 0, 0, 0, 0, 0...</td>\n",
       "    </tr>\n",
       "    <tr>\n",
       "      <th>96</th>\n",
       "      <td>59.908213</td>\n",
       "      <td>112</td>\n",
       "      <td>POLYGON ((245613.7261773834 3389510.286564253,...</td>\n",
       "      <td>[[[0, 0, 0, 0, 0, 0, 0, 0, 0, 0, 0, 0, 0, 0, 0...</td>\n",
       "    </tr>\n",
       "    <tr>\n",
       "      <th>97</th>\n",
       "      <td>45.095910</td>\n",
       "      <td>113</td>\n",
       "      <td>POLYGON ((271615.2574039308 3382768.308279656,...</td>\n",
       "      <td>[[[0, 0, 0, 0, 0, 0, 0, 0, 0, 0, 0, 0, 0, 0, 0...</td>\n",
       "    </tr>\n",
       "    <tr>\n",
       "      <th>98</th>\n",
       "      <td>122.796056</td>\n",
       "      <td>114</td>\n",
       "      <td>POLYGON ((249989.4252048793 3388328.134905848,...</td>\n",
       "      <td>[[[0, 0, 0, 0, 0, 0, 0, 0, 0, 0, 0, 0, 0, 0, 0...</td>\n",
       "    </tr>\n",
       "    <tr>\n",
       "      <th>99</th>\n",
       "      <td>46.552096</td>\n",
       "      <td>115</td>\n",
       "      <td>POLYGON ((247532.5543909845 3392250.719371889,...</td>\n",
       "      <td>[[[0, 0, 0, 0, 0, 0, 0, 0, 0, 0, 0, 0, 0, 0, 0...</td>\n",
       "    </tr>\n",
       "    <tr>\n",
       "      <th>100</th>\n",
       "      <td>85.535314</td>\n",
       "      <td>116</td>\n",
       "      <td>POLYGON ((240582.2796101572 3379272.911303367,...</td>\n",
       "      <td>[[[0, 0, 0, 0, 0, 0, 0, 0, 0, 0, 0, 0, 0, 0, 0...</td>\n",
       "    </tr>\n",
       "    <tr>\n",
       "      <th>101</th>\n",
       "      <td>87.239909</td>\n",
       "      <td>117</td>\n",
       "      <td>POLYGON ((260398.6642917916 3397402.411912315,...</td>\n",
       "      <td>[[[0, 0, 0, 0, 0, 0, 0, 0, 0, 0, 0, 0, 0, 0, 0...</td>\n",
       "    </tr>\n",
       "    <tr>\n",
       "      <th>102</th>\n",
       "      <td>91.269864</td>\n",
       "      <td>118</td>\n",
       "      <td>POLYGON ((214965.5108604833 3388477.833399748,...</td>\n",
       "      <td>[[[0, 0, 0, 0, 0, 0, 0, 0, 0, 0, 0, 0, 0, 0, 0...</td>\n",
       "    </tr>\n",
       "    <tr>\n",
       "      <th>103</th>\n",
       "      <td>76.044312</td>\n",
       "      <td>119</td>\n",
       "      <td>POLYGON ((203638.3732155839 3378431.650757858,...</td>\n",
       "      <td>[[[0, 0, 0, 0, 0, 0, 0, 0, 0, 0, 0, 0, 0, 0, 0...</td>\n",
       "    </tr>\n",
       "    <tr>\n",
       "      <th>104</th>\n",
       "      <td>90.515383</td>\n",
       "      <td>120</td>\n",
       "      <td>POLYGON ((227599.21378633 3382636.939995873, 2...</td>\n",
       "      <td>[[[0, 0, 0, 0, 0, 0, 0, 0, 0, 0, 0, 0, 0, 0, 0...</td>\n",
       "    </tr>\n",
       "    <tr>\n",
       "      <th>105</th>\n",
       "      <td>12.880540</td>\n",
       "      <td>121</td>\n",
       "      <td>POLYGON ((223249.2988069631 3348170.69182054, ...</td>\n",
       "      <td>[[[0, 0, 0, 0, 0, 0, 0, 0, 0, 0, 0, 0, 0, 0, 0...</td>\n",
       "    </tr>\n",
       "    <tr>\n",
       "      <th>106</th>\n",
       "      <td>152.912197</td>\n",
       "      <td>122</td>\n",
       "      <td>POLYGON ((230610.8081088376 3430907.712109516,...</td>\n",
       "      <td>[[[0, 0, 0, 0, 0, 0, 0, 0, 0, 0, 0, 0, 0, 0, 0...</td>\n",
       "    </tr>\n",
       "    <tr>\n",
       "      <th>107</th>\n",
       "      <td>98.655860</td>\n",
       "      <td>123</td>\n",
       "      <td>POLYGON ((240058.0374196026 3418581.852234608,...</td>\n",
       "      <td>[[[0, 0, 0, 0, 0, 0, 0, 0, 0, 0, 0, 0, 0, 0, 0...</td>\n",
       "    </tr>\n",
       "    <tr>\n",
       "      <th>108</th>\n",
       "      <td>153.978382</td>\n",
       "      <td>124</td>\n",
       "      <td>POLYGON ((257347.5885367659 3438455.774258532,...</td>\n",
       "      <td>[[[0, 0, 0, 0, 0, 0, 0, 0, 0, 0, 0, 0, 0, 0, 0...</td>\n",
       "    </tr>\n",
       "    <tr>\n",
       "      <th>109</th>\n",
       "      <td>195.508856</td>\n",
       "      <td>125</td>\n",
       "      <td>POLYGON ((264570.8798002363 3403202.040262681,...</td>\n",
       "      <td>[[[0, 0, 0, 0, 0, 0, 0, 0, 0, 0, 0, 0, 0, 0, 0...</td>\n",
       "    </tr>\n",
       "  </tbody>\n",
       "</table>\n",
       "<p>110 rows × 4 columns</p>\n",
       "</div>"
      ],
      "text/plain": [
       "           area  xz_ID                                           geometry  \\\n",
       "0     37.461746      0  POLYGON ((245196.7052662201 3395654.955879253,...   \n",
       "1     32.128707      1  POLYGON ((246127.9977300821 3398319.671288075,...   \n",
       "2     10.758785      2  POLYGON ((249053.5279977534 3398909.368736333,...   \n",
       "3      6.151334      3  POLYGON ((237567.9180708992 3387955.909025446,...   \n",
       "4     16.759394      4  POLYGON ((236700.8511632368 3393067.70824844, ...   \n",
       "5      5.408495      5  POLYGON ((236394.6852723961 3389458.658487836,...   \n",
       "6     24.680368      7  POLYGON ((227537.4216475239 3392163.239738112,...   \n",
       "7     27.709097      8  POLYGON ((233644.2325777694 3385670.883670883,...   \n",
       "8     56.402261      9  POLYGON ((228717.9280044194 3387327.006541017,...   \n",
       "9      6.987411     10  POLYGON ((232403.2265438587 3381692.517631772,...   \n",
       "10     3.754099     11  POLYGON ((250919.6381412717 3383366.473745157,...   \n",
       "11     1.606476     16  POLYGON ((258733.4220985044 3389075.853463032,...   \n",
       "12     9.589867     17  POLYGON ((262645.4781910261 3389900.251284848,...   \n",
       "13    46.164991     18  POLYGON ((256683.9132942013 3395586.884398385,...   \n",
       "14     8.045481     22  POLYGON ((246877.9241447171 3380677.722517348,...   \n",
       "15     7.632606     25  POLYGON ((250026.52186856 3380729.694675759, 2...   \n",
       "16    66.083682     27  POLYGON ((267814.7155710967 3386210.443324828,...   \n",
       "17     1.398032     28  POLYGON ((244611.8461093508 3384347.095094561,...   \n",
       "18    52.220920     33  POLYGON ((256928.5447249058 3385041.04157073, ...   \n",
       "19    30.865595     34  POLYGON ((257800.9283160074 3398601.455566616,...   \n",
       "20    13.160457     35  POLYGON ((258561.0994139828 3388014.182437374,...   \n",
       "21     7.757665     36  POLYGON ((244866.2670752909 3377999.291971728,...   \n",
       "22    48.149551     37  POLYGON ((203149.1909429217 3403110.389424345,...   \n",
       "23    93.572549     38  POLYGON ((223262.8303031383 3407591.97500018, ...   \n",
       "24    67.577829     39  POLYGON ((212844.6985774174 3409794.211813767,...   \n",
       "25    55.701988     40  POLYGON ((211105.1973076742 3409393.909792609,...   \n",
       "26    61.292155     41  POLYGON ((217652.9047025414 3398031.462757234,...   \n",
       "27    25.697684     42  POLYGON ((219868.0739246203 3390412.010286849,...   \n",
       "28    58.079141     43  POLYGON ((221844.0484690309 3399536.859112736,...   \n",
       "29     4.262942     44  POLYGON ((225335.4666741071 3391681.764966058,...   \n",
       "..          ...    ...                                                ...   \n",
       "80   142.379392     96  POLYGON ((274281.1670465505 3416556.983339832,...   \n",
       "81    85.681565     97  POLYGON ((278680.1452474426 3426404.019568328,...   \n",
       "82   116.437197     98  POLYGON ((289233.3640943873 3431908.95755067, ...   \n",
       "83    59.997251     99  POLYGON ((306366.1218943342 3434899.469653212,...   \n",
       "84   116.449493    100  POLYGON ((301421.4200729014 3421689.024805699,...   \n",
       "85   181.299813    101  POLYGON ((284825.8778882028 3401674.388815791,...   \n",
       "86    78.487990    102  POLYGON ((296047.4470060932 3417645.762623927,...   \n",
       "87    83.767749    103  POLYGON ((306433.8678496751 3428966.569412167,...   \n",
       "88     1.349224    104  POLYGON ((307466.5057836499 3431132.560608812,...   \n",
       "89    56.440873    105  POLYGON ((285430.7641378734 3431331.247815964,...   \n",
       "90    16.820918    106  POLYGON ((308616.8388703883 3419723.795131347,...   \n",
       "91    33.554642    107  POLYGON ((287453.4716856948 3404785.893795603,...   \n",
       "92    16.990061    108  POLYGON ((272593.0611156847 3390572.940763018,...   \n",
       "93     9.133035    109  POLYGON ((286469.6434675962 3395403.419275079,...   \n",
       "94    15.413272    110  POLYGON ((232899.3900127298 3388579.768415547,...   \n",
       "95    20.553338    111  POLYGON ((235484.9671065494 3382080.011242107,...   \n",
       "96    59.908213    112  POLYGON ((245613.7261773834 3389510.286564253,...   \n",
       "97    45.095910    113  POLYGON ((271615.2574039308 3382768.308279656,...   \n",
       "98   122.796056    114  POLYGON ((249989.4252048793 3388328.134905848,...   \n",
       "99    46.552096    115  POLYGON ((247532.5543909845 3392250.719371889,...   \n",
       "100   85.535314    116  POLYGON ((240582.2796101572 3379272.911303367,...   \n",
       "101   87.239909    117  POLYGON ((260398.6642917916 3397402.411912315,...   \n",
       "102   91.269864    118  POLYGON ((214965.5108604833 3388477.833399748,...   \n",
       "103   76.044312    119  POLYGON ((203638.3732155839 3378431.650757858,...   \n",
       "104   90.515383    120  POLYGON ((227599.21378633 3382636.939995873, 2...   \n",
       "105   12.880540    121  POLYGON ((223249.2988069631 3348170.69182054, ...   \n",
       "106  152.912197    122  POLYGON ((230610.8081088376 3430907.712109516,...   \n",
       "107   98.655860    123  POLYGON ((240058.0374196026 3418581.852234608,...   \n",
       "108  153.978382    124  POLYGON ((257347.5885367659 3438455.774258532,...   \n",
       "109  195.508856    125  POLYGON ((264570.8798002363 3403202.040262681,...   \n",
       "\n",
       "                                                    TM  \n",
       "0    [[[0, 0, 0, 0, 0, 0, 0, 0, 0, 0, 0, 0, 0, 0, 0...  \n",
       "1    [[[0, 0, 0, 0, 0, 0, 0, 0, 0, 0, 0, 0, 0, 0, 0...  \n",
       "2    [[[0, 0, 0, 0, 0, 0, 0, 0, 0, 0, 0, 0, 0, 0, 0...  \n",
       "3    [[[0, 0, 0, 0, 0, 0, 0, 0, 0, 0, 0, 0, 0, 0, 0...  \n",
       "4    [[[0, 0, 0, 0, 0, 0, 0, 0, 0, 0, 0, 0, 0, 0, 0...  \n",
       "5    [[[0, 0, 0, 0, 0, 0, 0, 0, 0, 0, 0, 0, 0, 0, 0...  \n",
       "6    [[[0, 0, 0, 0, 0, 0, 0, 0, 0, 0, 0, 0, 0, 0, 0...  \n",
       "7    [[[0, 0, 0, 0, 0, 0, 0, 0, 0, 0, 0, 0, 0, 0, 0...  \n",
       "8    [[[0, 0, 0, 0, 0, 0, 0, 0, 0, 0, 0, 0, 0, 0, 0...  \n",
       "9    [[[0, 0, 0, 0, 0, 0, 0, 0, 0, 0, 0, 0, 0, 0, 0...  \n",
       "10   [[[0, 0, 0, 0, 0, 0, 0, 0, 0, 0, 0, 0, 0, 0, 0...  \n",
       "11   [[[0, 0, 0, 0, 0, 0, 0, 0, 0, 0, 0, 0, 0, 0, 0...  \n",
       "12   [[[0, 0, 0, 0, 0, 0, 0, 0, 0, 0, 0, 0, 0, 0, 0...  \n",
       "13   [[[0, 0, 0, 0, 0, 0, 0, 0, 0, 0, 0, 0, 0, 0, 0...  \n",
       "14   [[[0, 0, 0, 0, 0, 0, 0, 0, 0, 0, 0, 0, 0, 0, 0...  \n",
       "15   [[[0, 0, 0, 0, 0, 0, 0, 0, 0, 0, 0, 0, 0, 0, 0...  \n",
       "16   [[[0, 0, 0, 0, 0, 0, 0, 0, 0, 0, 0, 0, 0, 0, 0...  \n",
       "17   [[[0, 0, 0, 0, 0, 0, 0, 0, 0, 0, 0, 0, 0, 0, 0...  \n",
       "18   [[[0, 0, 0, 0, 0, 0, 0, 0, 0, 0, 0, 0, 0, 0, 0...  \n",
       "19   [[[0, 0, 0, 0, 0, 0, 0, 0, 0, 0, 0, 0, 0, 0, 0...  \n",
       "20   [[[0, 0, 0, 0, 0, 0, 0, 0, 0, 0, 0, 0, 0, 0, 0...  \n",
       "21   [[[0, 0, 0, 0, 0, 0, 0, 0, 0, 0, 0, 0, 0, 0, 0...  \n",
       "22   [[[0, 0, 0, 0, 6, 6, 6, 6, 0, 0, 0, 0, 0, 0, 0...  \n",
       "23   [[[0, 0, 0, 0, 0, 0, 0, 0, 0, 0, 0, 0, 0, 0, 0...  \n",
       "24   [[[0, 0, 0, 0, 0, 0, 0, 0, 0, 0, 0, 0, 0, 0, 0...  \n",
       "25   [[[0, 0, 0, 0, 0, 0, 0, 0, 0, 0, 0, 0, 0, 0, 0...  \n",
       "26   [[[0, 0, 0, 0, 0, 0, 0, 0, 0, 0, 0, 0, 0, 0, 0...  \n",
       "27   [[[0, 0, 0, 0, 0, 0, 0, 0, 0, 0, 0, 0, 0, 0, 0...  \n",
       "28   [[[0, 0, 0, 0, 0, 0, 0, 0, 0, 0, 0, 0, 0, 0, 0...  \n",
       "29   [[[0, 0, 0, 0, 0, 0, 0, 0, 0, 0, 0, 0, 0, 0, 0...  \n",
       "..                                                 ...  \n",
       "80   [[[0, 0, 0, 0, 0, 0, 0, 0, 0, 0, 0, 0, 0, 0, 0...  \n",
       "81   [[[0, 0, 0, 0, 0, 0, 0, 0, 0, 0, 0, 0, 0, 0, 0...  \n",
       "82   [[[0, 0, 0, 0, 0, 0, 0, 0, 0, 0, 0, 0, 0, 0, 0...  \n",
       "83   [[[0, 0, 0, 0, 0, 0, 0, 0, 0, 0, 0, 0, 0, 0, 0...  \n",
       "84   [[[0, 0, 0, 0, 0, 0, 0, 0, 0, 0, 0, 0, 0, 0, 0...  \n",
       "85   [[[0, 0, 0, 0, 0, 0, 0, 0, 0, 0, 0, 0, 0, 0, 0...  \n",
       "86   [[[0, 0, 0, 0, 0, 0, 0, 0, 0, 0, 0, 0, 0, 0, 0...  \n",
       "87   [[[0, 0, 0, 0, 0, 0, 0, 0, 0, 0, 0, 0, 0, 0, 0...  \n",
       "88   [[[0, 0, 0, 0, 0, 0, 0, 0, 0, 0, 0, 0, 0, 0, 0...  \n",
       "89   [[[0, 0, 0, 0, 0, 0, 0, 0, 0, 0, 0, 0, 0, 0, 0...  \n",
       "90   [[[0, 0, 0, 0, 0, 0, 0, 0, 0, 0, 0, 0, 0, 0, 0...  \n",
       "91   [[[0, 0, 0, 0, 0, 0, 0, 0, 0, 0, 0, 0, 0, 0, 0...  \n",
       "92   [[[0, 0, 0, 0, 0, 0, 0, 0, 0, 0, 0, 0, 0, 0, 0...  \n",
       "93   [[[0, 0, 0, 0, 0, 0, 0, 0, 0, 0, 0, 0, 0, 0, 0...  \n",
       "94   [[[0, 0, 0, 0, 0, 0, 0, 0, 0, 0, 0, 0, 0, 0, 0...  \n",
       "95   [[[0, 0, 0, 0, 0, 0, 0, 0, 0, 0, 0, 0, 0, 0, 0...  \n",
       "96   [[[0, 0, 0, 0, 0, 0, 0, 0, 0, 0, 0, 0, 0, 0, 0...  \n",
       "97   [[[0, 0, 0, 0, 0, 0, 0, 0, 0, 0, 0, 0, 0, 0, 0...  \n",
       "98   [[[0, 0, 0, 0, 0, 0, 0, 0, 0, 0, 0, 0, 0, 0, 0...  \n",
       "99   [[[0, 0, 0, 0, 0, 0, 0, 0, 0, 0, 0, 0, 0, 0, 0...  \n",
       "100  [[[0, 0, 0, 0, 0, 0, 0, 0, 0, 0, 0, 0, 0, 0, 0...  \n",
       "101  [[[0, 0, 0, 0, 0, 0, 0, 0, 0, 0, 0, 0, 0, 0, 0...  \n",
       "102  [[[0, 0, 0, 0, 0, 0, 0, 0, 0, 0, 0, 0, 0, 0, 0...  \n",
       "103  [[[0, 0, 0, 0, 0, 0, 0, 0, 0, 0, 0, 0, 0, 0, 0...  \n",
       "104  [[[0, 0, 0, 0, 0, 0, 0, 0, 0, 0, 0, 0, 0, 0, 0...  \n",
       "105  [[[0, 0, 0, 0, 0, 0, 0, 0, 0, 0, 0, 0, 0, 0, 0...  \n",
       "106  [[[0, 0, 0, 0, 0, 0, 0, 0, 0, 0, 0, 0, 0, 0, 0...  \n",
       "107  [[[0, 0, 0, 0, 0, 0, 0, 0, 0, 0, 0, 0, 0, 0, 0...  \n",
       "108  [[[0, 0, 0, 0, 0, 0, 0, 0, 0, 0, 0, 0, 0, 0, 0...  \n",
       "109  [[[0, 0, 0, 0, 0, 0, 0, 0, 0, 0, 0, 0, 0, 0, 0...  \n",
       "\n",
       "[110 rows x 4 columns]"
      ]
     },
     "execution_count": 196,
     "metadata": {},
     "output_type": "execute_result"
    }
   ],
   "source": [
    "gpdFc"
   ]
  },
  {
   "cell_type": "code",
   "execution_count": 199,
   "metadata": {},
   "outputs": [
    {
     "ename": "ValueError",
     "evalue": "Length of values does not match length of index",
     "output_type": "error",
     "traceback": [
      "\u001b[1;31m---------------------------------------------------------------------------\u001b[0m",
      "\u001b[1;31mValueError\u001b[0m                                Traceback (most recent call last)",
      "\u001b[1;32m<ipython-input-199-8e976a507bac>\u001b[0m in \u001b[0;36m<module>\u001b[1;34m()\u001b[0m\n\u001b[1;32m----> 1\u001b[1;33m \u001b[0mgpdFc\u001b[0m\u001b[1;33m[\u001b[0m\u001b[1;34m'TransMtx'\u001b[0m\u001b[1;33m]\u001b[0m\u001b[1;33m=\u001b[0m\u001b[1;33m[\u001b[0m\u001b[1;33m]\u001b[0m\u001b[1;33m*\u001b[0m\u001b[0mlength\u001b[0m\u001b[1;33m\u001b[0m\u001b[0m\n\u001b[0m",
      "\u001b[1;32mC:\\Anaconda\\lib\\site-packages\\pandas\\core\\frame.py\u001b[0m in \u001b[0;36m__setitem__\u001b[1;34m(self, key, value)\u001b[0m\n\u001b[0;32m   3114\u001b[0m         \u001b[1;32melse\u001b[0m\u001b[1;33m:\u001b[0m\u001b[1;33m\u001b[0m\u001b[0m\n\u001b[0;32m   3115\u001b[0m             \u001b[1;31m# set column\u001b[0m\u001b[1;33m\u001b[0m\u001b[1;33m\u001b[0m\u001b[0m\n\u001b[1;32m-> 3116\u001b[1;33m             \u001b[0mself\u001b[0m\u001b[1;33m.\u001b[0m\u001b[0m_set_item\u001b[0m\u001b[1;33m(\u001b[0m\u001b[0mkey\u001b[0m\u001b[1;33m,\u001b[0m \u001b[0mvalue\u001b[0m\u001b[1;33m)\u001b[0m\u001b[1;33m\u001b[0m\u001b[0m\n\u001b[0m\u001b[0;32m   3117\u001b[0m \u001b[1;33m\u001b[0m\u001b[0m\n\u001b[0;32m   3118\u001b[0m     \u001b[1;32mdef\u001b[0m \u001b[0m_setitem_slice\u001b[0m\u001b[1;33m(\u001b[0m\u001b[0mself\u001b[0m\u001b[1;33m,\u001b[0m \u001b[0mkey\u001b[0m\u001b[1;33m,\u001b[0m \u001b[0mvalue\u001b[0m\u001b[1;33m)\u001b[0m\u001b[1;33m:\u001b[0m\u001b[1;33m\u001b[0m\u001b[0m\n",
      "\u001b[1;32mC:\\Anaconda\\lib\\site-packages\\pandas\\core\\frame.py\u001b[0m in \u001b[0;36m_set_item\u001b[1;34m(self, key, value)\u001b[0m\n\u001b[0;32m   3189\u001b[0m \u001b[1;33m\u001b[0m\u001b[0m\n\u001b[0;32m   3190\u001b[0m         \u001b[0mself\u001b[0m\u001b[1;33m.\u001b[0m\u001b[0m_ensure_valid_index\u001b[0m\u001b[1;33m(\u001b[0m\u001b[0mvalue\u001b[0m\u001b[1;33m)\u001b[0m\u001b[1;33m\u001b[0m\u001b[0m\n\u001b[1;32m-> 3191\u001b[1;33m         \u001b[0mvalue\u001b[0m \u001b[1;33m=\u001b[0m \u001b[0mself\u001b[0m\u001b[1;33m.\u001b[0m\u001b[0m_sanitize_column\u001b[0m\u001b[1;33m(\u001b[0m\u001b[0mkey\u001b[0m\u001b[1;33m,\u001b[0m \u001b[0mvalue\u001b[0m\u001b[1;33m)\u001b[0m\u001b[1;33m\u001b[0m\u001b[0m\n\u001b[0m\u001b[0;32m   3192\u001b[0m         \u001b[0mNDFrame\u001b[0m\u001b[1;33m.\u001b[0m\u001b[0m_set_item\u001b[0m\u001b[1;33m(\u001b[0m\u001b[0mself\u001b[0m\u001b[1;33m,\u001b[0m \u001b[0mkey\u001b[0m\u001b[1;33m,\u001b[0m \u001b[0mvalue\u001b[0m\u001b[1;33m)\u001b[0m\u001b[1;33m\u001b[0m\u001b[0m\n\u001b[0;32m   3193\u001b[0m \u001b[1;33m\u001b[0m\u001b[0m\n",
      "\u001b[1;32mC:\\Anaconda\\lib\\site-packages\\pandas\\core\\frame.py\u001b[0m in \u001b[0;36m_sanitize_column\u001b[1;34m(self, key, value, broadcast)\u001b[0m\n\u001b[0;32m   3386\u001b[0m \u001b[1;33m\u001b[0m\u001b[0m\n\u001b[0;32m   3387\u001b[0m             \u001b[1;31m# turn me into an ndarray\u001b[0m\u001b[1;33m\u001b[0m\u001b[1;33m\u001b[0m\u001b[0m\n\u001b[1;32m-> 3388\u001b[1;33m             \u001b[0mvalue\u001b[0m \u001b[1;33m=\u001b[0m \u001b[0m_sanitize_index\u001b[0m\u001b[1;33m(\u001b[0m\u001b[0mvalue\u001b[0m\u001b[1;33m,\u001b[0m \u001b[0mself\u001b[0m\u001b[1;33m.\u001b[0m\u001b[0mindex\u001b[0m\u001b[1;33m,\u001b[0m \u001b[0mcopy\u001b[0m\u001b[1;33m=\u001b[0m\u001b[1;32mFalse\u001b[0m\u001b[1;33m)\u001b[0m\u001b[1;33m\u001b[0m\u001b[0m\n\u001b[0m\u001b[0;32m   3389\u001b[0m             \u001b[1;32mif\u001b[0m \u001b[1;32mnot\u001b[0m \u001b[0misinstance\u001b[0m\u001b[1;33m(\u001b[0m\u001b[0mvalue\u001b[0m\u001b[1;33m,\u001b[0m \u001b[1;33m(\u001b[0m\u001b[0mnp\u001b[0m\u001b[1;33m.\u001b[0m\u001b[0mndarray\u001b[0m\u001b[1;33m,\u001b[0m \u001b[0mIndex\u001b[0m\u001b[1;33m)\u001b[0m\u001b[1;33m)\u001b[0m\u001b[1;33m:\u001b[0m\u001b[1;33m\u001b[0m\u001b[0m\n\u001b[0;32m   3390\u001b[0m                 \u001b[1;32mif\u001b[0m \u001b[0misinstance\u001b[0m\u001b[1;33m(\u001b[0m\u001b[0mvalue\u001b[0m\u001b[1;33m,\u001b[0m \u001b[0mlist\u001b[0m\u001b[1;33m)\u001b[0m \u001b[1;32mand\u001b[0m \u001b[0mlen\u001b[0m\u001b[1;33m(\u001b[0m\u001b[0mvalue\u001b[0m\u001b[1;33m)\u001b[0m \u001b[1;33m>\u001b[0m \u001b[1;36m0\u001b[0m\u001b[1;33m:\u001b[0m\u001b[1;33m\u001b[0m\u001b[0m\n",
      "\u001b[1;32mC:\\Anaconda\\lib\\site-packages\\pandas\\core\\series.py\u001b[0m in \u001b[0;36m_sanitize_index\u001b[1;34m(data, index, copy)\u001b[0m\n\u001b[0;32m   3996\u001b[0m \u001b[1;33m\u001b[0m\u001b[0m\n\u001b[0;32m   3997\u001b[0m     \u001b[1;32mif\u001b[0m \u001b[0mlen\u001b[0m\u001b[1;33m(\u001b[0m\u001b[0mdata\u001b[0m\u001b[1;33m)\u001b[0m \u001b[1;33m!=\u001b[0m \u001b[0mlen\u001b[0m\u001b[1;33m(\u001b[0m\u001b[0mindex\u001b[0m\u001b[1;33m)\u001b[0m\u001b[1;33m:\u001b[0m\u001b[1;33m\u001b[0m\u001b[0m\n\u001b[1;32m-> 3998\u001b[1;33m         \u001b[1;32mraise\u001b[0m \u001b[0mValueError\u001b[0m\u001b[1;33m(\u001b[0m\u001b[1;34m'Length of values does not match length of '\u001b[0m \u001b[1;34m'index'\u001b[0m\u001b[1;33m)\u001b[0m\u001b[1;33m\u001b[0m\u001b[0m\n\u001b[0m\u001b[0;32m   3999\u001b[0m \u001b[1;33m\u001b[0m\u001b[0m\n\u001b[0;32m   4000\u001b[0m     \u001b[1;32mif\u001b[0m \u001b[0misinstance\u001b[0m\u001b[1;33m(\u001b[0m\u001b[0mdata\u001b[0m\u001b[1;33m,\u001b[0m \u001b[0mABCIndexClass\u001b[0m\u001b[1;33m)\u001b[0m \u001b[1;32mand\u001b[0m \u001b[1;32mnot\u001b[0m \u001b[0mcopy\u001b[0m\u001b[1;33m:\u001b[0m\u001b[1;33m\u001b[0m\u001b[0m\n",
      "\u001b[1;31mValueError\u001b[0m: Length of values does not match length of index"
     ]
    }
   ],
   "source": []
  },
  {
   "cell_type": "code",
   "execution_count": 198,
   "metadata": {},
   "outputs": [
    {
     "data": {
      "text/plain": [
       "Index(['area', 'xz_ID', 'geometry', 'TM'], dtype='object')"
      ]
     },
     "execution_count": 198,
     "metadata": {},
     "output_type": "execute_result"
    }
   ],
   "source": [
    "gpdFc.columns"
   ]
  },
  {
   "cell_type": "code",
   "execution_count": 210,
   "metadata": {},
   "outputs": [],
   "source": [
    "import rasterio\n",
    "from rasterio.mask import mask\n",
    "from rasterio.plot import show\n",
    "from rasterio.plot import show_hist\n",
    "import geopandas as gpd\n",
    "from fiona.crs import from_epsg\n",
    "import pycrs\n",
    "import numpy as np \n",
    "\n",
    "\n",
    "# the input shapefile and raster shoul project to the same crs\n",
    "\n",
    "def getFeatures(gdf):\n",
    "    \"\"\"Function to parse features from GeoDataFrame in such a manner that rasterio wants them\"\"\"\n",
    "    import json\n",
    "    return [json.loads(gdf.to_json())['features'][0]['geometry']]\n",
    "\n",
    "def maskRaster(rasterFile,GeoDf):\n",
    "\tGeoDf = GeoDf.to_crs(crs=rasterFile.crs.data)\n",
    "\tcoords = getFeatures(GeoDf)\n",
    "\tout_img, out_transform = mask(raster=rasterFile, shapes=coords, crop=True)\n",
    "\tout_meta = rasterFile.meta.copy()\n",
    "\tepsg_code = int(rasterFile.crs.data['init'][5:])\n",
    "\t#out_meta.update({\"driver\": \"GTiff\",\"height\": out_img.shape[1],\"width\": out_img.shape[2],\"transform\": out_transform,\"crs\": pycrs.parser.from_epsg_code(epsg_code).to_proj4()})\n",
    "\treturn out_img\n",
    "\n",
    "\n",
    "def getLuccArr(luccMap,clipFc,year):\n",
    "\trasterFile = rasterio.open(luccMap)\n",
    "\tgpdFc = gpd.read_file(clipFc)\n",
    "\tlength = gpdFc.shape[0]\n",
    "\tclipArrLst = []\n",
    "\tfor i in range(length):\n",
    "\t\tclipShape = gpd.GeoDataFrame({'geometry': gpdFc.iloc[i].geometry}, index=[i], crs=rasterFile.crs.data)\n",
    "\t\tclipedImgArr = maskRaster(rasterFile,clipShape)\n",
    "\t\tTM_arr = clipedImgArr.data\n",
    "\t\tnp.place(TM_arr,TM_arr==255,0)\n",
    "\t\t#print(np.unique(TM_arr))\n",
    "\t\tclipArrLst.append(list(TM_arr))\n",
    "\tgpdFc['LuccMtx'+ str(year)] = clipArrLst\n",
    "\treturn \tgpdFc\n",
    "\n",
    "\n",
    "\n",
    "if __name__ == '__main__':\n",
    "\tlucc1996 = r\"C:\\Users\\jyang71\\Desktop\\Datasets\\DLTB\\DLTB1996_WH_Erase_Merge_UGB_Dis.tif\"\n",
    "\tlucc2002 = r\"C:\\Users\\jyang71\\Desktop\\Datasets\\DLTB\\DLTB2002_WH_Erase_Merge_UGB_Dis.tif\"\n",
    "\tlucc2005 = r\"C:\\Users\\jyang71\\Desktop\\Datasets\\DLTB\\DLTB2005_WH_Erase_Merge_UGB_Dis.tif\"\n",
    "\tlucc2010 = r\"C:\\Users\\jyang71\\Desktop\\Datasets\\DLTB\\DLTB2010_WH_Erase_Merge_UGB_Dis.tif\"\n",
    "\tlucc2015 = r\"C:\\Users\\jyang71\\Desktop\\Datasets\\DLTB\\DLTB2015_WH_Erase_Merge_UGB_Dis.tif\"\n",
    "\tclipFc = r\"C:\\Users\\jyang71\\Desktop\\Datasets\\WH_XZQ_Project_Eliminate.shp\"\n",
    "\tgpdFc = getLuccArr(lucc1996,clipFc,1996)\n",
    "\t\n",
    "#get the cliped array with sytax: \t\tgpdFc.TransMtx[i][0]\n",
    "\n",
    "\n"
   ]
  },
  {
   "cell_type": "code",
   "execution_count": 205,
   "metadata": {},
   "outputs": [
    {
     "data": {
      "text/plain": [
       "array([[0, 0, 0, ..., 0, 0, 0],\n",
       "       [0, 0, 0, ..., 0, 0, 0],\n",
       "       [0, 0, 0, ..., 0, 0, 0],\n",
       "       ...,\n",
       "       [0, 0, 0, ..., 0, 0, 0],\n",
       "       [0, 0, 0, ..., 0, 0, 0],\n",
       "       [0, 0, 0, ..., 0, 0, 0]], dtype=uint8)"
      ]
     },
     "execution_count": 205,
     "metadata": {},
     "output_type": "execute_result"
    }
   ],
   "source": [
    "gpdFc.TransMtx[66][0]"
   ]
  },
  {
   "cell_type": "code",
   "execution_count": 206,
   "metadata": {},
   "outputs": [
    {
     "data": {
      "image/png": "[encoded data removed]",
      "text/plain": [
       "<Figure size 432x288 with 1 Axes>"
      ]
     },
     "metadata": {},
     "output_type": "display_data"
    },
    {
     "data": {
      "text/plain": [
       "<matplotlib.axes._subplots.AxesSubplot at 0x253dc543668>"
      ]
     },
     "execution_count": 206,
     "metadata": {},
     "output_type": "execute_result"
    }
   ],
   "source": [
    "show(gpdFc.TransMtx[66][0])"
   ]
  },
  {
   "cell_type": "code",
   "execution_count": 207,
   "metadata": {},
   "outputs": [
    {
     "data": {
      "text/plain": [
       "array([0, 1, 2, 3, 4, 5, 6, 7], dtype=uint8)"
      ]
     },
     "execution_count": 207,
     "metadata": {},
     "output_type": "execute_result"
    }
   ],
   "source": [
    "np.unique(gpdFc.TransMtx[66][0])"
   ]
  },
  {
   "cell_type": "code",
   "execution_count": 211,
   "metadata": {},
   "outputs": [
    {
     "data": {
      "text/html": [
       "<div>\n",
       "<style scoped>\n",
       "    .dataframe tbody tr th:only-of-type {\n",
       "        vertical-align: middle;\n",
       "    }\n",
       "\n",
       "    .dataframe tbody tr th {\n",
       "        vertical-align: top;\n",
       "    }\n",
       "\n",
       "    .dataframe thead th {\n",
       "        text-align: right;\n",
       "    }\n",
       "</style>\n",
       "<table border=\"1\" class=\"dataframe\">\n",
       "  <thead>\n",
       "    <tr style=\"text-align: right;\">\n",
       "      <th></th>\n",
       "      <th>area</th>\n",
       "      <th>xz_ID</th>\n",
       "      <th>geometry</th>\n",
       "      <th>LuccMtx1996</th>\n",
       "    </tr>\n",
       "  </thead>\n",
       "  <tbody>\n",
       "    <tr>\n",
       "      <th>0</th>\n",
       "      <td>37.461746</td>\n",
       "      <td>0</td>\n",
       "      <td>POLYGON ((245196.7052662201 3395654.955879253,...</td>\n",
       "      <td>[[[0, 0, 0, 0, 0, 0, 0, 0, 0, 0, 0, 0, 0, 0, 0...</td>\n",
       "    </tr>\n",
       "    <tr>\n",
       "      <th>1</th>\n",
       "      <td>32.128707</td>\n",
       "      <td>1</td>\n",
       "      <td>POLYGON ((246127.9977300821 3398319.671288075,...</td>\n",
       "      <td>[[[0, 0, 0, 0, 0, 0, 0, 0, 0, 0, 0, 0, 0, 0, 0...</td>\n",
       "    </tr>\n",
       "    <tr>\n",
       "      <th>2</th>\n",
       "      <td>10.758785</td>\n",
       "      <td>2</td>\n",
       "      <td>POLYGON ((249053.5279977534 3398909.368736333,...</td>\n",
       "      <td>[[[0, 0, 0, 0, 0, 0, 0, 0, 0, 0, 0, 0, 0, 0, 0...</td>\n",
       "    </tr>\n",
       "    <tr>\n",
       "      <th>3</th>\n",
       "      <td>6.151334</td>\n",
       "      <td>3</td>\n",
       "      <td>POLYGON ((237567.9180708992 3387955.909025446,...</td>\n",
       "      <td>[[[0, 0, 0, 0, 0, 0, 0, 0, 0, 0, 0, 0, 0, 0, 0...</td>\n",
       "    </tr>\n",
       "    <tr>\n",
       "      <th>4</th>\n",
       "      <td>16.759394</td>\n",
       "      <td>4</td>\n",
       "      <td>POLYGON ((236700.8511632368 3393067.70824844, ...</td>\n",
       "      <td>[[[0, 0, 0, 0, 0, 0, 0, 0, 0, 0, 0, 0, 0, 0, 0...</td>\n",
       "    </tr>\n",
       "    <tr>\n",
       "      <th>5</th>\n",
       "      <td>5.408495</td>\n",
       "      <td>5</td>\n",
       "      <td>POLYGON ((236394.6852723961 3389458.658487836,...</td>\n",
       "      <td>[[[0, 0, 0, 0, 0, 0, 0, 0, 0, 0, 0, 0, 0, 0, 0...</td>\n",
       "    </tr>\n",
       "    <tr>\n",
       "      <th>6</th>\n",
       "      <td>24.680368</td>\n",
       "      <td>7</td>\n",
       "      <td>POLYGON ((227537.4216475239 3392163.239738112,...</td>\n",
       "      <td>[[[0, 0, 0, 0, 0, 0, 0, 0, 0, 0, 0, 0, 0, 0, 0...</td>\n",
       "    </tr>\n",
       "    <tr>\n",
       "      <th>7</th>\n",
       "      <td>27.709097</td>\n",
       "      <td>8</td>\n",
       "      <td>POLYGON ((233644.2325777694 3385670.883670883,...</td>\n",
       "      <td>[[[0, 0, 0, 0, 0, 0, 0, 0, 0, 0, 0, 0, 0, 0, 0...</td>\n",
       "    </tr>\n",
       "    <tr>\n",
       "      <th>8</th>\n",
       "      <td>56.402261</td>\n",
       "      <td>9</td>\n",
       "      <td>POLYGON ((228717.9280044194 3387327.006541017,...</td>\n",
       "      <td>[[[0, 0, 0, 0, 0, 0, 0, 0, 0, 0, 0, 0, 0, 0, 0...</td>\n",
       "    </tr>\n",
       "    <tr>\n",
       "      <th>9</th>\n",
       "      <td>6.987411</td>\n",
       "      <td>10</td>\n",
       "      <td>POLYGON ((232403.2265438587 3381692.517631772,...</td>\n",
       "      <td>[[[0, 0, 0, 0, 0, 0, 0, 0, 0, 0, 0, 0, 0, 0, 0...</td>\n",
       "    </tr>\n",
       "    <tr>\n",
       "      <th>10</th>\n",
       "      <td>3.754099</td>\n",
       "      <td>11</td>\n",
       "      <td>POLYGON ((250919.6381412717 3383366.473745157,...</td>\n",
       "      <td>[[[0, 0, 0, 0, 0, 0, 0, 0, 0, 0, 0, 0, 0, 0, 0...</td>\n",
       "    </tr>\n",
       "    <tr>\n",
       "      <th>11</th>\n",
       "      <td>1.606476</td>\n",
       "      <td>16</td>\n",
       "      <td>POLYGON ((258733.4220985044 3389075.853463032,...</td>\n",
       "      <td>[[[0, 0, 0, 0, 0, 0, 0, 0, 0, 0, 0, 0, 0, 0, 0...</td>\n",
       "    </tr>\n",
       "    <tr>\n",
       "      <th>12</th>\n",
       "      <td>9.589867</td>\n",
       "      <td>17</td>\n",
       "      <td>POLYGON ((262645.4781910261 3389900.251284848,...</td>\n",
       "      <td>[[[0, 0, 0, 0, 0, 0, 0, 0, 0, 0, 0, 0, 0, 0, 0...</td>\n",
       "    </tr>\n",
       "    <tr>\n",
       "      <th>13</th>\n",
       "      <td>46.164991</td>\n",
       "      <td>18</td>\n",
       "      <td>POLYGON ((256683.9132942013 3395586.884398385,...</td>\n",
       "      <td>[[[0, 0, 0, 0, 0, 0, 0, 0, 0, 0, 0, 0, 0, 0, 0...</td>\n",
       "    </tr>\n",
       "    <tr>\n",
       "      <th>14</th>\n",
       "      <td>8.045481</td>\n",
       "      <td>22</td>\n",
       "      <td>POLYGON ((246877.9241447171 3380677.722517348,...</td>\n",
       "      <td>[[[0, 0, 0, 0, 0, 0, 0, 0, 0, 0, 0, 0, 0, 0, 0...</td>\n",
       "    </tr>\n",
       "    <tr>\n",
       "      <th>15</th>\n",
       "      <td>7.632606</td>\n",
       "      <td>25</td>\n",
       "      <td>POLYGON ((250026.52186856 3380729.694675759, 2...</td>\n",
       "      <td>[[[0, 0, 0, 0, 0, 0, 0, 0, 0, 0, 0, 0, 0, 0, 0...</td>\n",
       "    </tr>\n",
       "    <tr>\n",
       "      <th>16</th>\n",
       "      <td>66.083682</td>\n",
       "      <td>27</td>\n",
       "      <td>POLYGON ((267814.7155710967 3386210.443324828,...</td>\n",
       "      <td>[[[0, 0, 0, 0, 0, 0, 0, 0, 0, 0, 0, 0, 0, 0, 0...</td>\n",
       "    </tr>\n",
       "    <tr>\n",
       "      <th>17</th>\n",
       "      <td>1.398032</td>\n",
       "      <td>28</td>\n",
       "      <td>POLYGON ((244611.8461093508 3384347.095094561,...</td>\n",
       "      <td>[[[0, 0, 0, 0, 0, 0, 0, 0, 0, 0, 0, 0, 0, 0, 0...</td>\n",
       "    </tr>\n",
       "    <tr>\n",
       "      <th>18</th>\n",
       "      <td>52.220920</td>\n",
       "      <td>33</td>\n",
       "      <td>POLYGON ((256928.5447249058 3385041.04157073, ...</td>\n",
       "      <td>[[[0, 0, 0, 0, 0, 0, 0, 0, 0, 0, 0, 0, 0, 0, 0...</td>\n",
       "    </tr>\n",
       "    <tr>\n",
       "      <th>19</th>\n",
       "      <td>30.865595</td>\n",
       "      <td>34</td>\n",
       "      <td>POLYGON ((257800.9283160074 3398601.455566616,...</td>\n",
       "      <td>[[[0, 0, 0, 0, 0, 0, 0, 0, 0, 0, 0, 0, 0, 0, 0...</td>\n",
       "    </tr>\n",
       "    <tr>\n",
       "      <th>20</th>\n",
       "      <td>13.160457</td>\n",
       "      <td>35</td>\n",
       "      <td>POLYGON ((258561.0994139828 3388014.182437374,...</td>\n",
       "      <td>[[[0, 0, 0, 0, 0, 0, 0, 0, 0, 0, 0, 0, 0, 0, 0...</td>\n",
       "    </tr>\n",
       "    <tr>\n",
       "      <th>21</th>\n",
       "      <td>7.757665</td>\n",
       "      <td>36</td>\n",
       "      <td>POLYGON ((244866.2670752909 3377999.291971728,...</td>\n",
       "      <td>[[[0, 0, 0, 0, 0, 0, 0, 0, 0, 0, 0, 0, 0, 0, 0...</td>\n",
       "    </tr>\n",
       "    <tr>\n",
       "      <th>22</th>\n",
       "      <td>48.149551</td>\n",
       "      <td>37</td>\n",
       "      <td>POLYGON ((203149.1909429217 3403110.389424345,...</td>\n",
       "      <td>[[[0, 0, 0, 0, 6, 6, 6, 6, 0, 0, 0, 0, 0, 0, 0...</td>\n",
       "    </tr>\n",
       "    <tr>\n",
       "      <th>23</th>\n",
       "      <td>93.572549</td>\n",
       "      <td>38</td>\n",
       "      <td>POLYGON ((223262.8303031383 3407591.97500018, ...</td>\n",
       "      <td>[[[0, 0, 0, 0, 0, 0, 0, 0, 0, 0, 0, 0, 0, 0, 0...</td>\n",
       "    </tr>\n",
       "    <tr>\n",
       "      <th>24</th>\n",
       "      <td>67.577829</td>\n",
       "      <td>39</td>\n",
       "      <td>POLYGON ((212844.6985774174 3409794.211813767,...</td>\n",
       "      <td>[[[0, 0, 0, 0, 0, 0, 0, 0, 0, 0, 0, 0, 0, 0, 0...</td>\n",
       "    </tr>\n",
       "    <tr>\n",
       "      <th>25</th>\n",
       "      <td>55.701988</td>\n",
       "      <td>40</td>\n",
       "      <td>POLYGON ((211105.1973076742 3409393.909792609,...</td>\n",
       "      <td>[[[0, 0, 0, 0, 0, 0, 0, 0, 0, 0, 0, 0, 0, 0, 0...</td>\n",
       "    </tr>\n",
       "    <tr>\n",
       "      <th>26</th>\n",
       "      <td>61.292155</td>\n",
       "      <td>41</td>\n",
       "      <td>POLYGON ((217652.9047025414 3398031.462757234,...</td>\n",
       "      <td>[[[0, 0, 0, 0, 0, 0, 0, 0, 0, 0, 0, 0, 0, 0, 0...</td>\n",
       "    </tr>\n",
       "    <tr>\n",
       "      <th>27</th>\n",
       "      <td>25.697684</td>\n",
       "      <td>42</td>\n",
       "      <td>POLYGON ((219868.0739246203 3390412.010286849,...</td>\n",
       "      <td>[[[0, 0, 0, 0, 0, 0, 0, 0, 0, 0, 0, 0, 0, 0, 0...</td>\n",
       "    </tr>\n",
       "    <tr>\n",
       "      <th>28</th>\n",
       "      <td>58.079141</td>\n",
       "      <td>43</td>\n",
       "      <td>POLYGON ((221844.0484690309 3399536.859112736,...</td>\n",
       "      <td>[[[0, 0, 0, 0, 0, 0, 0, 0, 0, 0, 0, 0, 0, 0, 0...</td>\n",
       "    </tr>\n",
       "    <tr>\n",
       "      <th>29</th>\n",
       "      <td>4.262942</td>\n",
       "      <td>44</td>\n",
       "      <td>POLYGON ((225335.4666741071 3391681.764966058,...</td>\n",
       "      <td>[[[0, 0, 0, 0, 0, 0, 0, 0, 0, 0, 0, 0, 0, 0, 0...</td>\n",
       "    </tr>\n",
       "    <tr>\n",
       "      <th>...</th>\n",
       "      <td>...</td>\n",
       "      <td>...</td>\n",
       "      <td>...</td>\n",
       "      <td>...</td>\n",
       "    </tr>\n",
       "    <tr>\n",
       "      <th>80</th>\n",
       "      <td>142.379392</td>\n",
       "      <td>96</td>\n",
       "      <td>POLYGON ((274281.1670465505 3416556.983339832,...</td>\n",
       "      <td>[[[0, 0, 0, 0, 0, 0, 0, 0, 0, 0, 0, 0, 0, 0, 0...</td>\n",
       "    </tr>\n",
       "    <tr>\n",
       "      <th>81</th>\n",
       "      <td>85.681565</td>\n",
       "      <td>97</td>\n",
       "      <td>POLYGON ((278680.1452474426 3426404.019568328,...</td>\n",
       "      <td>[[[0, 0, 0, 0, 0, 0, 0, 0, 0, 0, 0, 0, 0, 0, 0...</td>\n",
       "    </tr>\n",
       "    <tr>\n",
       "      <th>82</th>\n",
       "      <td>116.437197</td>\n",
       "      <td>98</td>\n",
       "      <td>POLYGON ((289233.3640943873 3431908.95755067, ...</td>\n",
       "      <td>[[[0, 0, 0, 0, 0, 0, 0, 0, 0, 0, 0, 0, 0, 0, 0...</td>\n",
       "    </tr>\n",
       "    <tr>\n",
       "      <th>83</th>\n",
       "      <td>59.997251</td>\n",
       "      <td>99</td>\n",
       "      <td>POLYGON ((306366.1218943342 3434899.469653212,...</td>\n",
       "      <td>[[[0, 0, 0, 0, 0, 0, 0, 0, 0, 0, 0, 0, 0, 0, 0...</td>\n",
       "    </tr>\n",
       "    <tr>\n",
       "      <th>84</th>\n",
       "      <td>116.449493</td>\n",
       "      <td>100</td>\n",
       "      <td>POLYGON ((301421.4200729014 3421689.024805699,...</td>\n",
       "      <td>[[[0, 0, 0, 0, 0, 0, 0, 0, 0, 0, 0, 0, 0, 0, 0...</td>\n",
       "    </tr>\n",
       "    <tr>\n",
       "      <th>85</th>\n",
       "      <td>181.299813</td>\n",
       "      <td>101</td>\n",
       "      <td>POLYGON ((284825.8778882028 3401674.388815791,...</td>\n",
       "      <td>[[[0, 0, 0, 0, 0, 0, 0, 0, 0, 0, 0, 0, 0, 0, 0...</td>\n",
       "    </tr>\n",
       "    <tr>\n",
       "      <th>86</th>\n",
       "      <td>78.487990</td>\n",
       "      <td>102</td>\n",
       "      <td>POLYGON ((296047.4470060932 3417645.762623927,...</td>\n",
       "      <td>[[[0, 0, 0, 0, 0, 0, 0, 0, 0, 0, 0, 0, 0, 0, 0...</td>\n",
       "    </tr>\n",
       "    <tr>\n",
       "      <th>87</th>\n",
       "      <td>83.767749</td>\n",
       "      <td>103</td>\n",
       "      <td>POLYGON ((306433.8678496751 3428966.569412167,...</td>\n",
       "      <td>[[[0, 0, 0, 0, 0, 0, 0, 0, 0, 0, 0, 0, 0, 0, 0...</td>\n",
       "    </tr>\n",
       "    <tr>\n",
       "      <th>88</th>\n",
       "      <td>1.349224</td>\n",
       "      <td>104</td>\n",
       "      <td>POLYGON ((307466.5057836499 3431132.560608812,...</td>\n",
       "      <td>[[[0, 0, 0, 0, 0, 0, 0, 0, 0, 0, 0, 0, 0, 0, 0...</td>\n",
       "    </tr>\n",
       "    <tr>\n",
       "      <th>89</th>\n",
       "      <td>56.440873</td>\n",
       "      <td>105</td>\n",
       "      <td>POLYGON ((285430.7641378734 3431331.247815964,...</td>\n",
       "      <td>[[[0, 0, 0, 0, 0, 0, 0, 0, 0, 0, 0, 0, 0, 0, 0...</td>\n",
       "    </tr>\n",
       "    <tr>\n",
       "      <th>90</th>\n",
       "      <td>16.820918</td>\n",
       "      <td>106</td>\n",
       "      <td>POLYGON ((308616.8388703883 3419723.795131347,...</td>\n",
       "      <td>[[[0, 0, 0, 0, 0, 0, 0, 0, 0, 0, 0, 0, 0, 0, 0...</td>\n",
       "    </tr>\n",
       "    <tr>\n",
       "      <th>91</th>\n",
       "      <td>33.554642</td>\n",
       "      <td>107</td>\n",
       "      <td>POLYGON ((287453.4716856948 3404785.893795603,...</td>\n",
       "      <td>[[[0, 0, 0, 0, 0, 0, 0, 0, 0, 0, 0, 0, 0, 0, 0...</td>\n",
       "    </tr>\n",
       "    <tr>\n",
       "      <th>92</th>\n",
       "      <td>16.990061</td>\n",
       "      <td>108</td>\n",
       "      <td>POLYGON ((272593.0611156847 3390572.940763018,...</td>\n",
       "      <td>[[[0, 0, 0, 0, 0, 0, 0, 0, 0, 0, 0, 0, 0, 0, 0...</td>\n",
       "    </tr>\n",
       "    <tr>\n",
       "      <th>93</th>\n",
       "      <td>9.133035</td>\n",
       "      <td>109</td>\n",
       "      <td>POLYGON ((286469.6434675962 3395403.419275079,...</td>\n",
       "      <td>[[[0, 0, 0, 0, 0, 0, 0, 0, 0, 0, 0, 0, 0, 0, 0...</td>\n",
       "    </tr>\n",
       "    <tr>\n",
       "      <th>94</th>\n",
       "      <td>15.413272</td>\n",
       "      <td>110</td>\n",
       "      <td>POLYGON ((232899.3900127298 3388579.768415547,...</td>\n",
       "      <td>[[[0, 0, 0, 0, 0, 0, 0, 0, 0, 0, 0, 0, 0, 0, 0...</td>\n",
       "    </tr>\n",
       "    <tr>\n",
       "      <th>95</th>\n",
       "      <td>20.553338</td>\n",
       "      <td>111</td>\n",
       "      <td>POLYGON ((235484.9671065494 3382080.011242107,...</td>\n",
       "      <td>[[[0, 0, 0, 0, 0, 0, 0, 0, 0, 0, 0, 0, 0, 0, 0...</td>\n",
       "    </tr>\n",
       "    <tr>\n",
       "      <th>96</th>\n",
       "      <td>59.908213</td>\n",
       "      <td>112</td>\n",
       "      <td>POLYGON ((245613.7261773834 3389510.286564253,...</td>\n",
       "      <td>[[[0, 0, 0, 0, 0, 0, 0, 0, 0, 0, 0, 0, 0, 0, 0...</td>\n",
       "    </tr>\n",
       "    <tr>\n",
       "      <th>97</th>\n",
       "      <td>45.095910</td>\n",
       "      <td>113</td>\n",
       "      <td>POLYGON ((271615.2574039308 3382768.308279656,...</td>\n",
       "      <td>[[[0, 0, 0, 0, 0, 0, 0, 0, 0, 0, 0, 0, 0, 0, 0...</td>\n",
       "    </tr>\n",
       "    <tr>\n",
       "      <th>98</th>\n",
       "      <td>122.796056</td>\n",
       "      <td>114</td>\n",
       "      <td>POLYGON ((249989.4252048793 3388328.134905848,...</td>\n",
       "      <td>[[[0, 0, 0, 0, 0, 0, 0, 0, 0, 0, 0, 0, 0, 0, 0...</td>\n",
       "    </tr>\n",
       "    <tr>\n",
       "      <th>99</th>\n",
       "      <td>46.552096</td>\n",
       "      <td>115</td>\n",
       "      <td>POLYGON ((247532.5543909845 3392250.719371889,...</td>\n",
       "      <td>[[[0, 0, 0, 0, 0, 0, 0, 0, 0, 0, 0, 0, 0, 0, 0...</td>\n",
       "    </tr>\n",
       "    <tr>\n",
       "      <th>100</th>\n",
       "      <td>85.535314</td>\n",
       "      <td>116</td>\n",
       "      <td>POLYGON ((240582.2796101572 3379272.911303367,...</td>\n",
       "      <td>[[[0, 0, 0, 0, 0, 0, 0, 0, 0, 0, 0, 0, 0, 0, 0...</td>\n",
       "    </tr>\n",
       "    <tr>\n",
       "      <th>101</th>\n",
       "      <td>87.239909</td>\n",
       "      <td>117</td>\n",
       "      <td>POLYGON ((260398.6642917916 3397402.411912315,...</td>\n",
       "      <td>[[[0, 0, 0, 0, 0, 0, 0, 0, 0, 0, 0, 0, 0, 0, 0...</td>\n",
       "    </tr>\n",
       "    <tr>\n",
       "      <th>102</th>\n",
       "      <td>91.269864</td>\n",
       "      <td>118</td>\n",
       "      <td>POLYGON ((214965.5108604833 3388477.833399748,...</td>\n",
       "      <td>[[[0, 0, 0, 0, 0, 0, 0, 0, 0, 0, 0, 0, 0, 0, 0...</td>\n",
       "    </tr>\n",
       "    <tr>\n",
       "      <th>103</th>\n",
       "      <td>76.044312</td>\n",
       "      <td>119</td>\n",
       "      <td>POLYGON ((203638.3732155839 3378431.650757858,...</td>\n",
       "      <td>[[[0, 0, 0, 0, 0, 0, 0, 0, 0, 0, 0, 0, 0, 0, 0...</td>\n",
       "    </tr>\n",
       "    <tr>\n",
       "      <th>104</th>\n",
       "      <td>90.515383</td>\n",
       "      <td>120</td>\n",
       "      <td>POLYGON ((227599.21378633 3382636.939995873, 2...</td>\n",
       "      <td>[[[0, 0, 0, 0, 0, 0, 0, 0, 0, 0, 0, 0, 0, 0, 0...</td>\n",
       "    </tr>\n",
       "    <tr>\n",
       "      <th>105</th>\n",
       "      <td>12.880540</td>\n",
       "      <td>121</td>\n",
       "      <td>POLYGON ((223249.2988069631 3348170.69182054, ...</td>\n",
       "      <td>[[[0, 0, 0, 0, 0, 0, 0, 0, 0, 0, 0, 0, 0, 0, 0...</td>\n",
       "    </tr>\n",
       "    <tr>\n",
       "      <th>106</th>\n",
       "      <td>152.912197</td>\n",
       "      <td>122</td>\n",
       "      <td>POLYGON ((230610.8081088376 3430907.712109516,...</td>\n",
       "      <td>[[[0, 0, 0, 0, 0, 0, 0, 0, 0, 0, 0, 0, 0, 0, 0...</td>\n",
       "    </tr>\n",
       "    <tr>\n",
       "      <th>107</th>\n",
       "      <td>98.655860</td>\n",
       "      <td>123</td>\n",
       "      <td>POLYGON ((240058.0374196026 3418581.852234608,...</td>\n",
       "      <td>[[[0, 0, 0, 0, 0, 0, 0, 0, 0, 0, 0, 0, 0, 0, 0...</td>\n",
       "    </tr>\n",
       "    <tr>\n",
       "      <th>108</th>\n",
       "      <td>153.978382</td>\n",
       "      <td>124</td>\n",
       "      <td>POLYGON ((257347.5885367659 3438455.774258532,...</td>\n",
       "      <td>[[[0, 0, 0, 0, 0, 0, 0, 0, 0, 0, 0, 0, 0, 0, 0...</td>\n",
       "    </tr>\n",
       "    <tr>\n",
       "      <th>109</th>\n",
       "      <td>195.508856</td>\n",
       "      <td>125</td>\n",
       "      <td>POLYGON ((264570.8798002363 3403202.040262681,...</td>\n",
       "      <td>[[[0, 0, 0, 0, 0, 0, 0, 0, 0, 0, 0, 0, 0, 0, 0...</td>\n",
       "    </tr>\n",
       "  </tbody>\n",
       "</table>\n",
       "<p>110 rows × 4 columns</p>\n",
       "</div>"
      ],
      "text/plain": [
       "           area  xz_ID                                           geometry  \\\n",
       "0     37.461746      0  POLYGON ((245196.7052662201 3395654.955879253,...   \n",
       "1     32.128707      1  POLYGON ((246127.9977300821 3398319.671288075,...   \n",
       "2     10.758785      2  POLYGON ((249053.5279977534 3398909.368736333,...   \n",
       "3      6.151334      3  POLYGON ((237567.9180708992 3387955.909025446,...   \n",
       "4     16.759394      4  POLYGON ((236700.8511632368 3393067.70824844, ...   \n",
       "5      5.408495      5  POLYGON ((236394.6852723961 3389458.658487836,...   \n",
       "6     24.680368      7  POLYGON ((227537.4216475239 3392163.239738112,...   \n",
       "7     27.709097      8  POLYGON ((233644.2325777694 3385670.883670883,...   \n",
       "8     56.402261      9  POLYGON ((228717.9280044194 3387327.006541017,...   \n",
       "9      6.987411     10  POLYGON ((232403.2265438587 3381692.517631772,...   \n",
       "10     3.754099     11  POLYGON ((250919.6381412717 3383366.473745157,...   \n",
       "11     1.606476     16  POLYGON ((258733.4220985044 3389075.853463032,...   \n",
       "12     9.589867     17  POLYGON ((262645.4781910261 3389900.251284848,...   \n",
       "13    46.164991     18  POLYGON ((256683.9132942013 3395586.884398385,...   \n",
       "14     8.045481     22  POLYGON ((246877.9241447171 3380677.722517348,...   \n",
       "15     7.632606     25  POLYGON ((250026.52186856 3380729.694675759, 2...   \n",
       "16    66.083682     27  POLYGON ((267814.7155710967 3386210.443324828,...   \n",
       "17     1.398032     28  POLYGON ((244611.8461093508 3384347.095094561,...   \n",
       "18    52.220920     33  POLYGON ((256928.5447249058 3385041.04157073, ...   \n",
       "19    30.865595     34  POLYGON ((257800.9283160074 3398601.455566616,...   \n",
       "20    13.160457     35  POLYGON ((258561.0994139828 3388014.182437374,...   \n",
       "21     7.757665     36  POLYGON ((244866.2670752909 3377999.291971728,...   \n",
       "22    48.149551     37  POLYGON ((203149.1909429217 3403110.389424345,...   \n",
       "23    93.572549     38  POLYGON ((223262.8303031383 3407591.97500018, ...   \n",
       "24    67.577829     39  POLYGON ((212844.6985774174 3409794.211813767,...   \n",
       "25    55.701988     40  POLYGON ((211105.1973076742 3409393.909792609,...   \n",
       "26    61.292155     41  POLYGON ((217652.9047025414 3398031.462757234,...   \n",
       "27    25.697684     42  POLYGON ((219868.0739246203 3390412.010286849,...   \n",
       "28    58.079141     43  POLYGON ((221844.0484690309 3399536.859112736,...   \n",
       "29     4.262942     44  POLYGON ((225335.4666741071 3391681.764966058,...   \n",
       "..          ...    ...                                                ...   \n",
       "80   142.379392     96  POLYGON ((274281.1670465505 3416556.983339832,...   \n",
       "81    85.681565     97  POLYGON ((278680.1452474426 3426404.019568328,...   \n",
       "82   116.437197     98  POLYGON ((289233.3640943873 3431908.95755067, ...   \n",
       "83    59.997251     99  POLYGON ((306366.1218943342 3434899.469653212,...   \n",
       "84   116.449493    100  POLYGON ((301421.4200729014 3421689.024805699,...   \n",
       "85   181.299813    101  POLYGON ((284825.8778882028 3401674.388815791,...   \n",
       "86    78.487990    102  POLYGON ((296047.4470060932 3417645.762623927,...   \n",
       "87    83.767749    103  POLYGON ((306433.8678496751 3428966.569412167,...   \n",
       "88     1.349224    104  POLYGON ((307466.5057836499 3431132.560608812,...   \n",
       "89    56.440873    105  POLYGON ((285430.7641378734 3431331.247815964,...   \n",
       "90    16.820918    106  POLYGON ((308616.8388703883 3419723.795131347,...   \n",
       "91    33.554642    107  POLYGON ((287453.4716856948 3404785.893795603,...   \n",
       "92    16.990061    108  POLYGON ((272593.0611156847 3390572.940763018,...   \n",
       "93     9.133035    109  POLYGON ((286469.6434675962 3395403.419275079,...   \n",
       "94    15.413272    110  POLYGON ((232899.3900127298 3388579.768415547,...   \n",
       "95    20.553338    111  POLYGON ((235484.9671065494 3382080.011242107,...   \n",
       "96    59.908213    112  POLYGON ((245613.7261773834 3389510.286564253,...   \n",
       "97    45.095910    113  POLYGON ((271615.2574039308 3382768.308279656,...   \n",
       "98   122.796056    114  POLYGON ((249989.4252048793 3388328.134905848,...   \n",
       "99    46.552096    115  POLYGON ((247532.5543909845 3392250.719371889,...   \n",
       "100   85.535314    116  POLYGON ((240582.2796101572 3379272.911303367,...   \n",
       "101   87.239909    117  POLYGON ((260398.6642917916 3397402.411912315,...   \n",
       "102   91.269864    118  POLYGON ((214965.5108604833 3388477.833399748,...   \n",
       "103   76.044312    119  POLYGON ((203638.3732155839 3378431.650757858,...   \n",
       "104   90.515383    120  POLYGON ((227599.21378633 3382636.939995873, 2...   \n",
       "105   12.880540    121  POLYGON ((223249.2988069631 3348170.69182054, ...   \n",
       "106  152.912197    122  POLYGON ((230610.8081088376 3430907.712109516,...   \n",
       "107   98.655860    123  POLYGON ((240058.0374196026 3418581.852234608,...   \n",
       "108  153.978382    124  POLYGON ((257347.5885367659 3438455.774258532,...   \n",
       "109  195.508856    125  POLYGON ((264570.8798002363 3403202.040262681,...   \n",
       "\n",
       "                                           LuccMtx1996  \n",
       "0    [[[0, 0, 0, 0, 0, 0, 0, 0, 0, 0, 0, 0, 0, 0, 0...  \n",
       "1    [[[0, 0, 0, 0, 0, 0, 0, 0, 0, 0, 0, 0, 0, 0, 0...  \n",
       "2    [[[0, 0, 0, 0, 0, 0, 0, 0, 0, 0, 0, 0, 0, 0, 0...  \n",
       "3    [[[0, 0, 0, 0, 0, 0, 0, 0, 0, 0, 0, 0, 0, 0, 0...  \n",
       "4    [[[0, 0, 0, 0, 0, 0, 0, 0, 0, 0, 0, 0, 0, 0, 0...  \n",
       "5    [[[0, 0, 0, 0, 0, 0, 0, 0, 0, 0, 0, 0, 0, 0, 0...  \n",
       "6    [[[0, 0, 0, 0, 0, 0, 0, 0, 0, 0, 0, 0, 0, 0, 0...  \n",
       "7    [[[0, 0, 0, 0, 0, 0, 0, 0, 0, 0, 0, 0, 0, 0, 0...  \n",
       "8    [[[0, 0, 0, 0, 0, 0, 0, 0, 0, 0, 0, 0, 0, 0, 0...  \n",
       "9    [[[0, 0, 0, 0, 0, 0, 0, 0, 0, 0, 0, 0, 0, 0, 0...  \n",
       "10   [[[0, 0, 0, 0, 0, 0, 0, 0, 0, 0, 0, 0, 0, 0, 0...  \n",
       "11   [[[0, 0, 0, 0, 0, 0, 0, 0, 0, 0, 0, 0, 0, 0, 0...  \n",
       "12   [[[0, 0, 0, 0, 0, 0, 0, 0, 0, 0, 0, 0, 0, 0, 0...  \n",
       "13   [[[0, 0, 0, 0, 0, 0, 0, 0, 0, 0, 0, 0, 0, 0, 0...  \n",
       "14   [[[0, 0, 0, 0, 0, 0, 0, 0, 0, 0, 0, 0, 0, 0, 0...  \n",
       "15   [[[0, 0, 0, 0, 0, 0, 0, 0, 0, 0, 0, 0, 0, 0, 0...  \n",
       "16   [[[0, 0, 0, 0, 0, 0, 0, 0, 0, 0, 0, 0, 0, 0, 0...  \n",
       "17   [[[0, 0, 0, 0, 0, 0, 0, 0, 0, 0, 0, 0, 0, 0, 0...  \n",
       "18   [[[0, 0, 0, 0, 0, 0, 0, 0, 0, 0, 0, 0, 0, 0, 0...  \n",
       "19   [[[0, 0, 0, 0, 0, 0, 0, 0, 0, 0, 0, 0, 0, 0, 0...  \n",
       "20   [[[0, 0, 0, 0, 0, 0, 0, 0, 0, 0, 0, 0, 0, 0, 0...  \n",
       "21   [[[0, 0, 0, 0, 0, 0, 0, 0, 0, 0, 0, 0, 0, 0, 0...  \n",
       "22   [[[0, 0, 0, 0, 6, 6, 6, 6, 0, 0, 0, 0, 0, 0, 0...  \n",
       "23   [[[0, 0, 0, 0, 0, 0, 0, 0, 0, 0, 0, 0, 0, 0, 0...  \n",
       "24   [[[0, 0, 0, 0, 0, 0, 0, 0, 0, 0, 0, 0, 0, 0, 0...  \n",
       "25   [[[0, 0, 0, 0, 0, 0, 0, 0, 0, 0, 0, 0, 0, 0, 0...  \n",
       "26   [[[0, 0, 0, 0, 0, 0, 0, 0, 0, 0, 0, 0, 0, 0, 0...  \n",
       "27   [[[0, 0, 0, 0, 0, 0, 0, 0, 0, 0, 0, 0, 0, 0, 0...  \n",
       "28   [[[0, 0, 0, 0, 0, 0, 0, 0, 0, 0, 0, 0, 0, 0, 0...  \n",
       "29   [[[0, 0, 0, 0, 0, 0, 0, 0, 0, 0, 0, 0, 0, 0, 0...  \n",
       "..                                                 ...  \n",
       "80   [[[0, 0, 0, 0, 0, 0, 0, 0, 0, 0, 0, 0, 0, 0, 0...  \n",
       "81   [[[0, 0, 0, 0, 0, 0, 0, 0, 0, 0, 0, 0, 0, 0, 0...  \n",
       "82   [[[0, 0, 0, 0, 0, 0, 0, 0, 0, 0, 0, 0, 0, 0, 0...  \n",
       "83   [[[0, 0, 0, 0, 0, 0, 0, 0, 0, 0, 0, 0, 0, 0, 0...  \n",
       "84   [[[0, 0, 0, 0, 0, 0, 0, 0, 0, 0, 0, 0, 0, 0, 0...  \n",
       "85   [[[0, 0, 0, 0, 0, 0, 0, 0, 0, 0, 0, 0, 0, 0, 0...  \n",
       "86   [[[0, 0, 0, 0, 0, 0, 0, 0, 0, 0, 0, 0, 0, 0, 0...  \n",
       "87   [[[0, 0, 0, 0, 0, 0, 0, 0, 0, 0, 0, 0, 0, 0, 0...  \n",
       "88   [[[0, 0, 0, 0, 0, 0, 0, 0, 0, 0, 0, 0, 0, 0, 0...  \n",
       "89   [[[0, 0, 0, 0, 0, 0, 0, 0, 0, 0, 0, 0, 0, 0, 0...  \n",
       "90   [[[0, 0, 0, 0, 0, 0, 0, 0, 0, 0, 0, 0, 0, 0, 0...  \n",
       "91   [[[0, 0, 0, 0, 0, 0, 0, 0, 0, 0, 0, 0, 0, 0, 0...  \n",
       "92   [[[0, 0, 0, 0, 0, 0, 0, 0, 0, 0, 0, 0, 0, 0, 0...  \n",
       "93   [[[0, 0, 0, 0, 0, 0, 0, 0, 0, 0, 0, 0, 0, 0, 0...  \n",
       "94   [[[0, 0, 0, 0, 0, 0, 0, 0, 0, 0, 0, 0, 0, 0, 0...  \n",
       "95   [[[0, 0, 0, 0, 0, 0, 0, 0, 0, 0, 0, 0, 0, 0, 0...  \n",
       "96   [[[0, 0, 0, 0, 0, 0, 0, 0, 0, 0, 0, 0, 0, 0, 0...  \n",
       "97   [[[0, 0, 0, 0, 0, 0, 0, 0, 0, 0, 0, 0, 0, 0, 0...  \n",
       "98   [[[0, 0, 0, 0, 0, 0, 0, 0, 0, 0, 0, 0, 0, 0, 0...  \n",
       "99   [[[0, 0, 0, 0, 0, 0, 0, 0, 0, 0, 0, 0, 0, 0, 0...  \n",
       "100  [[[0, 0, 0, 0, 0, 0, 0, 0, 0, 0, 0, 0, 0, 0, 0...  \n",
       "101  [[[0, 0, 0, 0, 0, 0, 0, 0, 0, 0, 0, 0, 0, 0, 0...  \n",
       "102  [[[0, 0, 0, 0, 0, 0, 0, 0, 0, 0, 0, 0, 0, 0, 0...  \n",
       "103  [[[0, 0, 0, 0, 0, 0, 0, 0, 0, 0, 0, 0, 0, 0, 0...  \n",
       "104  [[[0, 0, 0, 0, 0, 0, 0, 0, 0, 0, 0, 0, 0, 0, 0...  \n",
       "105  [[[0, 0, 0, 0, 0, 0, 0, 0, 0, 0, 0, 0, 0, 0, 0...  \n",
       "106  [[[0, 0, 0, 0, 0, 0, 0, 0, 0, 0, 0, 0, 0, 0, 0...  \n",
       "107  [[[0, 0, 0, 0, 0, 0, 0, 0, 0, 0, 0, 0, 0, 0, 0...  \n",
       "108  [[[0, 0, 0, 0, 0, 0, 0, 0, 0, 0, 0, 0, 0, 0, 0...  \n",
       "109  [[[0, 0, 0, 0, 0, 0, 0, 0, 0, 0, 0, 0, 0, 0, 0...  \n",
       "\n",
       "[110 rows x 4 columns]"
      ]
     },
     "execution_count": 211,
     "metadata": {},
     "output_type": "execute_result"
    }
   ],
   "source": [
    "gpdFc"
   ]
  },
  {
   "cell_type": "code",
   "execution_count": 212,
   "metadata": {},
   "outputs": [],
   "source": [
    "import CrossTabulation as ct"
   ]
  },
  {
   "cell_type": "code",
   "execution_count": 213,
   "metadata": {},
   "outputs": [],
   "source": [
    "import CrossTabulation as ct\n",
    "import ClippingRrasterWithShp as cRs\n",
    "import numpy as np\n",
    "import pandas as pd\n",
    "from sklearn.metrics import cohen_kappa_score"
   ]
  },
  {
   "cell_type": "code",
   "execution_count": 219,
   "metadata": {},
   "outputs": [
    {
     "ename": "TypeError",
     "evalue": "getLuccArr() missing 1 required positional argument: 'year'",
     "output_type": "error",
     "traceback": [
      "\u001b[1;31m---------------------------------------------------------------------------\u001b[0m",
      "\u001b[1;31mTypeError\u001b[0m                                 Traceback (most recent call last)",
      "\u001b[1;32m<ipython-input-219-58beec7f1a2a>\u001b[0m in \u001b[0;36m<module>\u001b[1;34m()\u001b[0m\n\u001b[0;32m     12\u001b[0m \u001b[0mlucc2015\u001b[0m \u001b[1;33m=\u001b[0m \u001b[1;34mr\"C:\\Users\\jyang71\\Desktop\\Datasets\\DLTB\\DLTB2015_WH_Erase_Merge_UGB_Dis.tif\"\u001b[0m\u001b[1;33m\u001b[0m\u001b[0m\n\u001b[0;32m     13\u001b[0m \u001b[0mclipFc\u001b[0m \u001b[1;33m=\u001b[0m \u001b[1;34mr\"C:\\Users\\jyang71\\Desktop\\Datasets\\WH_XZQ_Project_Eliminate.shp\"\u001b[0m\u001b[1;33m\u001b[0m\u001b[0m\n\u001b[1;32m---> 14\u001b[1;33m \u001b[0mgpdFc1996\u001b[0m \u001b[1;33m=\u001b[0m \u001b[0mcRs\u001b[0m\u001b[1;33m.\u001b[0m\u001b[0mgetLuccArr\u001b[0m\u001b[1;33m(\u001b[0m\u001b[0mlucc1996\u001b[0m\u001b[1;33m,\u001b[0m\u001b[0mclipFc\u001b[0m\u001b[1;33m)\u001b[0m\u001b[1;33m\u001b[0m\u001b[0m\n\u001b[0m\u001b[0;32m     15\u001b[0m \u001b[0mgpdFc2002\u001b[0m \u001b[1;33m=\u001b[0m \u001b[0mcRs\u001b[0m\u001b[1;33m.\u001b[0m\u001b[0mgetLuccArr\u001b[0m\u001b[1;33m(\u001b[0m\u001b[0mlucc1996\u001b[0m\u001b[1;33m,\u001b[0m\u001b[0mclipFc\u001b[0m\u001b[1;33m)\u001b[0m\u001b[1;33m\u001b[0m\u001b[0m\n\u001b[0;32m     16\u001b[0m \u001b[0mgpdFc2005\u001b[0m \u001b[1;33m=\u001b[0m \u001b[0mcRs\u001b[0m\u001b[1;33m.\u001b[0m\u001b[0mgetLuccArr\u001b[0m\u001b[1;33m(\u001b[0m\u001b[0mlucc1996\u001b[0m\u001b[1;33m,\u001b[0m\u001b[0mclipFc\u001b[0m\u001b[1;33m)\u001b[0m\u001b[1;33m\u001b[0m\u001b[0m\n",
      "\u001b[1;31mTypeError\u001b[0m: getLuccArr() missing 1 required positional argument: 'year'"
     ]
    }
   ],
   "source": [
    "import CrossTabulation as ct\n",
    "import ClippingRrasterWithShp as cRs\n",
    "import numpy as np\n",
    "import pandas as pd\n",
    "from sklearn.metrics import cohen_kappa_score\n",
    "\n",
    "\n",
    "lucc1996 = r\"C:\\Users\\jyang71\\Desktop\\Datasets\\DLTB\\DLTB1996_WH_Erase_Merge_UGB_Dis.tif\"\n",
    "lucc2002 = r\"C:\\Users\\jyang71\\Desktop\\Datasets\\DLTB\\DLTB2002_WH_Erase_Merge_UGB_Dis.tif\"\n",
    "lucc2005 = r\"C:\\Users\\jyang71\\Desktop\\Datasets\\DLTB\\DLTB2005_WH_Erase_Merge_UGB_Dis.tif\"\n",
    "lucc2010 = r\"C:\\Users\\jyang71\\Desktop\\Datasets\\DLTB\\DLTB2010_WH_Erase_Merge_UGB_Dis.tif\"\n",
    "lucc2015 = r\"C:\\Users\\jyang71\\Desktop\\Datasets\\DLTB\\DLTB2015_WH_Erase_Merge_UGB_Dis.tif\"\n",
    "clipFc = r\"C:\\Users\\jyang71\\Desktop\\Datasets\\WH_XZQ_Project_Eliminate.shp\"\n",
    "gpdFc1996 = cRs.getLuccArr(lucc1996,clipFc)\n",
    "gpdFc2002 = cRs.getLuccArr(lucc1996,clipFc)\n",
    "gpdFc2005 = cRs.getLuccArr(lucc1996,clipFc)\n",
    "gpdFc2010 = cRs.getLuccArr(lucc1996,clipFc)\n",
    "gpdFc2015 = cRs.getLuccArr(lucc1996,clipFc)\n",
    "\n",
    "\n",
    "shapeLength = gpdFc1996.shape[0]\n",
    "\n",
    "for i in range(shapeLength):\n",
    "\tmapArr_96 = gpdFc1996.TransMtx[i][0]\n",
    "\tmapArr_05 = gpdFc2005.TransMtx[i][0]\n",
    "\tmapArr_10 = gpdFc2010.TransMtx[i][0]\n",
    "\tmapArr_15 = gpdFc2015.TransMtx[i][0]\n",
    "\tTM_9605 = ct.transMatrix(mapArr_96,mapArr_05,7)[1]\n",
    "\tgainIntenPtn_9605,lossIntenPtn_9605 = ct.TransPattern(TM_9605,9)\n",
    "\tGainLossPtn_9605 = ct.mergeGainLoss(gainIntenPtn_ab,lossIntenPtn_ab)"
   ]
  },
  {
   "cell_type": "code",
   "execution_count": 215,
   "metadata": {},
   "outputs": [
    {
     "data": {
      "text/html": [
       "<div>\n",
       "<style scoped>\n",
       "    .dataframe tbody tr th:only-of-type {\n",
       "        vertical-align: middle;\n",
       "    }\n",
       "\n",
       "    .dataframe tbody tr th {\n",
       "        vertical-align: top;\n",
       "    }\n",
       "\n",
       "    .dataframe thead th {\n",
       "        text-align: right;\n",
       "    }\n",
       "</style>\n",
       "<table border=\"1\" class=\"dataframe\">\n",
       "  <thead>\n",
       "    <tr style=\"text-align: right;\">\n",
       "      <th></th>\n",
       "      <th>area</th>\n",
       "      <th>xz_ID</th>\n",
       "      <th>geometry</th>\n",
       "      <th>LuccMtx2010</th>\n",
       "    </tr>\n",
       "  </thead>\n",
       "  <tbody>\n",
       "    <tr>\n",
       "      <th>0</th>\n",
       "      <td>37.461746</td>\n",
       "      <td>0</td>\n",
       "      <td>POLYGON ((245196.7052662201 3395654.955879253,...</td>\n",
       "      <td>[[[0, 0, 0, 0, 0, 0, 0, 0, 0, 0, 0, 0, 0, 0, 0...</td>\n",
       "    </tr>\n",
       "    <tr>\n",
       "      <th>1</th>\n",
       "      <td>32.128707</td>\n",
       "      <td>1</td>\n",
       "      <td>POLYGON ((246127.9977300821 3398319.671288075,...</td>\n",
       "      <td>[[[0, 0, 0, 0, 0, 0, 0, 0, 0, 0, 0, 0, 0, 0, 0...</td>\n",
       "    </tr>\n",
       "    <tr>\n",
       "      <th>2</th>\n",
       "      <td>10.758785</td>\n",
       "      <td>2</td>\n",
       "      <td>POLYGON ((249053.5279977534 3398909.368736333,...</td>\n",
       "      <td>[[[0, 0, 0, 0, 0, 0, 0, 0, 0, 0, 0, 0, 0, 0, 0...</td>\n",
       "    </tr>\n",
       "    <tr>\n",
       "      <th>3</th>\n",
       "      <td>6.151334</td>\n",
       "      <td>3</td>\n",
       "      <td>POLYGON ((237567.9180708992 3387955.909025446,...</td>\n",
       "      <td>[[[0, 0, 0, 0, 0, 0, 0, 0, 0, 0, 0, 0, 0, 0, 0...</td>\n",
       "    </tr>\n",
       "    <tr>\n",
       "      <th>4</th>\n",
       "      <td>16.759394</td>\n",
       "      <td>4</td>\n",
       "      <td>POLYGON ((236700.8511632368 3393067.70824844, ...</td>\n",
       "      <td>[[[0, 0, 0, 0, 0, 0, 0, 0, 0, 0, 0, 0, 0, 0, 0...</td>\n",
       "    </tr>\n",
       "    <tr>\n",
       "      <th>5</th>\n",
       "      <td>5.408495</td>\n",
       "      <td>5</td>\n",
       "      <td>POLYGON ((236394.6852723961 3389458.658487836,...</td>\n",
       "      <td>[[[0, 0, 0, 0, 0, 0, 0, 0, 0, 0, 0, 0, 0, 0, 0...</td>\n",
       "    </tr>\n",
       "    <tr>\n",
       "      <th>6</th>\n",
       "      <td>24.680368</td>\n",
       "      <td>7</td>\n",
       "      <td>POLYGON ((227537.4216475239 3392163.239738112,...</td>\n",
       "      <td>[[[0, 0, 0, 0, 0, 0, 0, 0, 0, 0, 0, 0, 0, 0, 0...</td>\n",
       "    </tr>\n",
       "    <tr>\n",
       "      <th>7</th>\n",
       "      <td>27.709097</td>\n",
       "      <td>8</td>\n",
       "      <td>POLYGON ((233644.2325777694 3385670.883670883,...</td>\n",
       "      <td>[[[0, 0, 0, 0, 0, 0, 0, 0, 0, 0, 0, 0, 0, 0, 0...</td>\n",
       "    </tr>\n",
       "    <tr>\n",
       "      <th>8</th>\n",
       "      <td>56.402261</td>\n",
       "      <td>9</td>\n",
       "      <td>POLYGON ((228717.9280044194 3387327.006541017,...</td>\n",
       "      <td>[[[0, 0, 0, 0, 0, 0, 0, 0, 0, 0, 0, 0, 0, 0, 0...</td>\n",
       "    </tr>\n",
       "    <tr>\n",
       "      <th>9</th>\n",
       "      <td>6.987411</td>\n",
       "      <td>10</td>\n",
       "      <td>POLYGON ((232403.2265438587 3381692.517631772,...</td>\n",
       "      <td>[[[0, 0, 0, 0, 0, 0, 0, 0, 0, 0, 0, 0, 0, 0, 0...</td>\n",
       "    </tr>\n",
       "    <tr>\n",
       "      <th>10</th>\n",
       "      <td>3.754099</td>\n",
       "      <td>11</td>\n",
       "      <td>POLYGON ((250919.6381412717 3383366.473745157,...</td>\n",
       "      <td>[[[0, 0, 0, 0, 0, 0, 0, 0, 0, 0, 0, 0, 0, 0, 0...</td>\n",
       "    </tr>\n",
       "    <tr>\n",
       "      <th>11</th>\n",
       "      <td>1.606476</td>\n",
       "      <td>16</td>\n",
       "      <td>POLYGON ((258733.4220985044 3389075.853463032,...</td>\n",
       "      <td>[[[0, 0, 0, 0, 0, 0, 0, 0, 0, 0, 0, 0, 0, 0, 0...</td>\n",
       "    </tr>\n",
       "    <tr>\n",
       "      <th>12</th>\n",
       "      <td>9.589867</td>\n",
       "      <td>17</td>\n",
       "      <td>POLYGON ((262645.4781910261 3389900.251284848,...</td>\n",
       "      <td>[[[0, 0, 0, 0, 0, 0, 0, 0, 0, 0, 0, 0, 0, 0, 0...</td>\n",
       "    </tr>\n",
       "    <tr>\n",
       "      <th>13</th>\n",
       "      <td>46.164991</td>\n",
       "      <td>18</td>\n",
       "      <td>POLYGON ((256683.9132942013 3395586.884398385,...</td>\n",
       "      <td>[[[0, 0, 0, 0, 0, 0, 0, 0, 0, 0, 0, 0, 0, 0, 0...</td>\n",
       "    </tr>\n",
       "    <tr>\n",
       "      <th>14</th>\n",
       "      <td>8.045481</td>\n",
       "      <td>22</td>\n",
       "      <td>POLYGON ((246877.9241447171 3380677.722517348,...</td>\n",
       "      <td>[[[0, 0, 0, 0, 0, 0, 0, 0, 0, 0, 0, 0, 0, 0, 0...</td>\n",
       "    </tr>\n",
       "    <tr>\n",
       "      <th>15</th>\n",
       "      <td>7.632606</td>\n",
       "      <td>25</td>\n",
       "      <td>POLYGON ((250026.52186856 3380729.694675759, 2...</td>\n",
       "      <td>[[[0, 0, 0, 0, 0, 0, 0, 0, 0, 0, 0, 0, 0, 0, 0...</td>\n",
       "    </tr>\n",
       "    <tr>\n",
       "      <th>16</th>\n",
       "      <td>66.083682</td>\n",
       "      <td>27</td>\n",
       "      <td>POLYGON ((267814.7155710967 3386210.443324828,...</td>\n",
       "      <td>[[[0, 0, 0, 0, 0, 0, 0, 0, 0, 0, 0, 0, 0, 0, 0...</td>\n",
       "    </tr>\n",
       "    <tr>\n",
       "      <th>17</th>\n",
       "      <td>1.398032</td>\n",
       "      <td>28</td>\n",
       "      <td>POLYGON ((244611.8461093508 3384347.095094561,...</td>\n",
       "      <td>[[[0, 0, 0, 0, 0, 0, 0, 0, 0, 0, 0, 0, 0, 0, 0...</td>\n",
       "    </tr>\n",
       "    <tr>\n",
       "      <th>18</th>\n",
       "      <td>52.220920</td>\n",
       "      <td>33</td>\n",
       "      <td>POLYGON ((256928.5447249058 3385041.04157073, ...</td>\n",
       "      <td>[[[0, 0, 0, 0, 0, 0, 0, 0, 0, 0, 0, 0, 0, 0, 0...</td>\n",
       "    </tr>\n",
       "    <tr>\n",
       "      <th>19</th>\n",
       "      <td>30.865595</td>\n",
       "      <td>34</td>\n",
       "      <td>POLYGON ((257800.9283160074 3398601.455566616,...</td>\n",
       "      <td>[[[0, 0, 0, 0, 0, 0, 0, 0, 0, 0, 0, 0, 0, 0, 0...</td>\n",
       "    </tr>\n",
       "    <tr>\n",
       "      <th>20</th>\n",
       "      <td>13.160457</td>\n",
       "      <td>35</td>\n",
       "      <td>POLYGON ((258561.0994139828 3388014.182437374,...</td>\n",
       "      <td>[[[0, 0, 0, 0, 0, 0, 0, 0, 0, 0, 0, 0, 0, 0, 0...</td>\n",
       "    </tr>\n",
       "    <tr>\n",
       "      <th>21</th>\n",
       "      <td>7.757665</td>\n",
       "      <td>36</td>\n",
       "      <td>POLYGON ((244866.2670752909 3377999.291971728,...</td>\n",
       "      <td>[[[0, 0, 0, 0, 0, 0, 0, 0, 0, 0, 0, 0, 0, 0, 0...</td>\n",
       "    </tr>\n",
       "    <tr>\n",
       "      <th>22</th>\n",
       "      <td>48.149551</td>\n",
       "      <td>37</td>\n",
       "      <td>POLYGON ((203149.1909429217 3403110.389424345,...</td>\n",
       "      <td>[[[0, 0, 0, 0, 6, 6, 6, 6, 0, 0, 0, 0, 0, 0, 0...</td>\n",
       "    </tr>\n",
       "    <tr>\n",
       "      <th>23</th>\n",
       "      <td>93.572549</td>\n",
       "      <td>38</td>\n",
       "      <td>POLYGON ((223262.8303031383 3407591.97500018, ...</td>\n",
       "      <td>[[[0, 0, 0, 0, 0, 0, 0, 0, 0, 0, 0, 0, 0, 0, 0...</td>\n",
       "    </tr>\n",
       "    <tr>\n",
       "      <th>24</th>\n",
       "      <td>67.577829</td>\n",
       "      <td>39</td>\n",
       "      <td>POLYGON ((212844.6985774174 3409794.211813767,...</td>\n",
       "      <td>[[[0, 0, 0, 0, 0, 0, 0, 0, 0, 0, 0, 0, 0, 0, 0...</td>\n",
       "    </tr>\n",
       "    <tr>\n",
       "      <th>25</th>\n",
       "      <td>55.701988</td>\n",
       "      <td>40</td>\n",
       "      <td>POLYGON ((211105.1973076742 3409393.909792609,...</td>\n",
       "      <td>[[[0, 0, 0, 0, 0, 0, 0, 0, 0, 0, 0, 0, 0, 0, 0...</td>\n",
       "    </tr>\n",
       "    <tr>\n",
       "      <th>26</th>\n",
       "      <td>61.292155</td>\n",
       "      <td>41</td>\n",
       "      <td>POLYGON ((217652.9047025414 3398031.462757234,...</td>\n",
       "      <td>[[[0, 0, 0, 0, 0, 0, 0, 0, 0, 0, 0, 0, 0, 0, 0...</td>\n",
       "    </tr>\n",
       "    <tr>\n",
       "      <th>27</th>\n",
       "      <td>25.697684</td>\n",
       "      <td>42</td>\n",
       "      <td>POLYGON ((219868.0739246203 3390412.010286849,...</td>\n",
       "      <td>[[[0, 0, 0, 0, 0, 0, 0, 0, 0, 0, 0, 0, 0, 0, 0...</td>\n",
       "    </tr>\n",
       "    <tr>\n",
       "      <th>28</th>\n",
       "      <td>58.079141</td>\n",
       "      <td>43</td>\n",
       "      <td>POLYGON ((221844.0484690309 3399536.859112736,...</td>\n",
       "      <td>[[[0, 0, 0, 0, 0, 0, 0, 0, 0, 0, 0, 0, 0, 0, 0...</td>\n",
       "    </tr>\n",
       "    <tr>\n",
       "      <th>29</th>\n",
       "      <td>4.262942</td>\n",
       "      <td>44</td>\n",
       "      <td>POLYGON ((225335.4666741071 3391681.764966058,...</td>\n",
       "      <td>[[[0, 0, 0, 0, 0, 0, 0, 0, 0, 0, 0, 0, 0, 0, 0...</td>\n",
       "    </tr>\n",
       "    <tr>\n",
       "      <th>...</th>\n",
       "      <td>...</td>\n",
       "      <td>...</td>\n",
       "      <td>...</td>\n",
       "      <td>...</td>\n",
       "    </tr>\n",
       "    <tr>\n",
       "      <th>80</th>\n",
       "      <td>142.379392</td>\n",
       "      <td>96</td>\n",
       "      <td>POLYGON ((274281.1670465505 3416556.983339832,...</td>\n",
       "      <td>[[[0, 0, 0, 0, 0, 0, 0, 0, 0, 0, 0, 0, 0, 0, 0...</td>\n",
       "    </tr>\n",
       "    <tr>\n",
       "      <th>81</th>\n",
       "      <td>85.681565</td>\n",
       "      <td>97</td>\n",
       "      <td>POLYGON ((278680.1452474426 3426404.019568328,...</td>\n",
       "      <td>[[[0, 0, 0, 0, 0, 0, 0, 0, 0, 0, 0, 0, 0, 0, 0...</td>\n",
       "    </tr>\n",
       "    <tr>\n",
       "      <th>82</th>\n",
       "      <td>116.437197</td>\n",
       "      <td>98</td>\n",
       "      <td>POLYGON ((289233.3640943873 3431908.95755067, ...</td>\n",
       "      <td>[[[0, 0, 0, 0, 0, 0, 0, 0, 0, 0, 0, 0, 0, 0, 0...</td>\n",
       "    </tr>\n",
       "    <tr>\n",
       "      <th>83</th>\n",
       "      <td>59.997251</td>\n",
       "      <td>99</td>\n",
       "      <td>POLYGON ((306366.1218943342 3434899.469653212,...</td>\n",
       "      <td>[[[0, 0, 0, 0, 0, 0, 0, 0, 0, 0, 0, 0, 0, 0, 0...</td>\n",
       "    </tr>\n",
       "    <tr>\n",
       "      <th>84</th>\n",
       "      <td>116.449493</td>\n",
       "      <td>100</td>\n",
       "      <td>POLYGON ((301421.4200729014 3421689.024805699,...</td>\n",
       "      <td>[[[0, 0, 0, 0, 0, 0, 0, 0, 0, 0, 0, 0, 0, 0, 0...</td>\n",
       "    </tr>\n",
       "    <tr>\n",
       "      <th>85</th>\n",
       "      <td>181.299813</td>\n",
       "      <td>101</td>\n",
       "      <td>POLYGON ((284825.8778882028 3401674.388815791,...</td>\n",
       "      <td>[[[0, 0, 0, 0, 0, 0, 0, 0, 0, 0, 0, 0, 0, 0, 0...</td>\n",
       "    </tr>\n",
       "    <tr>\n",
       "      <th>86</th>\n",
       "      <td>78.487990</td>\n",
       "      <td>102</td>\n",
       "      <td>POLYGON ((296047.4470060932 3417645.762623927,...</td>\n",
       "      <td>[[[0, 0, 0, 0, 0, 0, 0, 0, 0, 0, 0, 0, 0, 0, 0...</td>\n",
       "    </tr>\n",
       "    <tr>\n",
       "      <th>87</th>\n",
       "      <td>83.767749</td>\n",
       "      <td>103</td>\n",
       "      <td>POLYGON ((306433.8678496751 3428966.569412167,...</td>\n",
       "      <td>[[[0, 0, 0, 0, 0, 0, 0, 0, 0, 0, 0, 0, 0, 0, 0...</td>\n",
       "    </tr>\n",
       "    <tr>\n",
       "      <th>88</th>\n",
       "      <td>1.349224</td>\n",
       "      <td>104</td>\n",
       "      <td>POLYGON ((307466.5057836499 3431132.560608812,...</td>\n",
       "      <td>[[[0, 0, 0, 0, 0, 0, 0, 0, 0, 0, 0, 0, 0, 0, 0...</td>\n",
       "    </tr>\n",
       "    <tr>\n",
       "      <th>89</th>\n",
       "      <td>56.440873</td>\n",
       "      <td>105</td>\n",
       "      <td>POLYGON ((285430.7641378734 3431331.247815964,...</td>\n",
       "      <td>[[[0, 0, 0, 0, 0, 0, 0, 0, 0, 0, 0, 0, 0, 0, 0...</td>\n",
       "    </tr>\n",
       "    <tr>\n",
       "      <th>90</th>\n",
       "      <td>16.820918</td>\n",
       "      <td>106</td>\n",
       "      <td>POLYGON ((308616.8388703883 3419723.795131347,...</td>\n",
       "      <td>[[[0, 0, 0, 0, 0, 0, 0, 0, 0, 0, 0, 0, 0, 0, 0...</td>\n",
       "    </tr>\n",
       "    <tr>\n",
       "      <th>91</th>\n",
       "      <td>33.554642</td>\n",
       "      <td>107</td>\n",
       "      <td>POLYGON ((287453.4716856948 3404785.893795603,...</td>\n",
       "      <td>[[[0, 0, 0, 0, 0, 0, 0, 0, 0, 0, 0, 0, 0, 0, 0...</td>\n",
       "    </tr>\n",
       "    <tr>\n",
       "      <th>92</th>\n",
       "      <td>16.990061</td>\n",
       "      <td>108</td>\n",
       "      <td>POLYGON ((272593.0611156847 3390572.940763018,...</td>\n",
       "      <td>[[[0, 0, 0, 0, 0, 0, 0, 0, 0, 0, 0, 0, 0, 0, 0...</td>\n",
       "    </tr>\n",
       "    <tr>\n",
       "      <th>93</th>\n",
       "      <td>9.133035</td>\n",
       "      <td>109</td>\n",
       "      <td>POLYGON ((286469.6434675962 3395403.419275079,...</td>\n",
       "      <td>[[[0, 0, 0, 0, 0, 0, 0, 0, 0, 0, 0, 0, 0, 0, 0...</td>\n",
       "    </tr>\n",
       "    <tr>\n",
       "      <th>94</th>\n",
       "      <td>15.413272</td>\n",
       "      <td>110</td>\n",
       "      <td>POLYGON ((232899.3900127298 3388579.768415547,...</td>\n",
       "      <td>[[[0, 0, 0, 0, 0, 0, 0, 0, 0, 0, 0, 0, 0, 0, 0...</td>\n",
       "    </tr>\n",
       "    <tr>\n",
       "      <th>95</th>\n",
       "      <td>20.553338</td>\n",
       "      <td>111</td>\n",
       "      <td>POLYGON ((235484.9671065494 3382080.011242107,...</td>\n",
       "      <td>[[[0, 0, 0, 0, 0, 0, 0, 0, 0, 0, 0, 0, 0, 0, 0...</td>\n",
       "    </tr>\n",
       "    <tr>\n",
       "      <th>96</th>\n",
       "      <td>59.908213</td>\n",
       "      <td>112</td>\n",
       "      <td>POLYGON ((245613.7261773834 3389510.286564253,...</td>\n",
       "      <td>[[[0, 0, 0, 0, 0, 0, 0, 0, 0, 0, 0, 0, 0, 0, 0...</td>\n",
       "    </tr>\n",
       "    <tr>\n",
       "      <th>97</th>\n",
       "      <td>45.095910</td>\n",
       "      <td>113</td>\n",
       "      <td>POLYGON ((271615.2574039308 3382768.308279656,...</td>\n",
       "      <td>[[[0, 0, 0, 0, 0, 0, 0, 0, 0, 0, 0, 0, 0, 0, 0...</td>\n",
       "    </tr>\n",
       "    <tr>\n",
       "      <th>98</th>\n",
       "      <td>122.796056</td>\n",
       "      <td>114</td>\n",
       "      <td>POLYGON ((249989.4252048793 3388328.134905848,...</td>\n",
       "      <td>[[[0, 0, 0, 0, 0, 0, 0, 0, 0, 0, 0, 0, 0, 0, 0...</td>\n",
       "    </tr>\n",
       "    <tr>\n",
       "      <th>99</th>\n",
       "      <td>46.552096</td>\n",
       "      <td>115</td>\n",
       "      <td>POLYGON ((247532.5543909845 3392250.719371889,...</td>\n",
       "      <td>[[[0, 0, 0, 0, 0, 0, 0, 0, 0, 0, 0, 0, 0, 0, 0...</td>\n",
       "    </tr>\n",
       "    <tr>\n",
       "      <th>100</th>\n",
       "      <td>85.535314</td>\n",
       "      <td>116</td>\n",
       "      <td>POLYGON ((240582.2796101572 3379272.911303367,...</td>\n",
       "      <td>[[[0, 0, 0, 0, 0, 0, 0, 0, 0, 0, 0, 0, 0, 0, 0...</td>\n",
       "    </tr>\n",
       "    <tr>\n",
       "      <th>101</th>\n",
       "      <td>87.239909</td>\n",
       "      <td>117</td>\n",
       "      <td>POLYGON ((260398.6642917916 3397402.411912315,...</td>\n",
       "      <td>[[[0, 0, 0, 0, 0, 0, 0, 0, 0, 0, 0, 0, 0, 0, 0...</td>\n",
       "    </tr>\n",
       "    <tr>\n",
       "      <th>102</th>\n",
       "      <td>91.269864</td>\n",
       "      <td>118</td>\n",
       "      <td>POLYGON ((214965.5108604833 3388477.833399748,...</td>\n",
       "      <td>[[[0, 0, 0, 0, 0, 0, 0, 0, 0, 0, 0, 0, 0, 0, 0...</td>\n",
       "    </tr>\n",
       "    <tr>\n",
       "      <th>103</th>\n",
       "      <td>76.044312</td>\n",
       "      <td>119</td>\n",
       "      <td>POLYGON ((203638.3732155839 3378431.650757858,...</td>\n",
       "      <td>[[[0, 0, 0, 0, 0, 0, 0, 0, 0, 0, 0, 0, 0, 0, 0...</td>\n",
       "    </tr>\n",
       "    <tr>\n",
       "      <th>104</th>\n",
       "      <td>90.515383</td>\n",
       "      <td>120</td>\n",
       "      <td>POLYGON ((227599.21378633 3382636.939995873, 2...</td>\n",
       "      <td>[[[0, 0, 0, 0, 0, 0, 0, 0, 0, 0, 0, 0, 0, 0, 0...</td>\n",
       "    </tr>\n",
       "    <tr>\n",
       "      <th>105</th>\n",
       "      <td>12.880540</td>\n",
       "      <td>121</td>\n",
       "      <td>POLYGON ((223249.2988069631 3348170.69182054, ...</td>\n",
       "      <td>[[[0, 0, 0, 0, 0, 0, 0, 0, 0, 0, 0, 0, 0, 0, 0...</td>\n",
       "    </tr>\n",
       "    <tr>\n",
       "      <th>106</th>\n",
       "      <td>152.912197</td>\n",
       "      <td>122</td>\n",
       "      <td>POLYGON ((230610.8081088376 3430907.712109516,...</td>\n",
       "      <td>[[[0, 0, 0, 0, 0, 0, 0, 0, 0, 0, 0, 0, 0, 0, 0...</td>\n",
       "    </tr>\n",
       "    <tr>\n",
       "      <th>107</th>\n",
       "      <td>98.655860</td>\n",
       "      <td>123</td>\n",
       "      <td>POLYGON ((240058.0374196026 3418581.852234608,...</td>\n",
       "      <td>[[[0, 0, 0, 0, 0, 0, 0, 0, 0, 0, 0, 0, 0, 0, 0...</td>\n",
       "    </tr>\n",
       "    <tr>\n",
       "      <th>108</th>\n",
       "      <td>153.978382</td>\n",
       "      <td>124</td>\n",
       "      <td>POLYGON ((257347.5885367659 3438455.774258532,...</td>\n",
       "      <td>[[[0, 0, 0, 0, 0, 0, 0, 0, 0, 0, 0, 0, 0, 0, 0...</td>\n",
       "    </tr>\n",
       "    <tr>\n",
       "      <th>109</th>\n",
       "      <td>195.508856</td>\n",
       "      <td>125</td>\n",
       "      <td>POLYGON ((264570.8798002363 3403202.040262681,...</td>\n",
       "      <td>[[[0, 0, 0, 0, 0, 0, 0, 0, 0, 0, 0, 0, 0, 0, 0...</td>\n",
       "    </tr>\n",
       "  </tbody>\n",
       "</table>\n",
       "<p>110 rows × 4 columns</p>\n",
       "</div>"
      ],
      "text/plain": [
       "           area  xz_ID                                           geometry  \\\n",
       "0     37.461746      0  POLYGON ((245196.7052662201 3395654.955879253,...   \n",
       "1     32.128707      1  POLYGON ((246127.9977300821 3398319.671288075,...   \n",
       "2     10.758785      2  POLYGON ((249053.5279977534 3398909.368736333,...   \n",
       "3      6.151334      3  POLYGON ((237567.9180708992 3387955.909025446,...   \n",
       "4     16.759394      4  POLYGON ((236700.8511632368 3393067.70824844, ...   \n",
       "5      5.408495      5  POLYGON ((236394.6852723961 3389458.658487836,...   \n",
       "6     24.680368      7  POLYGON ((227537.4216475239 3392163.239738112,...   \n",
       "7     27.709097      8  POLYGON ((233644.2325777694 3385670.883670883,...   \n",
       "8     56.402261      9  POLYGON ((228717.9280044194 3387327.006541017,...   \n",
       "9      6.987411     10  POLYGON ((232403.2265438587 3381692.517631772,...   \n",
       "10     3.754099     11  POLYGON ((250919.6381412717 3383366.473745157,...   \n",
       "11     1.606476     16  POLYGON ((258733.4220985044 3389075.853463032,...   \n",
       "12     9.589867     17  POLYGON ((262645.4781910261 3389900.251284848,...   \n",
       "13    46.164991     18  POLYGON ((256683.9132942013 3395586.884398385,...   \n",
       "14     8.045481     22  POLYGON ((246877.9241447171 3380677.722517348,...   \n",
       "15     7.632606     25  POLYGON ((250026.52186856 3380729.694675759, 2...   \n",
       "16    66.083682     27  POLYGON ((267814.7155710967 3386210.443324828,...   \n",
       "17     1.398032     28  POLYGON ((244611.8461093508 3384347.095094561,...   \n",
       "18    52.220920     33  POLYGON ((256928.5447249058 3385041.04157073, ...   \n",
       "19    30.865595     34  POLYGON ((257800.9283160074 3398601.455566616,...   \n",
       "20    13.160457     35  POLYGON ((258561.0994139828 3388014.182437374,...   \n",
       "21     7.757665     36  POLYGON ((244866.2670752909 3377999.291971728,...   \n",
       "22    48.149551     37  POLYGON ((203149.1909429217 3403110.389424345,...   \n",
       "23    93.572549     38  POLYGON ((223262.8303031383 3407591.97500018, ...   \n",
       "24    67.577829     39  POLYGON ((212844.6985774174 3409794.211813767,...   \n",
       "25    55.701988     40  POLYGON ((211105.1973076742 3409393.909792609,...   \n",
       "26    61.292155     41  POLYGON ((217652.9047025414 3398031.462757234,...   \n",
       "27    25.697684     42  POLYGON ((219868.0739246203 3390412.010286849,...   \n",
       "28    58.079141     43  POLYGON ((221844.0484690309 3399536.859112736,...   \n",
       "29     4.262942     44  POLYGON ((225335.4666741071 3391681.764966058,...   \n",
       "..          ...    ...                                                ...   \n",
       "80   142.379392     96  POLYGON ((274281.1670465505 3416556.983339832,...   \n",
       "81    85.681565     97  POLYGON ((278680.1452474426 3426404.019568328,...   \n",
       "82   116.437197     98  POLYGON ((289233.3640943873 3431908.95755067, ...   \n",
       "83    59.997251     99  POLYGON ((306366.1218943342 3434899.469653212,...   \n",
       "84   116.449493    100  POLYGON ((301421.4200729014 3421689.024805699,...   \n",
       "85   181.299813    101  POLYGON ((284825.8778882028 3401674.388815791,...   \n",
       "86    78.487990    102  POLYGON ((296047.4470060932 3417645.762623927,...   \n",
       "87    83.767749    103  POLYGON ((306433.8678496751 3428966.569412167,...   \n",
       "88     1.349224    104  POLYGON ((307466.5057836499 3431132.560608812,...   \n",
       "89    56.440873    105  POLYGON ((285430.7641378734 3431331.247815964,...   \n",
       "90    16.820918    106  POLYGON ((308616.8388703883 3419723.795131347,...   \n",
       "91    33.554642    107  POLYGON ((287453.4716856948 3404785.893795603,...   \n",
       "92    16.990061    108  POLYGON ((272593.0611156847 3390572.940763018,...   \n",
       "93     9.133035    109  POLYGON ((286469.6434675962 3395403.419275079,...   \n",
       "94    15.413272    110  POLYGON ((232899.3900127298 3388579.768415547,...   \n",
       "95    20.553338    111  POLYGON ((235484.9671065494 3382080.011242107,...   \n",
       "96    59.908213    112  POLYGON ((245613.7261773834 3389510.286564253,...   \n",
       "97    45.095910    113  POLYGON ((271615.2574039308 3382768.308279656,...   \n",
       "98   122.796056    114  POLYGON ((249989.4252048793 3388328.134905848,...   \n",
       "99    46.552096    115  POLYGON ((247532.5543909845 3392250.719371889,...   \n",
       "100   85.535314    116  POLYGON ((240582.2796101572 3379272.911303367,...   \n",
       "101   87.239909    117  POLYGON ((260398.6642917916 3397402.411912315,...   \n",
       "102   91.269864    118  POLYGON ((214965.5108604833 3388477.833399748,...   \n",
       "103   76.044312    119  POLYGON ((203638.3732155839 3378431.650757858,...   \n",
       "104   90.515383    120  POLYGON ((227599.21378633 3382636.939995873, 2...   \n",
       "105   12.880540    121  POLYGON ((223249.2988069631 3348170.69182054, ...   \n",
       "106  152.912197    122  POLYGON ((230610.8081088376 3430907.712109516,...   \n",
       "107   98.655860    123  POLYGON ((240058.0374196026 3418581.852234608,...   \n",
       "108  153.978382    124  POLYGON ((257347.5885367659 3438455.774258532,...   \n",
       "109  195.508856    125  POLYGON ((264570.8798002363 3403202.040262681,...   \n",
       "\n",
       "                                           LuccMtx2010  \n",
       "0    [[[0, 0, 0, 0, 0, 0, 0, 0, 0, 0, 0, 0, 0, 0, 0...  \n",
       "1    [[[0, 0, 0, 0, 0, 0, 0, 0, 0, 0, 0, 0, 0, 0, 0...  \n",
       "2    [[[0, 0, 0, 0, 0, 0, 0, 0, 0, 0, 0, 0, 0, 0, 0...  \n",
       "3    [[[0, 0, 0, 0, 0, 0, 0, 0, 0, 0, 0, 0, 0, 0, 0...  \n",
       "4    [[[0, 0, 0, 0, 0, 0, 0, 0, 0, 0, 0, 0, 0, 0, 0...  \n",
       "5    [[[0, 0, 0, 0, 0, 0, 0, 0, 0, 0, 0, 0, 0, 0, 0...  \n",
       "6    [[[0, 0, 0, 0, 0, 0, 0, 0, 0, 0, 0, 0, 0, 0, 0...  \n",
       "7    [[[0, 0, 0, 0, 0, 0, 0, 0, 0, 0, 0, 0, 0, 0, 0...  \n",
       "8    [[[0, 0, 0, 0, 0, 0, 0, 0, 0, 0, 0, 0, 0, 0, 0...  \n",
       "9    [[[0, 0, 0, 0, 0, 0, 0, 0, 0, 0, 0, 0, 0, 0, 0...  \n",
       "10   [[[0, 0, 0, 0, 0, 0, 0, 0, 0, 0, 0, 0, 0, 0, 0...  \n",
       "11   [[[0, 0, 0, 0, 0, 0, 0, 0, 0, 0, 0, 0, 0, 0, 0...  \n",
       "12   [[[0, 0, 0, 0, 0, 0, 0, 0, 0, 0, 0, 0, 0, 0, 0...  \n",
       "13   [[[0, 0, 0, 0, 0, 0, 0, 0, 0, 0, 0, 0, 0, 0, 0...  \n",
       "14   [[[0, 0, 0, 0, 0, 0, 0, 0, 0, 0, 0, 0, 0, 0, 0...  \n",
       "15   [[[0, 0, 0, 0, 0, 0, 0, 0, 0, 0, 0, 0, 0, 0, 0...  \n",
       "16   [[[0, 0, 0, 0, 0, 0, 0, 0, 0, 0, 0, 0, 0, 0, 0...  \n",
       "17   [[[0, 0, 0, 0, 0, 0, 0, 0, 0, 0, 0, 0, 0, 0, 0...  \n",
       "18   [[[0, 0, 0, 0, 0, 0, 0, 0, 0, 0, 0, 0, 0, 0, 0...  \n",
       "19   [[[0, 0, 0, 0, 0, 0, 0, 0, 0, 0, 0, 0, 0, 0, 0...  \n",
       "20   [[[0, 0, 0, 0, 0, 0, 0, 0, 0, 0, 0, 0, 0, 0, 0...  \n",
       "21   [[[0, 0, 0, 0, 0, 0, 0, 0, 0, 0, 0, 0, 0, 0, 0...  \n",
       "22   [[[0, 0, 0, 0, 6, 6, 6, 6, 0, 0, 0, 0, 0, 0, 0...  \n",
       "23   [[[0, 0, 0, 0, 0, 0, 0, 0, 0, 0, 0, 0, 0, 0, 0...  \n",
       "24   [[[0, 0, 0, 0, 0, 0, 0, 0, 0, 0, 0, 0, 0, 0, 0...  \n",
       "25   [[[0, 0, 0, 0, 0, 0, 0, 0, 0, 0, 0, 0, 0, 0, 0...  \n",
       "26   [[[0, 0, 0, 0, 0, 0, 0, 0, 0, 0, 0, 0, 0, 0, 0...  \n",
       "27   [[[0, 0, 0, 0, 0, 0, 0, 0, 0, 0, 0, 0, 0, 0, 0...  \n",
       "28   [[[0, 0, 0, 0, 0, 0, 0, 0, 0, 0, 0, 0, 0, 0, 0...  \n",
       "29   [[[0, 0, 0, 0, 0, 0, 0, 0, 0, 0, 0, 0, 0, 0, 0...  \n",
       "..                                                 ...  \n",
       "80   [[[0, 0, 0, 0, 0, 0, 0, 0, 0, 0, 0, 0, 0, 0, 0...  \n",
       "81   [[[0, 0, 0, 0, 0, 0, 0, 0, 0, 0, 0, 0, 0, 0, 0...  \n",
       "82   [[[0, 0, 0, 0, 0, 0, 0, 0, 0, 0, 0, 0, 0, 0, 0...  \n",
       "83   [[[0, 0, 0, 0, 0, 0, 0, 0, 0, 0, 0, 0, 0, 0, 0...  \n",
       "84   [[[0, 0, 0, 0, 0, 0, 0, 0, 0, 0, 0, 0, 0, 0, 0...  \n",
       "85   [[[0, 0, 0, 0, 0, 0, 0, 0, 0, 0, 0, 0, 0, 0, 0...  \n",
       "86   [[[0, 0, 0, 0, 0, 0, 0, 0, 0, 0, 0, 0, 0, 0, 0...  \n",
       "87   [[[0, 0, 0, 0, 0, 0, 0, 0, 0, 0, 0, 0, 0, 0, 0...  \n",
       "88   [[[0, 0, 0, 0, 0, 0, 0, 0, 0, 0, 0, 0, 0, 0, 0...  \n",
       "89   [[[0, 0, 0, 0, 0, 0, 0, 0, 0, 0, 0, 0, 0, 0, 0...  \n",
       "90   [[[0, 0, 0, 0, 0, 0, 0, 0, 0, 0, 0, 0, 0, 0, 0...  \n",
       "91   [[[0, 0, 0, 0, 0, 0, 0, 0, 0, 0, 0, 0, 0, 0, 0...  \n",
       "92   [[[0, 0, 0, 0, 0, 0, 0, 0, 0, 0, 0, 0, 0, 0, 0...  \n",
       "93   [[[0, 0, 0, 0, 0, 0, 0, 0, 0, 0, 0, 0, 0, 0, 0...  \n",
       "94   [[[0, 0, 0, 0, 0, 0, 0, 0, 0, 0, 0, 0, 0, 0, 0...  \n",
       "95   [[[0, 0, 0, 0, 0, 0, 0, 0, 0, 0, 0, 0, 0, 0, 0...  \n",
       "96   [[[0, 0, 0, 0, 0, 0, 0, 0, 0, 0, 0, 0, 0, 0, 0...  \n",
       "97   [[[0, 0, 0, 0, 0, 0, 0, 0, 0, 0, 0, 0, 0, 0, 0...  \n",
       "98   [[[0, 0, 0, 0, 0, 0, 0, 0, 0, 0, 0, 0, 0, 0, 0...  \n",
       "99   [[[0, 0, 0, 0, 0, 0, 0, 0, 0, 0, 0, 0, 0, 0, 0...  \n",
       "100  [[[0, 0, 0, 0, 0, 0, 0, 0, 0, 0, 0, 0, 0, 0, 0...  \n",
       "101  [[[0, 0, 0, 0, 0, 0, 0, 0, 0, 0, 0, 0, 0, 0, 0...  \n",
       "102  [[[0, 0, 0, 0, 0, 0, 0, 0, 0, 0, 0, 0, 0, 0, 0...  \n",
       "103  [[[0, 0, 0, 0, 0, 0, 0, 0, 0, 0, 0, 0, 0, 0, 0...  \n",
       "104  [[[0, 0, 0, 0, 0, 0, 0, 0, 0, 0, 0, 0, 0, 0, 0...  \n",
       "105  [[[0, 0, 0, 0, 0, 0, 0, 0, 0, 0, 0, 0, 0, 0, 0...  \n",
       "106  [[[0, 0, 0, 0, 0, 0, 0, 0, 0, 0, 0, 0, 0, 0, 0...  \n",
       "107  [[[0, 0, 0, 0, 0, 0, 0, 0, 0, 0, 0, 0, 0, 0, 0...  \n",
       "108  [[[0, 0, 0, 0, 0, 0, 0, 0, 0, 0, 0, 0, 0, 0, 0...  \n",
       "109  [[[0, 0, 0, 0, 0, 0, 0, 0, 0, 0, 0, 0, 0, 0, 0...  \n",
       "\n",
       "[110 rows x 4 columns]"
      ]
     },
     "execution_count": 215,
     "metadata": {},
     "output_type": "execute_result"
    }
   ],
   "source": [
    "gpdFc2010"
   ]
  },
  {
   "cell_type": "code",
   "execution_count": 217,
   "metadata": {},
   "outputs": [
    {
     "data": {
      "text/plain": [
       "110"
      ]
     },
     "execution_count": 217,
     "metadata": {},
     "output_type": "execute_result"
    }
   ],
   "source": [
    "gpdFc2015.shape[0]"
   ]
  },
  {
   "cell_type": "code",
   "execution_count": 220,
   "metadata": {},
   "outputs": [],
   "source": [
    "import ClippingRrasterWithShp as cRs"
   ]
  },
  {
   "cell_type": "code",
   "execution_count": 221,
   "metadata": {},
   "outputs": [
    {
     "ename": "TypeError",
     "evalue": "getLuccArr() missing 1 required positional argument: 'year'",
     "output_type": "error",
     "traceback": [
      "\u001b[1;31m---------------------------------------------------------------------------\u001b[0m",
      "\u001b[1;31mTypeError\u001b[0m                                 Traceback (most recent call last)",
      "\u001b[1;32m<ipython-input-221-4bad1b22aa6e>\u001b[0m in \u001b[0;36m<module>\u001b[1;34m()\u001b[0m\n\u001b[1;32m----> 1\u001b[1;33m \u001b[0mgpdFc1996\u001b[0m \u001b[1;33m=\u001b[0m \u001b[0mcRs\u001b[0m\u001b[1;33m.\u001b[0m\u001b[0mgetLuccArr\u001b[0m\u001b[1;33m(\u001b[0m\u001b[0mlucc1996\u001b[0m\u001b[1;33m,\u001b[0m\u001b[0mclipFc\u001b[0m\u001b[1;33m)\u001b[0m\u001b[1;33m\u001b[0m\u001b[0m\n\u001b[0m",
      "\u001b[1;31mTypeError\u001b[0m: getLuccArr() missing 1 required positional argument: 'year'"
     ]
    }
   ],
   "source": [
    "gpdFc1996 = cRs.getLuccArr(lucc1996,clipFc)"
   ]
  },
  {
   "cell_type": "code",
   "execution_count": null,
   "metadata": {},
   "outputs": [],
   "source": []
  }
 ],
 "metadata": {
  "kernelspec": {
   "display_name": "Python 3",
   "language": "python",
   "name": "python3"
  },
  "language_info": {
   "codemirror_mode": {
    "name": "ipython",
    "version": 3
   },
   "file_extension": ".py",
   "mimetype": "text/x-python",
   "name": "python",
   "nbconvert_exporter": "python",
   "pygments_lexer": "ipython3",
   "version": "3.6.5"
  }
 },
 "nbformat": 4,
 "nbformat_minor": 2
}
