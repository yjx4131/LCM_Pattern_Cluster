{
 "cells": [
  {
   "cell_type": "code",
   "execution_count": 1,
   "metadata": {},
   "outputs": [],
   "source": [
    "import pandas as pd"
   ]
  },
  {
   "cell_type": "code",
   "execution_count": 2,
   "metadata": {},
   "outputs": [],
   "source": [
    "ages=[20,25,22,27,32,23,47,20,37,67,32,33]\n",
    "bins = [18,25,35,50]\n",
    "cats = pd.cut(ages,bins)"
   ]
  },
  {
   "cell_type": "code",
   "execution_count": 3,
   "metadata": {},
   "outputs": [
    {
     "name": "stderr",
     "output_type": "stream",
     "text": [
      "C:\\Anaconda3\\lib\\site-packages\\ipykernel_launcher.py:1: FutureWarning: 'labels' is deprecated. Use 'codes' instead\n",
      "  \"\"\"Entry point for launching an IPython kernel.\n"
     ]
    },
    {
     "data": {
      "text/plain": [
       "array([ 0,  0,  0,  1,  1,  0,  2,  0,  2, -1,  1,  1], dtype=int8)"
      ]
     },
     "execution_count": 3,
     "metadata": {},
     "output_type": "execute_result"
    }
   ],
   "source": [
    "cats.labels"
   ]
  },
  {
   "cell_type": "code",
   "execution_count": 4,
   "metadata": {},
   "outputs": [
    {
     "data": {
      "text/plain": [
       "array([ 0,  0,  0,  1,  1,  0,  2,  0,  2, -1,  1,  1], dtype=int8)"
      ]
     },
     "execution_count": 4,
     "metadata": {},
     "output_type": "execute_result"
    }
   ],
   "source": [
    "cats.codes"
   ]
  },
  {
   "cell_type": "code",
   "execution_count": 5,
   "metadata": {},
   "outputs": [
    {
     "ename": "AttributeError",
     "evalue": "'Categorical' object has no attribute 'levels'",
     "output_type": "error",
     "traceback": [
      "\u001b[1;31m---------------------------------------------------------------------------\u001b[0m",
      "\u001b[1;31mAttributeError\u001b[0m                            Traceback (most recent call last)",
      "\u001b[1;32m<ipython-input-5-611f27ac2cf1>\u001b[0m in \u001b[0;36m<module>\u001b[1;34m()\u001b[0m\n\u001b[1;32m----> 1\u001b[1;33m \u001b[0mcats\u001b[0m\u001b[1;33m.\u001b[0m\u001b[0mlevels\u001b[0m\u001b[1;33m\u001b[0m\u001b[0m\n\u001b[0m",
      "\u001b[1;31mAttributeError\u001b[0m: 'Categorical' object has no attribute 'levels'"
     ]
    }
   ],
   "source": [
    "cats.levels"
   ]
  },
  {
   "cell_type": "code",
   "execution_count": 6,
   "metadata": {},
   "outputs": [
    {
     "data": {
      "text/plain": [
       "[(18, 25], (18, 25], (18, 25], (25, 35], (25, 35], ..., (18, 25], (35, 50], NaN, (25, 35], (25, 35]]\n",
       "Length: 12\n",
       "Categories (3, interval[int64]): [(18, 25] < (25, 35] < (35, 50]]"
      ]
     },
     "execution_count": 6,
     "metadata": {},
     "output_type": "execute_result"
    }
   ],
   "source": [
    "cats\n"
   ]
  },
  {
   "cell_type": "code",
   "execution_count": 7,
   "metadata": {},
   "outputs": [
    {
     "name": "stdout",
     "output_type": "stream",
     "text": [
      "Help on function cut in module pandas.core.reshape.tile:\n",
      "\n",
      "cut(x, bins, right=True, labels=None, retbins=False, precision=3, include_lowest=False)\n",
      "    Return indices of half-open bins to which each value of `x` belongs.\n",
      "    \n",
      "    Parameters\n",
      "    ----------\n",
      "    x : array-like\n",
      "        Input array to be binned. It has to be 1-dimensional.\n",
      "    bins : int, sequence of scalars, or IntervalIndex\n",
      "        If `bins` is an int, it defines the number of equal-width bins in the\n",
      "        range of `x`. However, in this case, the range of `x` is extended\n",
      "        by .1% on each side to include the min or max values of `x`. If\n",
      "        `bins` is a sequence it defines the bin edges allowing for\n",
      "        non-uniform bin width. No extension of the range of `x` is done in\n",
      "        this case.\n",
      "    right : bool, optional\n",
      "        Indicates whether the bins include the rightmost edge or not. If\n",
      "        right == True (the default), then the bins [1,2,3,4] indicate\n",
      "        (1,2], (2,3], (3,4].\n",
      "    labels : array or boolean, default None\n",
      "        Used as labels for the resulting bins. Must be of the same length as\n",
      "        the resulting bins. If False, return only integer indicators of the\n",
      "        bins.\n",
      "    retbins : bool, optional\n",
      "        Whether to return the bins or not. Can be useful if bins is given\n",
      "        as a scalar.\n",
      "    precision : int, optional\n",
      "        The precision at which to store and display the bins labels\n",
      "    include_lowest : bool, optional\n",
      "        Whether the first interval should be left-inclusive or not.\n",
      "    \n",
      "    Returns\n",
      "    -------\n",
      "    out : Categorical or Series or array of integers if labels is False\n",
      "        The return type (Categorical or Series) depends on the input: a Series\n",
      "        of type category if input is a Series else Categorical. Bins are\n",
      "        represented as categories when categorical data is returned.\n",
      "    bins : ndarray of floats\n",
      "        Returned only if `retbins` is True.\n",
      "    \n",
      "    Notes\n",
      "    -----\n",
      "    The `cut` function can be useful for going from a continuous variable to\n",
      "    a categorical variable. For example, `cut` could convert ages to groups\n",
      "    of age ranges.\n",
      "    \n",
      "    Any NA values will be NA in the result.  Out of bounds values will be NA in\n",
      "    the resulting Categorical object\n",
      "    \n",
      "    \n",
      "    Examples\n",
      "    --------\n",
      "    >>> pd.cut(np.array([.2, 1.4, 2.5, 6.2, 9.7, 2.1]), 3, retbins=True)\n",
      "    ([(0.191, 3.367], (0.191, 3.367], (0.191, 3.367], (3.367, 6.533],\n",
      "      (6.533, 9.7], (0.191, 3.367]]\n",
      "    Categories (3, object): [(0.191, 3.367] < (3.367, 6.533] < (6.533, 9.7]],\n",
      "    array([ 0.1905    ,  3.36666667,  6.53333333,  9.7       ]))\n",
      "    \n",
      "    >>> pd.cut(np.array([.2, 1.4, 2.5, 6.2, 9.7, 2.1]), 3,\n",
      "               labels=[\"good\",\"medium\",\"bad\"])\n",
      "    [good, good, good, medium, bad, good]\n",
      "    Categories (3, object): [good < medium < bad]\n",
      "    \n",
      "    >>> pd.cut(np.ones(5), 4, labels=False)\n",
      "    array([1, 1, 1, 1, 1], dtype=int64)\n",
      "\n"
     ]
    }
   ],
   "source": [
    "help(pd.cut)"
   ]
  },
  {
   "cell_type": "code",
   "execution_count": 8,
   "metadata": {},
   "outputs": [
    {
     "ename": "NameError",
     "evalue": "name 'np' is not defined",
     "output_type": "error",
     "traceback": [
      "\u001b[1;31m---------------------------------------------------------------------------\u001b[0m",
      "\u001b[1;31mNameError\u001b[0m                                 Traceback (most recent call last)",
      "\u001b[1;32m<ipython-input-8-9459fd09c613>\u001b[0m in \u001b[0;36m<module>\u001b[1;34m()\u001b[0m\n\u001b[1;32m----> 1\u001b[1;33m \u001b[0mnp\u001b[0m\u001b[1;33m.\u001b[0m\u001b[0mrandom\u001b[0m\u001b[1;33m.\u001b[0m\u001b[0mseed\u001b[0m\u001b[1;33m(\u001b[0m\u001b[1;36m1234\u001b[0m\u001b[1;33m)\u001b[0m\u001b[1;33m\u001b[0m\u001b[0m\n\u001b[0m",
      "\u001b[1;31mNameError\u001b[0m: name 'np' is not defined"
     ]
    }
   ],
   "source": [
    "np.random.seed(1234)"
   ]
  },
  {
   "cell_type": "code",
   "execution_count": 9,
   "metadata": {},
   "outputs": [],
   "source": [
    "import numpy as np"
   ]
  },
  {
   "cell_type": "code",
   "execution_count": 10,
   "metadata": {},
   "outputs": [],
   "source": [
    "np.random.seed(1234)"
   ]
  },
  {
   "cell_type": "code",
   "execution_count": 13,
   "metadata": {},
   "outputs": [],
   "source": [
    "data = pd.DataFrame(np.random.randn(100,4))"
   ]
  },
  {
   "cell_type": "code",
   "execution_count": 15,
   "metadata": {},
   "outputs": [
    {
     "data": {
      "text/html": [
       "<div>\n",
       "<style>\n",
       "    .dataframe thead tr:only-child th {\n",
       "        text-align: right;\n",
       "    }\n",
       "\n",
       "    .dataframe thead th {\n",
       "        text-align: left;\n",
       "    }\n",
       "\n",
       "    .dataframe tbody tr th {\n",
       "        vertical-align: top;\n",
       "    }\n",
       "</style>\n",
       "<table border=\"1\" class=\"dataframe\">\n",
       "  <thead>\n",
       "    <tr style=\"text-align: right;\">\n",
       "      <th></th>\n",
       "      <th>0</th>\n",
       "      <th>1</th>\n",
       "      <th>2</th>\n",
       "      <th>3</th>\n",
       "    </tr>\n",
       "  </thead>\n",
       "  <tbody>\n",
       "    <tr>\n",
       "      <th>count</th>\n",
       "      <td>100.000000</td>\n",
       "      <td>100.000000</td>\n",
       "      <td>100.000000</td>\n",
       "      <td>100.000000</td>\n",
       "    </tr>\n",
       "    <tr>\n",
       "      <th>mean</th>\n",
       "      <td>0.109025</td>\n",
       "      <td>-0.036272</td>\n",
       "      <td>0.151710</td>\n",
       "      <td>0.016248</td>\n",
       "    </tr>\n",
       "    <tr>\n",
       "      <th>std</th>\n",
       "      <td>0.942568</td>\n",
       "      <td>1.101155</td>\n",
       "      <td>0.865254</td>\n",
       "      <td>0.964031</td>\n",
       "    </tr>\n",
       "    <tr>\n",
       "      <th>min</th>\n",
       "      <td>-2.147855</td>\n",
       "      <td>-3.563517</td>\n",
       "      <td>-2.397504</td>\n",
       "      <td>-2.074978</td>\n",
       "    </tr>\n",
       "    <tr>\n",
       "      <th>25%</th>\n",
       "      <td>-0.423570</td>\n",
       "      <td>-0.687307</td>\n",
       "      <td>-0.405337</td>\n",
       "      <td>-0.576557</td>\n",
       "    </tr>\n",
       "    <tr>\n",
       "      <th>50%</th>\n",
       "      <td>0.182533</td>\n",
       "      <td>-0.058971</td>\n",
       "      <td>0.224475</td>\n",
       "      <td>-0.006317</td>\n",
       "    </tr>\n",
       "    <tr>\n",
       "      <th>75%</th>\n",
       "      <td>0.756474</td>\n",
       "      <td>0.685152</td>\n",
       "      <td>0.701321</td>\n",
       "      <td>0.484905</td>\n",
       "    </tr>\n",
       "    <tr>\n",
       "      <th>max</th>\n",
       "      <td>2.481458</td>\n",
       "      <td>2.763844</td>\n",
       "      <td>2.030604</td>\n",
       "      <td>2.637791</td>\n",
       "    </tr>\n",
       "  </tbody>\n",
       "</table>\n",
       "</div>"
      ],
      "text/plain": [
       "                0           1           2           3\n",
       "count  100.000000  100.000000  100.000000  100.000000\n",
       "mean     0.109025   -0.036272    0.151710    0.016248\n",
       "std      0.942568    1.101155    0.865254    0.964031\n",
       "min     -2.147855   -3.563517   -2.397504   -2.074978\n",
       "25%     -0.423570   -0.687307   -0.405337   -0.576557\n",
       "50%      0.182533   -0.058971    0.224475   -0.006317\n",
       "75%      0.756474    0.685152    0.701321    0.484905\n",
       "max      2.481458    2.763844    2.030604    2.637791"
      ]
     },
     "execution_count": 15,
     "metadata": {},
     "output_type": "execute_result"
    }
   ],
   "source": [
    "data.describe()"
   ]
  },
  {
   "cell_type": "code",
   "execution_count": 17,
   "metadata": {},
   "outputs": [
    {
     "data": {
      "text/html": [
       "<div>\n",
       "<style>\n",
       "    .dataframe thead tr:only-child th {\n",
       "        text-align: right;\n",
       "    }\n",
       "\n",
       "    .dataframe thead th {\n",
       "        text-align: left;\n",
       "    }\n",
       "\n",
       "    .dataframe tbody tr th {\n",
       "        vertical-align: top;\n",
       "    }\n",
       "</style>\n",
       "<table border=\"1\" class=\"dataframe\">\n",
       "  <thead>\n",
       "    <tr style=\"text-align: right;\">\n",
       "      <th></th>\n",
       "      <th>0</th>\n",
       "      <th>1</th>\n",
       "      <th>2</th>\n",
       "      <th>3</th>\n",
       "    </tr>\n",
       "  </thead>\n",
       "  <tbody>\n",
       "    <tr>\n",
       "      <th>0</th>\n",
       "      <td>0.471435</td>\n",
       "      <td>-1.190976</td>\n",
       "      <td>1.432707</td>\n",
       "      <td>-0.312652</td>\n",
       "    </tr>\n",
       "    <tr>\n",
       "      <th>1</th>\n",
       "      <td>-0.720589</td>\n",
       "      <td>0.887163</td>\n",
       "      <td>0.859588</td>\n",
       "      <td>-0.636524</td>\n",
       "    </tr>\n",
       "    <tr>\n",
       "      <th>2</th>\n",
       "      <td>0.015696</td>\n",
       "      <td>-2.242685</td>\n",
       "      <td>1.150036</td>\n",
       "      <td>0.991946</td>\n",
       "    </tr>\n",
       "    <tr>\n",
       "      <th>3</th>\n",
       "      <td>0.953324</td>\n",
       "      <td>-2.021255</td>\n",
       "      <td>-0.334077</td>\n",
       "      <td>0.002118</td>\n",
       "    </tr>\n",
       "    <tr>\n",
       "      <th>4</th>\n",
       "      <td>0.405453</td>\n",
       "      <td>0.289092</td>\n",
       "      <td>1.321158</td>\n",
       "      <td>-1.546906</td>\n",
       "    </tr>\n",
       "    <tr>\n",
       "      <th>5</th>\n",
       "      <td>-0.202646</td>\n",
       "      <td>-0.655969</td>\n",
       "      <td>0.193421</td>\n",
       "      <td>0.553439</td>\n",
       "    </tr>\n",
       "    <tr>\n",
       "      <th>6</th>\n",
       "      <td>1.318152</td>\n",
       "      <td>-0.469305</td>\n",
       "      <td>0.675554</td>\n",
       "      <td>-1.817027</td>\n",
       "    </tr>\n",
       "    <tr>\n",
       "      <th>7</th>\n",
       "      <td>-0.183109</td>\n",
       "      <td>1.058969</td>\n",
       "      <td>-0.397840</td>\n",
       "      <td>0.337438</td>\n",
       "    </tr>\n",
       "    <tr>\n",
       "      <th>8</th>\n",
       "      <td>1.047579</td>\n",
       "      <td>1.045938</td>\n",
       "      <td>0.863717</td>\n",
       "      <td>-0.122092</td>\n",
       "    </tr>\n",
       "    <tr>\n",
       "      <th>9</th>\n",
       "      <td>0.124713</td>\n",
       "      <td>-0.322795</td>\n",
       "      <td>0.841675</td>\n",
       "      <td>2.390961</td>\n",
       "    </tr>\n",
       "    <tr>\n",
       "      <th>10</th>\n",
       "      <td>0.076200</td>\n",
       "      <td>-0.566446</td>\n",
       "      <td>0.036142</td>\n",
       "      <td>-2.074978</td>\n",
       "    </tr>\n",
       "    <tr>\n",
       "      <th>11</th>\n",
       "      <td>0.247792</td>\n",
       "      <td>-0.897157</td>\n",
       "      <td>-0.136795</td>\n",
       "      <td>0.018289</td>\n",
       "    </tr>\n",
       "    <tr>\n",
       "      <th>12</th>\n",
       "      <td>0.755414</td>\n",
       "      <td>0.215269</td>\n",
       "      <td>0.841009</td>\n",
       "      <td>-1.445810</td>\n",
       "    </tr>\n",
       "    <tr>\n",
       "      <th>13</th>\n",
       "      <td>-1.401973</td>\n",
       "      <td>-0.100918</td>\n",
       "      <td>-0.548242</td>\n",
       "      <td>-0.144620</td>\n",
       "    </tr>\n",
       "    <tr>\n",
       "      <th>14</th>\n",
       "      <td>0.354020</td>\n",
       "      <td>-0.035513</td>\n",
       "      <td>0.565738</td>\n",
       "      <td>1.545659</td>\n",
       "    </tr>\n",
       "    <tr>\n",
       "      <th>15</th>\n",
       "      <td>-0.974236</td>\n",
       "      <td>-0.070345</td>\n",
       "      <td>0.307969</td>\n",
       "      <td>-0.208499</td>\n",
       "    </tr>\n",
       "    <tr>\n",
       "      <th>16</th>\n",
       "      <td>1.033801</td>\n",
       "      <td>-2.400454</td>\n",
       "      <td>2.030604</td>\n",
       "      <td>-1.142631</td>\n",
       "    </tr>\n",
       "    <tr>\n",
       "      <th>17</th>\n",
       "      <td>0.211883</td>\n",
       "      <td>0.704721</td>\n",
       "      <td>-0.785435</td>\n",
       "      <td>0.462060</td>\n",
       "    </tr>\n",
       "    <tr>\n",
       "      <th>18</th>\n",
       "      <td>0.704228</td>\n",
       "      <td>0.523508</td>\n",
       "      <td>-0.926254</td>\n",
       "      <td>2.007843</td>\n",
       "    </tr>\n",
       "    <tr>\n",
       "      <th>19</th>\n",
       "      <td>0.226963</td>\n",
       "      <td>-1.152659</td>\n",
       "      <td>0.631979</td>\n",
       "      <td>0.039513</td>\n",
       "    </tr>\n",
       "    <tr>\n",
       "      <th>20</th>\n",
       "      <td>0.464392</td>\n",
       "      <td>-3.563517</td>\n",
       "      <td>1.321106</td>\n",
       "      <td>0.152631</td>\n",
       "    </tr>\n",
       "    <tr>\n",
       "      <th>21</th>\n",
       "      <td>0.164530</td>\n",
       "      <td>-0.430096</td>\n",
       "      <td>0.767369</td>\n",
       "      <td>0.984920</td>\n",
       "    </tr>\n",
       "    <tr>\n",
       "      <th>22</th>\n",
       "      <td>0.270836</td>\n",
       "      <td>1.391986</td>\n",
       "      <td>0.079842</td>\n",
       "      <td>-0.399965</td>\n",
       "    </tr>\n",
       "    <tr>\n",
       "      <th>23</th>\n",
       "      <td>-1.027851</td>\n",
       "      <td>-0.584718</td>\n",
       "      <td>0.816594</td>\n",
       "      <td>-0.081947</td>\n",
       "    </tr>\n",
       "    <tr>\n",
       "      <th>24</th>\n",
       "      <td>-0.344766</td>\n",
       "      <td>0.528288</td>\n",
       "      <td>-1.068989</td>\n",
       "      <td>-0.511881</td>\n",
       "    </tr>\n",
       "    <tr>\n",
       "      <th>25</th>\n",
       "      <td>0.291205</td>\n",
       "      <td>0.566534</td>\n",
       "      <td>0.503592</td>\n",
       "      <td>0.285296</td>\n",
       "    </tr>\n",
       "    <tr>\n",
       "      <th>26</th>\n",
       "      <td>0.484288</td>\n",
       "      <td>1.363482</td>\n",
       "      <td>-0.781105</td>\n",
       "      <td>-0.468018</td>\n",
       "    </tr>\n",
       "    <tr>\n",
       "      <th>27</th>\n",
       "      <td>1.224574</td>\n",
       "      <td>-1.281108</td>\n",
       "      <td>0.875476</td>\n",
       "      <td>-1.710715</td>\n",
       "    </tr>\n",
       "    <tr>\n",
       "      <th>28</th>\n",
       "      <td>-0.450765</td>\n",
       "      <td>0.749164</td>\n",
       "      <td>-0.203933</td>\n",
       "      <td>-0.182175</td>\n",
       "    </tr>\n",
       "    <tr>\n",
       "      <th>29</th>\n",
       "      <td>0.680656</td>\n",
       "      <td>-1.818499</td>\n",
       "      <td>0.047072</td>\n",
       "      <td>0.394844</td>\n",
       "    </tr>\n",
       "    <tr>\n",
       "      <th>...</th>\n",
       "      <td>...</td>\n",
       "      <td>...</td>\n",
       "      <td>...</td>\n",
       "      <td>...</td>\n",
       "    </tr>\n",
       "    <tr>\n",
       "      <th>70</th>\n",
       "      <td>-0.490484</td>\n",
       "      <td>-0.374437</td>\n",
       "      <td>-2.397504</td>\n",
       "      <td>1.541030</td>\n",
       "    </tr>\n",
       "    <tr>\n",
       "      <th>71</th>\n",
       "      <td>0.063085</td>\n",
       "      <td>-0.284441</td>\n",
       "      <td>-1.265601</td>\n",
       "      <td>1.787980</td>\n",
       "    </tr>\n",
       "    <tr>\n",
       "      <th>72</th>\n",
       "      <td>-0.354509</td>\n",
       "      <td>-0.104761</td>\n",
       "      <td>0.386254</td>\n",
       "      <td>0.822775</td>\n",
       "    </tr>\n",
       "    <tr>\n",
       "      <th>73</th>\n",
       "      <td>-0.683790</td>\n",
       "      <td>1.057203</td>\n",
       "      <td>0.031880</td>\n",
       "      <td>1.343182</td>\n",
       "    </tr>\n",
       "    <tr>\n",
       "      <th>74</th>\n",
       "      <td>-0.050540</td>\n",
       "      <td>-0.364010</td>\n",
       "      <td>-1.553342</td>\n",
       "      <td>-0.319298</td>\n",
       "    </tr>\n",
       "    <tr>\n",
       "      <th>75</th>\n",
       "      <td>0.527046</td>\n",
       "      <td>0.711112</td>\n",
       "      <td>-0.217545</td>\n",
       "      <td>2.637791</td>\n",
       "    </tr>\n",
       "    <tr>\n",
       "      <th>76</th>\n",
       "      <td>-1.742138</td>\n",
       "      <td>-0.094435</td>\n",
       "      <td>1.431184</td>\n",
       "      <td>0.592758</td>\n",
       "    </tr>\n",
       "    <tr>\n",
       "      <th>77</th>\n",
       "      <td>0.170297</td>\n",
       "      <td>-1.751706</td>\n",
       "      <td>0.288581</td>\n",
       "      <td>-0.542580</td>\n",
       "    </tr>\n",
       "    <tr>\n",
       "      <th>78</th>\n",
       "      <td>0.171602</td>\n",
       "      <td>0.982818</td>\n",
       "      <td>-0.025349</td>\n",
       "      <td>-0.287552</td>\n",
       "    </tr>\n",
       "    <tr>\n",
       "      <th>79</th>\n",
       "      <td>0.924443</td>\n",
       "      <td>-0.061246</td>\n",
       "      <td>-0.731033</td>\n",
       "      <td>-1.022774</td>\n",
       "    </tr>\n",
       "    <tr>\n",
       "      <th>80</th>\n",
       "      <td>0.995993</td>\n",
       "      <td>0.955558</td>\n",
       "      <td>0.713841</td>\n",
       "      <td>0.133371</td>\n",
       "    </tr>\n",
       "    <tr>\n",
       "      <th>81</th>\n",
       "      <td>-0.807038</td>\n",
       "      <td>-0.342011</td>\n",
       "      <td>1.908780</td>\n",
       "      <td>0.155923</td>\n",
       "    </tr>\n",
       "    <tr>\n",
       "      <th>82</th>\n",
       "      <td>0.759653</td>\n",
       "      <td>-0.423006</td>\n",
       "      <td>0.181673</td>\n",
       "      <td>0.274493</td>\n",
       "    </tr>\n",
       "    <tr>\n",
       "      <th>83</th>\n",
       "      <td>0.067912</td>\n",
       "      <td>-0.036983</td>\n",
       "      <td>-0.170801</td>\n",
       "      <td>0.266973</td>\n",
       "    </tr>\n",
       "    <tr>\n",
       "      <th>84</th>\n",
       "      <td>1.382997</td>\n",
       "      <td>-0.022461</td>\n",
       "      <td>0.131395</td>\n",
       "      <td>0.434437</td>\n",
       "    </tr>\n",
       "    <tr>\n",
       "      <th>85</th>\n",
       "      <td>0.264534</td>\n",
       "      <td>0.565658</td>\n",
       "      <td>0.585084</td>\n",
       "      <td>-0.174298</td>\n",
       "    </tr>\n",
       "    <tr>\n",
       "      <th>86</th>\n",
       "      <td>-1.071369</td>\n",
       "      <td>-0.048461</td>\n",
       "      <td>-0.845290</td>\n",
       "      <td>0.415101</td>\n",
       "    </tr>\n",
       "    <tr>\n",
       "      <th>87</th>\n",
       "      <td>0.425531</td>\n",
       "      <td>-0.980724</td>\n",
       "      <td>-0.427826</td>\n",
       "      <td>1.498570</td>\n",
       "    </tr>\n",
       "    <tr>\n",
       "      <th>88</th>\n",
       "      <td>-0.360157</td>\n",
       "      <td>-0.458240</td>\n",
       "      <td>-1.337968</td>\n",
       "      <td>-0.041387</td>\n",
       "    </tr>\n",
       "    <tr>\n",
       "      <th>89</th>\n",
       "      <td>0.821048</td>\n",
       "      <td>2.097801</td>\n",
       "      <td>1.282933</td>\n",
       "      <td>0.270338</td>\n",
       "    </tr>\n",
       "    <tr>\n",
       "      <th>90</th>\n",
       "      <td>1.003140</td>\n",
       "      <td>1.078674</td>\n",
       "      <td>0.340753</td>\n",
       "      <td>-0.198075</td>\n",
       "    </tr>\n",
       "    <tr>\n",
       "      <th>91</th>\n",
       "      <td>2.481458</td>\n",
       "      <td>1.385255</td>\n",
       "      <td>-1.154601</td>\n",
       "      <td>-1.268069</td>\n",
       "    </tr>\n",
       "    <tr>\n",
       "      <th>92</th>\n",
       "      <td>0.607862</td>\n",
       "      <td>-1.080096</td>\n",
       "      <td>-0.611282</td>\n",
       "      <td>0.102035</td>\n",
       "    </tr>\n",
       "    <tr>\n",
       "      <th>93</th>\n",
       "      <td>-1.436574</td>\n",
       "      <td>0.210717</td>\n",
       "      <td>-0.896904</td>\n",
       "      <td>-1.724393</td>\n",
       "    </tr>\n",
       "    <tr>\n",
       "      <th>94</th>\n",
       "      <td>1.792339</td>\n",
       "      <td>-1.312713</td>\n",
       "      <td>0.555877</td>\n",
       "      <td>-0.681881</td>\n",
       "    </tr>\n",
       "    <tr>\n",
       "      <th>95</th>\n",
       "      <td>1.572743</td>\n",
       "      <td>-0.104652</td>\n",
       "      <td>1.850398</td>\n",
       "      <td>-0.333350</td>\n",
       "    </tr>\n",
       "    <tr>\n",
       "      <th>96</th>\n",
       "      <td>0.193464</td>\n",
       "      <td>-0.496745</td>\n",
       "      <td>1.032723</td>\n",
       "      <td>-1.739804</td>\n",
       "    </tr>\n",
       "    <tr>\n",
       "      <th>97</th>\n",
       "      <td>-0.755862</td>\n",
       "      <td>-0.881112</td>\n",
       "      <td>0.393892</td>\n",
       "      <td>-0.950026</td>\n",
       "    </tr>\n",
       "    <tr>\n",
       "      <th>98</th>\n",
       "      <td>0.332507</td>\n",
       "      <td>0.528944</td>\n",
       "      <td>-1.120521</td>\n",
       "      <td>0.048264</td>\n",
       "    </tr>\n",
       "    <tr>\n",
       "      <th>99</th>\n",
       "      <td>0.061988</td>\n",
       "      <td>-1.027516</td>\n",
       "      <td>-0.238335</td>\n",
       "      <td>1.932178</td>\n",
       "    </tr>\n",
       "  </tbody>\n",
       "</table>\n",
       "<p>100 rows × 4 columns</p>\n",
       "</div>"
      ],
      "text/plain": [
       "           0         1         2         3\n",
       "0   0.471435 -1.190976  1.432707 -0.312652\n",
       "1  -0.720589  0.887163  0.859588 -0.636524\n",
       "2   0.015696 -2.242685  1.150036  0.991946\n",
       "3   0.953324 -2.021255 -0.334077  0.002118\n",
       "4   0.405453  0.289092  1.321158 -1.546906\n",
       "5  -0.202646 -0.655969  0.193421  0.553439\n",
       "6   1.318152 -0.469305  0.675554 -1.817027\n",
       "7  -0.183109  1.058969 -0.397840  0.337438\n",
       "8   1.047579  1.045938  0.863717 -0.122092\n",
       "9   0.124713 -0.322795  0.841675  2.390961\n",
       "10  0.076200 -0.566446  0.036142 -2.074978\n",
       "11  0.247792 -0.897157 -0.136795  0.018289\n",
       "12  0.755414  0.215269  0.841009 -1.445810\n",
       "13 -1.401973 -0.100918 -0.548242 -0.144620\n",
       "14  0.354020 -0.035513  0.565738  1.545659\n",
       "15 -0.974236 -0.070345  0.307969 -0.208499\n",
       "16  1.033801 -2.400454  2.030604 -1.142631\n",
       "17  0.211883  0.704721 -0.785435  0.462060\n",
       "18  0.704228  0.523508 -0.926254  2.007843\n",
       "19  0.226963 -1.152659  0.631979  0.039513\n",
       "20  0.464392 -3.563517  1.321106  0.152631\n",
       "21  0.164530 -0.430096  0.767369  0.984920\n",
       "22  0.270836  1.391986  0.079842 -0.399965\n",
       "23 -1.027851 -0.584718  0.816594 -0.081947\n",
       "24 -0.344766  0.528288 -1.068989 -0.511881\n",
       "25  0.291205  0.566534  0.503592  0.285296\n",
       "26  0.484288  1.363482 -0.781105 -0.468018\n",
       "27  1.224574 -1.281108  0.875476 -1.710715\n",
       "28 -0.450765  0.749164 -0.203933 -0.182175\n",
       "29  0.680656 -1.818499  0.047072  0.394844\n",
       "..       ...       ...       ...       ...\n",
       "70 -0.490484 -0.374437 -2.397504  1.541030\n",
       "71  0.063085 -0.284441 -1.265601  1.787980\n",
       "72 -0.354509 -0.104761  0.386254  0.822775\n",
       "73 -0.683790  1.057203  0.031880  1.343182\n",
       "74 -0.050540 -0.364010 -1.553342 -0.319298\n",
       "75  0.527046  0.711112 -0.217545  2.637791\n",
       "76 -1.742138 -0.094435  1.431184  0.592758\n",
       "77  0.170297 -1.751706  0.288581 -0.542580\n",
       "78  0.171602  0.982818 -0.025349 -0.287552\n",
       "79  0.924443 -0.061246 -0.731033 -1.022774\n",
       "80  0.995993  0.955558  0.713841  0.133371\n",
       "81 -0.807038 -0.342011  1.908780  0.155923\n",
       "82  0.759653 -0.423006  0.181673  0.274493\n",
       "83  0.067912 -0.036983 -0.170801  0.266973\n",
       "84  1.382997 -0.022461  0.131395  0.434437\n",
       "85  0.264534  0.565658  0.585084 -0.174298\n",
       "86 -1.071369 -0.048461 -0.845290  0.415101\n",
       "87  0.425531 -0.980724 -0.427826  1.498570\n",
       "88 -0.360157 -0.458240 -1.337968 -0.041387\n",
       "89  0.821048  2.097801  1.282933  0.270338\n",
       "90  1.003140  1.078674  0.340753 -0.198075\n",
       "91  2.481458  1.385255 -1.154601 -1.268069\n",
       "92  0.607862 -1.080096 -0.611282  0.102035\n",
       "93 -1.436574  0.210717 -0.896904 -1.724393\n",
       "94  1.792339 -1.312713  0.555877 -0.681881\n",
       "95  1.572743 -0.104652  1.850398 -0.333350\n",
       "96  0.193464 -0.496745  1.032723 -1.739804\n",
       "97 -0.755862 -0.881112  0.393892 -0.950026\n",
       "98  0.332507  0.528944 -1.120521  0.048264\n",
       "99  0.061988 -1.027516 -0.238335  1.932178\n",
       "\n",
       "[100 rows x 4 columns]"
      ]
     },
     "execution_count": 17,
     "metadata": {},
     "output_type": "execute_result"
    }
   ],
   "source": [
    "data"
   ]
  },
  {
   "cell_type": "code",
   "execution_count": 18,
   "metadata": {},
   "outputs": [
    {
     "data": {
      "text/plain": [
       "0    -0.312652\n",
       "1    -0.636524\n",
       "2     0.991946\n",
       "3     0.002118\n",
       "4    -1.546906\n",
       "5     0.553439\n",
       "6    -1.817027\n",
       "7     0.337438\n",
       "8    -0.122092\n",
       "9     2.390961\n",
       "10   -2.074978\n",
       "11    0.018289\n",
       "12   -1.445810\n",
       "13   -0.144620\n",
       "14    1.545659\n",
       "15   -0.208499\n",
       "16   -1.142631\n",
       "17    0.462060\n",
       "18    2.007843\n",
       "19    0.039513\n",
       "20    0.152631\n",
       "21    0.984920\n",
       "22   -0.399965\n",
       "23   -0.081947\n",
       "24   -0.511881\n",
       "25    0.285296\n",
       "26   -0.468018\n",
       "27   -1.710715\n",
       "28   -0.182175\n",
       "29    0.394844\n",
       "        ...   \n",
       "70    1.541030\n",
       "71    1.787980\n",
       "72    0.822775\n",
       "73    1.343182\n",
       "74   -0.319298\n",
       "75    2.637791\n",
       "76    0.592758\n",
       "77   -0.542580\n",
       "78   -0.287552\n",
       "79   -1.022774\n",
       "80    0.133371\n",
       "81    0.155923\n",
       "82    0.274493\n",
       "83    0.266973\n",
       "84    0.434437\n",
       "85   -0.174298\n",
       "86    0.415101\n",
       "87    1.498570\n",
       "88   -0.041387\n",
       "89    0.270338\n",
       "90   -0.198075\n",
       "91   -1.268069\n",
       "92    0.102035\n",
       "93   -1.724393\n",
       "94   -0.681881\n",
       "95   -0.333350\n",
       "96   -1.739804\n",
       "97   -0.950026\n",
       "98    0.048264\n",
       "99    1.932178\n",
       "Name: 3, Length: 100, dtype: float64"
      ]
     },
     "execution_count": 18,
     "metadata": {},
     "output_type": "execute_result"
    }
   ],
   "source": [
    "data[3]"
   ]
  },
  {
   "cell_type": "code",
   "execution_count": 19,
   "metadata": {},
   "outputs": [],
   "source": [
    "col = data[3]"
   ]
  },
  {
   "cell_type": "code",
   "execution_count": 23,
   "metadata": {},
   "outputs": [],
   "source": [
    "data2 = col[np.abs(col)>1]"
   ]
  },
  {
   "cell_type": "code",
   "execution_count": 32,
   "metadata": {},
   "outputs": [],
   "source": [
    "data3 = data[(np.abs(data)>1).any(1)]"
   ]
  },
  {
   "cell_type": "code",
   "execution_count": 30,
   "metadata": {},
   "outputs": [
    {
     "data": {
      "text/html": [
       "<div>\n",
       "<style>\n",
       "    .dataframe thead tr:only-child th {\n",
       "        text-align: right;\n",
       "    }\n",
       "\n",
       "    .dataframe thead th {\n",
       "        text-align: left;\n",
       "    }\n",
       "\n",
       "    .dataframe tbody tr th {\n",
       "        vertical-align: top;\n",
       "    }\n",
       "</style>\n",
       "<table border=\"1\" class=\"dataframe\">\n",
       "  <thead>\n",
       "    <tr style=\"text-align: right;\">\n",
       "      <th></th>\n",
       "      <th>0</th>\n",
       "      <th>1</th>\n",
       "      <th>2</th>\n",
       "      <th>3</th>\n",
       "    </tr>\n",
       "  </thead>\n",
       "  <tbody>\n",
       "    <tr>\n",
       "      <th>0</th>\n",
       "      <td>0.471435</td>\n",
       "      <td>-1.190976</td>\n",
       "      <td>1.432707</td>\n",
       "      <td>-0.312652</td>\n",
       "    </tr>\n",
       "    <tr>\n",
       "      <th>2</th>\n",
       "      <td>0.015696</td>\n",
       "      <td>-2.242685</td>\n",
       "      <td>1.150036</td>\n",
       "      <td>0.991946</td>\n",
       "    </tr>\n",
       "    <tr>\n",
       "      <th>3</th>\n",
       "      <td>0.953324</td>\n",
       "      <td>-2.021255</td>\n",
       "      <td>-0.334077</td>\n",
       "      <td>0.002118</td>\n",
       "    </tr>\n",
       "    <tr>\n",
       "      <th>4</th>\n",
       "      <td>0.405453</td>\n",
       "      <td>0.289092</td>\n",
       "      <td>1.321158</td>\n",
       "      <td>-1.546906</td>\n",
       "    </tr>\n",
       "    <tr>\n",
       "      <th>6</th>\n",
       "      <td>1.318152</td>\n",
       "      <td>-0.469305</td>\n",
       "      <td>0.675554</td>\n",
       "      <td>-1.817027</td>\n",
       "    </tr>\n",
       "    <tr>\n",
       "      <th>7</th>\n",
       "      <td>-0.183109</td>\n",
       "      <td>1.058969</td>\n",
       "      <td>-0.397840</td>\n",
       "      <td>0.337438</td>\n",
       "    </tr>\n",
       "    <tr>\n",
       "      <th>8</th>\n",
       "      <td>1.047579</td>\n",
       "      <td>1.045938</td>\n",
       "      <td>0.863717</td>\n",
       "      <td>-0.122092</td>\n",
       "    </tr>\n",
       "    <tr>\n",
       "      <th>9</th>\n",
       "      <td>0.124713</td>\n",
       "      <td>-0.322795</td>\n",
       "      <td>0.841675</td>\n",
       "      <td>2.390961</td>\n",
       "    </tr>\n",
       "    <tr>\n",
       "      <th>10</th>\n",
       "      <td>0.076200</td>\n",
       "      <td>-0.566446</td>\n",
       "      <td>0.036142</td>\n",
       "      <td>-2.074978</td>\n",
       "    </tr>\n",
       "    <tr>\n",
       "      <th>12</th>\n",
       "      <td>0.755414</td>\n",
       "      <td>0.215269</td>\n",
       "      <td>0.841009</td>\n",
       "      <td>-1.445810</td>\n",
       "    </tr>\n",
       "    <tr>\n",
       "      <th>13</th>\n",
       "      <td>-1.401973</td>\n",
       "      <td>-0.100918</td>\n",
       "      <td>-0.548242</td>\n",
       "      <td>-0.144620</td>\n",
       "    </tr>\n",
       "    <tr>\n",
       "      <th>14</th>\n",
       "      <td>0.354020</td>\n",
       "      <td>-0.035513</td>\n",
       "      <td>0.565738</td>\n",
       "      <td>1.545659</td>\n",
       "    </tr>\n",
       "    <tr>\n",
       "      <th>16</th>\n",
       "      <td>1.033801</td>\n",
       "      <td>-2.400454</td>\n",
       "      <td>2.030604</td>\n",
       "      <td>-1.142631</td>\n",
       "    </tr>\n",
       "    <tr>\n",
       "      <th>18</th>\n",
       "      <td>0.704228</td>\n",
       "      <td>0.523508</td>\n",
       "      <td>-0.926254</td>\n",
       "      <td>2.007843</td>\n",
       "    </tr>\n",
       "    <tr>\n",
       "      <th>19</th>\n",
       "      <td>0.226963</td>\n",
       "      <td>-1.152659</td>\n",
       "      <td>0.631979</td>\n",
       "      <td>0.039513</td>\n",
       "    </tr>\n",
       "    <tr>\n",
       "      <th>20</th>\n",
       "      <td>0.464392</td>\n",
       "      <td>-3.563517</td>\n",
       "      <td>1.321106</td>\n",
       "      <td>0.152631</td>\n",
       "    </tr>\n",
       "    <tr>\n",
       "      <th>22</th>\n",
       "      <td>0.270836</td>\n",
       "      <td>1.391986</td>\n",
       "      <td>0.079842</td>\n",
       "      <td>-0.399965</td>\n",
       "    </tr>\n",
       "    <tr>\n",
       "      <th>23</th>\n",
       "      <td>-1.027851</td>\n",
       "      <td>-0.584718</td>\n",
       "      <td>0.816594</td>\n",
       "      <td>-0.081947</td>\n",
       "    </tr>\n",
       "    <tr>\n",
       "      <th>24</th>\n",
       "      <td>-0.344766</td>\n",
       "      <td>0.528288</td>\n",
       "      <td>-1.068989</td>\n",
       "      <td>-0.511881</td>\n",
       "    </tr>\n",
       "    <tr>\n",
       "      <th>26</th>\n",
       "      <td>0.484288</td>\n",
       "      <td>1.363482</td>\n",
       "      <td>-0.781105</td>\n",
       "      <td>-0.468018</td>\n",
       "    </tr>\n",
       "    <tr>\n",
       "      <th>27</th>\n",
       "      <td>1.224574</td>\n",
       "      <td>-1.281108</td>\n",
       "      <td>0.875476</td>\n",
       "      <td>-1.710715</td>\n",
       "    </tr>\n",
       "    <tr>\n",
       "      <th>29</th>\n",
       "      <td>0.680656</td>\n",
       "      <td>-1.818499</td>\n",
       "      <td>0.047072</td>\n",
       "      <td>0.394844</td>\n",
       "    </tr>\n",
       "    <tr>\n",
       "      <th>31</th>\n",
       "      <td>-1.703013</td>\n",
       "      <td>0.393711</td>\n",
       "      <td>-0.479324</td>\n",
       "      <td>-0.299016</td>\n",
       "    </tr>\n",
       "    <tr>\n",
       "      <th>33</th>\n",
       "      <td>0.816127</td>\n",
       "      <td>1.893534</td>\n",
       "      <td>0.639633</td>\n",
       "      <td>-0.962029</td>\n",
       "    </tr>\n",
       "    <tr>\n",
       "      <th>34</th>\n",
       "      <td>-2.085266</td>\n",
       "      <td>1.930247</td>\n",
       "      <td>-1.735349</td>\n",
       "      <td>1.210384</td>\n",
       "    </tr>\n",
       "    <tr>\n",
       "      <th>36</th>\n",
       "      <td>1.176812</td>\n",
       "      <td>-0.524336</td>\n",
       "      <td>0.700908</td>\n",
       "      <td>0.984188</td>\n",
       "    </tr>\n",
       "    <tr>\n",
       "      <th>37</th>\n",
       "      <td>-0.121728</td>\n",
       "      <td>2.365769</td>\n",
       "      <td>0.496143</td>\n",
       "      <td>0.796595</td>\n",
       "    </tr>\n",
       "    <tr>\n",
       "      <th>38</th>\n",
       "      <td>-0.474021</td>\n",
       "      <td>-0.056696</td>\n",
       "      <td>1.357797</td>\n",
       "      <td>-0.804834</td>\n",
       "    </tr>\n",
       "    <tr>\n",
       "      <th>39</th>\n",
       "      <td>-2.123620</td>\n",
       "      <td>-0.333502</td>\n",
       "      <td>-0.886719</td>\n",
       "      <td>0.334198</td>\n",
       "    </tr>\n",
       "    <tr>\n",
       "      <th>43</th>\n",
       "      <td>-0.938153</td>\n",
       "      <td>-1.239072</td>\n",
       "      <td>0.139683</td>\n",
       "      <td>-0.223019</td>\n",
       "    </tr>\n",
       "    <tr>\n",
       "      <th>...</th>\n",
       "      <td>...</td>\n",
       "      <td>...</td>\n",
       "      <td>...</td>\n",
       "      <td>...</td>\n",
       "    </tr>\n",
       "    <tr>\n",
       "      <th>59</th>\n",
       "      <td>0.581073</td>\n",
       "      <td>2.763844</td>\n",
       "      <td>0.399325</td>\n",
       "      <td>0.668488</td>\n",
       "    </tr>\n",
       "    <tr>\n",
       "      <th>60</th>\n",
       "      <td>-0.275774</td>\n",
       "      <td>0.500483</td>\n",
       "      <td>0.863065</td>\n",
       "      <td>-1.051628</td>\n",
       "    </tr>\n",
       "    <tr>\n",
       "      <th>61</th>\n",
       "      <td>-1.392054</td>\n",
       "      <td>1.153922</td>\n",
       "      <td>1.181944</td>\n",
       "      <td>0.391371</td>\n",
       "    </tr>\n",
       "    <tr>\n",
       "      <th>62</th>\n",
       "      <td>-0.881047</td>\n",
       "      <td>0.295080</td>\n",
       "      <td>1.863801</td>\n",
       "      <td>-1.712274</td>\n",
       "    </tr>\n",
       "    <tr>\n",
       "      <th>63</th>\n",
       "      <td>-1.407085</td>\n",
       "      <td>0.126781</td>\n",
       "      <td>0.003760</td>\n",
       "      <td>-1.268994</td>\n",
       "    </tr>\n",
       "    <tr>\n",
       "      <th>65</th>\n",
       "      <td>1.529401</td>\n",
       "      <td>0.205455</td>\n",
       "      <td>0.313013</td>\n",
       "      <td>0.866521</td>\n",
       "    </tr>\n",
       "    <tr>\n",
       "      <th>66</th>\n",
       "      <td>0.299071</td>\n",
       "      <td>1.076541</td>\n",
       "      <td>0.363177</td>\n",
       "      <td>1.893680</td>\n",
       "    </tr>\n",
       "    <tr>\n",
       "      <th>70</th>\n",
       "      <td>-0.490484</td>\n",
       "      <td>-0.374437</td>\n",
       "      <td>-2.397504</td>\n",
       "      <td>1.541030</td>\n",
       "    </tr>\n",
       "    <tr>\n",
       "      <th>71</th>\n",
       "      <td>0.063085</td>\n",
       "      <td>-0.284441</td>\n",
       "      <td>-1.265601</td>\n",
       "      <td>1.787980</td>\n",
       "    </tr>\n",
       "    <tr>\n",
       "      <th>73</th>\n",
       "      <td>-0.683790</td>\n",
       "      <td>1.057203</td>\n",
       "      <td>0.031880</td>\n",
       "      <td>1.343182</td>\n",
       "    </tr>\n",
       "    <tr>\n",
       "      <th>74</th>\n",
       "      <td>-0.050540</td>\n",
       "      <td>-0.364010</td>\n",
       "      <td>-1.553342</td>\n",
       "      <td>-0.319298</td>\n",
       "    </tr>\n",
       "    <tr>\n",
       "      <th>75</th>\n",
       "      <td>0.527046</td>\n",
       "      <td>0.711112</td>\n",
       "      <td>-0.217545</td>\n",
       "      <td>2.637791</td>\n",
       "    </tr>\n",
       "    <tr>\n",
       "      <th>76</th>\n",
       "      <td>-1.742138</td>\n",
       "      <td>-0.094435</td>\n",
       "      <td>1.431184</td>\n",
       "      <td>0.592758</td>\n",
       "    </tr>\n",
       "    <tr>\n",
       "      <th>77</th>\n",
       "      <td>0.170297</td>\n",
       "      <td>-1.751706</td>\n",
       "      <td>0.288581</td>\n",
       "      <td>-0.542580</td>\n",
       "    </tr>\n",
       "    <tr>\n",
       "      <th>79</th>\n",
       "      <td>0.924443</td>\n",
       "      <td>-0.061246</td>\n",
       "      <td>-0.731033</td>\n",
       "      <td>-1.022774</td>\n",
       "    </tr>\n",
       "    <tr>\n",
       "      <th>81</th>\n",
       "      <td>-0.807038</td>\n",
       "      <td>-0.342011</td>\n",
       "      <td>1.908780</td>\n",
       "      <td>0.155923</td>\n",
       "    </tr>\n",
       "    <tr>\n",
       "      <th>84</th>\n",
       "      <td>1.382997</td>\n",
       "      <td>-0.022461</td>\n",
       "      <td>0.131395</td>\n",
       "      <td>0.434437</td>\n",
       "    </tr>\n",
       "    <tr>\n",
       "      <th>86</th>\n",
       "      <td>-1.071369</td>\n",
       "      <td>-0.048461</td>\n",
       "      <td>-0.845290</td>\n",
       "      <td>0.415101</td>\n",
       "    </tr>\n",
       "    <tr>\n",
       "      <th>87</th>\n",
       "      <td>0.425531</td>\n",
       "      <td>-0.980724</td>\n",
       "      <td>-0.427826</td>\n",
       "      <td>1.498570</td>\n",
       "    </tr>\n",
       "    <tr>\n",
       "      <th>88</th>\n",
       "      <td>-0.360157</td>\n",
       "      <td>-0.458240</td>\n",
       "      <td>-1.337968</td>\n",
       "      <td>-0.041387</td>\n",
       "    </tr>\n",
       "    <tr>\n",
       "      <th>89</th>\n",
       "      <td>0.821048</td>\n",
       "      <td>2.097801</td>\n",
       "      <td>1.282933</td>\n",
       "      <td>0.270338</td>\n",
       "    </tr>\n",
       "    <tr>\n",
       "      <th>90</th>\n",
       "      <td>1.003140</td>\n",
       "      <td>1.078674</td>\n",
       "      <td>0.340753</td>\n",
       "      <td>-0.198075</td>\n",
       "    </tr>\n",
       "    <tr>\n",
       "      <th>91</th>\n",
       "      <td>2.481458</td>\n",
       "      <td>1.385255</td>\n",
       "      <td>-1.154601</td>\n",
       "      <td>-1.268069</td>\n",
       "    </tr>\n",
       "    <tr>\n",
       "      <th>92</th>\n",
       "      <td>0.607862</td>\n",
       "      <td>-1.080096</td>\n",
       "      <td>-0.611282</td>\n",
       "      <td>0.102035</td>\n",
       "    </tr>\n",
       "    <tr>\n",
       "      <th>93</th>\n",
       "      <td>-1.436574</td>\n",
       "      <td>0.210717</td>\n",
       "      <td>-0.896904</td>\n",
       "      <td>-1.724393</td>\n",
       "    </tr>\n",
       "    <tr>\n",
       "      <th>94</th>\n",
       "      <td>1.792339</td>\n",
       "      <td>-1.312713</td>\n",
       "      <td>0.555877</td>\n",
       "      <td>-0.681881</td>\n",
       "    </tr>\n",
       "    <tr>\n",
       "      <th>95</th>\n",
       "      <td>1.572743</td>\n",
       "      <td>-0.104652</td>\n",
       "      <td>1.850398</td>\n",
       "      <td>-0.333350</td>\n",
       "    </tr>\n",
       "    <tr>\n",
       "      <th>96</th>\n",
       "      <td>0.193464</td>\n",
       "      <td>-0.496745</td>\n",
       "      <td>1.032723</td>\n",
       "      <td>-1.739804</td>\n",
       "    </tr>\n",
       "    <tr>\n",
       "      <th>98</th>\n",
       "      <td>0.332507</td>\n",
       "      <td>0.528944</td>\n",
       "      <td>-1.120521</td>\n",
       "      <td>0.048264</td>\n",
       "    </tr>\n",
       "    <tr>\n",
       "      <th>99</th>\n",
       "      <td>0.061988</td>\n",
       "      <td>-1.027516</td>\n",
       "      <td>-0.238335</td>\n",
       "      <td>1.932178</td>\n",
       "    </tr>\n",
       "  </tbody>\n",
       "</table>\n",
       "<p>73 rows × 4 columns</p>\n",
       "</div>"
      ],
      "text/plain": [
       "           0         1         2         3\n",
       "0   0.471435 -1.190976  1.432707 -0.312652\n",
       "2   0.015696 -2.242685  1.150036  0.991946\n",
       "3   0.953324 -2.021255 -0.334077  0.002118\n",
       "4   0.405453  0.289092  1.321158 -1.546906\n",
       "6   1.318152 -0.469305  0.675554 -1.817027\n",
       "7  -0.183109  1.058969 -0.397840  0.337438\n",
       "8   1.047579  1.045938  0.863717 -0.122092\n",
       "9   0.124713 -0.322795  0.841675  2.390961\n",
       "10  0.076200 -0.566446  0.036142 -2.074978\n",
       "12  0.755414  0.215269  0.841009 -1.445810\n",
       "13 -1.401973 -0.100918 -0.548242 -0.144620\n",
       "14  0.354020 -0.035513  0.565738  1.545659\n",
       "16  1.033801 -2.400454  2.030604 -1.142631\n",
       "18  0.704228  0.523508 -0.926254  2.007843\n",
       "19  0.226963 -1.152659  0.631979  0.039513\n",
       "20  0.464392 -3.563517  1.321106  0.152631\n",
       "22  0.270836  1.391986  0.079842 -0.399965\n",
       "23 -1.027851 -0.584718  0.816594 -0.081947\n",
       "24 -0.344766  0.528288 -1.068989 -0.511881\n",
       "26  0.484288  1.363482 -0.781105 -0.468018\n",
       "27  1.224574 -1.281108  0.875476 -1.710715\n",
       "29  0.680656 -1.818499  0.047072  0.394844\n",
       "31 -1.703013  0.393711 -0.479324 -0.299016\n",
       "33  0.816127  1.893534  0.639633 -0.962029\n",
       "34 -2.085266  1.930247 -1.735349  1.210384\n",
       "36  1.176812 -0.524336  0.700908  0.984188\n",
       "37 -0.121728  2.365769  0.496143  0.796595\n",
       "38 -0.474021 -0.056696  1.357797 -0.804834\n",
       "39 -2.123620 -0.333502 -0.886719  0.334198\n",
       "43 -0.938153 -1.239072  0.139683 -0.223019\n",
       "..       ...       ...       ...       ...\n",
       "59  0.581073  2.763844  0.399325  0.668488\n",
       "60 -0.275774  0.500483  0.863065 -1.051628\n",
       "61 -1.392054  1.153922  1.181944  0.391371\n",
       "62 -0.881047  0.295080  1.863801 -1.712274\n",
       "63 -1.407085  0.126781  0.003760 -1.268994\n",
       "65  1.529401  0.205455  0.313013  0.866521\n",
       "66  0.299071  1.076541  0.363177  1.893680\n",
       "70 -0.490484 -0.374437 -2.397504  1.541030\n",
       "71  0.063085 -0.284441 -1.265601  1.787980\n",
       "73 -0.683790  1.057203  0.031880  1.343182\n",
       "74 -0.050540 -0.364010 -1.553342 -0.319298\n",
       "75  0.527046  0.711112 -0.217545  2.637791\n",
       "76 -1.742138 -0.094435  1.431184  0.592758\n",
       "77  0.170297 -1.751706  0.288581 -0.542580\n",
       "79  0.924443 -0.061246 -0.731033 -1.022774\n",
       "81 -0.807038 -0.342011  1.908780  0.155923\n",
       "84  1.382997 -0.022461  0.131395  0.434437\n",
       "86 -1.071369 -0.048461 -0.845290  0.415101\n",
       "87  0.425531 -0.980724 -0.427826  1.498570\n",
       "88 -0.360157 -0.458240 -1.337968 -0.041387\n",
       "89  0.821048  2.097801  1.282933  0.270338\n",
       "90  1.003140  1.078674  0.340753 -0.198075\n",
       "91  2.481458  1.385255 -1.154601 -1.268069\n",
       "92  0.607862 -1.080096 -0.611282  0.102035\n",
       "93 -1.436574  0.210717 -0.896904 -1.724393\n",
       "94  1.792339 -1.312713  0.555877 -0.681881\n",
       "95  1.572743 -0.104652  1.850398 -0.333350\n",
       "96  0.193464 -0.496745  1.032723 -1.739804\n",
       "98  0.332507  0.528944 -1.120521  0.048264\n",
       "99  0.061988 -1.027516 -0.238335  1.932178\n",
       "\n",
       "[73 rows x 4 columns]"
      ]
     },
     "execution_count": 30,
     "metadata": {},
     "output_type": "execute_result"
    }
   ],
   "source": [
    "data3"
   ]
  },
  {
   "cell_type": "code",
   "execution_count": 63,
   "metadata": {},
   "outputs": [],
   "source": [
    "A = np.random.randint(0, 5, (5, 5))"
   ]
  },
  {
   "cell_type": "code",
   "execution_count": 37,
   "metadata": {},
   "outputs": [],
   "source": [
    "B = np.random.randint(0, 10, (10, 10))"
   ]
  },
  {
   "cell_type": "code",
   "execution_count": 49,
   "metadata": {},
   "outputs": [],
   "source": [
    "def f_df(A, B):\n",
    "    out = np.zeros((3, 3), int)\n",
    "    np.add.at(out, (A.ravel(), B.ravel()), 1)\n",
    "    return out"
   ]
  },
  {
   "cell_type": "code",
   "execution_count": 39,
   "metadata": {},
   "outputs": [],
   "source": [
    "def f_pp(A, B):\n",
    "    return np.bincount(np.ravel_multi_index((A, B), (10, 10)).ravel(), minlength=100).reshape(10, 10)"
   ]
  },
  {
   "cell_type": "code",
   "execution_count": 40,
   "metadata": {},
   "outputs": [
    {
     "data": {
      "text/plain": [
       "True"
      ]
     },
     "execution_count": 40,
     "metadata": {},
     "output_type": "execute_result"
    }
   ],
   "source": [
    "np.all(f_df(A, B) == f_pp(A, B))"
   ]
  },
  {
   "cell_type": "code",
   "execution_count": 41,
   "metadata": {},
   "outputs": [
    {
     "data": {
      "text/plain": [
       "array([[1, 1, 0, 2, 0, 2, 3, 0, 1, 0],\n",
       "       [0, 1, 0, 1, 4, 2, 0, 0, 1, 0],\n",
       "       [3, 1, 2, 0, 2, 0, 0, 0, 1, 1],\n",
       "       [1, 2, 3, 1, 1, 0, 3, 0, 0, 0],\n",
       "       [1, 0, 0, 0, 3, 2, 0, 0, 3, 0],\n",
       "       [1, 3, 2, 0, 0, 1, 1, 2, 1, 2],\n",
       "       [1, 0, 0, 0, 1, 1, 0, 0, 1, 0],\n",
       "       [1, 0, 0, 1, 1, 0, 2, 1, 2, 0],\n",
       "       [4, 2, 0, 0, 2, 0, 3, 0, 2, 2],\n",
       "       [3, 0, 0, 3, 0, 0, 3, 2, 0, 0]])"
      ]
     },
     "execution_count": 41,
     "metadata": {},
     "output_type": "execute_result"
    }
   ],
   "source": [
    "f_df(A, B)"
   ]
  },
  {
   "cell_type": "code",
   "execution_count": 42,
   "metadata": {},
   "outputs": [
    {
     "data": {
      "text/plain": [
       "array([[1, 1, 0, 2, 0, 2, 3, 0, 1, 0],\n",
       "       [0, 1, 0, 1, 4, 2, 0, 0, 1, 0],\n",
       "       [3, 1, 2, 0, 2, 0, 0, 0, 1, 1],\n",
       "       [1, 2, 3, 1, 1, 0, 3, 0, 0, 0],\n",
       "       [1, 0, 0, 0, 3, 2, 0, 0, 3, 0],\n",
       "       [1, 3, 2, 0, 0, 1, 1, 2, 1, 2],\n",
       "       [1, 0, 0, 0, 1, 1, 0, 0, 1, 0],\n",
       "       [1, 0, 0, 1, 1, 0, 2, 1, 2, 0],\n",
       "       [4, 2, 0, 0, 2, 0, 3, 0, 2, 2],\n",
       "       [3, 0, 0, 3, 0, 0, 3, 2, 0, 0]], dtype=int64)"
      ]
     },
     "execution_count": 42,
     "metadata": {},
     "output_type": "execute_result"
    }
   ],
   "source": [
    "f_pp(A, B)"
   ]
  },
  {
   "cell_type": "code",
   "execution_count": 47,
   "metadata": {},
   "outputs": [
    {
     "ename": "TypeError",
     "evalue": "repeat() got an unexpected keyword argument 'number'",
     "output_type": "error",
     "traceback": [
      "\u001b[1;31m---------------------------------------------------------------------------\u001b[0m",
      "\u001b[1;31mTypeError\u001b[0m                                 Traceback (most recent call last)",
      "\u001b[1;32m<ipython-input-47-23d85ead0bf7>\u001b[0m in \u001b[0;36m<module>\u001b[1;34m()\u001b[0m\n\u001b[1;32m----> 1\u001b[1;33m \u001b[0mnp\u001b[0m\u001b[1;33m.\u001b[0m\u001b[0mrepeat\u001b[0m\u001b[1;33m(\u001b[0m\u001b[1;34m'f_df(A, B)'\u001b[0m\u001b[1;33m,\u001b[0m \u001b[0mnumber\u001b[0m\u001b[1;33m=\u001b[0m\u001b[1;36m1000\u001b[0m\u001b[1;33m)\u001b[0m\u001b[1;33m\u001b[0m\u001b[0m\n\u001b[0m",
      "\u001b[1;31mTypeError\u001b[0m: repeat() got an unexpected keyword argument 'number'"
     ]
    }
   ],
   "source": [
    "np.repeat('f_df(A, B)', 1000)"
   ]
  },
  {
   "cell_type": "code",
   "execution_count": 52,
   "metadata": {},
   "outputs": [],
   "source": [
    "a = np.array([[1,2,3],[3,1,2],[2,1,3]])\n",
    "b = np.array([[3,2,1],[1,2,3],[3,2,1]])"
   ]
  },
  {
   "cell_type": "code",
   "execution_count": 56,
   "metadata": {},
   "outputs": [
    {
     "ename": "IndexError",
     "evalue": "index 8 is out of bounds for axis 0 with size 3",
     "output_type": "error",
     "traceback": [
      "\u001b[1;31m---------------------------------------------------------------------------\u001b[0m",
      "\u001b[1;31mIndexError\u001b[0m                                Traceback (most recent call last)",
      "\u001b[1;32m<ipython-input-56-e1cf2b4298f6>\u001b[0m in \u001b[0;36m<module>\u001b[1;34m()\u001b[0m\n\u001b[1;32m----> 1\u001b[1;33m \u001b[0mf_df\u001b[0m\u001b[1;33m(\u001b[0m\u001b[0mA\u001b[0m\u001b[1;33m,\u001b[0m \u001b[0mB\u001b[0m\u001b[1;33m)\u001b[0m\u001b[1;33m\u001b[0m\u001b[0m\n\u001b[0m",
      "\u001b[1;32m<ipython-input-49-dee53738c2ce>\u001b[0m in \u001b[0;36mf_df\u001b[1;34m(A, B)\u001b[0m\n\u001b[0;32m      1\u001b[0m \u001b[1;32mdef\u001b[0m \u001b[0mf_df\u001b[0m\u001b[1;33m(\u001b[0m\u001b[0mA\u001b[0m\u001b[1;33m,\u001b[0m \u001b[0mB\u001b[0m\u001b[1;33m)\u001b[0m\u001b[1;33m:\u001b[0m\u001b[1;33m\u001b[0m\u001b[0m\n\u001b[0;32m      2\u001b[0m     \u001b[0mout\u001b[0m \u001b[1;33m=\u001b[0m \u001b[0mnp\u001b[0m\u001b[1;33m.\u001b[0m\u001b[0mzeros\u001b[0m\u001b[1;33m(\u001b[0m\u001b[1;33m(\u001b[0m\u001b[1;36m3\u001b[0m\u001b[1;33m,\u001b[0m \u001b[1;36m3\u001b[0m\u001b[1;33m)\u001b[0m\u001b[1;33m,\u001b[0m \u001b[0mint\u001b[0m\u001b[1;33m)\u001b[0m\u001b[1;33m\u001b[0m\u001b[0m\n\u001b[1;32m----> 3\u001b[1;33m     \u001b[0mnp\u001b[0m\u001b[1;33m.\u001b[0m\u001b[0madd\u001b[0m\u001b[1;33m.\u001b[0m\u001b[0mat\u001b[0m\u001b[1;33m(\u001b[0m\u001b[0mout\u001b[0m\u001b[1;33m,\u001b[0m \u001b[1;33m(\u001b[0m\u001b[0mA\u001b[0m\u001b[1;33m.\u001b[0m\u001b[0mravel\u001b[0m\u001b[1;33m(\u001b[0m\u001b[1;33m)\u001b[0m\u001b[1;33m,\u001b[0m \u001b[0mB\u001b[0m\u001b[1;33m.\u001b[0m\u001b[0mravel\u001b[0m\u001b[1;33m(\u001b[0m\u001b[1;33m)\u001b[0m\u001b[1;33m)\u001b[0m\u001b[1;33m,\u001b[0m \u001b[1;36m1\u001b[0m\u001b[1;33m)\u001b[0m\u001b[1;33m\u001b[0m\u001b[0m\n\u001b[0m\u001b[0;32m      4\u001b[0m     \u001b[1;32mreturn\u001b[0m \u001b[0mout\u001b[0m\u001b[1;33m\u001b[0m\u001b[0m\n",
      "\u001b[1;31mIndexError\u001b[0m: index 8 is out of bounds for axis 0 with size 3"
     ]
    }
   ],
   "source": [
    "f_df(A, B)"
   ]
  },
  {
   "cell_type": "code",
   "execution_count": 54,
   "metadata": {},
   "outputs": [
    {
     "data": {
      "text/plain": [
       "array([[8, 3, 7, 9, 5, 7, 2, 9, 9, 9],\n",
       "       [4, 4, 2, 6, 1, 9, 2, 4, 3, 5],\n",
       "       [9, 0, 9, 6, 0, 3, 0, 5, 8, 5],\n",
       "       [0, 2, 6, 8, 0, 4, 4, 8, 8, 0],\n",
       "       [2, 9, 8, 8, 7, 0, 1, 1, 4, 3],\n",
       "       [8, 7, 1, 8, 5, 3, 7, 8, 1, 5],\n",
       "       [6, 2, 8, 4, 5, 7, 5, 2, 1, 0],\n",
       "       [3, 8, 5, 0, 9, 3, 3, 3, 2, 7],\n",
       "       [5, 2, 5, 0, 7, 4, 8, 1, 8, 1],\n",
       "       [9, 2, 5, 3, 4, 8, 1, 5, 3, 9]])"
      ]
     },
     "execution_count": 54,
     "metadata": {},
     "output_type": "execute_result"
    }
   ],
   "source": [
    "A"
   ]
  },
  {
   "cell_type": "code",
   "execution_count": 55,
   "metadata": {},
   "outputs": [
    {
     "data": {
      "text/plain": [
       "array([[1, 2, 3],\n",
       "       [3, 1, 2],\n",
       "       [2, 1, 3]])"
      ]
     },
     "execution_count": 55,
     "metadata": {},
     "output_type": "execute_result"
    }
   ],
   "source": [
    "a"
   ]
  },
  {
   "cell_type": "code",
   "execution_count": 57,
   "metadata": {},
   "outputs": [],
   "source": [
    "def f_df(A, B):\n",
    "    out = np.zeros((10, 10), int)\n",
    "    np.add.at(out, (A.ravel(), B.ravel()), 1)\n",
    "    return out"
   ]
  },
  {
   "cell_type": "code",
   "execution_count": 58,
   "metadata": {},
   "outputs": [
    {
     "ename": "IndexError",
     "evalue": "index 3 is out of bounds for axis 0 with size 3",
     "output_type": "error",
     "traceback": [
      "\u001b[1;31m---------------------------------------------------------------------------\u001b[0m",
      "\u001b[1;31mIndexError\u001b[0m                                Traceback (most recent call last)",
      "\u001b[1;32m<ipython-input-58-67a759dbc176>\u001b[0m in \u001b[0;36m<module>\u001b[1;34m()\u001b[0m\n\u001b[1;32m----> 1\u001b[1;33m \u001b[0mf_df\u001b[0m\u001b[1;33m(\u001b[0m\u001b[0ma\u001b[0m\u001b[1;33m,\u001b[0m \u001b[0mb\u001b[0m\u001b[1;33m)\u001b[0m\u001b[1;33m\u001b[0m\u001b[0m\n\u001b[0m",
      "\u001b[1;32m<ipython-input-57-dee53738c2ce>\u001b[0m in \u001b[0;36mf_df\u001b[1;34m(A, B)\u001b[0m\n\u001b[0;32m      1\u001b[0m \u001b[1;32mdef\u001b[0m \u001b[0mf_df\u001b[0m\u001b[1;33m(\u001b[0m\u001b[0mA\u001b[0m\u001b[1;33m,\u001b[0m \u001b[0mB\u001b[0m\u001b[1;33m)\u001b[0m\u001b[1;33m:\u001b[0m\u001b[1;33m\u001b[0m\u001b[0m\n\u001b[0;32m      2\u001b[0m     \u001b[0mout\u001b[0m \u001b[1;33m=\u001b[0m \u001b[0mnp\u001b[0m\u001b[1;33m.\u001b[0m\u001b[0mzeros\u001b[0m\u001b[1;33m(\u001b[0m\u001b[1;33m(\u001b[0m\u001b[1;36m3\u001b[0m\u001b[1;33m,\u001b[0m \u001b[1;36m3\u001b[0m\u001b[1;33m)\u001b[0m\u001b[1;33m,\u001b[0m \u001b[0mint\u001b[0m\u001b[1;33m)\u001b[0m\u001b[1;33m\u001b[0m\u001b[0m\n\u001b[1;32m----> 3\u001b[1;33m     \u001b[0mnp\u001b[0m\u001b[1;33m.\u001b[0m\u001b[0madd\u001b[0m\u001b[1;33m.\u001b[0m\u001b[0mat\u001b[0m\u001b[1;33m(\u001b[0m\u001b[0mout\u001b[0m\u001b[1;33m,\u001b[0m \u001b[1;33m(\u001b[0m\u001b[0mA\u001b[0m\u001b[1;33m.\u001b[0m\u001b[0mravel\u001b[0m\u001b[1;33m(\u001b[0m\u001b[1;33m)\u001b[0m\u001b[1;33m,\u001b[0m \u001b[0mB\u001b[0m\u001b[1;33m.\u001b[0m\u001b[0mravel\u001b[0m\u001b[1;33m(\u001b[0m\u001b[1;33m)\u001b[0m\u001b[1;33m)\u001b[0m\u001b[1;33m,\u001b[0m \u001b[1;36m1\u001b[0m\u001b[1;33m)\u001b[0m\u001b[1;33m\u001b[0m\u001b[0m\n\u001b[0m\u001b[0;32m      4\u001b[0m     \u001b[1;32mreturn\u001b[0m \u001b[0mout\u001b[0m\u001b[1;33m\u001b[0m\u001b[0m\n",
      "\u001b[1;31mIndexError\u001b[0m: index 3 is out of bounds for axis 0 with size 3"
     ]
    }
   ],
   "source": [
    "f_df(a, b)"
   ]
  },
  {
   "cell_type": "code",
   "execution_count": 61,
   "metadata": {},
   "outputs": [],
   "source": [
    "def f_pp(A, B):\n",
    "...     return np.bincount(np.ravel_multi_index((A, B), (10, 10)).ravel(), minlength=100).reshape(10, 10)"
   ]
  },
  {
   "cell_type": "code",
   "execution_count": 62,
   "metadata": {},
   "outputs": [
    {
     "data": {
      "text/plain": [
       "array([[1, 1, 0, 2, 0, 2, 3, 0, 1, 0],\n",
       "       [0, 1, 0, 1, 4, 2, 0, 0, 1, 0],\n",
       "       [3, 1, 2, 0, 2, 0, 0, 0, 1, 1],\n",
       "       [1, 2, 3, 1, 1, 0, 3, 0, 0, 0],\n",
       "       [1, 0, 0, 0, 3, 2, 0, 0, 3, 0],\n",
       "       [1, 3, 2, 0, 0, 1, 1, 2, 1, 2],\n",
       "       [1, 0, 0, 0, 1, 1, 0, 0, 1, 0],\n",
       "       [1, 0, 0, 1, 1, 0, 2, 1, 2, 0],\n",
       "       [4, 2, 0, 0, 2, 0, 3, 0, 2, 2],\n",
       "       [3, 0, 0, 3, 0, 0, 3, 2, 0, 0]], dtype=int64)"
      ]
     },
     "execution_count": 62,
     "metadata": {},
     "output_type": "execute_result"
    }
   ],
   "source": [
    "f_pp(A,B)"
   ]
  },
  {
   "cell_type": "code",
   "execution_count": 64,
   "metadata": {},
   "outputs": [],
   "source": [
    "A = np.random.randint(0, 5, (5, 5))"
   ]
  },
  {
   "cell_type": "code",
   "execution_count": 65,
   "metadata": {},
   "outputs": [],
   "source": [
    "B = np.random.randint(0, 5, (5, 5))"
   ]
  },
  {
   "cell_type": "code",
   "execution_count": 66,
   "metadata": {},
   "outputs": [
    {
     "data": {
      "text/plain": [
       "array([[2, 2, 2, 1, 3],\n",
       "       [2, 0, 2, 2, 2],\n",
       "       [1, 2, 0, 4, 0],\n",
       "       [2, 3, 3, 2, 0],\n",
       "       [4, 3, 4, 0, 0]])"
      ]
     },
     "execution_count": 66,
     "metadata": {},
     "output_type": "execute_result"
    }
   ],
   "source": [
    "A"
   ]
  },
  {
   "cell_type": "code",
   "execution_count": 67,
   "metadata": {},
   "outputs": [
    {
     "data": {
      "text/plain": [
       "array([[4, 0, 1, 2, 3],\n",
       "       [3, 1, 3, 3, 2],\n",
       "       [0, 0, 4, 0, 2],\n",
       "       [3, 3, 2, 3, 4],\n",
       "       [1, 0, 0, 3, 0]])"
      ]
     },
     "execution_count": 67,
     "metadata": {},
     "output_type": "execute_result"
    }
   ],
   "source": [
    "B"
   ]
  },
  {
   "cell_type": "code",
   "execution_count": 68,
   "metadata": {},
   "outputs": [
    {
     "data": {
      "text/plain": [
       "array([[1, 1, 1, 1, 2, 0, 0, 0, 0, 0],\n",
       "       [1, 0, 1, 0, 0, 0, 0, 0, 0, 0],\n",
       "       [2, 1, 1, 5, 1, 0, 0, 0, 0, 0],\n",
       "       [1, 0, 1, 2, 0, 0, 0, 0, 0, 0],\n",
       "       [2, 1, 0, 0, 0, 0, 0, 0, 0, 0],\n",
       "       [0, 0, 0, 0, 0, 0, 0, 0, 0, 0],\n",
       "       [0, 0, 0, 0, 0, 0, 0, 0, 0, 0],\n",
       "       [0, 0, 0, 0, 0, 0, 0, 0, 0, 0],\n",
       "       [0, 0, 0, 0, 0, 0, 0, 0, 0, 0],\n",
       "       [0, 0, 0, 0, 0, 0, 0, 0, 0, 0]], dtype=int64)"
      ]
     },
     "execution_count": 68,
     "metadata": {},
     "output_type": "execute_result"
    }
   ],
   "source": [
    "f_pp(A,B)"
   ]
  },
  {
   "cell_type": "code",
   "execution_count": 87,
   "metadata": {},
   "outputs": [],
   "source": [
    "def f_pp(A, B):\n",
    "...     return np.bincount(np.ravel_multi_index((A, B), (4, 4)).ravel(), minlength=16).reshape(4, 4)"
   ]
  },
  {
   "cell_type": "code",
   "execution_count": 105,
   "metadata": {},
   "outputs": [
    {
     "data": {
      "text/plain": [
       "array([[0, 0, 0, 0],\n",
       "       [0, 0, 2, 1],\n",
       "       [0, 0, 1, 2],\n",
       "       [0, 3, 0, 0]], dtype=int64)"
      ]
     },
     "execution_count": 105,
     "metadata": {},
     "output_type": "execute_result"
    }
   ],
   "source": [
    "f_pp(a,b)"
   ]
  },
  {
   "cell_type": "code",
   "execution_count": 111,
   "metadata": {},
   "outputs": [],
   "source": [
    "b1 = b.astype(np.float32)"
   ]
  },
  {
   "cell_type": "code",
   "execution_count": 112,
   "metadata": {},
   "outputs": [],
   "source": [
    "b1[0][0] = np.nan"
   ]
  },
  {
   "cell_type": "code",
   "execution_count": 79,
   "metadata": {},
   "outputs": [],
   "source": [
    "def f_pp(A, B,):\n",
    "\treturn np.bincount(np.ravel_multi_index((A, B), (3, 3)).ravel(), minlength=np.square(3)).reshape(3, 3)"
   ]
  },
  {
   "cell_type": "code",
   "execution_count": 76,
   "metadata": {},
   "outputs": [
    {
     "ename": "ValueError",
     "evalue": "invalid entry in coordinates array",
     "output_type": "error",
     "traceback": [
      "\u001b[1;31m---------------------------------------------------------------------------\u001b[0m",
      "\u001b[1;31mValueError\u001b[0m                                Traceback (most recent call last)",
      "\u001b[1;32m<ipython-input-76-ef10d2d77dd8>\u001b[0m in \u001b[0;36m<module>\u001b[1;34m()\u001b[0m\n\u001b[1;32m----> 1\u001b[1;33m \u001b[0mf_pp\u001b[0m\u001b[1;33m(\u001b[0m\u001b[0ma\u001b[0m\u001b[1;33m,\u001b[0m\u001b[0mb\u001b[0m\u001b[1;33m,\u001b[0m\u001b[0mNumOfClass\u001b[0m \u001b[1;33m=\u001b[0m \u001b[1;36m3\u001b[0m\u001b[1;33m)\u001b[0m\u001b[1;33m\u001b[0m\u001b[0m\n\u001b[0m",
      "\u001b[1;32m<ipython-input-75-e6e7e82f6c78>\u001b[0m in \u001b[0;36mf_pp\u001b[1;34m(A, B, NumOfClass)\u001b[0m\n\u001b[0;32m      1\u001b[0m \u001b[1;32mdef\u001b[0m \u001b[0mf_pp\u001b[0m\u001b[1;33m(\u001b[0m\u001b[0mA\u001b[0m\u001b[1;33m,\u001b[0m \u001b[0mB\u001b[0m\u001b[1;33m,\u001b[0m \u001b[0mNumOfClass\u001b[0m\u001b[1;33m)\u001b[0m\u001b[1;33m:\u001b[0m\u001b[1;33m\u001b[0m\u001b[0m\n\u001b[1;32m----> 2\u001b[1;33m         \u001b[1;32mreturn\u001b[0m \u001b[0mnp\u001b[0m\u001b[1;33m.\u001b[0m\u001b[0mbincount\u001b[0m\u001b[1;33m(\u001b[0m\u001b[0mnp\u001b[0m\u001b[1;33m.\u001b[0m\u001b[0mravel_multi_index\u001b[0m\u001b[1;33m(\u001b[0m\u001b[1;33m(\u001b[0m\u001b[0mA\u001b[0m\u001b[1;33m,\u001b[0m \u001b[0mB\u001b[0m\u001b[1;33m)\u001b[0m\u001b[1;33m,\u001b[0m \u001b[1;33m(\u001b[0m\u001b[0mNumOfClass\u001b[0m\u001b[1;33m,\u001b[0m \u001b[0mNumOfClass\u001b[0m\u001b[1;33m)\u001b[0m\u001b[1;33m)\u001b[0m\u001b[1;33m.\u001b[0m\u001b[0mravel\u001b[0m\u001b[1;33m(\u001b[0m\u001b[1;33m)\u001b[0m\u001b[1;33m,\u001b[0m \u001b[0mminlength\u001b[0m\u001b[1;33m=\u001b[0m\u001b[0mnp\u001b[0m\u001b[1;33m.\u001b[0m\u001b[0msquare\u001b[0m\u001b[1;33m(\u001b[0m\u001b[0mNumOfClass\u001b[0m\u001b[1;33m)\u001b[0m\u001b[1;33m)\u001b[0m\u001b[1;33m.\u001b[0m\u001b[0mreshape\u001b[0m\u001b[1;33m(\u001b[0m\u001b[0mNumOfClass\u001b[0m\u001b[1;33m,\u001b[0m \u001b[0mNumOfClass\u001b[0m\u001b[1;33m)\u001b[0m\u001b[1;33m\u001b[0m\u001b[0m\n\u001b[0m",
      "\u001b[1;31mValueError\u001b[0m: invalid entry in coordinates array"
     ]
    }
   ],
   "source": [
    "f_pp(a,b,NumOfClass = 3)"
   ]
  },
  {
   "cell_type": "code",
   "execution_count": 80,
   "metadata": {},
   "outputs": [
    {
     "ename": "ValueError",
     "evalue": "invalid entry in coordinates array",
     "output_type": "error",
     "traceback": [
      "\u001b[1;31m---------------------------------------------------------------------------\u001b[0m",
      "\u001b[1;31mValueError\u001b[0m                                Traceback (most recent call last)",
      "\u001b[1;32m<ipython-input-80-39f8e9ee2c97>\u001b[0m in \u001b[0;36m<module>\u001b[1;34m()\u001b[0m\n\u001b[1;32m----> 1\u001b[1;33m \u001b[0mf_pp\u001b[0m\u001b[1;33m(\u001b[0m\u001b[0ma\u001b[0m\u001b[1;33m,\u001b[0m\u001b[0mb\u001b[0m\u001b[1;33m)\u001b[0m\u001b[1;33m\u001b[0m\u001b[0m\n\u001b[0m",
      "\u001b[1;32m<ipython-input-79-3bd395251e2c>\u001b[0m in \u001b[0;36mf_pp\u001b[1;34m(A, B)\u001b[0m\n\u001b[0;32m      1\u001b[0m \u001b[1;32mdef\u001b[0m \u001b[0mf_pp\u001b[0m\u001b[1;33m(\u001b[0m\u001b[0mA\u001b[0m\u001b[1;33m,\u001b[0m \u001b[0mB\u001b[0m\u001b[1;33m,\u001b[0m\u001b[1;33m)\u001b[0m\u001b[1;33m:\u001b[0m\u001b[1;33m\u001b[0m\u001b[0m\n\u001b[1;32m----> 2\u001b[1;33m         \u001b[1;32mreturn\u001b[0m \u001b[0mnp\u001b[0m\u001b[1;33m.\u001b[0m\u001b[0mbincount\u001b[0m\u001b[1;33m(\u001b[0m\u001b[0mnp\u001b[0m\u001b[1;33m.\u001b[0m\u001b[0mravel_multi_index\u001b[0m\u001b[1;33m(\u001b[0m\u001b[1;33m(\u001b[0m\u001b[0mA\u001b[0m\u001b[1;33m,\u001b[0m \u001b[0mB\u001b[0m\u001b[1;33m)\u001b[0m\u001b[1;33m,\u001b[0m \u001b[1;33m(\u001b[0m\u001b[1;36m3\u001b[0m\u001b[1;33m,\u001b[0m \u001b[1;36m3\u001b[0m\u001b[1;33m)\u001b[0m\u001b[1;33m)\u001b[0m\u001b[1;33m.\u001b[0m\u001b[0mravel\u001b[0m\u001b[1;33m(\u001b[0m\u001b[1;33m)\u001b[0m\u001b[1;33m,\u001b[0m \u001b[0mminlength\u001b[0m\u001b[1;33m=\u001b[0m\u001b[0mnp\u001b[0m\u001b[1;33m.\u001b[0m\u001b[0msquare\u001b[0m\u001b[1;33m(\u001b[0m\u001b[1;36m3\u001b[0m\u001b[1;33m)\u001b[0m\u001b[1;33m)\u001b[0m\u001b[1;33m.\u001b[0m\u001b[0mreshape\u001b[0m\u001b[1;33m(\u001b[0m\u001b[1;36m3\u001b[0m\u001b[1;33m,\u001b[0m \u001b[1;36m3\u001b[0m\u001b[1;33m)\u001b[0m\u001b[1;33m\u001b[0m\u001b[0m\n\u001b[0m",
      "\u001b[1;31mValueError\u001b[0m: invalid entry in coordinates array"
     ]
    }
   ],
   "source": [
    "f_pp(a,b)"
   ]
  },
  {
   "cell_type": "code",
   "execution_count": 106,
   "metadata": {},
   "outputs": [
    {
     "data": {
      "text/plain": [
       "array([[nan, 2, 3],\n",
       "       [3, 1, 2],\n",
       "       [2, 1, 3]], dtype=object)"
      ]
     },
     "execution_count": 106,
     "metadata": {},
     "output_type": "execute_result"
    }
   ],
   "source": [
    "a1"
   ]
  },
  {
   "cell_type": "code",
   "execution_count": 107,
   "metadata": {},
   "outputs": [
    {
     "ename": "TypeError",
     "evalue": "ufunc 'isnan' not supported for the input types, and the inputs could not be safely coerced to any supported types according to the casting rule ''safe''",
     "output_type": "error",
     "traceback": [
      "\u001b[1;31m---------------------------------------------------------------------------\u001b[0m",
      "\u001b[1;31mTypeError\u001b[0m                                 Traceback (most recent call last)",
      "\u001b[1;32m<ipython-input-107-7377ddae8128>\u001b[0m in \u001b[0;36m<module>\u001b[1;34m()\u001b[0m\n\u001b[1;32m----> 1\u001b[1;33m \u001b[0ma1\u001b[0m\u001b[1;33m[\u001b[0m\u001b[0mnp\u001b[0m\u001b[1;33m.\u001b[0m\u001b[0misnan\u001b[0m\u001b[1;33m(\u001b[0m\u001b[0ma1\u001b[0m\u001b[1;33m)\u001b[0m\u001b[1;33m]\u001b[0m \u001b[1;33m=\u001b[0m \u001b[1;36m0\u001b[0m\u001b[1;33m\u001b[0m\u001b[0m\n\u001b[0m",
      "\u001b[1;31mTypeError\u001b[0m: ufunc 'isnan' not supported for the input types, and the inputs could not be safely coerced to any supported types according to the casting rule ''safe''"
     ]
    }
   ],
   "source": [
    "a1[np.isnan(a1)] = 0"
   ]
  },
  {
   "cell_type": "code",
   "execution_count": 108,
   "metadata": {},
   "outputs": [
    {
     "data": {
      "text/plain": [
       "array([[False, False, False],\n",
       "       [False, False, False],\n",
       "       [False, False, False]], dtype=bool)"
      ]
     },
     "execution_count": 108,
     "metadata": {},
     "output_type": "execute_result"
    }
   ],
   "source": [
    "np.isnan(a)"
   ]
  },
  {
   "cell_type": "code",
   "execution_count": 109,
   "metadata": {},
   "outputs": [
    {
     "data": {
      "text/plain": [
       "array([[nan, 2, 3],\n",
       "       [3, 1, 2],\n",
       "       [2, 1, 3]], dtype=object)"
      ]
     },
     "execution_count": 109,
     "metadata": {},
     "output_type": "execute_result"
    }
   ],
   "source": [
    "a1"
   ]
  },
  {
   "cell_type": "code",
   "execution_count": 110,
   "metadata": {},
   "outputs": [
    {
     "data": {
      "text/plain": [
       "array([[1, 1, 1],\n",
       "       [1, 1, 1],\n",
       "       [1, 1, 1]])"
      ]
     },
     "execution_count": 110,
     "metadata": {},
     "output_type": "execute_result"
    }
   ],
   "source": [
    "np.full((3,3,),1)"
   ]
  },
  {
   "cell_type": "code",
   "execution_count": 113,
   "metadata": {},
   "outputs": [
    {
     "data": {
      "text/plain": [
       "array([[ nan,   2.,   1.],\n",
       "       [  1.,   2.,   3.],\n",
       "       [  3.,   2.,   1.]], dtype=float32)"
      ]
     },
     "execution_count": 113,
     "metadata": {},
     "output_type": "execute_result"
    }
   ],
   "source": [
    "b1"
   ]
  },
  {
   "cell_type": "code",
   "execution_count": 114,
   "metadata": {},
   "outputs": [],
   "source": [
    "b1[np.isnan(b1)] = 0"
   ]
  },
  {
   "cell_type": "code",
   "execution_count": 115,
   "metadata": {},
   "outputs": [
    {
     "data": {
      "text/plain": [
       "array([[ 0.,  2.,  1.],\n",
       "       [ 1.,  2.,  3.],\n",
       "       [ 3.,  2.,  1.]], dtype=float32)"
      ]
     },
     "execution_count": 115,
     "metadata": {},
     "output_type": "execute_result"
    }
   ],
   "source": [
    "b1"
   ]
  },
  {
   "cell_type": "code",
   "execution_count": 117,
   "metadata": {},
   "outputs": [
    {
     "name": "stdout",
     "output_type": "stream",
     "text": [
      "range(0, 4)\n"
     ]
    }
   ],
   "source": [
    "print(range(4))"
   ]
  },
  {
   "cell_type": "code",
   "execution_count": 118,
   "metadata": {},
   "outputs": [
    {
     "name": "stdout",
     "output_type": "stream",
     "text": [
      "0\n",
      "1\n",
      "2\n",
      "3\n"
     ]
    }
   ],
   "source": [
    "for i in range(4):\n",
    "    print(i)"
   ]
  },
  {
   "cell_type": "code",
   "execution_count": 121,
   "metadata": {},
   "outputs": [
    {
     "data": {
      "text/plain": [
       "'range(1, 4)class'"
      ]
     },
     "execution_count": 121,
     "metadata": {},
     "output_type": "execute_result"
    }
   ],
   "source": [
    "str(range(1,3+1)) + 'class'"
   ]
  },
  {
   "cell_type": "code",
   "execution_count": 123,
   "metadata": {},
   "outputs": [],
   "source": [
    "def f_pp(A, B, m):\n",
    "\tA[np.isnan(A)] = 0\n",
    "\tB[np.isnan(B)] = 0\n",
    "\tout = np.bincount(np.ravel_multi_index((A, B), (m+1, m+1)).ravel(), minlength=np.square(m+1)).reshape(m+1, m+1)\n",
    "\tout = pd.DataFrame(out[1:,1:],index = range(1,m+1),columns=range(1,m+1)).add_prefix('cls_')\n",
    "\tout = out.set_index(\"cls_\" + out.index.astype(str))\n",
    "\t\n",
    "\n",
    "\treturn out\n",
    "\n",
    "\n",
    "\n",
    "\n",
    "\n",
    "if __name__ == '__main__':\n",
    "\ta = np.array([[3,2,1],[1,2,2],[2,2,1]])\n",
    "\tb = np.array([[3,2,1],[1,2,3],[3,2,1]])\n",
    "\tm = f_pp(a,b,3)\n"
   ]
  },
  {
   "cell_type": "code",
   "execution_count": 124,
   "metadata": {},
   "outputs": [
    {
     "data": {
      "text/html": [
       "<div>\n",
       "<style>\n",
       "    .dataframe thead tr:only-child th {\n",
       "        text-align: right;\n",
       "    }\n",
       "\n",
       "    .dataframe thead th {\n",
       "        text-align: left;\n",
       "    }\n",
       "\n",
       "    .dataframe tbody tr th {\n",
       "        vertical-align: top;\n",
       "    }\n",
       "</style>\n",
       "<table border=\"1\" class=\"dataframe\">\n",
       "  <thead>\n",
       "    <tr style=\"text-align: right;\">\n",
       "      <th></th>\n",
       "      <th>cls_1</th>\n",
       "      <th>cls_2</th>\n",
       "      <th>cls_3</th>\n",
       "    </tr>\n",
       "  </thead>\n",
       "  <tbody>\n",
       "    <tr>\n",
       "      <th>cls_1</th>\n",
       "      <td>3</td>\n",
       "      <td>0</td>\n",
       "      <td>0</td>\n",
       "    </tr>\n",
       "    <tr>\n",
       "      <th>cls_2</th>\n",
       "      <td>0</td>\n",
       "      <td>3</td>\n",
       "      <td>2</td>\n",
       "    </tr>\n",
       "    <tr>\n",
       "      <th>cls_3</th>\n",
       "      <td>0</td>\n",
       "      <td>0</td>\n",
       "      <td>1</td>\n",
       "    </tr>\n",
       "  </tbody>\n",
       "</table>\n",
       "</div>"
      ],
      "text/plain": [
       "       cls_1  cls_2  cls_3\n",
       "cls_1      3      0      0\n",
       "cls_2      0      3      2\n",
       "cls_3      0      0      1"
      ]
     },
     "execution_count": 124,
     "metadata": {},
     "output_type": "execute_result"
    }
   ],
   "source": [
    "m"
   ]
  },
  {
   "cell_type": "code",
   "execution_count": 125,
   "metadata": {},
   "outputs": [
    {
     "data": {
      "text/plain": [
       "cls_1    3\n",
       "cls_2    3\n",
       "cls_3    3\n",
       "dtype: int64"
      ]
     },
     "execution_count": 125,
     "metadata": {},
     "output_type": "execute_result"
    }
   ],
   "source": [
    "m.apply(np.sum)"
   ]
  },
  {
   "cell_type": "code",
   "execution_count": 126,
   "metadata": {},
   "outputs": [
    {
     "data": {
      "text/plain": [
       "cls_1    3\n",
       "cls_2    5\n",
       "cls_3    1\n",
       "dtype: int64"
      ]
     },
     "execution_count": 126,
     "metadata": {},
     "output_type": "execute_result"
    }
   ],
   "source": [
    "m.apply(np.sum,axis = 1)"
   ]
  },
  {
   "cell_type": "code",
   "execution_count": 129,
   "metadata": {},
   "outputs": [
    {
     "data": {
      "text/html": [
       "<div>\n",
       "<style>\n",
       "    .dataframe thead tr:only-child th {\n",
       "        text-align: right;\n",
       "    }\n",
       "\n",
       "    .dataframe thead th {\n",
       "        text-align: left;\n",
       "    }\n",
       "\n",
       "    .dataframe tbody tr th {\n",
       "        vertical-align: top;\n",
       "    }\n",
       "</style>\n",
       "<table border=\"1\" class=\"dataframe\">\n",
       "  <thead>\n",
       "    <tr style=\"text-align: right;\">\n",
       "      <th></th>\n",
       "      <th>cls_1</th>\n",
       "      <th>cls_2</th>\n",
       "      <th>cls_3</th>\n",
       "    </tr>\n",
       "  </thead>\n",
       "  <tbody>\n",
       "    <tr>\n",
       "      <th>0</th>\n",
       "      <td>3</td>\n",
       "      <td>0</td>\n",
       "      <td>0</td>\n",
       "    </tr>\n",
       "    <tr>\n",
       "      <th>1</th>\n",
       "      <td>0</td>\n",
       "      <td>3</td>\n",
       "      <td>2</td>\n",
       "    </tr>\n",
       "    <tr>\n",
       "      <th>2</th>\n",
       "      <td>0</td>\n",
       "      <td>0</td>\n",
       "      <td>1</td>\n",
       "    </tr>\n",
       "    <tr>\n",
       "      <th>3</th>\n",
       "      <td>3</td>\n",
       "      <td>3</td>\n",
       "      <td>3</td>\n",
       "    </tr>\n",
       "  </tbody>\n",
       "</table>\n",
       "</div>"
      ],
      "text/plain": [
       "   cls_1  cls_2  cls_3\n",
       "0      3      0      0\n",
       "1      0      3      2\n",
       "2      0      0      1\n",
       "3      3      3      3"
      ]
     },
     "execution_count": 129,
     "metadata": {},
     "output_type": "execute_result"
    }
   ],
   "source": [
    "m.append(m.apply(np.sum,axis = 0),ignore_index=True)"
   ]
  },
  {
   "cell_type": "code",
   "execution_count": 130,
   "metadata": {},
   "outputs": [
    {
     "name": "stdout",
     "output_type": "stream",
     "text": [
      "[[3 0 0]\n",
      " [0 3 2]\n",
      " [0 0 1]]\n"
     ]
    }
   ],
   "source": [
    "def f_pp(A, B, m):\n",
    "\tA[np.isnan(A)] = 0\n",
    "\tB[np.isnan(B)] = 0\n",
    "\tout = np.bincount(np.ravel_multi_index((A, B), (m+1, m+1)).ravel(), minlength=np.square(m+1)).reshape(m+1, m+1)\n",
    "\t#out = pd.DataFrame(out[1:,1:],index = range(1,m+1),columns=range(1,m+1)).add_prefix('cls_')\n",
    "\t#out = out.set_index(\"cls_\" + out.index.astype(str))\n",
    "\t\n",
    "\n",
    "\treturn out[1:,1:]\n",
    "\n",
    "\n",
    "\n",
    "\n",
    "\n",
    "if __name__ == '__main__':\n",
    "\ta = np.array([[3,2,1],[1,2,2],[2,2,1]])\n",
    "\tb = np.array([[3,2,1],[1,2,3],[3,2,1]])\n",
    "\tresult = f_pp(a,b,3)\n",
    "\tprint(result)"
   ]
  },
  {
   "cell_type": "code",
   "execution_count": 138,
   "metadata": {},
   "outputs": [
    {
     "data": {
      "text/plain": [
       "array([3, 3, 3], dtype=int64)"
      ]
     },
     "execution_count": 138,
     "metadata": {},
     "output_type": "execute_result"
    }
   ],
   "source": [
    "col_sum = result.sum(0)\n",
    "col_sum"
   ]
  },
  {
   "cell_type": "code",
   "execution_count": 136,
   "metadata": {},
   "outputs": [
    {
     "ename": "IndexError",
     "evalue": "index 3 is out of bounds for axis 0 with size 3",
     "output_type": "error",
     "traceback": [
      "\u001b[1;31m---------------------------------------------------------------------------\u001b[0m",
      "\u001b[1;31mIndexError\u001b[0m                                Traceback (most recent call last)",
      "\u001b[1;32m<ipython-input-136-0d509be751bd>\u001b[0m in \u001b[0;36m<module>\u001b[1;34m()\u001b[0m\n\u001b[1;32m----> 1\u001b[1;33m \u001b[0mresult\u001b[0m\u001b[1;33m[\u001b[0m\u001b[1;36m3\u001b[0m\u001b[1;33m,\u001b[0m\u001b[1;33m:\u001b[0m\u001b[1;33m]\u001b[0m \u001b[1;33m=\u001b[0m \u001b[1;36m4\u001b[0m\u001b[1;33m\u001b[0m\u001b[0m\n\u001b[0m",
      "\u001b[1;31mIndexError\u001b[0m: index 3 is out of bounds for axis 0 with size 3"
     ]
    }
   ],
   "source": [
    "result[3,:] = 4"
   ]
  },
  {
   "cell_type": "code",
   "execution_count": 157,
   "metadata": {},
   "outputs": [
    {
     "data": {
      "text/plain": [
       "array([[3, 5, 1]], dtype=int64)"
      ]
     },
     "execution_count": 157,
     "metadata": {},
     "output_type": "execute_result"
    }
   ],
   "source": [
    "row_sum = result.sum(1)\n",
    "row_sum = row_sum.reshape((1,3))\n",
    "row_sum"
   ]
  },
  {
   "cell_type": "code",
   "execution_count": 140,
   "metadata": {},
   "outputs": [
    {
     "ename": "AttributeError",
     "evalue": "'numpy.ndarray' object has no attribute 'concatenate'",
     "output_type": "error",
     "traceback": [
      "\u001b[1;31m---------------------------------------------------------------------------\u001b[0m",
      "\u001b[1;31mAttributeError\u001b[0m                            Traceback (most recent call last)",
      "\u001b[1;32m<ipython-input-140-8cd483d369c8>\u001b[0m in \u001b[0;36m<module>\u001b[1;34m()\u001b[0m\n\u001b[1;32m----> 1\u001b[1;33m \u001b[0mresult\u001b[0m\u001b[1;33m.\u001b[0m\u001b[0mconcatenate\u001b[0m\u001b[1;33m(\u001b[0m\u001b[0mcol_sum\u001b[0m\u001b[1;33m,\u001b[0m\u001b[0maxis\u001b[0m \u001b[1;33m=\u001b[0m \u001b[1;36m0\u001b[0m\u001b[1;33m)\u001b[0m\u001b[1;33m\u001b[0m\u001b[0m\n\u001b[0m",
      "\u001b[1;31mAttributeError\u001b[0m: 'numpy.ndarray' object has no attribute 'concatenate'"
     ]
    }
   ],
   "source": [
    "result.concatenate((col_sum,axis = 0)"
   ]
  },
  {
   "cell_type": "code",
   "execution_count": 160,
   "metadata": {},
   "outputs": [
    {
     "data": {
      "text/plain": [
       "array([[3, 0, 0, 3],\n",
       "       [0, 3, 2, 5],\n",
       "       [0, 0, 1, 1]], dtype=int64)"
      ]
     },
     "execution_count": 160,
     "metadata": {},
     "output_type": "execute_result"
    }
   ],
   "source": [
    "np.concatenate((result,row_sum.T),axis = 1)"
   ]
  },
  {
   "cell_type": "code",
   "execution_count": 144,
   "metadata": {},
   "outputs": [
    {
     "data": {
      "text/plain": [
       "(3, 3)"
      ]
     },
     "execution_count": 144,
     "metadata": {},
     "output_type": "execute_result"
    }
   ],
   "source": [
    "result.shape"
   ]
  },
  {
   "cell_type": "code",
   "execution_count": 145,
   "metadata": {},
   "outputs": [
    {
     "data": {
      "text/plain": [
       "(3,)"
      ]
     },
     "execution_count": 145,
     "metadata": {},
     "output_type": "execute_result"
    }
   ],
   "source": [
    "row_sum.shape"
   ]
  },
  {
   "cell_type": "code",
   "execution_count": 147,
   "metadata": {},
   "outputs": [
    {
     "data": {
      "text/plain": [
       "numpy.ndarray"
      ]
     },
     "execution_count": 147,
     "metadata": {},
     "output_type": "execute_result"
    }
   ],
   "source": [
    "type(result)"
   ]
  },
  {
   "cell_type": "code",
   "execution_count": 151,
   "metadata": {},
   "outputs": [],
   "source": [
    "a2 = np.array([[5, 6]])"
   ]
  },
  {
   "cell_type": "code",
   "execution_count": 152,
   "metadata": {},
   "outputs": [
    {
     "data": {
      "text/plain": [
       "(1, 2)"
      ]
     },
     "execution_count": 152,
     "metadata": {},
     "output_type": "execute_result"
    }
   ],
   "source": [
    "a2.shape"
   ]
  },
  {
   "cell_type": "code",
   "execution_count": 161,
   "metadata": {},
   "outputs": [
    {
     "data": {
      "text/plain": [
       "array([[3, 2, 1],\n",
       "       [1, 2, 2],\n",
       "       [2, 2, 1]])"
      ]
     },
     "execution_count": 161,
     "metadata": {},
     "output_type": "execute_result"
    }
   ],
   "source": [
    "a"
   ]
  },
  {
   "cell_type": "code",
   "execution_count": 162,
   "metadata": {},
   "outputs": [
    {
     "data": {
      "text/plain": [
       "array([[3, 2, 1],\n",
       "       [1, 2, 3],\n",
       "       [3, 2, 1]])"
      ]
     },
     "execution_count": 162,
     "metadata": {},
     "output_type": "execute_result"
    }
   ],
   "source": [
    "b"
   ]
  },
  {
   "cell_type": "code",
   "execution_count": 163,
   "metadata": {},
   "outputs": [],
   "source": [
    "from sklearn.metrics import cohen_kappa_score"
   ]
  },
  {
   "cell_type": "code",
   "execution_count": 164,
   "metadata": {},
   "outputs": [
    {
     "ename": "ValueError",
     "evalue": "multiclass-multioutput is not supported",
     "output_type": "error",
     "traceback": [
      "\u001b[1;31m---------------------------------------------------------------------------\u001b[0m",
      "\u001b[1;31mValueError\u001b[0m                                Traceback (most recent call last)",
      "\u001b[1;32m<ipython-input-164-6dfcdb9b9b48>\u001b[0m in \u001b[0;36m<module>\u001b[1;34m()\u001b[0m\n\u001b[1;32m----> 1\u001b[1;33m \u001b[0mcohen_kappa_score\u001b[0m\u001b[1;33m(\u001b[0m\u001b[0ma\u001b[0m\u001b[1;33m,\u001b[0m \u001b[0mb\u001b[0m\u001b[1;33m)\u001b[0m\u001b[1;33m\u001b[0m\u001b[0m\n\u001b[0m",
      "\u001b[1;32mC:\\Anaconda3\\lib\\site-packages\\sklearn\\metrics\\classification.py\u001b[0m in \u001b[0;36mcohen_kappa_score\u001b[1;34m(y1, y2, labels, weights, sample_weight)\u001b[0m\n\u001b[0;32m    349\u001b[0m     \"\"\"\n\u001b[0;32m    350\u001b[0m     confusion = confusion_matrix(y1, y2, labels=labels,\n\u001b[1;32m--> 351\u001b[1;33m                                  sample_weight=sample_weight)\n\u001b[0m\u001b[0;32m    352\u001b[0m     \u001b[0mn_classes\u001b[0m \u001b[1;33m=\u001b[0m \u001b[0mconfusion\u001b[0m\u001b[1;33m.\u001b[0m\u001b[0mshape\u001b[0m\u001b[1;33m[\u001b[0m\u001b[1;36m0\u001b[0m\u001b[1;33m]\u001b[0m\u001b[1;33m\u001b[0m\u001b[0m\n\u001b[0;32m    353\u001b[0m     \u001b[0msum0\u001b[0m \u001b[1;33m=\u001b[0m \u001b[0mnp\u001b[0m\u001b[1;33m.\u001b[0m\u001b[0msum\u001b[0m\u001b[1;33m(\u001b[0m\u001b[0mconfusion\u001b[0m\u001b[1;33m,\u001b[0m \u001b[0maxis\u001b[0m\u001b[1;33m=\u001b[0m\u001b[1;36m0\u001b[0m\u001b[1;33m)\u001b[0m\u001b[1;33m\u001b[0m\u001b[0m\n",
      "\u001b[1;32mC:\\Anaconda3\\lib\\site-packages\\sklearn\\metrics\\classification.py\u001b[0m in \u001b[0;36mconfusion_matrix\u001b[1;34m(y_true, y_pred, labels, sample_weight)\u001b[0m\n\u001b[0;32m    248\u001b[0m \u001b[1;33m\u001b[0m\u001b[0m\n\u001b[0;32m    249\u001b[0m     \"\"\"\n\u001b[1;32m--> 250\u001b[1;33m     \u001b[0my_type\u001b[0m\u001b[1;33m,\u001b[0m \u001b[0my_true\u001b[0m\u001b[1;33m,\u001b[0m \u001b[0my_pred\u001b[0m \u001b[1;33m=\u001b[0m \u001b[0m_check_targets\u001b[0m\u001b[1;33m(\u001b[0m\u001b[0my_true\u001b[0m\u001b[1;33m,\u001b[0m \u001b[0my_pred\u001b[0m\u001b[1;33m)\u001b[0m\u001b[1;33m\u001b[0m\u001b[0m\n\u001b[0m\u001b[0;32m    251\u001b[0m     \u001b[1;32mif\u001b[0m \u001b[0my_type\u001b[0m \u001b[1;32mnot\u001b[0m \u001b[1;32min\u001b[0m \u001b[1;33m(\u001b[0m\u001b[1;34m\"binary\"\u001b[0m\u001b[1;33m,\u001b[0m \u001b[1;34m\"multiclass\"\u001b[0m\u001b[1;33m)\u001b[0m\u001b[1;33m:\u001b[0m\u001b[1;33m\u001b[0m\u001b[0m\n\u001b[0;32m    252\u001b[0m         \u001b[1;32mraise\u001b[0m \u001b[0mValueError\u001b[0m\u001b[1;33m(\u001b[0m\u001b[1;34m\"%s is not supported\"\u001b[0m \u001b[1;33m%\u001b[0m \u001b[0my_type\u001b[0m\u001b[1;33m)\u001b[0m\u001b[1;33m\u001b[0m\u001b[0m\n",
      "\u001b[1;32mC:\\Anaconda3\\lib\\site-packages\\sklearn\\metrics\\classification.py\u001b[0m in \u001b[0;36m_check_targets\u001b[1;34m(y_true, y_pred)\u001b[0m\n\u001b[0;32m     86\u001b[0m     \u001b[1;31m# No metrics support \"multiclass-multioutput\" format\u001b[0m\u001b[1;33m\u001b[0m\u001b[1;33m\u001b[0m\u001b[0m\n\u001b[0;32m     87\u001b[0m     \u001b[1;32mif\u001b[0m \u001b[1;33m(\u001b[0m\u001b[0my_type\u001b[0m \u001b[1;32mnot\u001b[0m \u001b[1;32min\u001b[0m \u001b[1;33m[\u001b[0m\u001b[1;34m\"binary\"\u001b[0m\u001b[1;33m,\u001b[0m \u001b[1;34m\"multiclass\"\u001b[0m\u001b[1;33m,\u001b[0m \u001b[1;34m\"multilabel-indicator\"\u001b[0m\u001b[1;33m]\u001b[0m\u001b[1;33m)\u001b[0m\u001b[1;33m:\u001b[0m\u001b[1;33m\u001b[0m\u001b[0m\n\u001b[1;32m---> 88\u001b[1;33m         \u001b[1;32mraise\u001b[0m \u001b[0mValueError\u001b[0m\u001b[1;33m(\u001b[0m\u001b[1;34m\"{0} is not supported\"\u001b[0m\u001b[1;33m.\u001b[0m\u001b[0mformat\u001b[0m\u001b[1;33m(\u001b[0m\u001b[0my_type\u001b[0m\u001b[1;33m)\u001b[0m\u001b[1;33m)\u001b[0m\u001b[1;33m\u001b[0m\u001b[0m\n\u001b[0m\u001b[0;32m     89\u001b[0m \u001b[1;33m\u001b[0m\u001b[0m\n\u001b[0;32m     90\u001b[0m     \u001b[1;32mif\u001b[0m \u001b[0my_type\u001b[0m \u001b[1;32min\u001b[0m \u001b[1;33m[\u001b[0m\u001b[1;34m\"binary\"\u001b[0m\u001b[1;33m,\u001b[0m \u001b[1;34m\"multiclass\"\u001b[0m\u001b[1;33m]\u001b[0m\u001b[1;33m:\u001b[0m\u001b[1;33m\u001b[0m\u001b[0m\n",
      "\u001b[1;31mValueError\u001b[0m: multiclass-multioutput is not supported"
     ]
    }
   ],
   "source": [
    "cohen_kappa_score(a, b)"
   ]
  },
  {
   "cell_type": "code",
   "execution_count": 165,
   "metadata": {},
   "outputs": [
    {
     "ename": "AttributeError",
     "evalue": "'numpy.ndarray' object has no attribute 'reval'",
     "output_type": "error",
     "traceback": [
      "\u001b[1;31m---------------------------------------------------------------------------\u001b[0m",
      "\u001b[1;31mAttributeError\u001b[0m                            Traceback (most recent call last)",
      "\u001b[1;32m<ipython-input-165-b2e2294fa01e>\u001b[0m in \u001b[0;36m<module>\u001b[1;34m()\u001b[0m\n\u001b[1;32m----> 1\u001b[1;33m \u001b[0ma\u001b[0m\u001b[1;33m.\u001b[0m\u001b[0mreval\u001b[0m\u001b[1;33m(\u001b[0m\u001b[1;33m)\u001b[0m\u001b[1;33m\u001b[0m\u001b[0m\n\u001b[0m",
      "\u001b[1;31mAttributeError\u001b[0m: 'numpy.ndarray' object has no attribute 'reval'"
     ]
    }
   ],
   "source": [
    "a.reval()"
   ]
  },
  {
   "cell_type": "code",
   "execution_count": 170,
   "metadata": {},
   "outputs": [],
   "source": [
    "x = np.array([[1, 5, 3], [4, 5, 6]])"
   ]
  },
  {
   "cell_type": "code",
   "execution_count": 171,
   "metadata": {},
   "outputs": [
    {
     "ename": "TypeError",
     "evalue": "'tuple' object is not callable",
     "output_type": "error",
     "traceback": [
      "\u001b[1;31m---------------------------------------------------------------------------\u001b[0m",
      "\u001b[1;31mTypeError\u001b[0m                                 Traceback (most recent call last)",
      "\u001b[1;32m<ipython-input-171-5fe2fe21eeb6>\u001b[0m in \u001b[0;36m<module>\u001b[1;34m()\u001b[0m\n\u001b[1;32m----> 1\u001b[1;33m \u001b[0mx\u001b[0m\u001b[1;33m.\u001b[0m\u001b[0mshape\u001b[0m\u001b[1;33m(\u001b[0m\u001b[1;33m(\u001b[0m\u001b[1;36m3\u001b[0m\u001b[1;33m,\u001b[0m\u001b[1;36m2\u001b[0m\u001b[1;33m)\u001b[0m\u001b[1;33m)\u001b[0m\u001b[1;33m\u001b[0m\u001b[0m\n\u001b[0m",
      "\u001b[1;31mTypeError\u001b[0m: 'tuple' object is not callable"
     ]
    }
   ],
   "source": [
    "x.shape((3,2))"
   ]
  },
  {
   "cell_type": "code",
   "execution_count": 172,
   "metadata": {},
   "outputs": [
    {
     "data": {
      "text/plain": [
       "array([[1, 5, 3],\n",
       "       [4, 5, 6]])"
      ]
     },
     "execution_count": 172,
     "metadata": {},
     "output_type": "execute_result"
    }
   ],
   "source": [
    "x"
   ]
  },
  {
   "cell_type": "code",
   "execution_count": 173,
   "metadata": {},
   "outputs": [
    {
     "data": {
      "text/plain": [
       "array([1, 5, 3, 4, 5, 6])"
      ]
     },
     "execution_count": 173,
     "metadata": {},
     "output_type": "execute_result"
    }
   ],
   "source": [
    "np.ravel(x)"
   ]
  },
  {
   "cell_type": "code",
   "execution_count": 176,
   "metadata": {},
   "outputs": [],
   "source": [
    "aV = np.ravel(a)"
   ]
  },
  {
   "cell_type": "code",
   "execution_count": 183,
   "metadata": {},
   "outputs": [],
   "source": [
    "aV = np.array([30, 20, 10, 10, 20, 30, 30, 20, 10])"
   ]
  },
  {
   "cell_type": "code",
   "execution_count": 178,
   "metadata": {},
   "outputs": [],
   "source": [
    "bV = np.ravel(b)"
   ]
  },
  {
   "cell_type": "code",
   "execution_count": 179,
   "metadata": {},
   "outputs": [
    {
     "data": {
      "text/plain": [
       "array([3, 2, 1, 1, 2, 3, 3, 2, 1])"
      ]
     },
     "execution_count": 179,
     "metadata": {},
     "output_type": "execute_result"
    }
   ],
   "source": [
    "bV"
   ]
  },
  {
   "cell_type": "code",
   "execution_count": 233,
   "metadata": {},
   "outputs": [
    {
     "data": {
      "text/plain": [
       "0.66666666666666674"
      ]
     },
     "execution_count": 233,
     "metadata": {},
     "output_type": "execute_result"
    }
   ],
   "source": [
    "cohen_kappa_score(np.ravel(a), np.ravel(b))"
   ]
  },
  {
   "cell_type": "code",
   "execution_count": 215,
   "metadata": {},
   "outputs": [],
   "source": [
    "index = ['cls_'+ str(i) for i in range(1,3+1)]"
   ]
  },
  {
   "cell_type": "code",
   "execution_count": 216,
   "metadata": {},
   "outputs": [],
   "source": [
    "index = index.append('col_tot')"
   ]
  },
  {
   "cell_type": "code",
   "execution_count": 217,
   "metadata": {},
   "outputs": [],
   "source": [
    "index"
   ]
  },
  {
   "cell_type": "code",
   "execution_count": 231,
   "metadata": {},
   "outputs": [],
   "source": [
    "idx = ['cls_'+ str(i) for i in range(1, 3+1)]\n"
   ]
  },
  {
   "cell_type": "code",
   "execution_count": 214,
   "metadata": {},
   "outputs": [
    {
     "data": {
      "text/plain": [
       "list"
      ]
     },
     "execution_count": 214,
     "metadata": {},
     "output_type": "execute_result"
    }
   ],
   "source": [
    "type(idx)"
   ]
  },
  {
   "cell_type": "code",
   "execution_count": 230,
   "metadata": {},
   "outputs": [
    {
     "name": "stdout",
     "output_type": "stream",
     "text": [
      "None\n"
     ]
    }
   ],
   "source": [
    "print(idx2)"
   ]
  },
  {
   "cell_type": "code",
   "execution_count": 229,
   "metadata": {},
   "outputs": [],
   "source": [
    "idx2 = idx.append('a')"
   ]
  },
  {
   "cell_type": "code",
   "execution_count": 224,
   "metadata": {},
   "outputs": [],
   "source": [
    "idx"
   ]
  },
  {
   "cell_type": "code",
   "execution_count": 232,
   "metadata": {},
   "outputs": [
    {
     "data": {
      "text/plain": [
       "['cls_1', 'cls_2', 'cls_3']"
      ]
     },
     "execution_count": 232,
     "metadata": {},
     "output_type": "execute_result"
    }
   ],
   "source": [
    "idx"
   ]
  },
  {
   "cell_type": "code",
   "execution_count": 226,
   "metadata": {},
   "outputs": [
    {
     "name": "stdout",
     "output_type": "stream",
     "text": [
      "None\n"
     ]
    }
   ],
   "source": [
    "print(idx)"
   ]
  },
  {
   "cell_type": "code",
   "execution_count": 1,
   "metadata": {},
   "outputs": [],
   "source": [
    "indices = ['cls_'+ str(i) for i in range(1,3+1)]"
   ]
  },
  {
   "cell_type": "code",
   "execution_count": 2,
   "metadata": {},
   "outputs": [],
   "source": [
    "indices.append('col_tot')"
   ]
  },
  {
   "cell_type": "code",
   "execution_count": 3,
   "metadata": {},
   "outputs": [
    {
     "data": {
      "text/plain": [
       "['cls_1', 'cls_2', 'cls_3', 'col_tot']"
      ]
     },
     "execution_count": 3,
     "metadata": {},
     "output_type": "execute_result"
    }
   ],
   "source": [
    "indices"
   ]
  },
  {
   "cell_type": "code",
   "execution_count": 4,
   "metadata": {},
   "outputs": [
    {
     "name": "stdout",
     "output_type": "stream",
     "text": [
      "         cls_1  cls_2  cls_3  row_tot\n",
      "cls_1        5      0      0        5\n",
      "cls_2        0      3      6        9\n",
      "cls_3        0      0      1        1\n",
      "col_tot      5      3      7       15\n"
     ]
    }
   ],
   "source": [
    "# Author: Jianxin\n",
    "# Data: 2018/06/27\n",
    "# Function: generate cross table between two numpy array\n",
    "# Reference Link: https://stackoverflow.com/questions/48456145/generate-transition-matrix \n",
    "\n",
    "\n",
    "import numpy as np\n",
    "import pandas as pd\n",
    "from sklearn.metrics import cohen_kappa_score\n",
    "\n",
    "\n",
    "def f_pp(A, B, m):\n",
    "\t#A[np.isnan(A)] = 0\n",
    "\t#B[np.isnan(B)] = 0\n",
    "\tout = np.bincount(np.ravel_multi_index((A, B), (m+1, m+1)).ravel(), minlength=np.square(m+1)).reshape(m+1, m+1)\n",
    "\tout = out[1:,1:]\n",
    "\trow_sum = out.sum(1)\n",
    "\trow_sum = row_sum.reshape((m,1))\n",
    "\tout = np.concatenate((out,row_sum),axis = 1)\n",
    "\trow_sum = out.sum(0)\n",
    "\trow_sum = row_sum.reshape((1,m+1))\n",
    "\tout = np.concatenate((out,row_sum),axis = 0)\n",
    "\tindices = ['cls_'+ str(i) for i in range(1,m+1)]\n",
    "\tindices.append('col_tot')\n",
    "\t#print(indices)\n",
    "\tcols = ['cls_'+ str(i) for i in range(1,m+1)]\n",
    "\tcols.append('row_tot')\n",
    "\t#print(cols)\n",
    "\tout = pd.DataFrame(out,index = indices,columns=cols)\n",
    "\t#out = out.set_index(\"cls_\" + out.index.astype(str))\n",
    "\treturn out\n",
    "\n",
    "def kappa(A_arr,B_arr):\n",
    "\tnp.ravel(A_arr)\n",
    "\tnp.ravel(B_arr)\n",
    "\tcohen_kappa_score(np.ravel(A_arr), np.ravel(B_arr))\n",
    "\n",
    "\n",
    "\n",
    "if __name__ == '__main__':\n",
    "\ta = np.array([[3,2,1],[1,2,2],[2,2,1],[1,2,2],[2,2,1]])\n",
    "\tb = np.array([[3,2,1],[1,2,3],[3,2,1],[1,3,3],[3,3,1]])\n",
    "\tresult = f_pp(a,b,3)\n",
    "\tprint(result)\n",
    "\n"
   ]
  },
  {
   "cell_type": "code",
   "execution_count": 12,
   "metadata": {},
   "outputs": [
    {
     "data": {
      "text/plain": [
       "cls_1      5\n",
       "cls_2      0\n",
       "cls_3      0\n",
       "row_tot    5\n",
       "Name: cls_1, dtype: int64"
      ]
     },
     "execution_count": 12,
     "metadata": {},
     "output_type": "execute_result"
    }
   ],
   "source": [
    "result.iloc[0]"
   ]
  },
  {
   "cell_type": "code",
   "execution_count": 13,
   "metadata": {},
   "outputs": [
    {
     "name": "stdout",
     "output_type": "stream",
     "text": [
      "         cls_1  cls_2  cls_3  row_tot\n",
      "cls_1        5      0      0        5\n",
      "cls_2        0      3      6        9\n",
      "cls_3        0      0      1        1\n",
      "col_tot      5      3      7       15\n"
     ]
    }
   ],
   "source": [
    "# Author: Jianxin\n",
    "# Data: 2018/06/27\n",
    "# Function: generate cross table between two numpy array\n",
    "# Reference Link: https://stackoverflow.com/questions/48456145/generate-transition-matrix \n",
    "\n",
    "\n",
    "import numpy as np\n",
    "import pandas as pd\n",
    "from sklearn.metrics import cohen_kappa_score\n",
    "\n",
    "\n",
    "def f_pp(A, B, m):\n",
    "\t#A[np.isnan(A)] = 0\n",
    "\t#B[np.isnan(B)] = 0\n",
    "\tout = np.bincount(np.ravel_multi_index((A, B), (m+1, m+1)).ravel(), minlength=np.square(m+1)).reshape(m+1, m+1)\n",
    "\tout = out[1:,1:]\n",
    "\trow_sum = out.sum(1)\n",
    "\trow_sum = row_sum.reshape((m,1))\n",
    "\tout = np.concatenate((out,row_sum),axis = 1)\n",
    "\trow_sum = out.sum(0)\n",
    "\trow_sum = row_sum.reshape((1,m+1))\n",
    "\tout = np.concatenate((out,row_sum),axis = 0)\n",
    "\tindices = ['cls_'+ str(i) for i in range(1,m+1)]\n",
    "\tindices.append('col_tot')\n",
    "\t#print(indices)\n",
    "\tcols = ['cls_'+ str(i) for i in range(1,m+1)]\n",
    "\tcols.append('row_tot')\n",
    "\t#print(cols)\n",
    "\tout = pd.DataFrame(out,index = indices,columns=cols)\n",
    "\t#out = out.set_index(\"cls_\" + out.index.astype(str))\n",
    "\treturn out\n",
    "\n",
    "def kappa(A_arr,B_arr):\n",
    "\tnp.ravel(A_arr)\n",
    "\tnp.ravel(B_arr)\n",
    "\tcohen_kappa_score(np.ravel(A_arr), np.ravel(B_arr))\n",
    "\n",
    "\n",
    "\n",
    "if __name__ == '__main__':\n",
    "\ta = np.array([[3,2,1],[1,2,2],[2,2,1],[1,2,2],[2,2,1]])\n",
    "\tb = np.array([[3,2,1],[1,2,3],[3,2,1],[1,3,3],[3,3,1]])\n",
    "\tresult = f_pp(a,b,3).astype(np.int16)\n",
    "\tprint(result)\n",
    "\n"
   ]
  },
  {
   "cell_type": "code",
   "execution_count": 15,
   "metadata": {},
   "outputs": [
    {
     "data": {
      "text/plain": [
       "cls_1      5\n",
       "cls_2      0\n",
       "cls_3      0\n",
       "col_tot    5\n",
       "Name: cls_1, dtype: int16"
      ]
     },
     "execution_count": 15,
     "metadata": {},
     "output_type": "execute_result"
    }
   ],
   "source": [
    "result['cls_1']"
   ]
  },
  {
   "cell_type": "code",
   "execution_count": 19,
   "metadata": {},
   "outputs": [],
   "source": [
    "test = a[0:3,]"
   ]
  },
  {
   "cell_type": "code",
   "execution_count": 20,
   "metadata": {},
   "outputs": [
    {
     "data": {
      "text/plain": [
       "array([[3, 2, 1],\n",
       "       [1, 2, 2],\n",
       "       [2, 2, 1]])"
      ]
     },
     "execution_count": 20,
     "metadata": {},
     "output_type": "execute_result"
    }
   ],
   "source": [
    "test"
   ]
  },
  {
   "cell_type": "code",
   "execution_count": 21,
   "metadata": {},
   "outputs": [],
   "source": [
    "def gainPattern(arr,duration,m):\n",
    "\taverage_gain = []\n",
    "\tfor i in range(m):\n",
    "\t\ttotalArea_start_i = np.sum(arr[i,:])\n",
    "\t\ttotalArea_start_not_i = np.sum(arr) - totalArea_start_i\n",
    "\t\tgrossGain_i = np.sum(arr[:,i]) - arr[i,i]\n",
    "\t\taverage_gain_i = (grossGain_i/duration)/totalArea_start_not_i\n",
    "\t\taverage_gain.append(average_gain_i)\n",
    "\treturn average_gain"
   ]
  },
  {
   "cell_type": "code",
   "execution_count": 22,
   "metadata": {},
   "outputs": [
    {
     "data": {
      "text/plain": [
       "[0.15, 0.18181818181818182, 0.13636363636363635]"
      ]
     },
     "execution_count": 22,
     "metadata": {},
     "output_type": "execute_result"
    }
   ],
   "source": [
    "gainPattern(test,2,3)"
   ]
  },
  {
   "cell_type": "code",
   "execution_count": 23,
   "metadata": {},
   "outputs": [
    {
     "data": {
      "text/plain": [
       "0.18181818181818182"
      ]
     },
     "execution_count": 23,
     "metadata": {},
     "output_type": "execute_result"
    }
   ],
   "source": [
    "2/11"
   ]
  },
  {
   "cell_type": "code",
   "execution_count": 25,
   "metadata": {},
   "outputs": [
    {
     "name": "stdout",
     "output_type": "stream",
     "text": [
      "0\n",
      "1\n",
      "2\n",
      "3\n",
      "4\n"
     ]
    }
   ],
   "source": [
    "for i in range(5):\n",
    "    print(i)"
   ]
  },
  {
   "cell_type": "code",
   "execution_count": 27,
   "metadata": {},
   "outputs": [
    {
     "data": {
      "text/plain": [
       "4"
      ]
     },
     "execution_count": 27,
     "metadata": {},
     "output_type": "execute_result"
    }
   ],
   "source": [
    "i"
   ]
  },
  {
   "cell_type": "code",
   "execution_count": 28,
   "metadata": {},
   "outputs": [
    {
     "name": "stdout",
     "output_type": "stream",
     "text": [
      "0\n",
      "1\n",
      "2\n",
      "3\n",
      "4\n"
     ]
    }
   ],
   "source": [
    "for i in range(5):\n",
    "    print(i)"
   ]
  },
  {
   "cell_type": "code",
   "execution_count": 29,
   "metadata": {},
   "outputs": [],
   "source": [
    "def gainPattern(arr,duration,m):\n",
    "\taverage_gain = []\n",
    "\tfor i in range(m):\n",
    "\t\ttotalArea_start_i = np.sum(arr[i,:])\n",
    "\t\ttotalArea_start_not_i = np.sum(arr) - totalArea_start_i\n",
    "\t\tgrossGain_i = np.sum(arr[:,i]) - arr[i,i]\n",
    "\t\taverage_gain_i = (grossGain_i/duration)/totalArea_start_not_i\n",
    "\t\taverage_gain.append(average_gain_i)\n",
    "\t\n",
    "\taverage_loss = []\n",
    "\tfor i in range(m):\n",
    "\t\ttotalArea_end_i = np.sum(arr[:,i])\n",
    "\t\ttotalArea_end_not_i = np.sum(arr) - totalArea_end_i\n",
    "\t\tgrossLoss_i = np.sum(arr[i,:]) - arr[i,i]\n",
    "\t\taverage_loss_i = (grossLoss_i/duration)/totalArea_end_not_i\n",
    "\t\taverage_loss.append(average_loss_i)\n",
    "\treturn average_gain,average_loss"
   ]
  },
  {
   "cell_type": "code",
   "execution_count": 30,
   "metadata": {},
   "outputs": [
    {
     "data": {
      "text/plain": [
       "([0.15, 0.18181818181818182, 0.13636363636363635],\n",
       " [0.15, 0.15, 0.16666666666666666])"
      ]
     },
     "execution_count": 30,
     "metadata": {},
     "output_type": "execute_result"
    }
   ],
   "source": [
    "gainPattern(test,2,3)"
   ]
  },
  {
   "cell_type": "markdown",
   "metadata": {},
   "source": [
    "1/6"
   ]
  },
  {
   "cell_type": "code",
   "execution_count": 31,
   "metadata": {},
   "outputs": [
    {
     "data": {
      "text/plain": [
       "0.16666666666666666"
      ]
     },
     "execution_count": 31,
     "metadata": {},
     "output_type": "execute_result"
    }
   ],
   "source": [
    "1/6"
   ]
  },
  {
   "cell_type": "code",
   "execution_count": 32,
   "metadata": {},
   "outputs": [
    {
     "data": {
      "text/plain": [
       "array([[3, 2, 1],\n",
       "       [1, 2, 2],\n",
       "       [2, 2, 1]])"
      ]
     },
     "execution_count": 32,
     "metadata": {},
     "output_type": "execute_result"
    }
   ],
   "source": [
    "test"
   ]
  },
  {
   "cell_type": "code",
   "execution_count": 38,
   "metadata": {},
   "outputs": [
    {
     "data": {
      "text/plain": [
       "1"
      ]
     },
     "execution_count": 38,
     "metadata": {},
     "output_type": "execute_result"
    }
   ],
   "source": [
    "test[0,2]"
   ]
  },
  {
   "cell_type": "code",
   "execution_count": 39,
   "metadata": {},
   "outputs": [],
   "source": [
    "def gainPattern(arr,duration,m):\n",
    "\taverage_gain = []\n",
    "\tfor i in range(m):\n",
    "\t\ttotalArea_start_i = np.sum(arr[i,:])\n",
    "\t\ttotalArea_start_not_i = np.sum(arr) - totalArea_start_i\n",
    "\t\tgrossGain_i = np.sum(arr[:,i]) - arr[i,i]\n",
    "\t\taverage_gain_i = (grossGain_i/duration)/totalArea_start_not_i\n",
    "\t\taverage_gain.append(average_gain_i)\n",
    "\t\n",
    "\tgainIntenMatr = np.zeros((m,m))\n",
    "\tfor i in range(m):\n",
    "\t\tfor j in range(m):\n",
    "\t\t\tgainIntensity_ji = (arr[j][i]/duration)/np.sum(arr[j,:])\n",
    "\t\t\tgainIntenMatr[j][i] = gainIntensity_ji\n",
    "\n",
    "\taverage_loss = []\n",
    "\tfor i in range(m):\n",
    "\t\ttotalArea_end_i = np.sum(arr[:,i])\n",
    "\t\ttotalArea_end_not_i = np.sum(arr) - totalArea_end_i\n",
    "\t\tgrossLoss_i = np.sum(arr[i,:]) - arr[i,i]\n",
    "\t\taverage_loss_i = (grossLoss_i/duration)/totalArea_end_not_i\n",
    "\t\taverage_loss.append(average_loss_i)\n",
    "\t\n",
    "\tlossIntenMatr = np.zeros((m,m))\n",
    "\tfor i in range(m):\n",
    "\t\tfor j in range(m):\n",
    "\t\t\tlossIntensity_ij = (arr[i][j]/duration)/np.sum(arr[:,j])\n",
    "\t\t\tlossIntenMatr[i][j] = lossIntensity_ij\n",
    "\n",
    "\n",
    "\n",
    "\treturn average_gain,gainIntenMatr,average_loss,lossIntenMatr"
   ]
  },
  {
   "cell_type": "code",
   "execution_count": 40,
   "metadata": {},
   "outputs": [],
   "source": [
    "ptn = gainPattern(test,2,3)"
   ]
  },
  {
   "cell_type": "code",
   "execution_count": 41,
   "metadata": {},
   "outputs": [
    {
     "data": {
      "text/plain": [
       "([0.15, 0.18181818181818182, 0.13636363636363635],\n",
       " array([[0.25      , 0.16666667, 0.08333333],\n",
       "        [0.1       , 0.2       , 0.2       ],\n",
       "        [0.2       , 0.2       , 0.1       ]]),\n",
       " [0.15, 0.15, 0.16666666666666666],\n",
       " array([[0.25      , 0.16666667, 0.125     ],\n",
       "        [0.08333333, 0.16666667, 0.25      ],\n",
       "        [0.16666667, 0.16666667, 0.125     ]]))"
      ]
     },
     "execution_count": 41,
     "metadata": {},
     "output_type": "execute_result"
    }
   ],
   "source": [
    "ptn"
   ]
  },
  {
   "cell_type": "code",
   "execution_count": 42,
   "metadata": {},
   "outputs": [
    {
     "data": {
      "text/plain": [
       "array([[3, 2, 1],\n",
       "       [1, 2, 2],\n",
       "       [2, 2, 1]])"
      ]
     },
     "execution_count": 42,
     "metadata": {},
     "output_type": "execute_result"
    }
   ],
   "source": [
    "test = np.array([[3, 2, 1],\n",
    "       [1, 2, 2],\n",
    "       [2, 2, 1]])\n"
   ]
  },
  {
   "cell_type": "code",
   "execution_count": 44,
   "metadata": {},
   "outputs": [
    {
     "data": {
      "text/plain": [
       "array([[0.25      , 0.16666667, 0.08333333],\n",
       "       [0.1       , 0.2       , 0.2       ],\n",
       "       [0.2       , 0.2       , 0.1       ]])"
      ]
     },
     "execution_count": 44,
     "metadata": {},
     "output_type": "execute_result"
    }
   ],
   "source": [
    "ptn[1]"
   ]
  },
  {
   "cell_type": "code",
   "execution_count": 45,
   "metadata": {},
   "outputs": [
    {
     "data": {
      "text/plain": [
       "[0.15, 0.18181818181818182, 0.13636363636363635]"
      ]
     },
     "execution_count": 45,
     "metadata": {},
     "output_type": "execute_result"
    }
   ],
   "source": [
    "ptn[0]"
   ]
  },
  {
   "cell_type": "code",
   "execution_count": 47,
   "metadata": {},
   "outputs": [],
   "source": [
    "ptn[1][ptn[1] > ptn[0]]=1"
   ]
  },
  {
   "cell_type": "code",
   "execution_count": 51,
   "metadata": {},
   "outputs": [
    {
     "data": {
      "text/plain": [
       "array([[1., 2., 2.],\n",
       "       [2., 1., 1.],\n",
       "       [1., 1., 2.]])"
      ]
     },
     "execution_count": 51,
     "metadata": {},
     "output_type": "execute_result"
    }
   ],
   "source": [
    "ptn[1]"
   ]
  },
  {
   "cell_type": "code",
   "execution_count": 49,
   "metadata": {},
   "outputs": [
    {
     "data": {
      "text/plain": [
       "array([[ True, False, False],\n",
       "       [False,  True,  True],\n",
       "       [ True,  True, False]])"
      ]
     },
     "execution_count": 49,
     "metadata": {},
     "output_type": "execute_result"
    }
   ],
   "source": [
    "ptn[1] > ptn[0]"
   ]
  },
  {
   "cell_type": "code",
   "execution_count": 50,
   "metadata": {},
   "outputs": [],
   "source": [
    "ptn[1][ptn[1] < ptn[0]]=2"
   ]
  },
  {
   "cell_type": "code",
   "execution_count": 52,
   "metadata": {},
   "outputs": [
    {
     "data": {
      "text/plain": [
       "array([[0.25      , 0.16666667, 0.125     ],\n",
       "       [0.08333333, 0.16666667, 0.25      ],\n",
       "       [0.16666667, 0.16666667, 0.125     ]])"
      ]
     },
     "execution_count": 52,
     "metadata": {},
     "output_type": "execute_result"
    }
   ],
   "source": [
    "ptn[3]"
   ]
  },
  {
   "cell_type": "code",
   "execution_count": 53,
   "metadata": {},
   "outputs": [
    {
     "data": {
      "text/plain": [
       "[0.15, 0.15, 0.16666666666666666]"
      ]
     },
     "execution_count": 53,
     "metadata": {},
     "output_type": "execute_result"
    }
   ],
   "source": [
    "ptn[2]"
   ]
  },
  {
   "cell_type": "code",
   "execution_count": 55,
   "metadata": {},
   "outputs": [
    {
     "data": {
      "text/plain": [
       "array([[ True,  True, False],\n",
       "       [False,  True,  True],\n",
       "       [ True,  True, False]])"
      ]
     },
     "execution_count": 55,
     "metadata": {},
     "output_type": "execute_result"
    }
   ],
   "source": [
    "ptn[3] > np.array(ptn[2]).T"
   ]
  },
  {
   "cell_type": "code",
   "execution_count": 56,
   "metadata": {},
   "outputs": [],
   "source": [
    "def gainPattern(arr,duration,m):       #arr is a m x m numpy array\n",
    "\taverage_gain = []\n",
    "\tfor i in range(m):\n",
    "\t\ttotalArea_start_i = np.sum(arr[i,:])\n",
    "\t\ttotalArea_start_not_i = np.sum(arr) - totalArea_start_i\n",
    "\t\tgrossGain_i = np.sum(arr[:,i]) - arr[i,i]\n",
    "\t\taverage_gain_i = (grossGain_i/duration)/totalArea_start_not_i\n",
    "\t\taverage_gain.append(average_gain_i)\n",
    "\t\n",
    "\tgainIntenMatr = np.zeros((m,m))\n",
    "\tfor i in range(m):\n",
    "\t\tfor j in range(m):\n",
    "\t\t\tgainIntensity_ji = (arr[j][i]/duration)/np.sum(arr[j,:])\n",
    "\t\t\tgainIntenMatr[j][i] = gainIntensity_ji\n",
    "\n",
    "\tgainIntenMatr[gainIntenMatr > average_gain] = 1\n",
    "\tgainIntenMatr[gainIntenMatr < average_gain] = 2\n",
    "\n",
    "\n",
    "\n",
    "\taverage_loss = []\n",
    "\tfor i in range(m):\n",
    "\t\ttotalArea_end_i = np.sum(arr[:,i])\n",
    "\t\ttotalArea_end_not_i = np.sum(arr) - totalArea_end_i\n",
    "\t\tgrossLoss_i = np.sum(arr[i,:]) - arr[i,i]\n",
    "\t\taverage_loss_i = (grossLoss_i/duration)/totalArea_end_not_i\n",
    "\t\taverage_loss.append(average_loss_i)\n",
    "\t\n",
    "\tlossIntenMatr = np.zeros((m,m))\n",
    "\tfor i in range(m):\n",
    "\t\tfor j in range(m):\n",
    "\t\t\tlossIntensity_ij = (arr[i][j]/duration)/np.sum(arr[:,j])\n",
    "\t\t\tlossIntenMatr[i][j] = lossIntensity_ij\n",
    "\n",
    "\tlossIntenMatr[lossIntenMatr > np.array(average_loss).T] = 1\n",
    "\tlossIntenMatr[lossIntenMatr < np.array(average_loss).T] = 2\n",
    "\n",
    "\treturn average_gain,gainIntenMatr,average_loss,lossIntenMatr"
   ]
  },
  {
   "cell_type": "code",
   "execution_count": 57,
   "metadata": {},
   "outputs": [],
   "source": [
    "ptn = gainPattern(test,2,3)"
   ]
  },
  {
   "cell_type": "code",
   "execution_count": 58,
   "metadata": {},
   "outputs": [
    {
     "data": {
      "text/plain": [
       "([0.15, 0.18181818181818182, 0.13636363636363635], array([[1., 2., 2.],\n",
       "        [2., 1., 1.],\n",
       "        [1., 1., 2.]]), [0.15, 0.15, 0.16666666666666666], array([[1., 1., 2.],\n",
       "        [2., 1., 1.],\n",
       "        [1., 1., 2.]]))"
      ]
     },
     "execution_count": 58,
     "metadata": {},
     "output_type": "execute_result"
    }
   ],
   "source": [
    "ptn"
   ]
  },
  {
   "cell_type": "code",
   "execution_count": 59,
   "metadata": {},
   "outputs": [],
   "source": [
    "def gainPattern(arr,duration,m):       #arr is a m x m numpy array\n",
    "\taverage_gain = []\n",
    "\tfor i in range(m):\n",
    "\t\ttotalArea_start_i = np.sum(arr[i,:])\n",
    "\t\ttotalArea_start_not_i = np.sum(arr) - totalArea_start_i\n",
    "\t\tgrossGain_i = np.sum(arr[:,i]) - arr[i,i]\n",
    "\t\taverage_gain_i = (grossGain_i/duration)/totalArea_start_not_i\n",
    "\t\taverage_gain.append(average_gain_i)\n",
    "\t\n",
    "\tgainIntenMatr = np.zeros((m,m))\n",
    "\tfor i in range(m):\n",
    "\t\tfor j in range(m):\n",
    "\t\t\tgainIntensity_ji = (arr[j][i]/duration)/np.sum(arr[j,:])\n",
    "\t\t\tgainIntenMatr[j][i] = gainIntensity_ji\n",
    "\n",
    "\tgainIntenMatr[gainIntenMatr > average_gain] = 1\n",
    "\tgainIntenMatr[gainIntenMatr < average_gain] = 2\n",
    "\tnp.fill_diagonal(gainIntenMatr,0)\n",
    "\t\n",
    "\taverage_loss = []\n",
    "\tfor i in range(m):\n",
    "\t\ttotalArea_end_i = np.sum(arr[:,i])\n",
    "\t\ttotalArea_end_not_i = np.sum(arr) - totalArea_end_i\n",
    "\t\tgrossLoss_i = np.sum(arr[i,:]) - arr[i,i]\n",
    "\t\taverage_loss_i = (grossLoss_i/duration)/totalArea_end_not_i\n",
    "\t\taverage_loss.append(average_loss_i)\n",
    "\t\n",
    "\tlossIntenMatr = np.zeros((m,m))\n",
    "\tfor i in range(m):\n",
    "\t\tfor j in range(m):\n",
    "\t\t\tlossIntensity_ij = (arr[i][j]/duration)/np.sum(arr[:,j])\n",
    "\t\t\tlossIntenMatr[i][j] = lossIntensity_ij\n",
    "\n",
    "\tlossIntenMatr[lossIntenMatr > np.array(average_loss).T] = 1\n",
    "\tlossIntenMatr[lossIntenMatr < np.array(average_loss).T] = 2\n",
    "\tnp.fill_diagonal(lossIntenMatr,0)\n",
    "\treturn average_gain,gainIntenMatr,average_loss,lossIntenMatr"
   ]
  },
  {
   "cell_type": "code",
   "execution_count": 60,
   "metadata": {},
   "outputs": [],
   "source": [
    "ptn = gainPattern(test,2,3)"
   ]
  },
  {
   "cell_type": "code",
   "execution_count": 61,
   "metadata": {},
   "outputs": [
    {
     "data": {
      "text/plain": [
       "([0.15, 0.18181818181818182, 0.13636363636363635], array([[0., 2., 2.],\n",
       "        [2., 0., 1.],\n",
       "        [1., 1., 0.]]), [0.15, 0.15, 0.16666666666666666], array([[0., 1., 2.],\n",
       "        [2., 0., 1.],\n",
       "        [1., 1., 0.]]))"
      ]
     },
     "execution_count": 61,
     "metadata": {},
     "output_type": "execute_result"
    }
   ],
   "source": [
    "ptn"
   ]
  },
  {
   "cell_type": "code",
   "execution_count": 62,
   "metadata": {},
   "outputs": [
    {
     "data": {
      "text/plain": [
       "array([[0., 2., 2.],\n",
       "       [2., 0., 1.],\n",
       "       [1., 1., 0.]])"
      ]
     },
     "execution_count": 62,
     "metadata": {},
     "output_type": "execute_result"
    }
   ],
   "source": [
    "ptn[1]"
   ]
  },
  {
   "cell_type": "code",
   "execution_count": 65,
   "metadata": {},
   "outputs": [
    {
     "data": {
      "text/plain": [
       "3"
      ]
     },
     "execution_count": 65,
     "metadata": {},
     "output_type": "execute_result"
    }
   ],
   "source": [
    "test.shape[1]"
   ]
  },
  {
   "cell_type": "code",
   "execution_count": 66,
   "metadata": {},
   "outputs": [],
   "source": [
    "def TransPattern(arr,duration):       #arr is a m x m numpy array\n",
    "\tm = arr.shape[1]\n",
    "\taverage_gain = []\n",
    "\tfor i in range(m):\n",
    "\t\ttotalArea_start_i = np.sum(arr[i,:])\n",
    "\t\ttotalArea_start_not_i = np.sum(arr) - totalArea_start_i\n",
    "\t\tgrossGain_i = np.sum(arr[:,i]) - arr[i,i]\n",
    "\t\taverage_gain_i = (grossGain_i/duration)/totalArea_start_not_i\n",
    "\t\taverage_gain.append(average_gain_i)\n",
    "\t\n",
    "\tgainIntenMatr = np.zeros((m,m))\n",
    "\tfor i in range(m):\n",
    "\t\tfor j in range(m):\n",
    "\t\t\tgainIntensity_ji = (arr[j][i]/duration)/np.sum(arr[j,:])\n",
    "\t\t\tgainIntenMatr[j][i] = gainIntensity_ji\n",
    "\n",
    "\tgainIntenMatr[gainIntenMatr >= average_gain] = 1\n",
    "\tgainIntenMatr[gainIntenMatr < average_gain] = 2\n",
    "\tnp.fill_diagonal(gainIntenMatr,np.nan)\n",
    "\t\n",
    "\taverage_loss = []\n",
    "\tfor i in range(m):\n",
    "\t\ttotalArea_end_i = np.sum(arr[:,i])\n",
    "\t\ttotalArea_end_not_i = np.sum(arr) - totalArea_end_i\n",
    "\t\tgrossLoss_i = np.sum(arr[i,:]) - arr[i,i]\n",
    "\t\taverage_loss_i = (grossLoss_i/duration)/totalArea_end_not_i\n",
    "\t\taverage_loss.append(average_loss_i)\n",
    "\t\n",
    "\tlossIntenMatr = np.zeros((m,m))\n",
    "\tfor i in range(m):\n",
    "\t\tfor j in range(m):\n",
    "\t\t\tlossIntensity_ij = (arr[i][j]/duration)/np.sum(arr[:,j])\n",
    "\t\t\tlossIntenMatr[i][j] = lossIntensity_ij\n",
    "\n",
    "\tlossIntenMatr[lossIntenMatr >= np.array(average_loss).T] = 1\n",
    "\tlossIntenMatr[lossIntenMatr < np.array(average_loss).T] = 2\n",
    "\tnp.fill_diagonal(lossIntenMatr,np.nan)\n",
    "\treturn average_gain,gainIntenMatr,average_loss,lossIntenMatr"
   ]
  },
  {
   "cell_type": "code",
   "execution_count": 76,
   "metadata": {},
   "outputs": [
    {
     "data": {
      "text/plain": [
       "([0.15, 0.18181818181818182, 0.13636363636363635], array([[nan,  2.,  2.],\n",
       "        [ 2., nan,  1.],\n",
       "        [ 1.,  1., nan]]), [0.15,\n",
       "  0.15,\n",
       "  0.16666666666666666], array([[nan,  1.,  2.],\n",
       "        [ 2., nan,  1.],\n",
       "        [ 1.,  1., nan]]))"
      ]
     },
     "execution_count": 76,
     "metadata": {},
     "output_type": "execute_result"
    }
   ],
   "source": [
    "ptn = TransPattern(test,2)\n",
    "ptn"
   ]
  },
  {
   "cell_type": "code",
   "execution_count": 69,
   "metadata": {},
   "outputs": [],
   "source": [
    "np.fill_diagonal(ptn[1],np.nan)\n",
    "aaa"
   ]
  },
  {
   "cell_type": "code",
   "execution_count": 70,
   "metadata": {},
   "outputs": [
    {
     "data": {
      "text/plain": [
       "array([[nan,  2.,  2.],\n",
       "       [ 2., nan,  1.],\n",
       "       [ 1.,  1., nan]])"
      ]
     },
     "execution_count": 70,
     "metadata": {},
     "output_type": "execute_result"
    }
   ],
   "source": [
    "ptn[1]"
   ]
  },
  {
   "cell_type": "code",
   "execution_count": 71,
   "metadata": {},
   "outputs": [
    {
     "data": {
      "text/plain": [
       "array([[0., 1., 2.],\n",
       "       [2., 0., 1.],\n",
       "       [1., 1., 0.]])"
      ]
     },
     "execution_count": 71,
     "metadata": {},
     "output_type": "execute_result"
    }
   ],
   "source": [
    "ptn[3]"
   ]
  },
  {
   "cell_type": "code",
   "execution_count": 73,
   "metadata": {},
   "outputs": [],
   "source": [
    "np.fill_diagonal(ptn[3],np.nan)"
   ]
  },
  {
   "cell_type": "code",
   "execution_count": 74,
   "metadata": {},
   "outputs": [
    {
     "data": {
      "text/plain": [
       "array([[nan,  1.,  2.],\n",
       "       [ 2., nan,  1.],\n",
       "       [ 1.,  1., nan]])"
      ]
     },
     "execution_count": 74,
     "metadata": {},
     "output_type": "execute_result"
    }
   ],
   "source": [
    "ptn[3]"
   ]
  },
  {
   "cell_type": "code",
   "execution_count": 86,
   "metadata": {},
   "outputs": [
    {
     "data": {
      "text/plain": [
       "array([nan,  1.,  2.,  2., nan,  1.,  1.,  1., nan])"
      ]
     },
     "execution_count": 86,
     "metadata": {},
     "output_type": "execute_result"
    }
   ],
   "source": [
    "a4 = np.ravel(ptn[3])\n",
    "a4"
   ]
  },
  {
   "cell_type": "code",
   "execution_count": 85,
   "metadata": {},
   "outputs": [
    {
     "ename": "AttributeError",
     "evalue": "module 'numpy' has no attribute 'dropna'",
     "output_type": "error",
     "traceback": [
      "\u001b[1;31m---------------------------------------------------------------------------\u001b[0m",
      "\u001b[1;31mAttributeError\u001b[0m                            Traceback (most recent call last)",
      "\u001b[1;32m<ipython-input-85-896fa90e9fb7>\u001b[0m in \u001b[0;36m<module>\u001b[1;34m()\u001b[0m\n\u001b[1;32m----> 1\u001b[1;33m \u001b[0mnp\u001b[0m\u001b[1;33m.\u001b[0m\u001b[0mdropna\u001b[0m\u001b[1;33m(\u001b[0m\u001b[0mnp\u001b[0m\u001b[1;33m.\u001b[0m\u001b[0mravel\u001b[0m\u001b[1;33m(\u001b[0m\u001b[0mptn\u001b[0m\u001b[1;33m[\u001b[0m\u001b[1;36m3\u001b[0m\u001b[1;33m]\u001b[0m\u001b[1;33m)\u001b[0m\u001b[1;33m)\u001b[0m\u001b[1;33m\u001b[0m\u001b[0m\n\u001b[0m",
      "\u001b[1;31mAttributeError\u001b[0m: module 'numpy' has no attribute 'dropna'"
     ]
    }
   ],
   "source": [
    "(np.ravel(ptn[3]))"
   ]
  },
  {
   "cell_type": "code",
   "execution_count": 87,
   "metadata": {},
   "outputs": [
    {
     "data": {
      "text/plain": [
       "numpy.ndarray"
      ]
     },
     "execution_count": 87,
     "metadata": {},
     "output_type": "execute_result"
    }
   ],
   "source": [
    "type(a4)"
   ]
  },
  {
   "cell_type": "code",
   "execution_count": 88,
   "metadata": {},
   "outputs": [
    {
     "ename": "AttributeError",
     "evalue": "'numpy.ndarray' object has no attribute 'dropna'",
     "output_type": "error",
     "traceback": [
      "\u001b[1;31m---------------------------------------------------------------------------\u001b[0m",
      "\u001b[1;31mAttributeError\u001b[0m                            Traceback (most recent call last)",
      "\u001b[1;32m<ipython-input-88-a0fa8f352361>\u001b[0m in \u001b[0;36m<module>\u001b[1;34m()\u001b[0m\n\u001b[1;32m----> 1\u001b[1;33m \u001b[0ma4\u001b[0m\u001b[1;33m.\u001b[0m\u001b[0mdropna\u001b[0m\u001b[1;33m(\u001b[0m\u001b[1;33m)\u001b[0m\u001b[1;33m\u001b[0m\u001b[0m\n\u001b[0m",
      "\u001b[1;31mAttributeError\u001b[0m: 'numpy.ndarray' object has no attribute 'dropna'"
     ]
    }
   ],
   "source": [
    "a4.dropna()"
   ]
  },
  {
   "cell_type": "code",
   "execution_count": 91,
   "metadata": {},
   "outputs": [],
   "source": [
    "fptn = pd.DataFrame(ptn[1])"
   ]
  },
  {
   "cell_type": "code",
   "execution_count": 92,
   "metadata": {},
   "outputs": [
    {
     "data": {
      "text/html": [
       "<div>\n",
       "<style scoped>\n",
       "    .dataframe tbody tr th:only-of-type {\n",
       "        vertical-align: middle;\n",
       "    }\n",
       "\n",
       "    .dataframe tbody tr th {\n",
       "        vertical-align: top;\n",
       "    }\n",
       "\n",
       "    .dataframe thead th {\n",
       "        text-align: right;\n",
       "    }\n",
       "</style>\n",
       "<table border=\"1\" class=\"dataframe\">\n",
       "  <thead>\n",
       "    <tr style=\"text-align: right;\">\n",
       "      <th></th>\n",
       "      <th>0</th>\n",
       "      <th>1</th>\n",
       "      <th>2</th>\n",
       "    </tr>\n",
       "  </thead>\n",
       "  <tbody>\n",
       "    <tr>\n",
       "      <th>0</th>\n",
       "      <td>NaN</td>\n",
       "      <td>2.0</td>\n",
       "      <td>2.0</td>\n",
       "    </tr>\n",
       "    <tr>\n",
       "      <th>1</th>\n",
       "      <td>2.0</td>\n",
       "      <td>NaN</td>\n",
       "      <td>1.0</td>\n",
       "    </tr>\n",
       "    <tr>\n",
       "      <th>2</th>\n",
       "      <td>1.0</td>\n",
       "      <td>1.0</td>\n",
       "      <td>NaN</td>\n",
       "    </tr>\n",
       "  </tbody>\n",
       "</table>\n",
       "</div>"
      ],
      "text/plain": [
       "     0    1    2\n",
       "0  NaN  2.0  2.0\n",
       "1  2.0  NaN  1.0\n",
       "2  1.0  1.0  NaN"
      ]
     },
     "execution_count": 92,
     "metadata": {},
     "output_type": "execute_result"
    }
   ],
   "source": [
    "fptn"
   ]
  },
  {
   "cell_type": "code",
   "execution_count": 98,
   "metadata": {},
   "outputs": [],
   "source": [
    "idx = [['cls_' + str(i) for i in range(1,4)],['gain']*3]"
   ]
  },
  {
   "cell_type": "code",
   "execution_count": 96,
   "metadata": {},
   "outputs": [
    {
     "data": {
      "text/plain": [
       "['gain', 'gain', 'gain']"
      ]
     },
     "execution_count": 96,
     "metadata": {},
     "output_type": "execute_result"
    }
   ],
   "source": [
    "['gain']*3"
   ]
  },
  {
   "cell_type": "code",
   "execution_count": null,
   "metadata": {},
   "outputs": [],
   "source": []
  }
 ],
 "metadata": {
  "kernelspec": {
   "display_name": "Python 3",
   "language": "python",
   "name": "python3"
  },
  "language_info": {
   "codemirror_mode": {
    "name": "ipython",
    "version": 3
   },
   "file_extension": ".py",
   "mimetype": "text/x-python",
   "name": "python",
   "nbconvert_exporter": "python",
   "pygments_lexer": "ipython3",
   "version": "3.6.5"
  }
 },
 "nbformat": 4,
 "nbformat_minor": 2
}
